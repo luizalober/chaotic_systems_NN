{
  "nbformat": 4,
  "nbformat_minor": 0,
  "metadata": {
    "colab": {
      "provenance": [],
      "toc_visible": true
    },
    "kernelspec": {
      "name": "python3",
      "display_name": "Python 3"
    },
    "language_info": {
      "name": "python"
    }
  },
  "cells": [
    {
      "cell_type": "markdown",
      "source": [
        "#Library and functions"
      ],
      "metadata": {
        "id": "RcvC1t6_ENWq"
      }
    },
    {
      "cell_type": "code",
      "execution_count": null,
      "metadata": {
        "collapsed": true,
        "id": "_OgBtAnpdSd7",
        "colab": {
          "base_uri": "https://localhost:8080/"
        },
        "outputId": "67a5ddaa-3241-41a6-9978-644ced87e6df"
      },
      "outputs": [
        {
          "output_type": "stream",
          "name": "stdout",
          "text": [
            "env: PYTHONHASHSEED=0\n"
          ]
        },
        {
          "output_type": "stream",
          "name": "stderr",
          "text": [
            "2024-10-04 15:37:26.908497: I tensorflow/core/platform/cpu_feature_guard.cc:210] This TensorFlow binary is optimized to use available CPU instructions in performance-critical operations.\n",
            "To enable the following instructions: AVX2 FMA, in other operations, rebuild TensorFlow with the appropriate compiler flags.\n",
            "2024-10-04 15:37:27.519162: W tensorflow/compiler/tf2tensorrt/utils/py_utils.cc:38] TF-TRT Warning: Could not find TensorRT\n"
          ]
        }
      ],
      "source": [
        "#--- Reproductibility ---\n",
        "%env PYTHONHASHSEED=0\n",
        "from numpy.random import seed\n",
        "seed(42)\n",
        "from tensorflow import keras\n",
        "keras.utils.set_random_seed(42)\n",
        "import tensorflow as tf\n",
        "tf.config.experimental.enable_op_determinism()\n",
        "\n",
        "#---\n",
        "\n",
        "import numpy as np\n",
        "import numpy as np\n",
        "import pandas as pd\n",
        "from sklearn.decomposition import PCA\n",
        "from collections import Counter\n",
        "import PIL\n",
        "import glob\n",
        "from tqdm import tqdm\n",
        "import networkx as nx\n",
        "\n",
        "#Graphics\n",
        "from scipy.stats import gaussian_kde\n",
        "from scipy.stats import norm\n",
        "import seaborn as sns\n",
        "from matplotlib import cm\n",
        "import matplotlib.pyplot as plt\n",
        "from matplotlib.patches import Rectangle\n",
        "\n",
        "#NN\n",
        "from tensorflow import keras\n",
        "from tensorflow.keras import layers, callbacks\n",
        "#import tensorflow as tf\n",
        "\n",
        "#sklearn modules: evaluation\n",
        "from sklearn.model_selection import train_test_split\n",
        "from sklearn.ensemble import RandomForestClassifier\n",
        "from sklearn.metrics import accuracy_score, confusion_matrix, roc_curve, classification_report, RocCurveDisplay\n",
        "from sklearn.model_selection import GridSearchCV\n",
        "from sklearn.preprocessing import MinMaxScaler, LabelBinarizer\n",
        "from sklearn.datasets import make_classification\n",
        "from sklearn.preprocessing import LabelEncoder\n",
        "from sklearn.metrics import mean_squared_error, root_mean_squared_error\n",
        "\n",
        "#Recurrence plots\n",
        "from pyts.image import RecurrencePlot\n",
        "from pyts.datasets import load_gunpoint\n",
        "from mpl_toolkits.axes_grid1 import ImageGrid"
      ]
    },
    {
      "cell_type": "code",
      "source": [
        "def parameter_stratification(value):\n",
        "  '''\n",
        "  Assumes the parameters of the logistic map will be in the 3 to 4 range.\n",
        "  Categories:\n",
        "  1 - Oscillations between two values\n",
        "  2 - Oscillations between four values\n",
        "  3 - Oscillations between nth values, where n is even and >4\n",
        "  4 - Onset of chaos\n",
        "  5 - Appearance of stability islands\n",
        "  '''\n",
        "\n",
        "  #Periods\n",
        "  if (value < 3.44949):\n",
        "    return 1\n",
        "  if ( (value >= 3.44949) and (value < 3.54409) ):\n",
        "    return 2\n",
        "  if ( (value >= 3.54409) and (value < 3.56995) ):\n",
        "    return 3\n",
        "  if ( (value >= 3.56995) and (value < 3.82843) ):\n",
        "    return 4\n",
        "  if ( (value >= 3.82843) ):\n",
        "    return 5"
      ],
      "metadata": {
        "id": "64nNxe3n03Wi"
      },
      "execution_count": null,
      "outputs": []
    },
    {
      "cell_type": "markdown",
      "source": [
        "# Neural net training: regression"
      ],
      "metadata": {
        "id": "XVq53Ur1i5E_"
      }
    },
    {
      "cell_type": "markdown",
      "source": [
        "##Architecture"
      ],
      "metadata": {
        "id": "JJAhC1-FqUYF"
      }
    },
    {
      "cell_type": "code",
      "source": [
        "model = keras.Sequential([\n",
        "  keras.layers.Conv2D(3, 3, activation='relu'),\n",
        "  keras.layers.Conv2D(3, 3, activation='relu'),\n",
        "  keras.layers.AveragePooling2D(2),\n",
        "  keras.layers.Dropout(0.2),\n",
        "  keras.layers.Conv2D(3, 3, activation='relu'),\n",
        "  keras.layers.Conv2D(3, 3, activation='relu'),\n",
        "  keras.layers.AveragePooling2D(2),\n",
        "  keras.layers.Dropout(0.2),\n",
        "  keras.layers.Conv2D(3, 3, activation='relu'),\n",
        "  keras.layers.Conv2D(3, 3, activation='relu'),\n",
        "  keras.layers.Flatten(),\n",
        "  keras.layers.Dense(units=1024, activation='relu'),\n",
        "  keras.layers.Dense(units=512, activation='relu'),\n",
        "  keras.layers.Dense(units=256, activation='relu'),\n",
        "  keras.layers.Dense(units=128, activation='relu'),\n",
        "  keras.layers.Dense(units=64, activation='relu'),\n",
        "  keras.layers.Dense(units=1)\n",
        "])\n",
        "\n",
        "model.compile(loss='mean_squared_error', optimizer=\"adam\")"
      ],
      "metadata": {
        "id": "hd0OpCYDj113",
        "colab": {
          "base_uri": "https://localhost:8080/"
        },
        "outputId": "0187b96d-ab54-4a40-85c7-51f09570191d"
      },
      "execution_count": null,
      "outputs": [
        {
          "output_type": "stream",
          "name": "stderr",
          "text": [
            "2024-10-04 15:37:42.628331: I external/local_xla/xla/stream_executor/cuda/cuda_executor.cc:998] successful NUMA node read from SysFS had negative value (-1), but there must be at least one NUMA node, so returning NUMA node zero. See more at https://github.com/torvalds/linux/blob/v6.0/Documentation/ABI/testing/sysfs-bus-pci#L344-L355\n",
            "2024-10-04 15:37:42.662506: I external/local_xla/xla/stream_executor/cuda/cuda_executor.cc:998] successful NUMA node read from SysFS had negative value (-1), but there must be at least one NUMA node, so returning NUMA node zero. See more at https://github.com/torvalds/linux/blob/v6.0/Documentation/ABI/testing/sysfs-bus-pci#L344-L355\n",
            "2024-10-04 15:37:42.662765: I external/local_xla/xla/stream_executor/cuda/cuda_executor.cc:998] successful NUMA node read from SysFS had negative value (-1), but there must be at least one NUMA node, so returning NUMA node zero. See more at https://github.com/torvalds/linux/blob/v6.0/Documentation/ABI/testing/sysfs-bus-pci#L344-L355\n",
            "2024-10-04 15:37:42.663920: I external/local_xla/xla/stream_executor/cuda/cuda_executor.cc:998] successful NUMA node read from SysFS had negative value (-1), but there must be at least one NUMA node, so returning NUMA node zero. See more at https://github.com/torvalds/linux/blob/v6.0/Documentation/ABI/testing/sysfs-bus-pci#L344-L355\n",
            "2024-10-04 15:37:42.664145: I external/local_xla/xla/stream_executor/cuda/cuda_executor.cc:998] successful NUMA node read from SysFS had negative value (-1), but there must be at least one NUMA node, so returning NUMA node zero. See more at https://github.com/torvalds/linux/blob/v6.0/Documentation/ABI/testing/sysfs-bus-pci#L344-L355\n",
            "2024-10-04 15:37:42.664343: I external/local_xla/xla/stream_executor/cuda/cuda_executor.cc:998] successful NUMA node read from SysFS had negative value (-1), but there must be at least one NUMA node, so returning NUMA node zero. See more at https://github.com/torvalds/linux/blob/v6.0/Documentation/ABI/testing/sysfs-bus-pci#L344-L355\n",
            "2024-10-04 15:37:42.762443: I external/local_xla/xla/stream_executor/cuda/cuda_executor.cc:998] successful NUMA node read from SysFS had negative value (-1), but there must be at least one NUMA node, so returning NUMA node zero. See more at https://github.com/torvalds/linux/blob/v6.0/Documentation/ABI/testing/sysfs-bus-pci#L344-L355\n",
            "2024-10-04 15:37:42.762673: I external/local_xla/xla/stream_executor/cuda/cuda_executor.cc:998] successful NUMA node read from SysFS had negative value (-1), but there must be at least one NUMA node, so returning NUMA node zero. See more at https://github.com/torvalds/linux/blob/v6.0/Documentation/ABI/testing/sysfs-bus-pci#L344-L355\n",
            "2024-10-04 15:37:42.762957: I external/local_xla/xla/stream_executor/cuda/cuda_executor.cc:998] successful NUMA node read from SysFS had negative value (-1), but there must be at least one NUMA node, so returning NUMA node zero. See more at https://github.com/torvalds/linux/blob/v6.0/Documentation/ABI/testing/sysfs-bus-pci#L344-L355\n",
            "2024-10-04 15:37:42.763127: I tensorflow/core/common_runtime/gpu/gpu_device.cc:1928] Created device /job:localhost/replica:0/task:0/device:GPU:0 with 6071 MB memory:  -> device: 0, name: NVIDIA GeForce RTX 2060 SUPER, pci bus id: 0000:07:00.0, compute capability: 7.5\n"
          ]
        }
      ]
    },
    {
      "cell_type": "markdown",
      "source": [
        "## Training"
      ],
      "metadata": {
        "id": "DWVEHjBiS1cD"
      }
    },
    {
      "cell_type": "code",
      "source": [
        "#Read all pngs from the train set\n",
        "data_path = '/your/path/'\n",
        "pngs = glob.glob(data_path + 'IC=0.*/sample*png')\n",
        "\n",
        "ims = {}\n",
        "for png in pngs:\n",
        "  ims[png]=np.array(PIL.Image.open(png).convert('L'))"
      ],
      "metadata": {
        "id": "Fx5jygsDrlej"
      },
      "execution_count": null,
      "outputs": []
    },
    {
      "cell_type": "code",
      "source": [
        "#Questions = images\n",
        "#Solutions = main parameter of the logistic map used to generated that image\n",
        "\n",
        "questions = np.array([each for each in ims.values()]).astype(np.float32)\n",
        "solutions = np.array([float(each.split('_')[-1].split('.')[0])/(1e16) for each in ims]).astype(np.float32)"
      ],
      "metadata": {
        "id": "4pChzShLruhe"
      },
      "execution_count": null,
      "outputs": []
    },
    {
      "cell_type": "code",
      "source": [
        "N_size = 100\n",
        "\n",
        "#Train/test split (gnuplot data):\n",
        "X_train, X_test, y_train, y_test = train_test_split(questions, solutions, test_size=0.3, random_state=42)\n",
        "\n",
        "X_train = X_train.reshape(-1, N_size, N_size, 1)\n",
        "X_test = X_test.reshape(-1, N_size, N_size, 1)"
      ],
      "metadata": {
        "id": "i7beSSgj9H4H"
      },
      "execution_count": null,
      "outputs": []
    },
    {
      "cell_type": "code",
      "source": [
        "early_stopping = callbacks.EarlyStopping(\n",
        "    min_delta=0.001, # minimium amount of change to count as an improvement\n",
        "    patience=20, # how many epochs to wait before stopping\n",
        "    restore_best_weights=True,\n",
        ")"
      ],
      "metadata": {
        "id": "52OOqc7J2gMa"
      },
      "execution_count": null,
      "outputs": []
    },
    {
      "cell_type": "code",
      "source": [
        "#Complete region\n",
        "history = model.fit(\n",
        "    X_train, y_train,\n",
        "    validation_data=(X_test, y_test),\n",
        "    batch_size=100,\n",
        "    epochs=300,\n",
        "    callbacks=[early_stopping], # put your callbacks in a list\n",
        "    verbose=1,  # turn off training log\n",
        "    shuffle=False\n",
        ")\n",
        "\n",
        "history_df = pd.DataFrame(history.history)\n",
        "history_df.loc[:, ['loss', 'val_loss']].plot();\n",
        "print(\"Minimum validation loss: {}\".format(history_df['val_loss'].min()))"
      ],
      "metadata": {
        "colab": {
          "base_uri": "https://localhost:8080/",
          "height": 1000
        },
        "outputId": "7ac6285f-a5e4-428a-f71f-9b40e07a94c0",
        "id": "QZ-lWtYB6DNr"
      },
      "execution_count": null,
      "outputs": [
        {
          "output_type": "stream",
          "name": "stdout",
          "text": [
            "Epoch 1/300\n"
          ]
        },
        {
          "output_type": "stream",
          "name": "stderr",
          "text": [
            "WARNING: All log messages before absl::InitializeLog() is called are written to STDERR\n",
            "I0000 00:00:1728059940.342165   53056 service.cc:145] XLA service 0x564bef618270 initialized for platform CUDA (this does not guarantee that XLA will be used). Devices:\n",
            "I0000 00:00:1728059940.342190   53056 service.cc:153]   StreamExecutor device (0): NVIDIA GeForce RTX 2060 SUPER, Compute Capability 7.5\n",
            "2024-10-04 13:39:00.388915: I tensorflow/compiler/mlir/tensorflow/utils/dump_mlir_util.cc:268] disabling MLIR crash reproducer, set env var `MLIR_CRASH_REPRODUCER_DIRECTORY` to enable.\n",
            "2024-10-04 13:39:00.628528: I external/local_xla/xla/stream_executor/cuda/cuda_dnn.cc:465] Loaded cuDNN version 8907\n"
          ]
        },
        {
          "output_type": "stream",
          "name": "stdout",
          "text": [
            "\u001b[1m 11/281\u001b[0m \u001b[37m━━━━━━━━━━━━━━━━━━━━\u001b[0m \u001b[1m4s\u001b[0m 17ms/step - loss: 4.9007"
          ]
        },
        {
          "output_type": "stream",
          "name": "stderr",
          "text": [
            "I0000 00:00:1728059944.288773   53056 device_compiler.h:188] Compiled cluster using XLA!  This line is logged at most once for the lifetime of the process.\n"
          ]
        },
        {
          "output_type": "stream",
          "name": "stdout",
          "text": [
            "\u001b[1m281/281\u001b[0m \u001b[32m━━━━━━━━━━━━━━━━━━━━\u001b[0m\u001b[37m\u001b[0m \u001b[1m15s\u001b[0m 29ms/step - loss: 0.6305 - val_loss: 6.2376\n",
            "Epoch 2/300\n",
            "\u001b[1m281/281\u001b[0m \u001b[32m━━━━━━━━━━━━━━━━━━━━\u001b[0m\u001b[37m\u001b[0m \u001b[1m4s\u001b[0m 12ms/step - loss: 0.0681 - val_loss: 3.1527\n",
            "Epoch 3/300\n",
            "\u001b[1m281/281\u001b[0m \u001b[32m━━━━━━━━━━━━━━━━━━━━\u001b[0m\u001b[37m\u001b[0m \u001b[1m3s\u001b[0m 12ms/step - loss: 0.0504 - val_loss: 1.3454\n",
            "Epoch 4/300\n",
            "\u001b[1m281/281\u001b[0m \u001b[32m━━━━━━━━━━━━━━━━━━━━\u001b[0m\u001b[37m\u001b[0m \u001b[1m4s\u001b[0m 13ms/step - loss: 0.0268 - val_loss: 0.2738\n",
            "Epoch 5/300\n",
            "\u001b[1m281/281\u001b[0m \u001b[32m━━━━━━━━━━━━━━━━━━━━\u001b[0m\u001b[37m\u001b[0m \u001b[1m4s\u001b[0m 12ms/step - loss: 0.0180 - val_loss: 0.1866\n",
            "Epoch 6/300\n",
            "\u001b[1m281/281\u001b[0m \u001b[32m━━━━━━━━━━━━━━━━━━━━\u001b[0m\u001b[37m\u001b[0m \u001b[1m4s\u001b[0m 13ms/step - loss: 0.0099 - val_loss: 0.0770\n",
            "Epoch 7/300\n",
            "\u001b[1m281/281\u001b[0m \u001b[32m━━━━━━━━━━━━━━━━━━━━\u001b[0m\u001b[37m\u001b[0m \u001b[1m4s\u001b[0m 13ms/step - loss: 0.0070 - val_loss: 0.0716\n",
            "Epoch 8/300\n",
            "\u001b[1m281/281\u001b[0m \u001b[32m━━━━━━━━━━━━━━━━━━━━\u001b[0m\u001b[37m\u001b[0m \u001b[1m4s\u001b[0m 13ms/step - loss: 0.0063 - val_loss: 0.0687\n",
            "Epoch 9/300\n",
            "\u001b[1m281/281\u001b[0m \u001b[32m━━━━━━━━━━━━━━━━━━━━\u001b[0m\u001b[37m\u001b[0m \u001b[1m4s\u001b[0m 13ms/step - loss: 0.0069 - val_loss: 0.0379\n",
            "Epoch 10/300\n",
            "\u001b[1m281/281\u001b[0m \u001b[32m━━━━━━━━━━━━━━━━━━━━\u001b[0m\u001b[37m\u001b[0m \u001b[1m4s\u001b[0m 13ms/step - loss: 0.0045 - val_loss: 0.0372\n",
            "Epoch 11/300\n",
            "\u001b[1m281/281\u001b[0m \u001b[32m━━━━━━━━━━━━━━━━━━━━\u001b[0m\u001b[37m\u001b[0m \u001b[1m4s\u001b[0m 13ms/step - loss: 0.0045 - val_loss: 0.0229\n",
            "Epoch 12/300\n",
            "\u001b[1m281/281\u001b[0m \u001b[32m━━━━━━━━━━━━━━━━━━━━\u001b[0m\u001b[37m\u001b[0m \u001b[1m4s\u001b[0m 13ms/step - loss: 0.0041 - val_loss: 0.0348\n",
            "Epoch 13/300\n",
            "\u001b[1m281/281\u001b[0m \u001b[32m━━━━━━━━━━━━━━━━━━━━\u001b[0m\u001b[37m\u001b[0m \u001b[1m4s\u001b[0m 13ms/step - loss: 0.0035 - val_loss: 0.0491\n",
            "Epoch 14/300\n",
            "\u001b[1m281/281\u001b[0m \u001b[32m━━━━━━━━━━━━━━━━━━━━\u001b[0m\u001b[37m\u001b[0m \u001b[1m4s\u001b[0m 13ms/step - loss: 0.0042 - val_loss: 0.0114\n",
            "Epoch 15/300\n",
            "\u001b[1m281/281\u001b[0m \u001b[32m━━━━━━━━━━━━━━━━━━━━\u001b[0m\u001b[37m\u001b[0m \u001b[1m4s\u001b[0m 13ms/step - loss: 0.0035 - val_loss: 0.0122\n",
            "Epoch 16/300\n",
            "\u001b[1m281/281\u001b[0m \u001b[32m━━━━━━━━━━━━━━━━━━━━\u001b[0m\u001b[37m\u001b[0m \u001b[1m4s\u001b[0m 13ms/step - loss: 0.0031 - val_loss: 0.0320\n",
            "Epoch 17/300\n",
            "\u001b[1m281/281\u001b[0m \u001b[32m━━━━━━━━━━━━━━━━━━━━\u001b[0m\u001b[37m\u001b[0m \u001b[1m4s\u001b[0m 13ms/step - loss: 0.0034 - val_loss: 0.0327\n",
            "Epoch 18/300\n",
            "\u001b[1m281/281\u001b[0m \u001b[32m━━━━━━━━━━━━━━━━━━━━\u001b[0m\u001b[37m\u001b[0m \u001b[1m4s\u001b[0m 13ms/step - loss: 0.0033 - val_loss: 0.0184\n",
            "Epoch 19/300\n",
            "\u001b[1m281/281\u001b[0m \u001b[32m━━━━━━━━━━━━━━━━━━━━\u001b[0m\u001b[37m\u001b[0m \u001b[1m4s\u001b[0m 13ms/step - loss: 0.0023 - val_loss: 0.0111\n",
            "Epoch 20/300\n",
            "\u001b[1m281/281\u001b[0m \u001b[32m━━━━━━━━━━━━━━━━━━━━\u001b[0m\u001b[37m\u001b[0m \u001b[1m4s\u001b[0m 13ms/step - loss: 0.0025 - val_loss: 0.0217\n",
            "Epoch 21/300\n",
            "\u001b[1m281/281\u001b[0m \u001b[32m━━━━━━━━━━━━━━━━━━━━\u001b[0m\u001b[37m\u001b[0m \u001b[1m4s\u001b[0m 13ms/step - loss: 0.0025 - val_loss: 0.0175\n",
            "Epoch 22/300\n",
            "\u001b[1m281/281\u001b[0m \u001b[32m━━━━━━━━━━━━━━━━━━━━\u001b[0m\u001b[37m\u001b[0m \u001b[1m4s\u001b[0m 13ms/step - loss: 0.0020 - val_loss: 0.0104\n",
            "Epoch 23/300\n",
            "\u001b[1m281/281\u001b[0m \u001b[32m━━━━━━━━━━━━━━━━━━━━\u001b[0m\u001b[37m\u001b[0m \u001b[1m4s\u001b[0m 13ms/step - loss: 0.0017 - val_loss: 0.0106\n",
            "Epoch 24/300\n",
            "\u001b[1m281/281\u001b[0m \u001b[32m━━━━━━━━━━━━━━━━━━━━\u001b[0m\u001b[37m\u001b[0m \u001b[1m4s\u001b[0m 13ms/step - loss: 0.0018 - val_loss: 0.0199\n",
            "Epoch 25/300\n",
            "\u001b[1m281/281\u001b[0m \u001b[32m━━━━━━━━━━━━━━━━━━━━\u001b[0m\u001b[37m\u001b[0m \u001b[1m4s\u001b[0m 13ms/step - loss: 0.0019 - val_loss: 0.0165\n",
            "Epoch 26/300\n",
            "\u001b[1m281/281\u001b[0m \u001b[32m━━━━━━━━━━━━━━━━━━━━\u001b[0m\u001b[37m\u001b[0m \u001b[1m4s\u001b[0m 13ms/step - loss: 0.0019 - val_loss: 0.0086\n",
            "Epoch 27/300\n",
            "\u001b[1m281/281\u001b[0m \u001b[32m━━━━━━━━━━━━━━━━━━━━\u001b[0m\u001b[37m\u001b[0m \u001b[1m4s\u001b[0m 13ms/step - loss: 0.0014 - val_loss: 0.0097\n",
            "Epoch 28/300\n",
            "\u001b[1m281/281\u001b[0m \u001b[32m━━━━━━━━━━━━━━━━━━━━\u001b[0m\u001b[37m\u001b[0m \u001b[1m4s\u001b[0m 13ms/step - loss: 0.0014 - val_loss: 0.0131\n",
            "Epoch 29/300\n",
            "\u001b[1m281/281\u001b[0m \u001b[32m━━━━━━━━━━━━━━━━━━━━\u001b[0m\u001b[37m\u001b[0m \u001b[1m4s\u001b[0m 13ms/step - loss: 0.0015 - val_loss: 0.0165\n",
            "Epoch 30/300\n",
            "\u001b[1m281/281\u001b[0m \u001b[32m━━━━━━━━━━━━━━━━━━━━\u001b[0m\u001b[37m\u001b[0m \u001b[1m4s\u001b[0m 12ms/step - loss: 0.0018 - val_loss: 0.0050\n",
            "Epoch 31/300\n",
            "\u001b[1m281/281\u001b[0m \u001b[32m━━━━━━━━━━━━━━━━━━━━\u001b[0m\u001b[37m\u001b[0m \u001b[1m3s\u001b[0m 12ms/step - loss: 0.0013 - val_loss: 0.0099\n",
            "Epoch 32/300\n",
            "\u001b[1m281/281\u001b[0m \u001b[32m━━━━━━━━━━━━━━━━━━━━\u001b[0m\u001b[37m\u001b[0m \u001b[1m3s\u001b[0m 12ms/step - loss: 0.0015 - val_loss: 0.0036\n",
            "Epoch 33/300\n",
            "\u001b[1m281/281\u001b[0m \u001b[32m━━━━━━━━━━━━━━━━━━━━\u001b[0m\u001b[37m\u001b[0m \u001b[1m3s\u001b[0m 12ms/step - loss: 0.0012 - val_loss: 0.0085\n",
            "Epoch 34/300\n",
            "\u001b[1m281/281\u001b[0m \u001b[32m━━━━━━━━━━━━━━━━━━━━\u001b[0m\u001b[37m\u001b[0m \u001b[1m4s\u001b[0m 12ms/step - loss: 0.0014 - val_loss: 0.0044\n",
            "Epoch 35/300\n",
            "\u001b[1m281/281\u001b[0m \u001b[32m━━━━━━━━━━━━━━━━━━━━\u001b[0m\u001b[37m\u001b[0m \u001b[1m3s\u001b[0m 12ms/step - loss: 0.0011 - val_loss: 0.0059\n",
            "Epoch 36/300\n",
            "\u001b[1m281/281\u001b[0m \u001b[32m━━━━━━━━━━━━━━━━━━━━\u001b[0m\u001b[37m\u001b[0m \u001b[1m4s\u001b[0m 13ms/step - loss: 0.0011 - val_loss: 0.0046\n",
            "Epoch 37/300\n",
            "\u001b[1m281/281\u001b[0m \u001b[32m━━━━━━━━━━━━━━━━━━━━\u001b[0m\u001b[37m\u001b[0m \u001b[1m4s\u001b[0m 13ms/step - loss: 9.9809e-04 - val_loss: 0.0031\n",
            "Epoch 38/300\n",
            "\u001b[1m281/281\u001b[0m \u001b[32m━━━━━━━━━━━━━━━━━━━━\u001b[0m\u001b[37m\u001b[0m \u001b[1m4s\u001b[0m 13ms/step - loss: 9.0268e-04 - val_loss: 0.0031\n",
            "Epoch 39/300\n",
            "\u001b[1m281/281\u001b[0m \u001b[32m━━━━━━━━━━━━━━━━━━━━\u001b[0m\u001b[37m\u001b[0m \u001b[1m4s\u001b[0m 13ms/step - loss: 8.0951e-04 - val_loss: 0.0064\n",
            "Epoch 40/300\n",
            "\u001b[1m281/281\u001b[0m \u001b[32m━━━━━━━━━━━━━━━━━━━━\u001b[0m\u001b[37m\u001b[0m \u001b[1m4s\u001b[0m 13ms/step - loss: 0.0012 - val_loss: 0.0036\n",
            "Epoch 41/300\n",
            "\u001b[1m281/281\u001b[0m \u001b[32m━━━━━━━━━━━━━━━━━━━━\u001b[0m\u001b[37m\u001b[0m \u001b[1m4s\u001b[0m 13ms/step - loss: 7.9803e-04 - val_loss: 0.0067\n",
            "Epoch 42/300\n",
            "\u001b[1m281/281\u001b[0m \u001b[32m━━━━━━━━━━━━━━━━━━━━\u001b[0m\u001b[37m\u001b[0m \u001b[1m3s\u001b[0m 12ms/step - loss: 9.8838e-04 - val_loss: 0.0156\n",
            "Epoch 43/300\n",
            "\u001b[1m281/281\u001b[0m \u001b[32m━━━━━━━━━━━━━━━━━━━━\u001b[0m\u001b[37m\u001b[0m \u001b[1m4s\u001b[0m 13ms/step - loss: 0.0015 - val_loss: 0.0040\n",
            "Epoch 44/300\n",
            "\u001b[1m281/281\u001b[0m \u001b[32m━━━━━━━━━━━━━━━━━━━━\u001b[0m\u001b[37m\u001b[0m \u001b[1m4s\u001b[0m 12ms/step - loss: 8.3874e-04 - val_loss: 0.0123\n",
            "Epoch 45/300\n",
            "\u001b[1m281/281\u001b[0m \u001b[32m━━━━━━━━━━━━━━━━━━━━\u001b[0m\u001b[37m\u001b[0m \u001b[1m3s\u001b[0m 12ms/step - loss: 0.0014 - val_loss: 0.0019\n",
            "Epoch 46/300\n",
            "\u001b[1m281/281\u001b[0m \u001b[32m━━━━━━━━━━━━━━━━━━━━\u001b[0m\u001b[37m\u001b[0m \u001b[1m3s\u001b[0m 12ms/step - loss: 7.2733e-04 - val_loss: 0.0031\n",
            "Epoch 47/300\n",
            "\u001b[1m281/281\u001b[0m \u001b[32m━━━━━━━━━━━━━━━━━━━━\u001b[0m\u001b[37m\u001b[0m \u001b[1m4s\u001b[0m 13ms/step - loss: 7.3672e-04 - val_loss: 0.0019\n",
            "Epoch 48/300\n",
            "\u001b[1m281/281\u001b[0m \u001b[32m━━━━━━━━━━━━━━━━━━━━\u001b[0m\u001b[37m\u001b[0m \u001b[1m4s\u001b[0m 12ms/step - loss: 6.6498e-04 - val_loss: 0.0013\n",
            "Epoch 49/300\n",
            "\u001b[1m281/281\u001b[0m \u001b[32m━━━━━━━━━━━━━━━━━━━━\u001b[0m\u001b[37m\u001b[0m \u001b[1m4s\u001b[0m 12ms/step - loss: 6.2700e-04 - val_loss: 9.4018e-04\n",
            "Epoch 50/300\n",
            "\u001b[1m281/281\u001b[0m \u001b[32m━━━━━━━━━━━━━━━━━━━━\u001b[0m\u001b[37m\u001b[0m \u001b[1m3s\u001b[0m 12ms/step - loss: 6.9319e-04 - val_loss: 0.0053\n",
            "Epoch 51/300\n",
            "\u001b[1m281/281\u001b[0m \u001b[32m━━━━━━━━━━━━━━━━━━━━\u001b[0m\u001b[37m\u001b[0m \u001b[1m4s\u001b[0m 12ms/step - loss: 7.2370e-04 - val_loss: 0.0018\n",
            "Epoch 52/300\n",
            "\u001b[1m281/281\u001b[0m \u001b[32m━━━━━━━━━━━━━━━━━━━━\u001b[0m\u001b[37m\u001b[0m \u001b[1m4s\u001b[0m 13ms/step - loss: 6.0550e-04 - val_loss: 8.3214e-04\n",
            "Epoch 53/300\n",
            "\u001b[1m281/281\u001b[0m \u001b[32m━━━━━━━━━━━━━━━━━━━━\u001b[0m\u001b[37m\u001b[0m \u001b[1m3s\u001b[0m 12ms/step - loss: 4.9638e-04 - val_loss: 0.0018\n",
            "Epoch 54/300\n",
            "\u001b[1m281/281\u001b[0m \u001b[32m━━━━━━━━━━━━━━━━━━━━\u001b[0m\u001b[37m\u001b[0m \u001b[1m4s\u001b[0m 12ms/step - loss: 6.3089e-04 - val_loss: 0.0021\n",
            "Epoch 55/300\n",
            "\u001b[1m281/281\u001b[0m \u001b[32m━━━━━━━━━━━━━━━━━━━━\u001b[0m\u001b[37m\u001b[0m \u001b[1m3s\u001b[0m 12ms/step - loss: 5.0657e-04 - val_loss: 0.0017\n",
            "Epoch 56/300\n",
            "\u001b[1m281/281\u001b[0m \u001b[32m━━━━━━━━━━━━━━━━━━━━\u001b[0m\u001b[37m\u001b[0m \u001b[1m4s\u001b[0m 13ms/step - loss: 5.3787e-04 - val_loss: 0.0013\n",
            "Epoch 57/300\n",
            "\u001b[1m281/281\u001b[0m \u001b[32m━━━━━━━━━━━━━━━━━━━━\u001b[0m\u001b[37m\u001b[0m \u001b[1m3s\u001b[0m 12ms/step - loss: 4.4548e-04 - val_loss: 6.4616e-04\n",
            "Epoch 58/300\n",
            "\u001b[1m281/281\u001b[0m \u001b[32m━━━━━━━━━━━━━━━━━━━━\u001b[0m\u001b[37m\u001b[0m \u001b[1m4s\u001b[0m 12ms/step - loss: 4.7015e-04 - val_loss: 0.0011\n",
            "Epoch 59/300\n",
            "\u001b[1m281/281\u001b[0m \u001b[32m━━━━━━━━━━━━━━━━━━━━\u001b[0m\u001b[37m\u001b[0m \u001b[1m4s\u001b[0m 12ms/step - loss: 3.8126e-04 - val_loss: 0.0014\n",
            "Epoch 60/300\n",
            "\u001b[1m281/281\u001b[0m \u001b[32m━━━━━━━━━━━━━━━━━━━━\u001b[0m\u001b[37m\u001b[0m \u001b[1m4s\u001b[0m 12ms/step - loss: 4.4527e-04 - val_loss: 3.7318e-04\n",
            "Epoch 61/300\n",
            "\u001b[1m281/281\u001b[0m \u001b[32m━━━━━━━━━━━━━━━━━━━━\u001b[0m\u001b[37m\u001b[0m \u001b[1m4s\u001b[0m 13ms/step - loss: 3.6647e-04 - val_loss: 0.0055\n",
            "Epoch 62/300\n",
            "\u001b[1m281/281\u001b[0m \u001b[32m━━━━━━━━━━━━━━━━━━━━\u001b[0m\u001b[37m\u001b[0m \u001b[1m4s\u001b[0m 13ms/step - loss: 8.0945e-04 - val_loss: 0.0039\n",
            "Epoch 63/300\n",
            "\u001b[1m281/281\u001b[0m \u001b[32m━━━━━━━━━━━━━━━━━━━━\u001b[0m\u001b[37m\u001b[0m \u001b[1m4s\u001b[0m 13ms/step - loss: 5.0730e-04 - val_loss: 7.0765e-04\n",
            "Epoch 64/300\n",
            "\u001b[1m281/281\u001b[0m \u001b[32m━━━━━━━━━━━━━━━━━━━━\u001b[0m\u001b[37m\u001b[0m \u001b[1m4s\u001b[0m 13ms/step - loss: 2.9063e-04 - val_loss: 0.0015\n",
            "Epoch 65/300\n",
            "\u001b[1m281/281\u001b[0m \u001b[32m━━━━━━━━━━━━━━━━━━━━\u001b[0m\u001b[37m\u001b[0m \u001b[1m4s\u001b[0m 13ms/step - loss: 5.3694e-04 - val_loss: 0.0010\n",
            "Epoch 66/300\n",
            "\u001b[1m281/281\u001b[0m \u001b[32m━━━━━━━━━━━━━━━━━━━━\u001b[0m\u001b[37m\u001b[0m \u001b[1m4s\u001b[0m 13ms/step - loss: 3.5674e-04 - val_loss: 4.0398e-04\n",
            "Epoch 67/300\n",
            "\u001b[1m281/281\u001b[0m \u001b[32m━━━━━━━━━━━━━━━━━━━━\u001b[0m\u001b[37m\u001b[0m \u001b[1m4s\u001b[0m 13ms/step - loss: 3.5779e-04 - val_loss: 0.0039\n",
            "Epoch 68/300\n",
            "\u001b[1m281/281\u001b[0m \u001b[32m━━━━━━━━━━━━━━━━━━━━\u001b[0m\u001b[37m\u001b[0m \u001b[1m4s\u001b[0m 13ms/step - loss: 5.1926e-04 - val_loss: 4.4597e-04\n",
            "Epoch 69/300\n",
            "\u001b[1m281/281\u001b[0m \u001b[32m━━━━━━━━━━━━━━━━━━━━\u001b[0m\u001b[37m\u001b[0m \u001b[1m4s\u001b[0m 13ms/step - loss: 3.3104e-04 - val_loss: 0.0035\n",
            "Epoch 70/300\n",
            "\u001b[1m281/281\u001b[0m \u001b[32m━━━━━━━━━━━━━━━━━━━━\u001b[0m\u001b[37m\u001b[0m \u001b[1m4s\u001b[0m 13ms/step - loss: 5.2370e-04 - val_loss: 0.0014\n",
            "Epoch 71/300\n",
            "\u001b[1m281/281\u001b[0m \u001b[32m━━━━━━━━━━━━━━━━━━━━\u001b[0m\u001b[37m\u001b[0m \u001b[1m4s\u001b[0m 13ms/step - loss: 2.8830e-04 - val_loss: 6.2782e-04\n",
            "Epoch 72/300\n",
            "\u001b[1m281/281\u001b[0m \u001b[32m━━━━━━━━━━━━━━━━━━━━\u001b[0m\u001b[37m\u001b[0m \u001b[1m4s\u001b[0m 13ms/step - loss: 2.5308e-04 - val_loss: 0.0018\n",
            "Minimum validation loss: 0.0003731820033863187\n"
          ]
        },
        {
          "output_type": "display_data",
          "data": {
            "text/plain": [
              "<Figure size 432x288 with 1 Axes>"
            ],
            "image/png": "[encoded data removed]"
          },
          "metadata": {
            "needs_background": "light"
          }
        }
      ]
    },
    {
      "cell_type": "code",
      "source": [
        "#Chaotic region\n",
        "history = model.fit(\n",
        "    X_train, y_train,\n",
        "    validation_data=(X_test, y_test),\n",
        "    batch_size=100,\n",
        "    epochs=300,\n",
        "    callbacks=[early_stopping], # put your callbacks in a list\n",
        "    verbose=1,  # turn off training log\n",
        "    shuffle=False\n",
        ")\n",
        "\n",
        "history_df = pd.DataFrame(history.history)\n",
        "history_df.loc[:, ['loss', 'val_loss']].plot();\n",
        "print(\"Minimum validation loss: {}\".format(history_df['val_loss'].min()))"
      ],
      "metadata": {
        "colab": {
          "base_uri": "https://localhost:8080/",
          "height": 1000
        },
        "outputId": "abc96639-72d4-49e3-a63a-d4b52712bfb4",
        "id": "ERI8tLY55A5Q"
      },
      "execution_count": null,
      "outputs": [
        {
          "output_type": "stream",
          "name": "stdout",
          "text": [
            "Epoch 1/300\n"
          ]
        },
        {
          "output_type": "stream",
          "name": "stderr",
          "text": [
            "WARNING: All log messages before absl::InitializeLog() is called are written to STDERR\n",
            "I0000 00:00:1728067069.652837   62808 service.cc:145] XLA service 0x55e0d9b43760 initialized for platform CUDA (this does not guarantee that XLA will be used). Devices:\n",
            "I0000 00:00:1728067069.652862   62808 service.cc:153]   StreamExecutor device (0): NVIDIA GeForce RTX 2060 SUPER, Compute Capability 7.5\n",
            "2024-10-04 15:37:49.699522: I tensorflow/compiler/mlir/tensorflow/utils/dump_mlir_util.cc:268] disabling MLIR crash reproducer, set env var `MLIR_CRASH_REPRODUCER_DIRECTORY` to enable.\n",
            "2024-10-04 15:37:49.947174: I external/local_xla/xla/stream_executor/cuda/cuda_dnn.cc:465] Loaded cuDNN version 8907\n"
          ]
        },
        {
          "output_type": "stream",
          "name": "stdout",
          "text": [
            "\u001b[1m 12/281\u001b[0m \u001b[37m━━━━━━━━━━━━━━━━━━━━\u001b[0m \u001b[1m4s\u001b[0m 16ms/step - loss: 5.3374"
          ]
        },
        {
          "output_type": "stream",
          "name": "stderr",
          "text": [
            "I0000 00:00:1728067073.569775   62808 device_compiler.h:188] Compiled cluster using XLA!  This line is logged at most once for the lifetime of the process.\n"
          ]
        },
        {
          "output_type": "stream",
          "name": "stdout",
          "text": [
            "\u001b[1m281/281\u001b[0m \u001b[32m━━━━━━━━━━━━━━━━━━━━\u001b[0m\u001b[37m\u001b[0m \u001b[1m14s\u001b[0m 29ms/step - loss: 0.6992 - val_loss: 7.7864\n",
            "Epoch 2/300\n",
            "\u001b[1m281/281\u001b[0m \u001b[32m━━━━━━━━━━━━━━━━━━━━\u001b[0m\u001b[37m\u001b[0m \u001b[1m4s\u001b[0m 13ms/step - loss: 0.0693 - val_loss: 5.1377\n",
            "Epoch 3/300\n",
            "\u001b[1m281/281\u001b[0m \u001b[32m━━━━━━━━━━━━━━━━━━━━\u001b[0m\u001b[37m\u001b[0m \u001b[1m4s\u001b[0m 13ms/step - loss: 0.0361 - val_loss: 3.3369\n",
            "Epoch 4/300\n",
            "\u001b[1m281/281\u001b[0m \u001b[32m━━━━━━━━━━━━━━━━━━━━\u001b[0m\u001b[37m\u001b[0m \u001b[1m4s\u001b[0m 13ms/step - loss: 0.0223 - val_loss: 1.5991\n",
            "Epoch 5/300\n",
            "\u001b[1m281/281\u001b[0m \u001b[32m━━━━━━━━━━━━━━━━━━━━\u001b[0m\u001b[37m\u001b[0m \u001b[1m4s\u001b[0m 13ms/step - loss: 0.0164 - val_loss: 0.9262\n",
            "Epoch 6/300\n",
            "\u001b[1m281/281\u001b[0m \u001b[32m━━━━━━━━━━━━━━━━━━━━\u001b[0m\u001b[37m\u001b[0m \u001b[1m4s\u001b[0m 13ms/step - loss: 0.0120 - val_loss: 0.2899\n",
            "Epoch 7/300\n",
            "\u001b[1m281/281\u001b[0m \u001b[32m━━━━━━━━━━━━━━━━━━━━\u001b[0m\u001b[37m\u001b[0m \u001b[1m4s\u001b[0m 13ms/step - loss: 0.0120 - val_loss: 0.0824\n",
            "Epoch 8/300\n",
            "\u001b[1m281/281\u001b[0m \u001b[32m━━━━━━━━━━━━━━━━━━━━\u001b[0m\u001b[37m\u001b[0m \u001b[1m3s\u001b[0m 12ms/step - loss: 0.0059 - val_loss: 0.0349\n",
            "Epoch 9/300\n",
            "\u001b[1m281/281\u001b[0m \u001b[32m━━━━━━━━━━━━━━━━━━━━\u001b[0m\u001b[37m\u001b[0m \u001b[1m4s\u001b[0m 12ms/step - loss: 0.0053 - val_loss: 0.0589\n",
            "Epoch 10/300\n",
            "\u001b[1m281/281\u001b[0m \u001b[32m━━━━━━━━━━━━━━━━━━━━\u001b[0m\u001b[37m\u001b[0m \u001b[1m4s\u001b[0m 13ms/step - loss: 0.0053 - val_loss: 0.0662\n",
            "Epoch 11/300\n",
            "\u001b[1m281/281\u001b[0m \u001b[32m━━━━━━━━━━━━━━━━━━━━\u001b[0m\u001b[37m\u001b[0m \u001b[1m3s\u001b[0m 12ms/step - loss: 0.0047 - val_loss: 0.0382\n",
            "Epoch 12/300\n",
            "\u001b[1m281/281\u001b[0m \u001b[32m━━━━━━━━━━━━━━━━━━━━\u001b[0m\u001b[37m\u001b[0m \u001b[1m3s\u001b[0m 12ms/step - loss: 0.0041 - val_loss: 0.0772\n",
            "Epoch 13/300\n",
            "\u001b[1m281/281\u001b[0m \u001b[32m━━━━━━━━━━━━━━━━━━━━\u001b[0m\u001b[37m\u001b[0m \u001b[1m3s\u001b[0m 12ms/step - loss: 0.0050 - val_loss: 0.0470\n",
            "Epoch 14/300\n",
            "\u001b[1m281/281\u001b[0m \u001b[32m━━━━━━━━━━━━━━━━━━━━\u001b[0m\u001b[37m\u001b[0m \u001b[1m3s\u001b[0m 12ms/step - loss: 0.0037 - val_loss: 0.0335\n",
            "Epoch 15/300\n",
            "\u001b[1m281/281\u001b[0m \u001b[32m━━━━━━━━━━━━━━━━━━━━\u001b[0m\u001b[37m\u001b[0m \u001b[1m3s\u001b[0m 12ms/step - loss: 0.0038 - val_loss: 0.0578\n",
            "Epoch 16/300\n",
            "\u001b[1m281/281\u001b[0m \u001b[32m━━━━━━━━━━━━━━━━━━━━\u001b[0m\u001b[37m\u001b[0m \u001b[1m3s\u001b[0m 12ms/step - loss: 0.0038 - val_loss: 0.1007\n",
            "Epoch 17/300\n",
            "\u001b[1m281/281\u001b[0m \u001b[32m━━━━━━━━━━━━━━━━━━━━\u001b[0m\u001b[37m\u001b[0m \u001b[1m3s\u001b[0m 12ms/step - loss: 0.0051 - val_loss: 0.0766\n",
            "Epoch 18/300\n",
            "\u001b[1m281/281\u001b[0m \u001b[32m━━━━━━━━━━━━━━━━━━━━\u001b[0m\u001b[37m\u001b[0m \u001b[1m3s\u001b[0m 12ms/step - loss: 0.0037 - val_loss: 0.0309\n",
            "Epoch 19/300\n",
            "\u001b[1m281/281\u001b[0m \u001b[32m━━━━━━━━━━━━━━━━━━━━\u001b[0m\u001b[37m\u001b[0m \u001b[1m3s\u001b[0m 12ms/step - loss: 0.0030 - val_loss: 0.0487\n",
            "Epoch 20/300\n",
            "\u001b[1m281/281\u001b[0m \u001b[32m━━━━━━━━━━━━━━━━━━━━\u001b[0m\u001b[37m\u001b[0m \u001b[1m4s\u001b[0m 13ms/step - loss: 0.0031 - val_loss: 0.0524\n",
            "Epoch 21/300\n",
            "\u001b[1m281/281\u001b[0m \u001b[32m━━━━━━━━━━━━━━━━━━━━\u001b[0m\u001b[37m\u001b[0m \u001b[1m4s\u001b[0m 12ms/step - loss: 0.0031 - val_loss: 0.0247\n",
            "Epoch 22/300\n",
            "\u001b[1m281/281\u001b[0m \u001b[32m━━━━━━━━━━━━━━━━━━━━\u001b[0m\u001b[37m\u001b[0m \u001b[1m3s\u001b[0m 12ms/step - loss: 0.0027 - val_loss: 0.0276\n",
            "Epoch 23/300\n",
            "\u001b[1m281/281\u001b[0m \u001b[32m━━━━━━━━━━━━━━━━━━━━\u001b[0m\u001b[37m\u001b[0m \u001b[1m3s\u001b[0m 12ms/step - loss: 0.0025 - val_loss: 0.0275\n",
            "Epoch 24/300\n",
            "\u001b[1m281/281\u001b[0m \u001b[32m━━━━━━━━━━━━━━━━━━━━\u001b[0m\u001b[37m\u001b[0m \u001b[1m3s\u001b[0m 12ms/step - loss: 0.0022 - val_loss: 0.0248\n",
            "Epoch 25/300\n",
            "\u001b[1m281/281\u001b[0m \u001b[32m━━━━━━━━━━━━━━━━━━━━\u001b[0m\u001b[37m\u001b[0m \u001b[1m4s\u001b[0m 12ms/step - loss: 0.0020 - val_loss: 0.0309\n",
            "Epoch 26/300\n",
            "\u001b[1m281/281\u001b[0m \u001b[32m━━━━━━━━━━━━━━━━━━━━\u001b[0m\u001b[37m\u001b[0m \u001b[1m4s\u001b[0m 13ms/step - loss: 0.0021 - val_loss: 0.0133\n",
            "Epoch 27/300\n",
            "\u001b[1m281/281\u001b[0m \u001b[32m━━━━━━━━━━━━━━━━━━━━\u001b[0m\u001b[37m\u001b[0m \u001b[1m4s\u001b[0m 13ms/step - loss: 0.0018 - val_loss: 0.0192\n",
            "Epoch 28/300\n",
            "\u001b[1m281/281\u001b[0m \u001b[32m━━━━━━━━━━━━━━━━━━━━\u001b[0m\u001b[37m\u001b[0m \u001b[1m3s\u001b[0m 12ms/step - loss: 0.0017 - val_loss: 0.0321\n",
            "Epoch 29/300\n",
            "\u001b[1m281/281\u001b[0m \u001b[32m━━━━━━━━━━━━━━━━━━━━\u001b[0m\u001b[37m\u001b[0m \u001b[1m4s\u001b[0m 12ms/step - loss: 0.0019 - val_loss: 0.0195\n",
            "Epoch 30/300\n",
            "\u001b[1m281/281\u001b[0m \u001b[32m━━━━━━━━━━━━━━━━━━━━\u001b[0m\u001b[37m\u001b[0m \u001b[1m3s\u001b[0m 12ms/step - loss: 0.0017 - val_loss: 0.0160\n",
            "Epoch 31/300\n",
            "\u001b[1m281/281\u001b[0m \u001b[32m━━━━━━━━━━━━━━━━━━━━\u001b[0m\u001b[37m\u001b[0m \u001b[1m3s\u001b[0m 12ms/step - loss: 0.0016 - val_loss: 0.0157\n",
            "Epoch 32/300\n",
            "\u001b[1m281/281\u001b[0m \u001b[32m━━━━━━━━━━━━━━━━━━━━\u001b[0m\u001b[37m\u001b[0m \u001b[1m3s\u001b[0m 12ms/step - loss: 0.0015 - val_loss: 0.0281\n",
            "Epoch 33/300\n",
            "\u001b[1m281/281\u001b[0m \u001b[32m━━━━━━━━━━━━━━━━━━━━\u001b[0m\u001b[37m\u001b[0m \u001b[1m4s\u001b[0m 13ms/step - loss: 0.0016 - val_loss: 0.0328\n",
            "Epoch 34/300\n",
            "\u001b[1m281/281\u001b[0m \u001b[32m━━━━━━━━━━━━━━━━━━━━\u001b[0m\u001b[37m\u001b[0m \u001b[1m4s\u001b[0m 13ms/step - loss: 0.0018 - val_loss: 0.0332\n",
            "Epoch 35/300\n",
            "\u001b[1m281/281\u001b[0m \u001b[32m━━━━━━━━━━━━━━━━━━━━\u001b[0m\u001b[37m\u001b[0m \u001b[1m4s\u001b[0m 13ms/step - loss: 0.0017 - val_loss: 0.0204\n",
            "Epoch 36/300\n",
            "\u001b[1m281/281\u001b[0m \u001b[32m━━━━━━━━━━━━━━━━━━━━\u001b[0m\u001b[37m\u001b[0m \u001b[1m4s\u001b[0m 13ms/step - loss: 0.0014 - val_loss: 0.0130\n",
            "Epoch 37/300\n",
            "\u001b[1m281/281\u001b[0m \u001b[32m━━━━━━━━━━━━━━━━━━━━\u001b[0m\u001b[37m\u001b[0m \u001b[1m4s\u001b[0m 13ms/step - loss: 0.0013 - val_loss: 0.0183\n",
            "Epoch 38/300\n",
            "\u001b[1m281/281\u001b[0m \u001b[32m━━━━━━━━━━━━━━━━━━━━\u001b[0m\u001b[37m\u001b[0m \u001b[1m4s\u001b[0m 13ms/step - loss: 0.0013 - val_loss: 0.0154\n",
            "Epoch 39/300\n",
            "\u001b[1m281/281\u001b[0m \u001b[32m━━━━━━━━━━━━━━━━━━━━\u001b[0m\u001b[37m\u001b[0m \u001b[1m4s\u001b[0m 13ms/step - loss: 0.0012 - val_loss: 0.0198\n",
            "Epoch 40/300\n",
            "\u001b[1m281/281\u001b[0m \u001b[32m━━━━━━━━━━━━━━━━━━━━\u001b[0m\u001b[37m\u001b[0m \u001b[1m4s\u001b[0m 13ms/step - loss: 0.0012 - val_loss: 0.0122\n",
            "Epoch 41/300\n",
            "\u001b[1m281/281\u001b[0m \u001b[32m━━━━━━━━━━━━━━━━━━━━\u001b[0m\u001b[37m\u001b[0m \u001b[1m4s\u001b[0m 13ms/step - loss: 0.0011 - val_loss: 0.0141\n",
            "Epoch 42/300\n",
            "\u001b[1m281/281\u001b[0m \u001b[32m━━━━━━━━━━━━━━━━━━━━\u001b[0m\u001b[37m\u001b[0m \u001b[1m4s\u001b[0m 13ms/step - loss: 0.0011 - val_loss: 0.0068\n",
            "Epoch 43/300\n",
            "\u001b[1m281/281\u001b[0m \u001b[32m━━━━━━━━━━━━━━━━━━━━\u001b[0m\u001b[37m\u001b[0m \u001b[1m4s\u001b[0m 14ms/step - loss: 0.0012 - val_loss: 0.0132\n",
            "Epoch 44/300\n",
            "\u001b[1m281/281\u001b[0m \u001b[32m━━━━━━━━━━━━━━━━━━━━\u001b[0m\u001b[37m\u001b[0m \u001b[1m4s\u001b[0m 13ms/step - loss: 0.0011 - val_loss: 0.0240\n",
            "Epoch 45/300\n",
            "\u001b[1m281/281\u001b[0m \u001b[32m━━━━━━━━━━━━━━━━━━━━\u001b[0m\u001b[37m\u001b[0m \u001b[1m4s\u001b[0m 14ms/step - loss: 0.0013 - val_loss: 0.0143\n",
            "Epoch 46/300\n",
            "\u001b[1m281/281\u001b[0m \u001b[32m━━━━━━━━━━━━━━━━━━━━\u001b[0m\u001b[37m\u001b[0m \u001b[1m4s\u001b[0m 13ms/step - loss: 0.0010 - val_loss: 0.0111\n",
            "Epoch 47/300\n",
            "\u001b[1m281/281\u001b[0m \u001b[32m━━━━━━━━━━━━━━━━━━━━\u001b[0m\u001b[37m\u001b[0m \u001b[1m4s\u001b[0m 13ms/step - loss: 9.6441e-04 - val_loss: 0.0125\n",
            "Epoch 48/300\n",
            "\u001b[1m281/281\u001b[0m \u001b[32m━━━━━━━━━━━━━━━━━━━━\u001b[0m\u001b[37m\u001b[0m \u001b[1m4s\u001b[0m 13ms/step - loss: 0.0010 - val_loss: 0.0145\n",
            "Epoch 49/300\n",
            "\u001b[1m281/281\u001b[0m \u001b[32m━━━━━━━━━━━━━━━━━━━━\u001b[0m\u001b[37m\u001b[0m \u001b[1m4s\u001b[0m 13ms/step - loss: 0.0010 - val_loss: 0.0229\n",
            "Epoch 50/300\n",
            "\u001b[1m281/281\u001b[0m \u001b[32m━━━━━━━━━━━━━━━━━━━━\u001b[0m\u001b[37m\u001b[0m \u001b[1m4s\u001b[0m 13ms/step - loss: 0.0011 - val_loss: 0.0077\n",
            "Epoch 51/300\n",
            "\u001b[1m281/281\u001b[0m \u001b[32m━━━━━━━━━━━━━━━━━━━━\u001b[0m\u001b[37m\u001b[0m \u001b[1m4s\u001b[0m 13ms/step - loss: 9.9387e-04 - val_loss: 0.0147\n",
            "Epoch 52/300\n",
            "\u001b[1m281/281\u001b[0m \u001b[32m━━━━━━━━━━━━━━━━━━━━\u001b[0m\u001b[37m\u001b[0m \u001b[1m4s\u001b[0m 13ms/step - loss: 8.8480e-04 - val_loss: 0.0152\n",
            "Epoch 53/300\n",
            "\u001b[1m281/281\u001b[0m \u001b[32m━━━━━━━━━━━━━━━━━━━━\u001b[0m\u001b[37m\u001b[0m \u001b[1m4s\u001b[0m 13ms/step - loss: 8.4809e-04 - val_loss: 0.0083\n",
            "Epoch 54/300\n",
            "\u001b[1m281/281\u001b[0m \u001b[32m━━━━━━━━━━━━━━━━━━━━\u001b[0m\u001b[37m\u001b[0m \u001b[1m3s\u001b[0m 12ms/step - loss: 9.4532e-04 - val_loss: 0.0169\n",
            "Epoch 55/300\n",
            "\u001b[1m281/281\u001b[0m \u001b[32m━━━━━━━━━━━━━━━━━━━━\u001b[0m\u001b[37m\u001b[0m \u001b[1m3s\u001b[0m 12ms/step - loss: 9.0035e-04 - val_loss: 0.0165\n",
            "Epoch 56/300\n",
            "\u001b[1m281/281\u001b[0m \u001b[32m━━━━━━━━━━━━━━━━━━━━\u001b[0m\u001b[37m\u001b[0m \u001b[1m3s\u001b[0m 12ms/step - loss: 8.6088e-04 - val_loss: 0.0102\n",
            "Epoch 57/300\n",
            "\u001b[1m281/281\u001b[0m \u001b[32m━━━━━━━━━━━━━━━━━━━━\u001b[0m\u001b[37m\u001b[0m \u001b[1m4s\u001b[0m 12ms/step - loss: 8.6399e-04 - val_loss: 0.0113\n",
            "Epoch 58/300\n",
            "\u001b[1m281/281\u001b[0m \u001b[32m━━━━━━━━━━━━━━━━━━━━\u001b[0m\u001b[37m\u001b[0m \u001b[1m3s\u001b[0m 12ms/step - loss: 7.9755e-04 - val_loss: 0.0107\n",
            "Epoch 59/300\n",
            "\u001b[1m281/281\u001b[0m \u001b[32m━━━━━━━━━━━━━━━━━━━━\u001b[0m\u001b[37m\u001b[0m \u001b[1m3s\u001b[0m 12ms/step - loss: 7.8924e-04 - val_loss: 0.0113\n",
            "Epoch 60/300\n",
            "\u001b[1m281/281\u001b[0m \u001b[32m━━━━━━━━━━━━━━━━━━━━\u001b[0m\u001b[37m\u001b[0m \u001b[1m3s\u001b[0m 12ms/step - loss: 7.8926e-04 - val_loss: 0.0062\n",
            "Epoch 61/300\n",
            "\u001b[1m281/281\u001b[0m \u001b[32m━━━━━━━━━━━━━━━━━━━━\u001b[0m\u001b[37m\u001b[0m \u001b[1m3s\u001b[0m 12ms/step - loss: 8.8206e-04 - val_loss: 0.0046\n",
            "Epoch 62/300\n",
            "\u001b[1m281/281\u001b[0m \u001b[32m━━━━━━━━━━━━━━━━━━━━\u001b[0m\u001b[37m\u001b[0m \u001b[1m3s\u001b[0m 12ms/step - loss: 8.1698e-04 - val_loss: 0.0076\n",
            "Epoch 63/300\n",
            "\u001b[1m281/281\u001b[0m \u001b[32m━━━━━━━━━━━━━━━━━━━━\u001b[0m\u001b[37m\u001b[0m \u001b[1m4s\u001b[0m 13ms/step - loss: 6.7721e-04 - val_loss: 0.0062\n",
            "Epoch 64/300\n",
            "\u001b[1m281/281\u001b[0m \u001b[32m━━━━━━━━━━━━━━━━━━━━\u001b[0m\u001b[37m\u001b[0m \u001b[1m4s\u001b[0m 13ms/step - loss: 7.4386e-04 - val_loss: 0.0109\n",
            "Epoch 65/300\n",
            "\u001b[1m281/281\u001b[0m \u001b[32m━━━━━━━━━━━━━━━━━━━━\u001b[0m\u001b[37m\u001b[0m \u001b[1m4s\u001b[0m 13ms/step - loss: 6.3818e-04 - val_loss: 0.0085\n",
            "Epoch 66/300\n",
            "\u001b[1m281/281\u001b[0m \u001b[32m━━━━━━━━━━━━━━━━━━━━\u001b[0m\u001b[37m\u001b[0m \u001b[1m4s\u001b[0m 13ms/step - loss: 6.3262e-04 - val_loss: 0.0068\n",
            "Epoch 67/300\n",
            "\u001b[1m281/281\u001b[0m \u001b[32m━━━━━━━━━━━━━━━━━━━━\u001b[0m\u001b[37m\u001b[0m \u001b[1m4s\u001b[0m 14ms/step - loss: 5.8028e-04 - val_loss: 0.0110\n",
            "Epoch 68/300\n",
            "\u001b[1m281/281\u001b[0m \u001b[32m━━━━━━━━━━━━━━━━━━━━\u001b[0m\u001b[37m\u001b[0m \u001b[1m4s\u001b[0m 14ms/step - loss: 5.7383e-04 - val_loss: 0.0065\n",
            "Epoch 69/300\n",
            "\u001b[1m281/281\u001b[0m \u001b[32m━━━━━━━━━━━━━━━━━━━━\u001b[0m\u001b[37m\u001b[0m \u001b[1m4s\u001b[0m 13ms/step - loss: 5.8283e-04 - val_loss: 0.0072\n",
            "Epoch 70/300\n",
            "\u001b[1m281/281\u001b[0m \u001b[32m━━━━━━━━━━━━━━━━━━━━\u001b[0m\u001b[37m\u001b[0m \u001b[1m4s\u001b[0m 13ms/step - loss: 5.3419e-04 - val_loss: 0.0033\n",
            "Epoch 71/300\n",
            "\u001b[1m281/281\u001b[0m \u001b[32m━━━━━━━━━━━━━━━━━━━━\u001b[0m\u001b[37m\u001b[0m \u001b[1m4s\u001b[0m 13ms/step - loss: 6.1011e-04 - val_loss: 0.0052\n",
            "Epoch 72/300\n",
            "\u001b[1m281/281\u001b[0m \u001b[32m━━━━━━━━━━━━━━━━━━━━\u001b[0m\u001b[37m\u001b[0m \u001b[1m4s\u001b[0m 13ms/step - loss: 5.7491e-04 - val_loss: 0.0052\n",
            "Epoch 73/300\n",
            "\u001b[1m281/281\u001b[0m \u001b[32m━━━━━━━━━━━━━━━━━━━━\u001b[0m\u001b[37m\u001b[0m \u001b[1m4s\u001b[0m 13ms/step - loss: 5.7770e-04 - val_loss: 0.0064\n",
            "Epoch 74/300\n",
            "\u001b[1m281/281\u001b[0m \u001b[32m━━━━━━━━━━━━━━━━━━━━\u001b[0m\u001b[37m\u001b[0m \u001b[1m4s\u001b[0m 13ms/step - loss: 4.8875e-04 - val_loss: 0.0075\n",
            "Epoch 75/300\n",
            "\u001b[1m281/281\u001b[0m \u001b[32m━━━━━━━━━━━━━━━━━━━━\u001b[0m\u001b[37m\u001b[0m \u001b[1m4s\u001b[0m 14ms/step - loss: 4.7364e-04 - val_loss: 0.0047\n",
            "Epoch 76/300\n",
            "\u001b[1m281/281\u001b[0m \u001b[32m━━━━━━━━━━━━━━━━━━━━\u001b[0m\u001b[37m\u001b[0m \u001b[1m4s\u001b[0m 13ms/step - loss: 5.0406e-04 - val_loss: 0.0058\n",
            "Epoch 77/300\n",
            "\u001b[1m281/281\u001b[0m \u001b[32m━━━━━━━━━━━━━━━━━━━━\u001b[0m\u001b[37m\u001b[0m \u001b[1m4s\u001b[0m 13ms/step - loss: 4.6160e-04 - val_loss: 0.0038\n",
            "Epoch 78/300\n",
            "\u001b[1m281/281\u001b[0m \u001b[32m━━━━━━━━━━━━━━━━━━━━\u001b[0m\u001b[37m\u001b[0m \u001b[1m4s\u001b[0m 13ms/step - loss: 4.7857e-04 - val_loss: 0.0066\n",
            "Epoch 79/300\n",
            "\u001b[1m281/281\u001b[0m \u001b[32m━━━━━━━━━━━━━━━━━━━━\u001b[0m\u001b[37m\u001b[0m \u001b[1m4s\u001b[0m 13ms/step - loss: 5.0204e-04 - val_loss: 0.0020\n",
            "Epoch 80/300\n",
            "\u001b[1m281/281\u001b[0m \u001b[32m━━━━━━━━━━━━━━━━━━━━\u001b[0m\u001b[37m\u001b[0m \u001b[1m4s\u001b[0m 13ms/step - loss: 5.9735e-04 - val_loss: 0.0039\n",
            "Epoch 81/300\n",
            "\u001b[1m281/281\u001b[0m \u001b[32m━━━━━━━━━━━━━━━━━━━━\u001b[0m\u001b[37m\u001b[0m \u001b[1m4s\u001b[0m 13ms/step - loss: 3.9267e-04 - val_loss: 0.0036\n",
            "Epoch 82/300\n",
            "\u001b[1m281/281\u001b[0m \u001b[32m━━━━━━━━━━━━━━━━━━━━\u001b[0m\u001b[37m\u001b[0m \u001b[1m4s\u001b[0m 13ms/step - loss: 5.1388e-04 - val_loss: 0.0039\n",
            "Epoch 83/300\n",
            "\u001b[1m281/281\u001b[0m \u001b[32m━━━━━━━━━━━━━━━━━━━━\u001b[0m\u001b[37m\u001b[0m \u001b[1m4s\u001b[0m 14ms/step - loss: 3.9362e-04 - val_loss: 0.0056\n",
            "Epoch 84/300\n",
            "\u001b[1m281/281\u001b[0m \u001b[32m━━━━━━━━━━━━━━━━━━━━\u001b[0m\u001b[37m\u001b[0m \u001b[1m4s\u001b[0m 13ms/step - loss: 3.9331e-04 - val_loss: 0.0048\n",
            "Epoch 85/300\n",
            "\u001b[1m281/281\u001b[0m \u001b[32m━━━━━━━━━━━━━━━━━━━━\u001b[0m\u001b[37m\u001b[0m \u001b[1m4s\u001b[0m 13ms/step - loss: 3.7889e-04 - val_loss: 0.0022\n",
            "Epoch 86/300\n",
            "\u001b[1m281/281\u001b[0m \u001b[32m━━━━━━━━━━━━━━━━━━━━\u001b[0m\u001b[37m\u001b[0m \u001b[1m4s\u001b[0m 13ms/step - loss: 4.4722e-04 - val_loss: 0.0045\n",
            "Epoch 87/300\n",
            "\u001b[1m281/281\u001b[0m \u001b[32m━━━━━━━━━━━━━━━━━━━━\u001b[0m\u001b[37m\u001b[0m \u001b[1m5s\u001b[0m 13ms/step - loss: 3.6422e-04 - val_loss: 0.0050\n",
            "Epoch 88/300\n",
            "\u001b[1m281/281\u001b[0m \u001b[32m━━━━━━━━━━━━━━━━━━━━\u001b[0m\u001b[37m\u001b[0m \u001b[1m4s\u001b[0m 13ms/step - loss: 4.1874e-04 - val_loss: 0.0042\n",
            "Epoch 89/300\n",
            "\u001b[1m281/281\u001b[0m \u001b[32m━━━━━━━━━━━━━━━━━━━━\u001b[0m\u001b[37m\u001b[0m \u001b[1m3s\u001b[0m 12ms/step - loss: 3.7429e-04 - val_loss: 0.0034\n",
            "Epoch 90/300\n",
            "\u001b[1m281/281\u001b[0m \u001b[32m━━━━━━━━━━━━━━━━━━━━\u001b[0m\u001b[37m\u001b[0m \u001b[1m4s\u001b[0m 13ms/step - loss: 4.3477e-04 - val_loss: 0.0028\n",
            "Epoch 91/300\n",
            "\u001b[1m281/281\u001b[0m \u001b[32m━━━━━━━━━━━━━━━━━━━━\u001b[0m\u001b[37m\u001b[0m \u001b[1m4s\u001b[0m 13ms/step - loss: 3.6459e-04 - val_loss: 0.0031\n",
            "Epoch 92/300\n",
            "\u001b[1m281/281\u001b[0m \u001b[32m━━━━━━━━━━━━━━━━━━━━\u001b[0m\u001b[37m\u001b[0m \u001b[1m3s\u001b[0m 12ms/step - loss: 3.4049e-04 - val_loss: 0.0025\n",
            "Epoch 93/300\n",
            "\u001b[1m281/281\u001b[0m \u001b[32m━━━━━━━━━━━━━━━━━━━━\u001b[0m\u001b[37m\u001b[0m \u001b[1m3s\u001b[0m 12ms/step - loss: 3.6229e-04 - val_loss: 0.0032\n",
            "Epoch 94/300\n",
            "\u001b[1m281/281\u001b[0m \u001b[32m━━━━━━━━━━━━━━━━━━━━\u001b[0m\u001b[37m\u001b[0m \u001b[1m4s\u001b[0m 13ms/step - loss: 3.8281e-04 - val_loss: 0.0034\n",
            "Epoch 95/300\n",
            "\u001b[1m281/281\u001b[0m \u001b[32m━━━━━━━━━━━━━━━━━━━━\u001b[0m\u001b[37m\u001b[0m \u001b[1m3s\u001b[0m 12ms/step - loss: 3.4031e-04 - val_loss: 0.0031\n",
            "Epoch 96/300\n",
            "\u001b[1m281/281\u001b[0m \u001b[32m━━━━━━━━━━━━━━━━━━━━\u001b[0m\u001b[37m\u001b[0m \u001b[1m4s\u001b[0m 13ms/step - loss: 3.2231e-04 - val_loss: 0.0034\n",
            "Epoch 97/300\n",
            "\u001b[1m281/281\u001b[0m \u001b[32m━━━━━━━━━━━━━━━━━━━━\u001b[0m\u001b[37m\u001b[0m \u001b[1m4s\u001b[0m 13ms/step - loss: 3.3551e-04 - val_loss: 0.0028\n",
            "Epoch 98/300\n",
            "\u001b[1m281/281\u001b[0m \u001b[32m━━━━━━━━━━━━━━━━━━━━\u001b[0m\u001b[37m\u001b[0m \u001b[1m4s\u001b[0m 13ms/step - loss: 3.2045e-04 - val_loss: 0.0034\n",
            "Epoch 99/300\n",
            "\u001b[1m281/281\u001b[0m \u001b[32m━━━━━━━━━━━━━━━━━━━━\u001b[0m\u001b[37m\u001b[0m \u001b[1m4s\u001b[0m 13ms/step - loss: 3.1477e-04 - val_loss: 0.0038\n",
            "Minimum validation loss: 0.00204047211445868\n"
          ]
        },
        {
          "output_type": "display_data",
          "data": {
            "text/plain": [
              "<Figure size 432x288 with 1 Axes>"
            ],
            "image/png": "[encoded data removed]"
          },
          "metadata": {
            "needs_background": "light"
          }
        }
      ]
    },
    {
      "cell_type": "code",
      "source": [
        "#--- N=res runs ---\n",
        "history = model.fit(\n",
        "    X_train, y_train,\n",
        "    validation_data=(X_test, y_test),\n",
        "    batch_size=100,\n",
        "    epochs=300,\n",
        "    callbacks=[early_stopping], # put your callbacks in a list\n",
        "    verbose=1,  # turn off training log\n",
        "    shuffle=False\n",
        ")\n",
        "\n",
        "history_df = pd.DataFrame(history.history)\n",
        "history_df.loc[:, ['loss', 'val_loss']].plot();\n",
        "print(\"Minimum validation loss: {}\".format(history_df['val_loss'].min()))"
      ],
      "metadata": {
        "id": "uONc0KKHD9vn",
        "colab": {
          "base_uri": "https://localhost:8080/",
          "height": 1000
        },
        "outputId": "c84b6879-90e0-4a9e-b6a0-1e56fa5b2c98"
      },
      "execution_count": null,
      "outputs": [
        {
          "output_type": "stream",
          "name": "stdout",
          "text": [
            "Epoch 1/300\n"
          ]
        },
        {
          "output_type": "stream",
          "name": "stderr",
          "text": [
            "WARNING: All log messages before absl::InitializeLog() is called are written to STDERR\n",
            "I0000 00:00:1727215296.095055  104124 service.cc:145] XLA service 0x7fc368003bc0 initialized for platform CUDA (this does not guarantee that XLA will be used). Devices:\n",
            "I0000 00:00:1727215296.095093  104124 service.cc:153]   StreamExecutor device (0): NVIDIA GeForce RTX 2060 SUPER, Compute Capability 7.5\n",
            "2024-09-24 19:01:36.190731: I tensorflow/compiler/mlir/tensorflow/utils/dump_mlir_util.cc:268] disabling MLIR crash reproducer, set env var `MLIR_CRASH_REPRODUCER_DIRECTORY` to enable.\n",
            "2024-09-24 19:01:36.454326: I external/local_xla/xla/stream_executor/cuda/cuda_dnn.cc:465] Loaded cuDNN version 8907\n"
          ]
        },
        {
          "output_type": "stream",
          "name": "stdout",
          "text": [
            "\u001b[1m12/71\u001b[0m \u001b[32m━━━\u001b[0m\u001b[37m━━━━━━━━━━━━━━━━━\u001b[0m \u001b[1m0s\u001b[0m 15ms/step - loss: 9.2517 "
          ]
        },
        {
          "output_type": "stream",
          "name": "stderr",
          "text": [
            "I0000 00:00:1727215298.681146  104124 device_compiler.h:188] Compiled cluster using XLA!  This line is logged at most once for the lifetime of the process.\n"
          ]
        },
        {
          "output_type": "stream",
          "name": "stdout",
          "text": [
            "\u001b[1m71/71\u001b[0m \u001b[32m━━━━━━━━━━━━━━━━━━━━\u001b[0m\u001b[37m\u001b[0m \u001b[1m8s\u001b[0m 49ms/step - loss: 3.5254 - val_loss: 0.1320\n",
            "Epoch 2/300\n",
            "\u001b[1m71/71\u001b[0m \u001b[32m━━━━━━━━━━━━━━━━━━━━\u001b[0m\u001b[37m\u001b[0m \u001b[1m1s\u001b[0m 14ms/step - loss: 0.0537 - val_loss: 0.0763\n",
            "Epoch 3/300\n",
            "\u001b[1m71/71\u001b[0m \u001b[32m━━━━━━━━━━━━━━━━━━━━\u001b[0m\u001b[37m\u001b[0m \u001b[1m1s\u001b[0m 13ms/step - loss: 0.0326 - val_loss: 0.0775\n",
            "Epoch 4/300\n",
            "\u001b[1m71/71\u001b[0m \u001b[32m━━━━━━━━━━━━━━━━━━━━\u001b[0m\u001b[37m\u001b[0m \u001b[1m1s\u001b[0m 14ms/step - loss: 0.0311 - val_loss: 0.0560\n",
            "Epoch 5/300\n",
            "\u001b[1m71/71\u001b[0m \u001b[32m━━━━━━━━━━━━━━━━━━━━\u001b[0m\u001b[37m\u001b[0m \u001b[1m1s\u001b[0m 14ms/step - loss: 0.0259 - val_loss: 0.0418\n",
            "Epoch 6/300\n",
            "\u001b[1m71/71\u001b[0m \u001b[32m━━━━━━━━━━━━━━━━━━━━\u001b[0m\u001b[37m\u001b[0m \u001b[1m1s\u001b[0m 14ms/step - loss: 0.0202 - val_loss: 0.0315\n",
            "Epoch 7/300\n",
            "\u001b[1m71/71\u001b[0m \u001b[32m━━━━━━━━━━━━━━━━━━━━\u001b[0m\u001b[37m\u001b[0m \u001b[1m1s\u001b[0m 15ms/step - loss: 0.0180 - val_loss: 0.0186\n",
            "Epoch 8/300\n",
            "\u001b[1m71/71\u001b[0m \u001b[32m━━━━━━━━━━━━━━━━━━━━\u001b[0m\u001b[37m\u001b[0m \u001b[1m1s\u001b[0m 14ms/step - loss: 0.0144 - val_loss: 0.0193\n",
            "Epoch 9/300\n",
            "\u001b[1m71/71\u001b[0m \u001b[32m━━━━━━━━━━━━━━━━━━━━\u001b[0m\u001b[37m\u001b[0m \u001b[1m1s\u001b[0m 14ms/step - loss: 0.0144 - val_loss: 0.0199\n",
            "Epoch 10/300\n",
            "\u001b[1m71/71\u001b[0m \u001b[32m━━━━━━━━━━━━━━━━━━━━\u001b[0m\u001b[37m\u001b[0m \u001b[1m1s\u001b[0m 14ms/step - loss: 0.0143 - val_loss: 0.0205\n",
            "Epoch 11/300\n",
            "\u001b[1m71/71\u001b[0m \u001b[32m━━━━━━━━━━━━━━━━━━━━\u001b[0m\u001b[37m\u001b[0m \u001b[1m1s\u001b[0m 14ms/step - loss: 0.0142 - val_loss: 0.0157\n",
            "Epoch 12/300\n",
            "\u001b[1m71/71\u001b[0m \u001b[32m━━━━━━━━━━━━━━━━━━━━\u001b[0m\u001b[37m\u001b[0m \u001b[1m1s\u001b[0m 14ms/step - loss: 0.0132 - val_loss: 0.0166\n",
            "Epoch 13/300\n",
            "\u001b[1m71/71\u001b[0m \u001b[32m━━━━━━━━━━━━━━━━━━━━\u001b[0m\u001b[37m\u001b[0m \u001b[1m1s\u001b[0m 14ms/step - loss: 0.0124 - val_loss: 0.0125\n",
            "Epoch 14/300\n",
            "\u001b[1m71/71\u001b[0m \u001b[32m━━━━━━━━━━━━━━━━━━━━\u001b[0m\u001b[37m\u001b[0m \u001b[1m1s\u001b[0m 14ms/step - loss: 0.0113 - val_loss: 0.0112\n",
            "Epoch 15/300\n",
            "\u001b[1m71/71\u001b[0m \u001b[32m━━━━━━━━━━━━━━━━━━━━\u001b[0m\u001b[37m\u001b[0m \u001b[1m1s\u001b[0m 14ms/step - loss: 0.0104 - val_loss: 0.0101\n",
            "Epoch 16/300\n",
            "\u001b[1m71/71\u001b[0m \u001b[32m━━━━━━━━━━━━━━━━━━━━\u001b[0m\u001b[37m\u001b[0m \u001b[1m1s\u001b[0m 14ms/step - loss: 0.0095 - val_loss: 0.0092\n",
            "Epoch 17/300\n",
            "\u001b[1m71/71\u001b[0m \u001b[32m━━━━━━━━━━━━━━━━━━━━\u001b[0m\u001b[37m\u001b[0m \u001b[1m1s\u001b[0m 14ms/step - loss: 0.0089 - val_loss: 0.0088\n",
            "Epoch 18/300\n",
            "\u001b[1m71/71\u001b[0m \u001b[32m━━━━━━━━━━━━━━━━━━━━\u001b[0m\u001b[37m\u001b[0m \u001b[1m1s\u001b[0m 14ms/step - loss: 0.0084 - val_loss: 0.0086\n",
            "Epoch 19/300\n",
            "\u001b[1m71/71\u001b[0m \u001b[32m━━━━━━━━━━━━━━━━━━━━\u001b[0m\u001b[37m\u001b[0m \u001b[1m1s\u001b[0m 14ms/step - loss: 0.0079 - val_loss: 0.0085\n",
            "Epoch 20/300\n",
            "\u001b[1m71/71\u001b[0m \u001b[32m━━━━━━━━━━━━━━━━━━━━\u001b[0m\u001b[37m\u001b[0m \u001b[1m1s\u001b[0m 14ms/step - loss: 0.0075 - val_loss: 0.0078\n",
            "Epoch 21/300\n",
            "\u001b[1m71/71\u001b[0m \u001b[32m━━━━━━━━━━━━━━━━━━━━\u001b[0m\u001b[37m\u001b[0m \u001b[1m1s\u001b[0m 14ms/step - loss: 0.0071 - val_loss: 0.0074\n",
            "Epoch 22/300\n",
            "\u001b[1m71/71\u001b[0m \u001b[32m━━━━━━━━━━━━━━━━━━━━\u001b[0m\u001b[37m\u001b[0m \u001b[1m1s\u001b[0m 15ms/step - loss: 0.0067 - val_loss: 0.0070\n",
            "Epoch 23/300\n",
            "\u001b[1m71/71\u001b[0m \u001b[32m━━━━━━━━━━━━━━━━━━━━\u001b[0m\u001b[37m\u001b[0m \u001b[1m1s\u001b[0m 15ms/step - loss: 0.0063 - val_loss: 0.0067\n",
            "Epoch 24/300\n",
            "\u001b[1m71/71\u001b[0m \u001b[32m━━━━━━━━━━━━━━━━━━━━\u001b[0m\u001b[37m\u001b[0m \u001b[1m1s\u001b[0m 14ms/step - loss: 0.0057 - val_loss: 0.0064\n",
            "Epoch 25/300\n",
            "\u001b[1m71/71\u001b[0m \u001b[32m━━━━━━━━━━━━━━━━━━━━\u001b[0m\u001b[37m\u001b[0m \u001b[1m1s\u001b[0m 15ms/step - loss: 0.0055 - val_loss: 0.0067\n",
            "Epoch 26/300\n",
            "\u001b[1m71/71\u001b[0m \u001b[32m━━━━━━━━━━━━━━━━━━━━\u001b[0m\u001b[37m\u001b[0m \u001b[1m1s\u001b[0m 14ms/step - loss: 0.0052 - val_loss: 0.0067\n",
            "Epoch 27/300\n",
            "\u001b[1m71/71\u001b[0m \u001b[32m━━━━━━━━━━━━━━━━━━━━\u001b[0m\u001b[37m\u001b[0m \u001b[1m1s\u001b[0m 14ms/step - loss: 0.0050 - val_loss: 0.0064\n",
            "Epoch 28/300\n",
            "\u001b[1m71/71\u001b[0m \u001b[32m━━━━━━━━━━━━━━━━━━━━\u001b[0m\u001b[37m\u001b[0m \u001b[1m1s\u001b[0m 14ms/step - loss: 0.0048 - val_loss: 0.0082\n",
            "Epoch 29/300\n",
            "\u001b[1m71/71\u001b[0m \u001b[32m━━━━━━━━━━━━━━━━━━━━\u001b[0m\u001b[37m\u001b[0m \u001b[1m1s\u001b[0m 14ms/step - loss: 0.0049 - val_loss: 0.0068\n",
            "Epoch 30/300\n",
            "\u001b[1m71/71\u001b[0m \u001b[32m━━━━━━━━━━━━━━━━━━━━\u001b[0m\u001b[37m\u001b[0m \u001b[1m1s\u001b[0m 14ms/step - loss: 0.0046 - val_loss: 0.0058\n",
            "Epoch 31/300\n",
            "\u001b[1m71/71\u001b[0m \u001b[32m━━━━━━━━━━━━━━━━━━━━\u001b[0m\u001b[37m\u001b[0m \u001b[1m1s\u001b[0m 14ms/step - loss: 0.0043 - val_loss: 0.0083\n",
            "Epoch 32/300\n",
            "\u001b[1m71/71\u001b[0m \u001b[32m━━━━━━━━━━━━━━━━━━━━\u001b[0m\u001b[37m\u001b[0m \u001b[1m1s\u001b[0m 14ms/step - loss: 0.0045 - val_loss: 0.0048\n",
            "Epoch 33/300\n",
            "\u001b[1m71/71\u001b[0m \u001b[32m━━━━━━━━━━━━━━━━━━━━\u001b[0m\u001b[37m\u001b[0m \u001b[1m1s\u001b[0m 14ms/step - loss: 0.0041 - val_loss: 0.0204\n",
            "Epoch 34/300\n",
            "\u001b[1m71/71\u001b[0m \u001b[32m━━━━━━━━━━━━━━━━━━━━\u001b[0m\u001b[37m\u001b[0m \u001b[1m1s\u001b[0m 14ms/step - loss: 0.0068 - val_loss: 0.0047\n",
            "Epoch 35/300\n",
            "\u001b[1m71/71\u001b[0m \u001b[32m━━━━━━━━━━━━━━━━━━━━\u001b[0m\u001b[37m\u001b[0m \u001b[1m1s\u001b[0m 15ms/step - loss: 0.0038 - val_loss: 0.0043\n",
            "Epoch 36/300\n",
            "\u001b[1m71/71\u001b[0m \u001b[32m━━━━━━━━━━━━━━━━━━━━\u001b[0m\u001b[37m\u001b[0m \u001b[1m1s\u001b[0m 16ms/step - loss: 0.0034 - val_loss: 0.0069\n",
            "Epoch 37/300\n",
            "\u001b[1m71/71\u001b[0m \u001b[32m━━━━━━━━━━━━━━━━━━━━\u001b[0m\u001b[37m\u001b[0m \u001b[1m1s\u001b[0m 14ms/step - loss: 0.0035 - val_loss: 0.0039\n",
            "Epoch 38/300\n",
            "\u001b[1m71/71\u001b[0m \u001b[32m━━━━━━━━━━━━━━━━━━━━\u001b[0m\u001b[37m\u001b[0m \u001b[1m1s\u001b[0m 14ms/step - loss: 0.0033 - val_loss: 0.0121\n",
            "Epoch 39/300\n",
            "\u001b[1m71/71\u001b[0m \u001b[32m━━━━━━━━━━━━━━━━━━━━\u001b[0m\u001b[37m\u001b[0m \u001b[1m1s\u001b[0m 15ms/step - loss: 0.0043 - val_loss: 0.0048\n",
            "Epoch 40/300\n",
            "\u001b[1m71/71\u001b[0m \u001b[32m━━━━━━━━━━━━━━━━━━━━\u001b[0m\u001b[37m\u001b[0m \u001b[1m1s\u001b[0m 15ms/step - loss: 0.0036 - val_loss: 0.0146\n",
            "Epoch 41/300\n",
            "\u001b[1m71/71\u001b[0m \u001b[32m━━━━━━━━━━━━━━━━━━━━\u001b[0m\u001b[37m\u001b[0m \u001b[1m1s\u001b[0m 14ms/step - loss: 0.0047 - val_loss: 0.0046\n",
            "Epoch 42/300\n",
            "\u001b[1m71/71\u001b[0m \u001b[32m━━━━━━━━━━━━━━━━━━━━\u001b[0m\u001b[37m\u001b[0m \u001b[1m1s\u001b[0m 14ms/step - loss: 0.0035 - val_loss: 0.0199\n",
            "Epoch 43/300\n",
            "\u001b[1m71/71\u001b[0m \u001b[32m━━━━━━━━━━━━━━━━━━━━\u001b[0m\u001b[37m\u001b[0m \u001b[1m1s\u001b[0m 14ms/step - loss: 0.0056 - val_loss: 0.0042\n",
            "Epoch 44/300\n",
            "\u001b[1m71/71\u001b[0m \u001b[32m━━━━━━━━━━━━━━━━━━━━\u001b[0m\u001b[37m\u001b[0m \u001b[1m1s\u001b[0m 14ms/step - loss: 0.0032 - val_loss: 0.0376\n",
            "Epoch 45/300\n",
            "\u001b[1m71/71\u001b[0m \u001b[32m━━━━━━━━━━━━━━━━━━━━\u001b[0m\u001b[37m\u001b[0m \u001b[1m1s\u001b[0m 14ms/step - loss: 0.0094 - val_loss: 0.0045\n",
            "Epoch 46/300\n",
            "\u001b[1m71/71\u001b[0m \u001b[32m━━━━━━━━━━━━━━━━━━━━\u001b[0m\u001b[37m\u001b[0m \u001b[1m1s\u001b[0m 14ms/step - loss: 0.0026 - val_loss: 0.0179\n",
            "Epoch 47/300\n",
            "\u001b[1m71/71\u001b[0m \u001b[32m━━━━━━━━━━━━━━━━━━━━\u001b[0m\u001b[37m\u001b[0m \u001b[1m1s\u001b[0m 14ms/step - loss: 0.0054 - val_loss: 0.0097\n",
            "Epoch 48/300\n",
            "\u001b[1m71/71\u001b[0m \u001b[32m━━━━━━━━━━━━━━━━━━━━\u001b[0m\u001b[37m\u001b[0m \u001b[1m1s\u001b[0m 15ms/step - loss: 0.0037 - val_loss: 0.0107\n",
            "Epoch 49/300\n",
            "\u001b[1m71/71\u001b[0m \u001b[32m━━━━━━━━━━━━━━━━━━━━\u001b[0m\u001b[37m\u001b[0m \u001b[1m1s\u001b[0m 15ms/step - loss: 0.0039 - val_loss: 0.0064\n",
            "Epoch 50/300\n",
            "\u001b[1m71/71\u001b[0m \u001b[32m━━━━━━━━━━━━━━━━━━━━\u001b[0m\u001b[37m\u001b[0m \u001b[1m1s\u001b[0m 14ms/step - loss: 0.0032 - val_loss: 0.0039\n",
            "Epoch 51/300\n",
            "\u001b[1m71/71\u001b[0m \u001b[32m━━━━━━━━━━━━━━━━━━━━\u001b[0m\u001b[37m\u001b[0m \u001b[1m1s\u001b[0m 14ms/step - loss: 0.0029 - val_loss: 0.0113\n",
            "Epoch 52/300\n",
            "\u001b[1m71/71\u001b[0m \u001b[32m━━━━━━━━━━━━━━━━━━━━\u001b[0m\u001b[37m\u001b[0m \u001b[1m1s\u001b[0m 14ms/step - loss: 0.0039 - val_loss: 0.0043\n",
            "Minimum validation loss: 0.0039029086474329233\n"
          ]
        },
        {
          "output_type": "display_data",
          "data": {
            "text/plain": [
              "<Figure size 432x288 with 1 Axes>"
            ],
            "image/png": "[encoded data removed]"
          },
          "metadata": {
            "needs_background": "light"
          }
        }
      ]
    },
    {
      "cell_type": "markdown",
      "source": [
        "##Testing"
      ],
      "metadata": {
        "id": "R_QvWWoNS4Ot"
      }
    },
    {
      "cell_type": "code",
      "source": [
        "#Read in pngs:\n",
        "data_path = '/your/path/'\n",
        "test_pngs = glob.glob(data_path + 'test/sample*png')\n",
        "\n",
        "test_ims = {}\n",
        "\n",
        "for png in test_pngs:\n",
        "  test_ims[png]=np.array(PIL.Image.open(png).convert('L'))\n",
        "\n",
        "\n",
        "#Prepare test questions and solutions as before:\n",
        "test_questions = np.array([each for each in test_ims.values()]).astype(np.float32)\n",
        "test_solutions = np.array([float(each.split('_')[-1].split('.')[0])/(1e16)\n",
        "                            for each in test_ims]).astype(np.float32)\n",
        "\n",
        "#Apply model:\n",
        "test_answers = model.predict(test_questions)"
      ],
      "metadata": {
        "id": "0ZtS85QVsWo-",
        "colab": {
          "base_uri": "https://localhost:8080/"
        },
        "outputId": "0b06a0ce-e0b3-4690-edeb-66618f1320b9"
      },
      "execution_count": null,
      "outputs": [
        {
          "output_type": "stream",
          "name": "stdout",
          "text": [
            "\u001b[1m32/32\u001b[0m \u001b[32m━━━━━━━━━━━━━━━━━━━━\u001b[0m\u001b[37m\u001b[0m \u001b[1m1s\u001b[0m 13ms/step\n"
          ]
        }
      ]
    },
    {
      "cell_type": "markdown",
      "source": [
        "# Neural net training: classification"
      ],
      "metadata": {
        "id": "evdCpM-msVZm"
      }
    },
    {
      "cell_type": "markdown",
      "source": [
        "##Architecture"
      ],
      "metadata": {
        "id": "HuDc_fTfsVZ3"
      }
    },
    {
      "cell_type": "code",
      "source": [
        "model = keras.Sequential([\n",
        "  keras.layers.Conv2D(3, 3),\n",
        "  keras.layers.Conv2D(3, 3),\n",
        "  keras.layers.Activation('relu'),\n",
        "  #keras.layers.MaxPooling2D(2),\n",
        "  keras.layers.AveragePooling2D(2),\n",
        "  keras.layers.Dropout(0.2),\n",
        "  keras.layers.Conv2D(3, 3),\n",
        "  keras.layers.Conv2D(3, 3),\n",
        "  keras.layers.Activation('relu'),\n",
        "  #keras.layers.MaxPooling2D(2),\n",
        "  keras.layers.AveragePooling2D(2),\n",
        "  keras.layers.Dropout(0.2),\n",
        "  keras.layers.Conv2D(3, 3),\n",
        "  keras.layers.Conv2D(3, 3),\n",
        "  keras.layers.Activation('relu'),\n",
        "  #keras.layers.MaxPooling2D(2),\n",
        "  keras.layers.AveragePooling2D(2),\n",
        "  keras.layers.Dropout(0.2),\n",
        "  keras.layers.Flatten(),\n",
        "  keras.layers.Dense(units=1024, activation='relu'),\n",
        "  keras.layers.Dense(units=512, activation='relu'),\n",
        "  keras.layers.Dense(units=256, activation='relu'),\n",
        "  keras.layers.Dense(units=128, activation='relu'),\n",
        "  keras.layers.Dense(units=64, activation='relu'),\n",
        "  keras.layers.Dense(units=6, activation='softmax')\n",
        "])\n",
        "\n",
        "model.compile(loss='CategoricalCrossentropy', optimizer=\"adam\", metrics=['accuracy'])"
      ],
      "metadata": {
        "id": "CowlWhB-t9HB",
        "colab": {
          "base_uri": "https://localhost:8080/"
        },
        "outputId": "bf648199-7e13-42df-b500-1ff766a26b22"
      },
      "execution_count": null,
      "outputs": [
        {
          "output_type": "stream",
          "name": "stderr",
          "text": [
            "2024-10-04 11:34:31.428363: I external/local_xla/xla/stream_executor/cuda/cuda_executor.cc:998] successful NUMA node read from SysFS had negative value (-1), but there must be at least one NUMA node, so returning NUMA node zero. See more at https://github.com/torvalds/linux/blob/v6.0/Documentation/ABI/testing/sysfs-bus-pci#L344-L355\n",
            "2024-10-04 11:34:31.463470: I external/local_xla/xla/stream_executor/cuda/cuda_executor.cc:998] successful NUMA node read from SysFS had negative value (-1), but there must be at least one NUMA node, so returning NUMA node zero. See more at https://github.com/torvalds/linux/blob/v6.0/Documentation/ABI/testing/sysfs-bus-pci#L344-L355\n",
            "2024-10-04 11:34:31.463717: I external/local_xla/xla/stream_executor/cuda/cuda_executor.cc:998] successful NUMA node read from SysFS had negative value (-1), but there must be at least one NUMA node, so returning NUMA node zero. See more at https://github.com/torvalds/linux/blob/v6.0/Documentation/ABI/testing/sysfs-bus-pci#L344-L355\n",
            "2024-10-04 11:34:31.464775: I external/local_xla/xla/stream_executor/cuda/cuda_executor.cc:998] successful NUMA node read from SysFS had negative value (-1), but there must be at least one NUMA node, so returning NUMA node zero. See more at https://github.com/torvalds/linux/blob/v6.0/Documentation/ABI/testing/sysfs-bus-pci#L344-L355\n",
            "2024-10-04 11:34:31.464986: I external/local_xla/xla/stream_executor/cuda/cuda_executor.cc:998] successful NUMA node read from SysFS had negative value (-1), but there must be at least one NUMA node, so returning NUMA node zero. See more at https://github.com/torvalds/linux/blob/v6.0/Documentation/ABI/testing/sysfs-bus-pci#L344-L355\n",
            "2024-10-04 11:34:31.465182: I external/local_xla/xla/stream_executor/cuda/cuda_executor.cc:998] successful NUMA node read from SysFS had negative value (-1), but there must be at least one NUMA node, so returning NUMA node zero. See more at https://github.com/torvalds/linux/blob/v6.0/Documentation/ABI/testing/sysfs-bus-pci#L344-L355\n",
            "2024-10-04 11:34:31.561068: I external/local_xla/xla/stream_executor/cuda/cuda_executor.cc:998] successful NUMA node read from SysFS had negative value (-1), but there must be at least one NUMA node, so returning NUMA node zero. See more at https://github.com/torvalds/linux/blob/v6.0/Documentation/ABI/testing/sysfs-bus-pci#L344-L355\n",
            "2024-10-04 11:34:31.561298: I external/local_xla/xla/stream_executor/cuda/cuda_executor.cc:998] successful NUMA node read from SysFS had negative value (-1), but there must be at least one NUMA node, so returning NUMA node zero. See more at https://github.com/torvalds/linux/blob/v6.0/Documentation/ABI/testing/sysfs-bus-pci#L344-L355\n",
            "2024-10-04 11:34:31.561503: I external/local_xla/xla/stream_executor/cuda/cuda_executor.cc:998] successful NUMA node read from SysFS had negative value (-1), but there must be at least one NUMA node, so returning NUMA node zero. See more at https://github.com/torvalds/linux/blob/v6.0/Documentation/ABI/testing/sysfs-bus-pci#L344-L355\n",
            "2024-10-04 11:34:31.561667: I tensorflow/core/common_runtime/gpu/gpu_device.cc:1928] Created device /job:localhost/replica:0/task:0/device:GPU:0 with 6186 MB memory:  -> device: 0, name: NVIDIA GeForce RTX 2060 SUPER, pci bus id: 0000:07:00.0, compute capability: 7.5\n"
          ]
        }
      ]
    },
    {
      "cell_type": "markdown",
      "source": [
        "## Training"
      ],
      "metadata": {
        "id": "xi0ap029sVZ3"
      }
    },
    {
      "cell_type": "code",
      "source": [
        "#Read all pngs from the train set\n",
        "data_path = '/your/path/'\n",
        "pngs = glob.glob(data_path + 'IC=0.*/sample*png')\n",
        "\n",
        "ims = {}\n",
        "for png in pngs:\n",
        "    ims[png]=np.array(PIL.Image.open(png).convert('L'))"
      ],
      "metadata": {
        "id": "7eA0kwAwsVZ3"
      },
      "execution_count": null,
      "outputs": []
    },
    {
      "cell_type": "code",
      "source": [
        "#Questions = images\n",
        "#Solutions = a parameter that generated that image\n",
        "\n",
        "questions = np.array([each for each in ims.values()]).astype(np.float32)\n",
        "solutions_swp = np.array([float(each.split('_')[-1].split('.')[0])/(1e16)\n",
        "                            for each in ims]).astype(np.float32)\n",
        "\n",
        "solutions = []\n",
        "for n in solutions_swp:\n",
        "  solutions.append(parameter_stratification(n))"
      ],
      "metadata": {
        "id": "SdjHTMxwsVZ3"
      },
      "execution_count": null,
      "outputs": []
    },
    {
      "cell_type": "code",
      "source": [
        "N_size = 100\n",
        "\n",
        "#Train/test split (gnuplot data):\n",
        "X_train, X_test, y_train, y_test = train_test_split(questions, solutions, test_size=0.3, random_state=42)\n",
        "\n",
        "X_train = X_train.reshape(-1, N_size, N_size, 1)\n",
        "X_test = X_test.reshape(-1, N_size, N_size, 1)"
      ],
      "metadata": {
        "id": "2XvRMSnUKeVl"
      },
      "execution_count": null,
      "outputs": []
    },
    {
      "cell_type": "code",
      "source": [
        "# Get one hot encoding\n",
        "y_train = keras.utils.to_categorical(y_train)\n",
        "y_test = keras.utils.to_categorical(y_test)"
      ],
      "metadata": {
        "id": "0ffXyTQ0osl3"
      },
      "execution_count": null,
      "outputs": []
    },
    {
      "cell_type": "code",
      "source": [
        "early_stopping = callbacks.EarlyStopping(\n",
        "    min_delta=0.001, # minimium amount of change to count as an improvement\n",
        "    patience=20, # how many epochs to wait before stopping\n",
        "    restore_best_weights=True,\n",
        ")"
      ],
      "metadata": {
        "id": "co1Gz5I8sVZ3"
      },
      "execution_count": null,
      "outputs": []
    },
    {
      "cell_type": "code",
      "source": [
        "#Complete region\n",
        "history = model.fit(\n",
        "    X_train, y_train,\n",
        "    validation_data=(X_test, y_test),\n",
        "    batch_size=100,\n",
        "    epochs=300,\n",
        "    callbacks=[early_stopping], # put your callbacks in a list\n",
        "    verbose=1,  # turn off training log\n",
        "    shuffle=False\n",
        ")\n",
        "\n",
        "history_df = pd.DataFrame(history.history)\n",
        "history_df.loc[:, ['loss', 'val_loss']].plot();\n",
        "print(\"Minimum validation loss: {}\".format(history_df['val_loss'].min()))"
      ],
      "metadata": {
        "id": "VapuFf4mKSru",
        "colab": {
          "base_uri": "https://localhost:8080/",
          "height": 1000
        },
        "outputId": "01e7cec5-4787-43a6-dae6-83ec54ab5379"
      },
      "execution_count": null,
      "outputs": [
        {
          "output_type": "stream",
          "name": "stdout",
          "text": [
            "Epoch 1/300\n"
          ]
        },
        {
          "output_type": "stream",
          "name": "stderr",
          "text": [
            "WARNING: All log messages before absl::InitializeLog() is called are written to STDERR\n",
            "I0000 00:00:1728049939.484501   31428 service.cc:145] XLA service 0x7f3678005820 initialized for platform CUDA (this does not guarantee that XLA will be used). Devices:\n",
            "I0000 00:00:1728049939.484535   31428 service.cc:153]   StreamExecutor device (0): NVIDIA GeForce RTX 2060 SUPER, Compute Capability 7.5\n",
            "2024-10-04 10:52:19.552827: I tensorflow/compiler/mlir/tensorflow/utils/dump_mlir_util.cc:268] disabling MLIR crash reproducer, set env var `MLIR_CRASH_REPRODUCER_DIRECTORY` to enable.\n",
            "2024-10-04 10:52:19.850796: I external/local_xla/xla/stream_executor/cuda/cuda_dnn.cc:465] Loaded cuDNN version 8907\n"
          ]
        },
        {
          "output_type": "stream",
          "name": "stdout",
          "text": [
            "\u001b[1m  8/281\u001b[0m \u001b[37m━━━━━━━━━━━━━━━━━━━━\u001b[0m \u001b[1m4s\u001b[0m 17ms/step - accuracy: 0.3709 - loss: 1.5120"
          ]
        },
        {
          "output_type": "stream",
          "name": "stderr",
          "text": [
            "I0000 00:00:1728049945.128615   31428 device_compiler.h:188] Compiled cluster using XLA!  This line is logged at most once for the lifetime of the process.\n"
          ]
        },
        {
          "output_type": "stream",
          "name": "stdout",
          "text": [
            "\u001b[1m281/281\u001b[0m \u001b[32m━━━━━━━━━━━━━━━━━━━━\u001b[0m\u001b[37m\u001b[0m \u001b[1m17s\u001b[0m 33ms/step - accuracy: 0.7865 - loss: 0.4703 - val_accuracy: 0.9267 - val_loss: 0.1869\n",
            "Epoch 2/300\n",
            "\u001b[1m281/281\u001b[0m \u001b[32m━━━━━━━━━━━━━━━━━━━━\u001b[0m\u001b[37m\u001b[0m \u001b[1m4s\u001b[0m 13ms/step - accuracy: 0.9372 - loss: 0.1556 - val_accuracy: 0.9324 - val_loss: 0.1628\n",
            "Epoch 3/300\n",
            "\u001b[1m281/281\u001b[0m \u001b[32m━━━━━━━━━━━━━━━━━━━━\u001b[0m\u001b[37m\u001b[0m \u001b[1m4s\u001b[0m 13ms/step - accuracy: 0.9427 - loss: 0.1404 - val_accuracy: 0.9542 - val_loss: 0.1173\n",
            "Epoch 4/300\n",
            "\u001b[1m281/281\u001b[0m \u001b[32m━━━━━━━━━━━━━━━━━━━━\u001b[0m\u001b[37m\u001b[0m \u001b[1m4s\u001b[0m 13ms/step - accuracy: 0.9490 - loss: 0.1304 - val_accuracy: 0.9518 - val_loss: 0.1278\n",
            "Epoch 5/300\n",
            "\u001b[1m281/281\u001b[0m \u001b[32m━━━━━━━━━━━━━━━━━━━━\u001b[0m\u001b[37m\u001b[0m \u001b[1m4s\u001b[0m 13ms/step - accuracy: 0.9513 - loss: 0.1188 - val_accuracy: 0.9617 - val_loss: 0.1057\n",
            "Epoch 6/300\n",
            "\u001b[1m281/281\u001b[0m \u001b[32m━━━━━━━━━━━━━━━━━━━━\u001b[0m\u001b[37m\u001b[0m \u001b[1m4s\u001b[0m 13ms/step - accuracy: 0.9550 - loss: 0.1136 - val_accuracy: 0.9611 - val_loss: 0.1044\n",
            "Epoch 7/300\n",
            "\u001b[1m281/281\u001b[0m \u001b[32m━━━━━━━━━━━━━━━━━━━━\u001b[0m\u001b[37m\u001b[0m \u001b[1m4s\u001b[0m 13ms/step - accuracy: 0.9568 - loss: 0.1086 - val_accuracy: 0.9680 - val_loss: 0.0936\n",
            "Epoch 8/300\n",
            "\u001b[1m281/281\u001b[0m \u001b[32m━━━━━━━━━━━━━━━━━━━━\u001b[0m\u001b[37m\u001b[0m \u001b[1m4s\u001b[0m 13ms/step - accuracy: 0.9619 - loss: 0.0976 - val_accuracy: 0.9710 - val_loss: 0.0831\n",
            "Epoch 9/300\n",
            "\u001b[1m281/281\u001b[0m \u001b[32m━━━━━━━━━━━━━━━━━━━━\u001b[0m\u001b[37m\u001b[0m \u001b[1m4s\u001b[0m 13ms/step - accuracy: 0.9618 - loss: 0.0987 - val_accuracy: 0.9643 - val_loss: 0.0980\n",
            "Epoch 10/300\n",
            "\u001b[1m281/281\u001b[0m \u001b[32m━━━━━━━━━━━━━━━━━━━━\u001b[0m\u001b[37m\u001b[0m \u001b[1m4s\u001b[0m 13ms/step - accuracy: 0.9643 - loss: 0.0911 - val_accuracy: 0.9738 - val_loss: 0.0805\n",
            "Epoch 11/300\n",
            "\u001b[1m281/281\u001b[0m \u001b[32m━━━━━━━━━━━━━━━━━━━━\u001b[0m\u001b[37m\u001b[0m \u001b[1m4s\u001b[0m 13ms/step - accuracy: 0.9645 - loss: 0.0897 - val_accuracy: 0.9685 - val_loss: 0.0795\n",
            "Epoch 12/300\n",
            "\u001b[1m281/281\u001b[0m \u001b[32m━━━━━━━━━━━━━━━━━━━━\u001b[0m\u001b[37m\u001b[0m \u001b[1m4s\u001b[0m 13ms/step - accuracy: 0.9643 - loss: 0.0917 - val_accuracy: 0.9788 - val_loss: 0.0666\n",
            "Epoch 13/300\n",
            "\u001b[1m281/281\u001b[0m \u001b[32m━━━━━━━━━━━━━━━━━━━━\u001b[0m\u001b[37m\u001b[0m \u001b[1m4s\u001b[0m 13ms/step - accuracy: 0.9669 - loss: 0.0847 - val_accuracy: 0.9634 - val_loss: 0.0859\n",
            "Epoch 14/300\n",
            "\u001b[1m281/281\u001b[0m \u001b[32m━━━━━━━━━━━━━━━━━━━━\u001b[0m\u001b[37m\u001b[0m \u001b[1m4s\u001b[0m 13ms/step - accuracy: 0.9698 - loss: 0.0792 - val_accuracy: 0.9344 - val_loss: 0.1366\n",
            "Epoch 15/300\n",
            "\u001b[1m281/281\u001b[0m \u001b[32m━━━━━━━━━━━━━━━━━━━━\u001b[0m\u001b[37m\u001b[0m \u001b[1m4s\u001b[0m 13ms/step - accuracy: 0.9673 - loss: 0.0839 - val_accuracy: 0.9775 - val_loss: 0.0598\n",
            "Epoch 16/300\n",
            "\u001b[1m281/281\u001b[0m \u001b[32m━━━━━━━━━━━━━━━━━━━━\u001b[0m\u001b[37m\u001b[0m \u001b[1m4s\u001b[0m 13ms/step - accuracy: 0.9700 - loss: 0.0763 - val_accuracy: 0.9777 - val_loss: 0.0687\n",
            "Epoch 17/300\n",
            "\u001b[1m281/281\u001b[0m \u001b[32m━━━━━━━━━━━━━━━━━━━━\u001b[0m\u001b[37m\u001b[0m \u001b[1m4s\u001b[0m 13ms/step - accuracy: 0.9743 - loss: 0.0717 - val_accuracy: 0.9827 - val_loss: 0.0541\n",
            "Epoch 18/300\n",
            "\u001b[1m281/281\u001b[0m \u001b[32m━━━━━━━━━━━━━━━━━━━━\u001b[0m\u001b[37m\u001b[0m \u001b[1m4s\u001b[0m 13ms/step - accuracy: 0.9741 - loss: 0.0660 - val_accuracy: 0.9807 - val_loss: 0.0551\n",
            "Epoch 19/300\n",
            "\u001b[1m281/281\u001b[0m \u001b[32m━━━━━━━━━━━━━━━━━━━━\u001b[0m\u001b[37m\u001b[0m \u001b[1m4s\u001b[0m 13ms/step - accuracy: 0.9752 - loss: 0.0647 - val_accuracy: 0.9841 - val_loss: 0.0388\n",
            "Epoch 20/300\n",
            "\u001b[1m281/281\u001b[0m \u001b[32m━━━━━━━━━━━━━━━━━━━━\u001b[0m\u001b[37m\u001b[0m \u001b[1m4s\u001b[0m 13ms/step - accuracy: 0.9740 - loss: 0.0661 - val_accuracy: 0.9848 - val_loss: 0.0441\n",
            "Epoch 21/300\n",
            "\u001b[1m281/281\u001b[0m \u001b[32m━━━━━━━━━━━━━━━━━━━━\u001b[0m\u001b[37m\u001b[0m \u001b[1m4s\u001b[0m 13ms/step - accuracy: 0.9752 - loss: 0.0610 - val_accuracy: 0.9778 - val_loss: 0.0530\n",
            "Epoch 22/300\n",
            "\u001b[1m281/281\u001b[0m \u001b[32m━━━━━━━━━━━━━━━━━━━━\u001b[0m\u001b[37m\u001b[0m \u001b[1m4s\u001b[0m 13ms/step - accuracy: 0.9739 - loss: 0.0660 - val_accuracy: 0.9798 - val_loss: 0.0546\n",
            "Epoch 23/300\n",
            "\u001b[1m281/281\u001b[0m \u001b[32m━━━━━━━━━━━━━━━━━━━━\u001b[0m\u001b[37m\u001b[0m \u001b[1m4s\u001b[0m 13ms/step - accuracy: 0.9779 - loss: 0.0569 - val_accuracy: 0.9918 - val_loss: 0.0360\n",
            "Epoch 24/300\n",
            "\u001b[1m281/281\u001b[0m \u001b[32m━━━━━━━━━━━━━━━━━━━━\u001b[0m\u001b[37m\u001b[0m \u001b[1m4s\u001b[0m 13ms/step - accuracy: 0.9775 - loss: 0.0577 - val_accuracy: 0.9918 - val_loss: 0.0307\n",
            "Epoch 25/300\n",
            "\u001b[1m281/281\u001b[0m \u001b[32m━━━━━━━━━━━━━━━━━━━━\u001b[0m\u001b[37m\u001b[0m \u001b[1m4s\u001b[0m 14ms/step - accuracy: 0.9795 - loss: 0.0538 - val_accuracy: 0.9918 - val_loss: 0.0327\n",
            "Epoch 26/300\n",
            "\u001b[1m281/281\u001b[0m \u001b[32m━━━━━━━━━━━━━━━━━━━━\u001b[0m\u001b[37m\u001b[0m \u001b[1m4s\u001b[0m 13ms/step - accuracy: 0.9822 - loss: 0.0440 - val_accuracy: 0.9883 - val_loss: 0.0358\n",
            "Epoch 27/300\n",
            "\u001b[1m281/281\u001b[0m \u001b[32m━━━━━━━━━━━━━━━━━━━━\u001b[0m\u001b[37m\u001b[0m \u001b[1m4s\u001b[0m 13ms/step - accuracy: 0.9825 - loss: 0.0472 - val_accuracy: 0.9568 - val_loss: 0.1387\n",
            "Epoch 28/300\n",
            "\u001b[1m281/281\u001b[0m \u001b[32m━━━━━━━━━━━━━━━━━━━━\u001b[0m\u001b[37m\u001b[0m \u001b[1m4s\u001b[0m 14ms/step - accuracy: 0.9768 - loss: 0.0612 - val_accuracy: 0.9941 - val_loss: 0.0211\n",
            "Epoch 29/300\n",
            "\u001b[1m281/281\u001b[0m \u001b[32m━━━━━━━━━━━━━━━━━━━━\u001b[0m\u001b[37m\u001b[0m \u001b[1m4s\u001b[0m 13ms/step - accuracy: 0.9827 - loss: 0.0484 - val_accuracy: 0.9933 - val_loss: 0.0217\n",
            "Epoch 30/300\n",
            "\u001b[1m281/281\u001b[0m \u001b[32m━━━━━━━━━━━━━━━━━━━━\u001b[0m\u001b[37m\u001b[0m \u001b[1m4s\u001b[0m 13ms/step - accuracy: 0.9823 - loss: 0.0499 - val_accuracy: 0.9933 - val_loss: 0.0231\n",
            "Epoch 31/300\n",
            "\u001b[1m281/281\u001b[0m \u001b[32m━━━━━━━━━━━━━━━━━━━━\u001b[0m\u001b[37m\u001b[0m \u001b[1m4s\u001b[0m 13ms/step - accuracy: 0.9861 - loss: 0.0378 - val_accuracy: 0.9680 - val_loss: 0.0799\n",
            "Epoch 32/300\n",
            "\u001b[1m281/281\u001b[0m \u001b[32m━━━━━━━━━━━━━━━━━━━━\u001b[0m\u001b[37m\u001b[0m \u001b[1m4s\u001b[0m 13ms/step - accuracy: 0.9816 - loss: 0.0501 - val_accuracy: 0.9948 - val_loss: 0.0237\n",
            "Epoch 33/300\n",
            "\u001b[1m281/281\u001b[0m \u001b[32m━━━━━━━━━━━━━━━━━━━━\u001b[0m\u001b[37m\u001b[0m \u001b[1m4s\u001b[0m 13ms/step - accuracy: 0.9839 - loss: 0.0382 - val_accuracy: 0.9923 - val_loss: 0.0284\n",
            "Epoch 34/300\n",
            "\u001b[1m281/281\u001b[0m \u001b[32m━━━━━━━━━━━━━━━━━━━━\u001b[0m\u001b[37m\u001b[0m \u001b[1m4s\u001b[0m 13ms/step - accuracy: 0.9863 - loss: 0.0361 - val_accuracy: 0.9958 - val_loss: 0.0174\n",
            "Epoch 35/300\n",
            "\u001b[1m281/281\u001b[0m \u001b[32m━━━━━━━━━━━━━━━━━━━━\u001b[0m\u001b[37m\u001b[0m \u001b[1m4s\u001b[0m 13ms/step - accuracy: 0.9844 - loss: 0.0398 - val_accuracy: 0.9943 - val_loss: 0.0201\n",
            "Epoch 36/300\n",
            "\u001b[1m281/281\u001b[0m \u001b[32m━━━━━━━━━━━━━━━━━━━━\u001b[0m\u001b[37m\u001b[0m \u001b[1m4s\u001b[0m 13ms/step - accuracy: 0.9862 - loss: 0.0345 - val_accuracy: 0.9957 - val_loss: 0.0154\n",
            "Epoch 37/300\n",
            "\u001b[1m281/281\u001b[0m \u001b[32m━━━━━━━━━━━━━━━━━━━━\u001b[0m\u001b[37m\u001b[0m \u001b[1m4s\u001b[0m 13ms/step - accuracy: 0.9864 - loss: 0.0368 - val_accuracy: 0.9960 - val_loss: 0.0191\n",
            "Epoch 38/300\n",
            "\u001b[1m281/281\u001b[0m \u001b[32m━━━━━━━━━━━━━━━━━━━━\u001b[0m\u001b[37m\u001b[0m \u001b[1m4s\u001b[0m 13ms/step - accuracy: 0.9868 - loss: 0.0355 - val_accuracy: 0.9935 - val_loss: 0.0179\n",
            "Epoch 39/300\n",
            "\u001b[1m281/281\u001b[0m \u001b[32m━━━━━━━━━━━━━━━━━━━━\u001b[0m\u001b[37m\u001b[0m \u001b[1m4s\u001b[0m 13ms/step - accuracy: 0.9891 - loss: 0.0304 - val_accuracy: 0.9955 - val_loss: 0.0150\n",
            "Epoch 40/300\n",
            "\u001b[1m281/281\u001b[0m \u001b[32m━━━━━━━━━━━━━━━━━━━━\u001b[0m\u001b[37m\u001b[0m \u001b[1m4s\u001b[0m 13ms/step - accuracy: 0.9852 - loss: 0.0395 - val_accuracy: 0.9960 - val_loss: 0.0146\n",
            "Epoch 41/300\n",
            "\u001b[1m281/281\u001b[0m \u001b[32m━━━━━━━━━━━━━━━━━━━━\u001b[0m\u001b[37m\u001b[0m \u001b[1m4s\u001b[0m 13ms/step - accuracy: 0.9880 - loss: 0.0334 - val_accuracy: 0.9908 - val_loss: 0.0392\n",
            "Epoch 42/300\n",
            "\u001b[1m281/281\u001b[0m \u001b[32m━━━━━━━━━━━━━━━━━━━━\u001b[0m\u001b[37m\u001b[0m \u001b[1m4s\u001b[0m 13ms/step - accuracy: 0.9871 - loss: 0.0303 - val_accuracy: 0.9941 - val_loss: 0.0295\n",
            "Epoch 43/300\n",
            "\u001b[1m281/281\u001b[0m \u001b[32m━━━━━━━━━━━━━━━━━━━━\u001b[0m\u001b[37m\u001b[0m \u001b[1m4s\u001b[0m 13ms/step - accuracy: 0.9880 - loss: 0.0307 - val_accuracy: 0.9872 - val_loss: 0.0339\n",
            "Epoch 44/300\n",
            "\u001b[1m281/281\u001b[0m \u001b[32m━━━━━━━━━━━━━━━━━━━━\u001b[0m\u001b[37m\u001b[0m \u001b[1m4s\u001b[0m 13ms/step - accuracy: 0.9888 - loss: 0.0295 - val_accuracy: 0.9964 - val_loss: 0.0168\n",
            "Epoch 45/300\n",
            "\u001b[1m281/281\u001b[0m \u001b[32m━━━━━━━━━━━━━━━━━━━━\u001b[0m\u001b[37m\u001b[0m \u001b[1m4s\u001b[0m 13ms/step - accuracy: 0.9875 - loss: 0.0348 - val_accuracy: 0.9963 - val_loss: 0.0128\n",
            "Epoch 46/300\n",
            "\u001b[1m281/281\u001b[0m \u001b[32m━━━━━━━━━━━━━━━━━━━━\u001b[0m\u001b[37m\u001b[0m \u001b[1m4s\u001b[0m 13ms/step - accuracy: 0.9874 - loss: 0.0347 - val_accuracy: 0.9963 - val_loss: 0.0139\n",
            "Epoch 47/300\n",
            "\u001b[1m281/281\u001b[0m \u001b[32m━━━━━━━━━━━━━━━━━━━━\u001b[0m\u001b[37m\u001b[0m \u001b[1m4s\u001b[0m 13ms/step - accuracy: 0.9892 - loss: 0.0304 - val_accuracy: 0.9902 - val_loss: 0.0338\n",
            "Epoch 48/300\n",
            "\u001b[1m281/281\u001b[0m \u001b[32m━━━━━━━━━━━━━━━━━━━━\u001b[0m\u001b[37m\u001b[0m \u001b[1m4s\u001b[0m 13ms/step - accuracy: 0.9744 - loss: 0.0797 - val_accuracy: 0.9933 - val_loss: 0.0260\n",
            "Epoch 49/300\n",
            "\u001b[1m281/281\u001b[0m \u001b[32m━━━━━━━━━━━━━━━━━━━━\u001b[0m\u001b[37m\u001b[0m \u001b[1m4s\u001b[0m 13ms/step - accuracy: 0.9885 - loss: 0.0354 - val_accuracy: 0.9974 - val_loss: 0.0111\n",
            "Epoch 50/300\n",
            "\u001b[1m281/281\u001b[0m \u001b[32m━━━━━━━━━━━━━━━━━━━━\u001b[0m\u001b[37m\u001b[0m \u001b[1m4s\u001b[0m 13ms/step - accuracy: 0.9908 - loss: 0.0255 - val_accuracy: 0.9958 - val_loss: 0.0149\n",
            "Epoch 51/300\n",
            "\u001b[1m281/281\u001b[0m \u001b[32m━━━━━━━━━━━━━━━━━━━━\u001b[0m\u001b[37m\u001b[0m \u001b[1m4s\u001b[0m 12ms/step - accuracy: 0.9909 - loss: 0.0266 - val_accuracy: 0.9871 - val_loss: 0.0348\n",
            "Epoch 52/300\n",
            "\u001b[1m281/281\u001b[0m \u001b[32m━━━━━━━━━━━━━━━━━━━━\u001b[0m\u001b[37m\u001b[0m \u001b[1m3s\u001b[0m 12ms/step - accuracy: 0.9906 - loss: 0.0280 - val_accuracy: 0.9909 - val_loss: 0.0324\n",
            "Epoch 53/300\n",
            "\u001b[1m281/281\u001b[0m \u001b[32m━━━━━━━━━━━━━━━━━━━━\u001b[0m\u001b[37m\u001b[0m \u001b[1m3s\u001b[0m 12ms/step - accuracy: 0.9887 - loss: 0.0336 - val_accuracy: 0.9978 - val_loss: 0.0080\n",
            "Epoch 54/300\n",
            "\u001b[1m281/281\u001b[0m \u001b[32m━━━━━━━━━━━━━━━━━━━━\u001b[0m\u001b[37m\u001b[0m \u001b[1m4s\u001b[0m 13ms/step - accuracy: 0.9916 - loss: 0.0220 - val_accuracy: 0.9972 - val_loss: 0.0105\n",
            "Epoch 55/300\n",
            "\u001b[1m281/281\u001b[0m \u001b[32m━━━━━━━━━━━━━━━━━━━━\u001b[0m\u001b[37m\u001b[0m \u001b[1m3s\u001b[0m 12ms/step - accuracy: 0.9876 - loss: 0.0351 - val_accuracy: 0.9957 - val_loss: 0.0126\n",
            "Epoch 56/300\n",
            "\u001b[1m281/281\u001b[0m \u001b[32m━━━━━━━━━━━━━━━━━━━━\u001b[0m\u001b[37m\u001b[0m \u001b[1m3s\u001b[0m 12ms/step - accuracy: 0.9900 - loss: 0.0280 - val_accuracy: 0.9981 - val_loss: 0.0077\n",
            "Epoch 57/300\n",
            "\u001b[1m281/281\u001b[0m \u001b[32m━━━━━━━━━━━━━━━━━━━━\u001b[0m\u001b[37m\u001b[0m \u001b[1m3s\u001b[0m 12ms/step - accuracy: 0.9916 - loss: 0.0250 - val_accuracy: 0.9978 - val_loss: 0.0083\n",
            "Epoch 58/300\n",
            "\u001b[1m281/281\u001b[0m \u001b[32m━━━━━━━━━━━━━━━━━━━━\u001b[0m\u001b[37m\u001b[0m \u001b[1m3s\u001b[0m 12ms/step - accuracy: 0.9925 - loss: 0.0200 - val_accuracy: 0.9938 - val_loss: 0.0182\n",
            "Epoch 59/300\n",
            "\u001b[1m281/281\u001b[0m \u001b[32m━━━━━━━━━━━━━━━━━━━━\u001b[0m\u001b[37m\u001b[0m \u001b[1m3s\u001b[0m 12ms/step - accuracy: 0.9914 - loss: 0.0246 - val_accuracy: 0.9973 - val_loss: 0.0109\n",
            "Epoch 60/300\n",
            "\u001b[1m281/281\u001b[0m \u001b[32m━━━━━━━━━━━━━━━━━━━━\u001b[0m\u001b[37m\u001b[0m \u001b[1m4s\u001b[0m 13ms/step - accuracy: 0.9924 - loss: 0.0199 - val_accuracy: 0.9980 - val_loss: 0.0096\n",
            "Epoch 61/300\n",
            "\u001b[1m281/281\u001b[0m \u001b[32m━━━━━━━━━━━━━━━━━━━━\u001b[0m\u001b[37m\u001b[0m \u001b[1m4s\u001b[0m 12ms/step - accuracy: 0.9925 - loss: 0.0197 - val_accuracy: 0.9971 - val_loss: 0.0093\n",
            "Epoch 62/300\n",
            "\u001b[1m281/281\u001b[0m \u001b[32m━━━━━━━━━━━━━━━━━━━━\u001b[0m\u001b[37m\u001b[0m \u001b[1m3s\u001b[0m 12ms/step - accuracy: 0.9903 - loss: 0.0286 - val_accuracy: 0.9968 - val_loss: 0.0104\n",
            "Epoch 63/300\n",
            "\u001b[1m281/281\u001b[0m \u001b[32m━━━━━━━━━━━━━━━━━━━━\u001b[0m\u001b[37m\u001b[0m \u001b[1m3s\u001b[0m 12ms/step - accuracy: 0.9921 - loss: 0.0233 - val_accuracy: 0.9983 - val_loss: 0.0084\n",
            "Epoch 64/300\n",
            "\u001b[1m281/281\u001b[0m \u001b[32m━━━━━━━━━━━━━━━━━━━━\u001b[0m\u001b[37m\u001b[0m \u001b[1m3s\u001b[0m 12ms/step - accuracy: 0.9857 - loss: 0.0612 - val_accuracy: 0.9967 - val_loss: 0.0131\n",
            "Epoch 65/300\n",
            "\u001b[1m281/281\u001b[0m \u001b[32m━━━━━━━━━━━━━━━━━━━━\u001b[0m\u001b[37m\u001b[0m \u001b[1m3s\u001b[0m 12ms/step - accuracy: 0.9904 - loss: 0.0276 - val_accuracy: 0.9968 - val_loss: 0.0109\n",
            "Epoch 66/300\n",
            "\u001b[1m281/281\u001b[0m \u001b[32m━━━━━━━━━━━━━━━━━━━━\u001b[0m\u001b[37m\u001b[0m \u001b[1m3s\u001b[0m 12ms/step - accuracy: 0.9924 - loss: 0.0203 - val_accuracy: 0.9903 - val_loss: 0.0264\n",
            "Epoch 67/300\n",
            "\u001b[1m281/281\u001b[0m \u001b[32m━━━━━━━━━━━━━━━━━━━━\u001b[0m\u001b[37m\u001b[0m \u001b[1m4s\u001b[0m 13ms/step - accuracy: 0.9896 - loss: 0.0296 - val_accuracy: 0.9888 - val_loss: 0.0275\n",
            "Epoch 68/300\n",
            "\u001b[1m281/281\u001b[0m \u001b[32m━━━━━━━━━━━━━━━━━━━━\u001b[0m\u001b[37m\u001b[0m \u001b[1m3s\u001b[0m 12ms/step - accuracy: 0.9926 - loss: 0.0189 - val_accuracy: 0.9969 - val_loss: 0.0116\n",
            "Epoch 69/300\n",
            "\u001b[1m281/281\u001b[0m \u001b[32m━━━━━━━━━━━━━━━━━━━━\u001b[0m\u001b[37m\u001b[0m \u001b[1m3s\u001b[0m 12ms/step - accuracy: 0.9941 - loss: 0.0166 - val_accuracy: 0.9968 - val_loss: 0.0111\n",
            "Epoch 70/300\n",
            "\u001b[1m281/281\u001b[0m \u001b[32m━━━━━━━━━━━━━━━━━━━━\u001b[0m\u001b[37m\u001b[0m \u001b[1m3s\u001b[0m 12ms/step - accuracy: 0.9945 - loss: 0.0167 - val_accuracy: 0.9979 - val_loss: 0.0084\n",
            "Epoch 71/300\n",
            "\u001b[1m281/281\u001b[0m \u001b[32m━━━━━━━━━━━━━━━━━━━━\u001b[0m\u001b[37m\u001b[0m \u001b[1m3s\u001b[0m 12ms/step - accuracy: 0.9937 - loss: 0.0220 - val_accuracy: 0.9931 - val_loss: 0.0194\n",
            "Epoch 72/300\n",
            "\u001b[1m281/281\u001b[0m \u001b[32m━━━━━━━━━━━━━━━━━━━━\u001b[0m\u001b[37m\u001b[0m \u001b[1m3s\u001b[0m 12ms/step - accuracy: 0.9923 - loss: 0.0226 - val_accuracy: 0.9913 - val_loss: 0.0236\n",
            "Epoch 73/300\n",
            "\u001b[1m281/281\u001b[0m \u001b[32m━━━━━━━━━━━━━━━━━━━━\u001b[0m\u001b[37m\u001b[0m \u001b[1m3s\u001b[0m 12ms/step - accuracy: 0.9917 - loss: 0.0212 - val_accuracy: 0.9974 - val_loss: 0.0092\n",
            "Minimum validation loss: 0.007668431382626295\n"
          ]
        },
        {
          "output_type": "display_data",
          "data": {
            "text/plain": [
              "<Figure size 432x288 with 1 Axes>"
            ],
            "image/png": "[encoded data removed]"
          },
          "metadata": {
            "needs_background": "light"
          }
        }
      ]
    },
    {
      "cell_type": "code",
      "source": [
        "#Chaotic region\n",
        "history = model.fit(\n",
        "    X_train, y_train,\n",
        "    validation_data=(X_test, y_test),\n",
        "    batch_size=100,\n",
        "    epochs=300,\n",
        "    callbacks=[early_stopping], # put your callbacks in a list\n",
        "    verbose=1,  # turn off training log\n",
        "    shuffle=False\n",
        ")\n",
        "\n",
        "history_df = pd.DataFrame(history.history)\n",
        "history_df.loc[:, ['loss', 'val_loss']].plot();\n",
        "print(\"Minimum validation loss: {}\".format(history_df['val_loss'].min()))"
      ],
      "metadata": {
        "colab": {
          "base_uri": "https://localhost:8080/",
          "height": 1000
        },
        "id": "KGcvtGYU6xGZ",
        "outputId": "6718669f-cd24-486c-e6af-95e3db635db3"
      },
      "execution_count": null,
      "outputs": [
        {
          "output_type": "stream",
          "name": "stdout",
          "text": [
            "Epoch 1/300\n"
          ]
        },
        {
          "output_type": "stream",
          "name": "stderr",
          "text": [
            "WARNING: All log messages before absl::InitializeLog() is called are written to STDERR\n",
            "I0000 00:00:1728052475.710514   37178 service.cc:145] XLA service 0x7f00600070d0 initialized for platform CUDA (this does not guarantee that XLA will be used). Devices:\n",
            "I0000 00:00:1728052475.710545   37178 service.cc:153]   StreamExecutor device (0): NVIDIA GeForce RTX 2060 SUPER, Compute Capability 7.5\n",
            "2024-10-04 11:34:35.777291: I tensorflow/compiler/mlir/tensorflow/utils/dump_mlir_util.cc:268] disabling MLIR crash reproducer, set env var `MLIR_CRASH_REPRODUCER_DIRECTORY` to enable.\n",
            "2024-10-04 11:34:36.009844: I external/local_xla/xla/stream_executor/cuda/cuda_dnn.cc:465] Loaded cuDNN version 8907\n"
          ]
        },
        {
          "output_type": "stream",
          "name": "stdout",
          "text": [
            "\u001b[1m  9/281\u001b[0m \u001b[37m━━━━━━━━━━━━━━━━━━━━\u001b[0m \u001b[1m4s\u001b[0m 16ms/step - accuracy: 0.5233 - loss: 1.2452"
          ]
        },
        {
          "output_type": "stream",
          "name": "stderr",
          "text": [
            "I0000 00:00:1728052481.137490   37178 device_compiler.h:188] Compiled cluster using XLA!  This line is logged at most once for the lifetime of the process.\n"
          ]
        },
        {
          "output_type": "stream",
          "name": "stdout",
          "text": [
            "\u001b[1m281/281\u001b[0m \u001b[32m━━━━━━━━━━━━━━━━━━━━\u001b[0m\u001b[37m\u001b[0m \u001b[1m17s\u001b[0m 34ms/step - accuracy: 0.7106 - loss: 0.5967 - val_accuracy: 0.8323 - val_loss: 0.3943\n",
            "Epoch 2/300\n",
            "\u001b[1m281/281\u001b[0m \u001b[32m━━━━━━━━━━━━━━━━━━━━\u001b[0m\u001b[37m\u001b[0m \u001b[1m4s\u001b[0m 13ms/step - accuracy: 0.8810 - loss: 0.2961 - val_accuracy: 0.8578 - val_loss: 0.3368\n",
            "Epoch 3/300\n",
            "\u001b[1m281/281\u001b[0m \u001b[32m━━━━━━━━━━━━━━━━━━━━\u001b[0m\u001b[37m\u001b[0m \u001b[1m4s\u001b[0m 13ms/step - accuracy: 0.8937 - loss: 0.2653 - val_accuracy: 0.8789 - val_loss: 0.3016\n",
            "Epoch 4/300\n",
            "\u001b[1m281/281\u001b[0m \u001b[32m━━━━━━━━━━━━━━━━━━━━\u001b[0m\u001b[37m\u001b[0m \u001b[1m4s\u001b[0m 13ms/step - accuracy: 0.9012 - loss: 0.2500 - val_accuracy: 0.8775 - val_loss: 0.3627\n",
            "Epoch 5/300\n",
            "\u001b[1m281/281\u001b[0m \u001b[32m━━━━━━━━━━━━━━━━━━━━\u001b[0m\u001b[37m\u001b[0m \u001b[1m4s\u001b[0m 13ms/step - accuracy: 0.9001 - loss: 0.2514 - val_accuracy: 0.8948 - val_loss: 0.3195\n",
            "Epoch 6/300\n",
            "\u001b[1m281/281\u001b[0m \u001b[32m━━━━━━━━━━━━━━━━━━━━\u001b[0m\u001b[37m\u001b[0m \u001b[1m4s\u001b[0m 13ms/step - accuracy: 0.9121 - loss: 0.2274 - val_accuracy: 0.9256 - val_loss: 0.2036\n",
            "Epoch 7/300\n",
            "\u001b[1m281/281\u001b[0m \u001b[32m━━━━━━━━━━━━━━━━━━━━\u001b[0m\u001b[37m\u001b[0m \u001b[1m4s\u001b[0m 13ms/step - accuracy: 0.9166 - loss: 0.2115 - val_accuracy: 0.9334 - val_loss: 0.1975\n",
            "Epoch 8/300\n",
            "\u001b[1m281/281\u001b[0m \u001b[32m━━━━━━━━━━━━━━━━━━━━\u001b[0m\u001b[37m\u001b[0m \u001b[1m4s\u001b[0m 13ms/step - accuracy: 0.9199 - loss: 0.2092 - val_accuracy: 0.9212 - val_loss: 0.2064\n",
            "Epoch 9/300\n",
            "\u001b[1m281/281\u001b[0m \u001b[32m━━━━━━━━━━━━━━━━━━━━\u001b[0m\u001b[37m\u001b[0m \u001b[1m4s\u001b[0m 13ms/step - accuracy: 0.9284 - loss: 0.1853 - val_accuracy: 0.9449 - val_loss: 0.1641\n",
            "Epoch 10/300\n",
            "\u001b[1m281/281\u001b[0m \u001b[32m━━━━━━━━━━━━━━━━━━━━\u001b[0m\u001b[37m\u001b[0m \u001b[1m4s\u001b[0m 13ms/step - accuracy: 0.9351 - loss: 0.1674 - val_accuracy: 0.9055 - val_loss: 0.2185\n",
            "Epoch 11/300\n",
            "\u001b[1m281/281\u001b[0m \u001b[32m━━━━━━━━━━━━━━━━━━━━\u001b[0m\u001b[37m\u001b[0m \u001b[1m4s\u001b[0m 13ms/step - accuracy: 0.9384 - loss: 0.1559 - val_accuracy: 0.9340 - val_loss: 0.1541\n",
            "Epoch 12/300\n",
            "\u001b[1m281/281\u001b[0m \u001b[32m━━━━━━━━━━━━━━━━━━━━\u001b[0m\u001b[37m\u001b[0m \u001b[1m4s\u001b[0m 13ms/step - accuracy: 0.9559 - loss: 0.1129 - val_accuracy: 0.9443 - val_loss: 0.1242\n",
            "Epoch 13/300\n",
            "\u001b[1m281/281\u001b[0m \u001b[32m━━━━━━━━━━━━━━━━━━━━\u001b[0m\u001b[37m\u001b[0m \u001b[1m4s\u001b[0m 13ms/step - accuracy: 0.9520 - loss: 0.1271 - val_accuracy: 0.9288 - val_loss: 0.2106\n",
            "Epoch 14/300\n",
            "\u001b[1m281/281\u001b[0m \u001b[32m━━━━━━━━━━━━━━━━━━━━\u001b[0m\u001b[37m\u001b[0m \u001b[1m4s\u001b[0m 13ms/step - accuracy: 0.9616 - loss: 0.1014 - val_accuracy: 0.9412 - val_loss: 0.1178\n",
            "Epoch 15/300\n",
            "\u001b[1m281/281\u001b[0m \u001b[32m━━━━━━━━━━━━━━━━━━━━\u001b[0m\u001b[37m\u001b[0m \u001b[1m4s\u001b[0m 13ms/step - accuracy: 0.9702 - loss: 0.0805 - val_accuracy: 0.9531 - val_loss: 0.1052\n",
            "Epoch 16/300\n",
            "\u001b[1m281/281\u001b[0m \u001b[32m━━━━━━━━━━━━━━━━━━━━\u001b[0m\u001b[37m\u001b[0m \u001b[1m4s\u001b[0m 13ms/step - accuracy: 0.9734 - loss: 0.0718 - val_accuracy: 0.9270 - val_loss: 0.1520\n",
            "Epoch 17/300\n",
            "\u001b[1m281/281\u001b[0m \u001b[32m━━━━━━━━━━━━━━━━━━━━\u001b[0m\u001b[37m\u001b[0m \u001b[1m4s\u001b[0m 13ms/step - accuracy: 0.9722 - loss: 0.0722 - val_accuracy: 0.9437 - val_loss: 0.1132\n",
            "Epoch 18/300\n",
            "\u001b[1m281/281\u001b[0m \u001b[32m━━━━━━━━━━━━━━━━━━━━\u001b[0m\u001b[37m\u001b[0m \u001b[1m4s\u001b[0m 13ms/step - accuracy: 0.9764 - loss: 0.0635 - val_accuracy: 0.9535 - val_loss: 0.1137\n",
            "Epoch 19/300\n",
            "\u001b[1m281/281\u001b[0m \u001b[32m━━━━━━━━━━━━━━━━━━━━\u001b[0m\u001b[37m\u001b[0m \u001b[1m4s\u001b[0m 13ms/step - accuracy: 0.9791 - loss: 0.0563 - val_accuracy: 0.9578 - val_loss: 0.0818\n",
            "Epoch 20/300\n",
            "\u001b[1m281/281\u001b[0m \u001b[32m━━━━━━━━━━━━━━━━━━━━\u001b[0m\u001b[37m\u001b[0m \u001b[1m4s\u001b[0m 13ms/step - accuracy: 0.9825 - loss: 0.0474 - val_accuracy: 0.9573 - val_loss: 0.0932\n",
            "Epoch 21/300\n",
            "\u001b[1m281/281\u001b[0m \u001b[32m━━━━━━━━━━━━━━━━━━━━\u001b[0m\u001b[37m\u001b[0m \u001b[1m4s\u001b[0m 13ms/step - accuracy: 0.9850 - loss: 0.0434 - val_accuracy: 0.9603 - val_loss: 0.0730\n",
            "Epoch 22/300\n",
            "\u001b[1m281/281\u001b[0m \u001b[32m━━━━━━━━━━━━━━━━━━━━\u001b[0m\u001b[37m\u001b[0m \u001b[1m4s\u001b[0m 13ms/step - accuracy: 0.9844 - loss: 0.0400 - val_accuracy: 0.9552 - val_loss: 0.1010\n",
            "Epoch 23/300\n",
            "\u001b[1m281/281\u001b[0m \u001b[32m━━━━━━━━━━━━━━━━━━━━\u001b[0m\u001b[37m\u001b[0m \u001b[1m4s\u001b[0m 13ms/step - accuracy: 0.9821 - loss: 0.0488 - val_accuracy: 0.9523 - val_loss: 0.1036\n",
            "Epoch 24/300\n",
            "\u001b[1m281/281\u001b[0m \u001b[32m━━━━━━━━━━━━━━━━━━━━\u001b[0m\u001b[37m\u001b[0m \u001b[1m4s\u001b[0m 13ms/step - accuracy: 0.9846 - loss: 0.0408 - val_accuracy: 0.9614 - val_loss: 0.0753\n",
            "Epoch 25/300\n",
            "\u001b[1m281/281\u001b[0m \u001b[32m━━━━━━━━━━━━━━━━━━━━\u001b[0m\u001b[37m\u001b[0m \u001b[1m4s\u001b[0m 13ms/step - accuracy: 0.9870 - loss: 0.0361 - val_accuracy: 0.9689 - val_loss: 0.0551\n",
            "Epoch 26/300\n",
            "\u001b[1m281/281\u001b[0m \u001b[32m━━━━━━━━━━━━━━━━━━━━\u001b[0m\u001b[37m\u001b[0m \u001b[1m4s\u001b[0m 13ms/step - accuracy: 0.9855 - loss: 0.0386 - val_accuracy: 0.9550 - val_loss: 0.0995\n",
            "Epoch 27/300\n",
            "\u001b[1m281/281\u001b[0m \u001b[32m━━━━━━━━━━━━━━━━━━━━\u001b[0m\u001b[37m\u001b[0m \u001b[1m4s\u001b[0m 13ms/step - accuracy: 0.9887 - loss: 0.0309 - val_accuracy: 0.9619 - val_loss: 0.0783\n",
            "Epoch 28/300\n",
            "\u001b[1m281/281\u001b[0m \u001b[32m━━━━━━━━━━━━━━━━━━━━\u001b[0m\u001b[37m\u001b[0m \u001b[1m4s\u001b[0m 13ms/step - accuracy: 0.9875 - loss: 0.0341 - val_accuracy: 0.9706 - val_loss: 0.0519\n",
            "Epoch 29/300\n",
            "\u001b[1m281/281\u001b[0m \u001b[32m━━━━━━━━━━━━━━━━━━━━\u001b[0m\u001b[37m\u001b[0m \u001b[1m4s\u001b[0m 13ms/step - accuracy: 0.9874 - loss: 0.0317 - val_accuracy: 0.9563 - val_loss: 0.0899\n",
            "Epoch 30/300\n",
            "\u001b[1m281/281\u001b[0m \u001b[32m━━━━━━━━━━━━━━━━━━━━\u001b[0m\u001b[37m\u001b[0m \u001b[1m4s\u001b[0m 13ms/step - accuracy: 0.9864 - loss: 0.0381 - val_accuracy: 0.9763 - val_loss: 0.0440\n",
            "Epoch 31/300\n",
            "\u001b[1m281/281\u001b[0m \u001b[32m━━━━━━━━━━━━━━━━━━━━\u001b[0m\u001b[37m\u001b[0m \u001b[1m4s\u001b[0m 13ms/step - accuracy: 0.9897 - loss: 0.0274 - val_accuracy: 0.9671 - val_loss: 0.0566\n",
            "Epoch 32/300\n",
            "\u001b[1m281/281\u001b[0m \u001b[32m━━━━━━━━━━━━━━━━━━━━\u001b[0m\u001b[37m\u001b[0m \u001b[1m3s\u001b[0m 12ms/step - accuracy: 0.9899 - loss: 0.0259 - val_accuracy: 0.9738 - val_loss: 0.0549\n",
            "Epoch 33/300\n",
            "\u001b[1m281/281\u001b[0m \u001b[32m━━━━━━━━━━━━━━━━━━━━\u001b[0m\u001b[37m\u001b[0m \u001b[1m3s\u001b[0m 12ms/step - accuracy: 0.9887 - loss: 0.0294 - val_accuracy: 0.9838 - val_loss: 0.0491\n",
            "Epoch 34/300\n",
            "\u001b[1m281/281\u001b[0m \u001b[32m━━━━━━━━━━━━━━━━━━━━\u001b[0m\u001b[37m\u001b[0m \u001b[1m4s\u001b[0m 13ms/step - accuracy: 0.9812 - loss: 0.0538 - val_accuracy: 0.9658 - val_loss: 0.0742\n",
            "Epoch 35/300\n",
            "\u001b[1m281/281\u001b[0m \u001b[32m━━━━━━━━━━━━━━━━━━━━\u001b[0m\u001b[37m\u001b[0m \u001b[1m3s\u001b[0m 12ms/step - accuracy: 0.9899 - loss: 0.0271 - val_accuracy: 0.9712 - val_loss: 0.0543\n",
            "Epoch 36/300\n",
            "\u001b[1m281/281\u001b[0m \u001b[32m━━━━━━━━━━━━━━━━━━━━\u001b[0m\u001b[37m\u001b[0m \u001b[1m4s\u001b[0m 13ms/step - accuracy: 0.9910 - loss: 0.0241 - val_accuracy: 0.9755 - val_loss: 0.0454\n",
            "Epoch 37/300\n",
            "\u001b[1m281/281\u001b[0m \u001b[32m━━━━━━━━━━━━━━━━━━━━\u001b[0m\u001b[37m\u001b[0m \u001b[1m4s\u001b[0m 13ms/step - accuracy: 0.9930 - loss: 0.0193 - val_accuracy: 0.9773 - val_loss: 0.0433\n",
            "Epoch 38/300\n",
            "\u001b[1m281/281\u001b[0m \u001b[32m━━━━━━━━━━━━━━━━━━━━\u001b[0m\u001b[37m\u001b[0m \u001b[1m4s\u001b[0m 13ms/step - accuracy: 0.9922 - loss: 0.0212 - val_accuracy: 0.9794 - val_loss: 0.0337\n",
            "Epoch 39/300\n",
            "\u001b[1m281/281\u001b[0m \u001b[32m━━━━━━━━━━━━━━━━━━━━\u001b[0m\u001b[37m\u001b[0m \u001b[1m4s\u001b[0m 13ms/step - accuracy: 0.9923 - loss: 0.0207 - val_accuracy: 0.9869 - val_loss: 0.0332\n",
            "Epoch 40/300\n",
            "\u001b[1m281/281\u001b[0m \u001b[32m━━━━━━━━━━━━━━━━━━━━\u001b[0m\u001b[37m\u001b[0m \u001b[1m3s\u001b[0m 12ms/step - accuracy: 0.9929 - loss: 0.0182 - val_accuracy: 0.9915 - val_loss: 0.0270\n",
            "Epoch 41/300\n",
            "\u001b[1m281/281\u001b[0m \u001b[32m━━━━━━━━━━━━━━━━━━━━\u001b[0m\u001b[37m\u001b[0m \u001b[1m4s\u001b[0m 13ms/step - accuracy: 0.9898 - loss: 0.0284 - val_accuracy: 0.9509 - val_loss: 0.1946\n",
            "Epoch 42/300\n",
            "\u001b[1m281/281\u001b[0m \u001b[32m━━━━━━━━━━━━━━━━━━━━\u001b[0m\u001b[37m\u001b[0m \u001b[1m3s\u001b[0m 12ms/step - accuracy: 0.9901 - loss: 0.0287 - val_accuracy: 0.9923 - val_loss: 0.0263\n",
            "Epoch 43/300\n",
            "\u001b[1m281/281\u001b[0m \u001b[32m━━━━━━━━━━━━━━━━━━━━\u001b[0m\u001b[37m\u001b[0m \u001b[1m3s\u001b[0m 12ms/step - accuracy: 0.9930 - loss: 0.0215 - val_accuracy: 0.9933 - val_loss: 0.0258\n",
            "Epoch 44/300\n",
            "\u001b[1m281/281\u001b[0m \u001b[32m━━━━━━━━━━━━━━━━━━━━\u001b[0m\u001b[37m\u001b[0m \u001b[1m4s\u001b[0m 13ms/step - accuracy: 0.9934 - loss: 0.0191 - val_accuracy: 0.9948 - val_loss: 0.0158\n",
            "Epoch 45/300\n",
            "\u001b[1m281/281\u001b[0m \u001b[32m━━━━━━━━━━━━━━━━━━━━\u001b[0m\u001b[37m\u001b[0m \u001b[1m4s\u001b[0m 13ms/step - accuracy: 0.9926 - loss: 0.0200 - val_accuracy: 0.9983 - val_loss: 0.0076\n",
            "Epoch 46/300\n",
            "\u001b[1m281/281\u001b[0m \u001b[32m━━━━━━━━━━━━━━━━━━━━\u001b[0m\u001b[37m\u001b[0m \u001b[1m4s\u001b[0m 13ms/step - accuracy: 0.9929 - loss: 0.0199 - val_accuracy: 0.9971 - val_loss: 0.0140\n",
            "Epoch 47/300\n",
            "\u001b[1m281/281\u001b[0m \u001b[32m━━━━━━━━━━━━━━━━━━━━\u001b[0m\u001b[37m\u001b[0m \u001b[1m4s\u001b[0m 12ms/step - accuracy: 0.9949 - loss: 0.0141 - val_accuracy: 0.9975 - val_loss: 0.0114\n",
            "Epoch 48/300\n",
            "\u001b[1m281/281\u001b[0m \u001b[32m━━━━━━━━━━━━━━━━━━━━\u001b[0m\u001b[37m\u001b[0m \u001b[1m3s\u001b[0m 12ms/step - accuracy: 0.9942 - loss: 0.0160 - val_accuracy: 0.9978 - val_loss: 0.0073\n",
            "Epoch 49/300\n",
            "\u001b[1m281/281\u001b[0m \u001b[32m━━━━━━━━━━━━━━━━━━━━\u001b[0m\u001b[37m\u001b[0m \u001b[1m4s\u001b[0m 13ms/step - accuracy: 0.9950 - loss: 0.0171 - val_accuracy: 0.9967 - val_loss: 0.0134\n",
            "Epoch 50/300\n",
            "\u001b[1m281/281\u001b[0m \u001b[32m━━━━━━━━━━━━━━━━━━━━\u001b[0m\u001b[37m\u001b[0m \u001b[1m3s\u001b[0m 12ms/step - accuracy: 0.9943 - loss: 0.0171 - val_accuracy: 0.9980 - val_loss: 0.0059\n",
            "Epoch 51/300\n",
            "\u001b[1m281/281\u001b[0m \u001b[32m━━━━━━━━━━━━━━━━━━━━\u001b[0m\u001b[37m\u001b[0m \u001b[1m3s\u001b[0m 12ms/step - accuracy: 0.9941 - loss: 0.0170 - val_accuracy: 0.9987 - val_loss: 0.0048\n",
            "Epoch 52/300\n",
            "\u001b[1m281/281\u001b[0m \u001b[32m━━━━━━━━━━━━━━━━━━━━\u001b[0m\u001b[37m\u001b[0m \u001b[1m3s\u001b[0m 12ms/step - accuracy: 0.9945 - loss: 0.0166 - val_accuracy: 0.9889 - val_loss: 0.0518\n",
            "Epoch 53/300\n",
            "\u001b[1m281/281\u001b[0m \u001b[32m━━━━━━━━━━━━━━━━━━━━\u001b[0m\u001b[37m\u001b[0m \u001b[1m3s\u001b[0m 12ms/step - accuracy: 0.9938 - loss: 0.0185 - val_accuracy: 0.9982 - val_loss: 0.0073\n",
            "Epoch 54/300\n",
            "\u001b[1m281/281\u001b[0m \u001b[32m━━━━━━━━━━━━━━━━━━━━\u001b[0m\u001b[37m\u001b[0m \u001b[1m3s\u001b[0m 12ms/step - accuracy: 0.9946 - loss: 0.0153 - val_accuracy: 0.9930 - val_loss: 0.0204\n",
            "Epoch 55/300\n",
            "\u001b[1m281/281\u001b[0m \u001b[32m━━━━━━━━━━━━━━━━━━━━\u001b[0m\u001b[37m\u001b[0m \u001b[1m4s\u001b[0m 13ms/step - accuracy: 0.9938 - loss: 0.0177 - val_accuracy: 0.9974 - val_loss: 0.0087\n",
            "Epoch 56/300\n",
            "\u001b[1m281/281\u001b[0m \u001b[32m━━━━━━━━━━━━━━━━━━━━\u001b[0m\u001b[37m\u001b[0m \u001b[1m4s\u001b[0m 13ms/step - accuracy: 0.9933 - loss: 0.0185 - val_accuracy: 0.9987 - val_loss: 0.0064\n",
            "Epoch 57/300\n",
            "\u001b[1m281/281\u001b[0m \u001b[32m━━━━━━━━━━━━━━━━━━━━\u001b[0m\u001b[37m\u001b[0m \u001b[1m4s\u001b[0m 13ms/step - accuracy: 0.9921 - loss: 0.0233 - val_accuracy: 0.9906 - val_loss: 0.0368\n",
            "Epoch 58/300\n",
            "\u001b[1m281/281\u001b[0m \u001b[32m━━━━━━━━━━━━━━━━━━━━\u001b[0m\u001b[37m\u001b[0m \u001b[1m4s\u001b[0m 13ms/step - accuracy: 0.9942 - loss: 0.0170 - val_accuracy: 0.9958 - val_loss: 0.0083\n",
            "Epoch 59/300\n",
            "\u001b[1m281/281\u001b[0m \u001b[32m━━━━━━━━━━━━━━━━━━━━\u001b[0m\u001b[37m\u001b[0m \u001b[1m4s\u001b[0m 13ms/step - accuracy: 0.9934 - loss: 0.0177 - val_accuracy: 0.9982 - val_loss: 0.0049\n",
            "Epoch 60/300\n",
            "\u001b[1m281/281\u001b[0m \u001b[32m━━━━━━━━━━━━━━━━━━━━\u001b[0m\u001b[37m\u001b[0m \u001b[1m4s\u001b[0m 13ms/step - accuracy: 0.9953 - loss: 0.0147 - val_accuracy: 0.9988 - val_loss: 0.0041\n",
            "Epoch 61/300\n",
            "\u001b[1m281/281\u001b[0m \u001b[32m━━━━━━━━━━━━━━━━━━━━\u001b[0m\u001b[37m\u001b[0m \u001b[1m4s\u001b[0m 13ms/step - accuracy: 0.9947 - loss: 0.0158 - val_accuracy: 0.9981 - val_loss: 0.0046\n",
            "Epoch 62/300\n",
            "\u001b[1m281/281\u001b[0m \u001b[32m━━━━━━━━━━━━━━━━━━━━\u001b[0m\u001b[37m\u001b[0m \u001b[1m4s\u001b[0m 13ms/step - accuracy: 0.9945 - loss: 0.0155 - val_accuracy: 0.9982 - val_loss: 0.0073\n",
            "Epoch 63/300\n",
            "\u001b[1m281/281\u001b[0m \u001b[32m━━━━━━━━━━━━━━━━━━━━\u001b[0m\u001b[37m\u001b[0m \u001b[1m4s\u001b[0m 13ms/step - accuracy: 0.9961 - loss: 0.0123 - val_accuracy: 0.9962 - val_loss: 0.0118\n",
            "Epoch 64/300\n",
            "\u001b[1m281/281\u001b[0m \u001b[32m━━━━━━━━━━━━━━━━━━━━\u001b[0m\u001b[37m\u001b[0m \u001b[1m4s\u001b[0m 13ms/step - accuracy: 0.9947 - loss: 0.0146 - val_accuracy: 0.9968 - val_loss: 0.0110\n",
            "Epoch 65/300\n",
            "\u001b[1m281/281\u001b[0m \u001b[32m━━━━━━━━━━━━━━━━━━━━\u001b[0m\u001b[37m\u001b[0m \u001b[1m4s\u001b[0m 13ms/step - accuracy: 0.9943 - loss: 0.0163 - val_accuracy: 0.9908 - val_loss: 0.0289\n",
            "Epoch 66/300\n",
            "\u001b[1m281/281\u001b[0m \u001b[32m━━━━━━━━━━━━━━━━━━━━\u001b[0m\u001b[37m\u001b[0m \u001b[1m4s\u001b[0m 13ms/step - accuracy: 0.9942 - loss: 0.0148 - val_accuracy: 0.9988 - val_loss: 0.0023\n",
            "Epoch 67/300\n",
            "\u001b[1m281/281\u001b[0m \u001b[32m━━━━━━━━━━━━━━━━━━━━\u001b[0m\u001b[37m\u001b[0m \u001b[1m4s\u001b[0m 13ms/step - accuracy: 0.9941 - loss: 0.0161 - val_accuracy: 0.9973 - val_loss: 0.0070\n",
            "Epoch 68/300\n",
            "\u001b[1m281/281\u001b[0m \u001b[32m━━━━━━━━━━━━━━━━━━━━\u001b[0m\u001b[37m\u001b[0m \u001b[1m4s\u001b[0m 13ms/step - accuracy: 0.9951 - loss: 0.0142 - val_accuracy: 0.9984 - val_loss: 0.0037\n",
            "Epoch 69/300\n",
            "\u001b[1m281/281\u001b[0m \u001b[32m━━━━━━━━━━━━━━━━━━━━\u001b[0m\u001b[37m\u001b[0m \u001b[1m4s\u001b[0m 13ms/step - accuracy: 0.9957 - loss: 0.0115 - val_accuracy: 0.9965 - val_loss: 0.0090\n",
            "Epoch 70/300\n",
            "\u001b[1m281/281\u001b[0m \u001b[32m━━━━━━━━━━━━━━━━━━━━\u001b[0m\u001b[37m\u001b[0m \u001b[1m4s\u001b[0m 13ms/step - accuracy: 0.9952 - loss: 0.0122 - val_accuracy: 0.9987 - val_loss: 0.0025\n",
            "Epoch 71/300\n",
            "\u001b[1m281/281\u001b[0m \u001b[32m━━━━━━━━━━━━━━━━━━━━\u001b[0m\u001b[37m\u001b[0m \u001b[1m4s\u001b[0m 13ms/step - accuracy: 0.9940 - loss: 0.0171 - val_accuracy: 0.9982 - val_loss: 0.0046\n",
            "Epoch 72/300\n",
            "\u001b[1m281/281\u001b[0m \u001b[32m━━━━━━━━━━━━━━━━━━━━\u001b[0m\u001b[37m\u001b[0m \u001b[1m4s\u001b[0m 13ms/step - accuracy: 0.9965 - loss: 0.0099 - val_accuracy: 0.9985 - val_loss: 0.0034\n",
            "Epoch 73/300\n",
            "\u001b[1m281/281\u001b[0m \u001b[32m━━━━━━━━━━━━━━━━━━━━\u001b[0m\u001b[37m\u001b[0m \u001b[1m4s\u001b[0m 13ms/step - accuracy: 0.9962 - loss: 0.0107 - val_accuracy: 0.9959 - val_loss: 0.0085\n",
            "Epoch 74/300\n",
            "\u001b[1m281/281\u001b[0m \u001b[32m━━━━━━━━━━━━━━━━━━━━\u001b[0m\u001b[37m\u001b[0m \u001b[1m4s\u001b[0m 13ms/step - accuracy: 0.9956 - loss: 0.0119 - val_accuracy: 0.9943 - val_loss: 0.0197\n",
            "Epoch 75/300\n",
            "\u001b[1m281/281\u001b[0m \u001b[32m━━━━━━━━━━━━━━━━━━━━\u001b[0m\u001b[37m\u001b[0m \u001b[1m4s\u001b[0m 13ms/step - accuracy: 0.9941 - loss: 0.0132 - val_accuracy: 0.9708 - val_loss: 0.0782\n",
            "Epoch 76/300\n",
            "\u001b[1m281/281\u001b[0m \u001b[32m━━━━━━━━━━━━━━━━━━━━\u001b[0m\u001b[37m\u001b[0m \u001b[1m4s\u001b[0m 13ms/step - accuracy: 0.9799 - loss: 0.0698 - val_accuracy: 0.9947 - val_loss: 0.0190\n",
            "Epoch 77/300\n",
            "\u001b[1m281/281\u001b[0m \u001b[32m━━━━━━━━━━━━━━━━━━━━\u001b[0m\u001b[37m\u001b[0m \u001b[1m4s\u001b[0m 13ms/step - accuracy: 0.9959 - loss: 0.0129 - val_accuracy: 0.9987 - val_loss: 0.0041\n",
            "Epoch 78/300\n",
            "\u001b[1m281/281\u001b[0m \u001b[32m━━━━━━━━━━━━━━━━━━━━\u001b[0m\u001b[37m\u001b[0m \u001b[1m4s\u001b[0m 13ms/step - accuracy: 0.9967 - loss: 0.0090 - val_accuracy: 0.9973 - val_loss: 0.0116\n",
            "Epoch 79/300\n",
            "\u001b[1m281/281\u001b[0m \u001b[32m━━━━━━━━━━━━━━━━━━━━\u001b[0m\u001b[37m\u001b[0m \u001b[1m4s\u001b[0m 13ms/step - accuracy: 0.9975 - loss: 0.0078 - val_accuracy: 0.9946 - val_loss: 0.0154\n",
            "Epoch 80/300\n",
            "\u001b[1m281/281\u001b[0m \u001b[32m━━━━━━━━━━━━━━━━━━━━\u001b[0m\u001b[37m\u001b[0m \u001b[1m4s\u001b[0m 13ms/step - accuracy: 0.9960 - loss: 0.0126 - val_accuracy: 0.9980 - val_loss: 0.0046\n",
            "Epoch 81/300\n",
            "\u001b[1m281/281\u001b[0m \u001b[32m━━━━━━━━━━━━━━━━━━━━\u001b[0m\u001b[37m\u001b[0m \u001b[1m4s\u001b[0m 13ms/step - accuracy: 0.9968 - loss: 0.0089 - val_accuracy: 0.9988 - val_loss: 0.0021\n",
            "Epoch 82/300\n",
            "\u001b[1m281/281\u001b[0m \u001b[32m━━━━━━━━━━━━━━━━━━━━\u001b[0m\u001b[37m\u001b[0m \u001b[1m4s\u001b[0m 13ms/step - accuracy: 0.9962 - loss: 0.0101 - val_accuracy: 0.9962 - val_loss: 0.0295\n",
            "Epoch 83/300\n",
            "\u001b[1m281/281\u001b[0m \u001b[32m━━━━━━━━━━━━━━━━━━━━\u001b[0m\u001b[37m\u001b[0m \u001b[1m4s\u001b[0m 13ms/step - accuracy: 0.9899 - loss: 0.0359 - val_accuracy: 0.9988 - val_loss: 0.0040\n",
            "Epoch 84/300\n",
            "\u001b[1m281/281\u001b[0m \u001b[32m━━━━━━━━━━━━━━━━━━━━\u001b[0m\u001b[37m\u001b[0m \u001b[1m4s\u001b[0m 13ms/step - accuracy: 0.9963 - loss: 0.0104 - val_accuracy: 0.9988 - val_loss: 0.0037\n",
            "Epoch 85/300\n",
            "\u001b[1m281/281\u001b[0m \u001b[32m━━━━━━━━━━━━━━━━━━━━\u001b[0m\u001b[37m\u001b[0m \u001b[1m4s\u001b[0m 13ms/step - accuracy: 0.9961 - loss: 0.0095 - val_accuracy: 0.9990 - val_loss: 0.0020\n",
            "Epoch 86/300\n",
            "\u001b[1m281/281\u001b[0m \u001b[32m━━━━━━━━━━━━━━━━━━━━\u001b[0m\u001b[37m\u001b[0m \u001b[1m4s\u001b[0m 13ms/step - accuracy: 0.9972 - loss: 0.0074 - val_accuracy: 0.9991 - val_loss: 0.0027\n",
            "Minimum validation loss: 0.0020477327052503824\n"
          ]
        },
        {
          "output_type": "display_data",
          "data": {
            "text/plain": [
              "<Figure size 432x288 with 1 Axes>"
            ],
            "image/png": "[encoded data removed]"
          },
          "metadata": {
            "needs_background": "light"
          }
        }
      ]
    },
    {
      "cell_type": "markdown",
      "source": [
        "##Testing"
      ],
      "metadata": {
        "id": "8yFzUSv0sVZ3"
      }
    },
    {
      "cell_type": "markdown",
      "source": [
        "###Complete region"
      ],
      "metadata": {
        "id": "BDaWnOGQ7LoW"
      }
    },
    {
      "cell_type": "code",
      "source": [
        "data_path = '/your/path/'\n",
        "test_pngs = glob.glob(data_path + 'test/sample*png')\n",
        "\n",
        "test_ims = {}\n",
        "\n",
        "for png in test_pngs:\n",
        "    test_ims[png]=np.array(PIL.Image.open(png).convert('L'))\n",
        "\n",
        "test_questions = np.array([each for each in test_ims.values()]).astype(np.float32)\n",
        "test_solutions_swp = np.array([float(each.split('_')[-1].split('.')[0])/(1e16)\n",
        "                            for each in test_ims]).astype(np.float32)\n",
        "\n",
        "test_solutions = []\n",
        "for n in test_solutions_swp:\n",
        "  test_solutions.append(parameter_stratification(n))"
      ],
      "metadata": {
        "id": "hraMMKQgubBS"
      },
      "execution_count": null,
      "outputs": []
    },
    {
      "cell_type": "code",
      "source": [
        "#Apply model:\n",
        "test_answers = model.predict(test_questions)\n",
        "\n",
        "test_answers_classes = [np.argmax(y, axis=None, out=None) for y in test_answers]\n",
        "print('Accuracy:', accuracy_score(test_answers_classes, test_solutions))"
      ],
      "metadata": {
        "id": "Y0f1Lb3eubBS",
        "colab": {
          "base_uri": "https://localhost:8080/"
        },
        "outputId": "e7e6d0c3-1533-451f-9073-0330b1f08c41"
      },
      "execution_count": null,
      "outputs": [
        {
          "output_type": "stream",
          "name": "stdout",
          "text": [
            "\u001b[1m32/32\u001b[0m \u001b[32m━━━━━━━━━━━━━━━━━━━━\u001b[0m\u001b[37m\u001b[0m \u001b[1m1s\u001b[0m 15ms/step\n",
            "Accuracy: 0.966\n"
          ]
        }
      ]
    },
    {
      "cell_type": "code",
      "source": [
        "#le = LabelEncoder()\n",
        "#test_y_swp = le.fit_transform(test_y)\n",
        "\n",
        "label_binarizer = LabelBinarizer().fit(test_solutions)\n",
        "test_y_swp = label_binarizer.transform(test_solutions)\n",
        "pred_y_swp = label_binarizer.transform(test_answers_classes)"
      ],
      "metadata": {
        "id": "kMhs_gwaubBS"
      },
      "execution_count": null,
      "outputs": []
    },
    {
      "cell_type": "code",
      "source": [
        "report = classification_report(test_solutions, test_answers_classes, output_dict=True)\n",
        "df_report = pd.DataFrame(report).transpose()\n",
        "df_report"
      ],
      "metadata": {
        "id": "2lC1VZj4ubBS",
        "colab": {
          "base_uri": "https://localhost:8080/",
          "height": 300
        },
        "outputId": "d2d561a1-0f7b-4925-a892-b7c1e959774c"
      },
      "execution_count": null,
      "outputs": [
        {
          "output_type": "execute_result",
          "data": {
            "text/plain": [
              "              precision    recall  f1-score   support\n",
              "1              1.000000  1.000000  1.000000   439.000\n",
              "2              1.000000  1.000000  1.000000    93.000\n",
              "3              1.000000  1.000000  1.000000    22.000\n",
              "4              0.975309  0.894340  0.933071   265.000\n",
              "5              0.862069  0.966851  0.911458   181.000\n",
              "accuracy       0.966000  0.966000  0.966000     0.966\n",
              "macro avg      0.967476  0.972238  0.968906  1000.000\n",
              "weighted avg   0.968491  0.966000  0.966238  1000.000"
            ],
            "text/html": [
              "<div>\n",
              "<style scoped>\n",
              "    .dataframe tbody tr th:only-of-type {\n",
              "        vertical-align: middle;\n",
              "    }\n",
              "\n",
              "    .dataframe tbody tr th {\n",
              "        vertical-align: top;\n",
              "    }\n",
              "\n",
              "    .dataframe thead th {\n",
              "        text-align: right;\n",
              "    }\n",
              "</style>\n",
              "<table border=\"1\" class=\"dataframe\">\n",
              "  <thead>\n",
              "    <tr style=\"text-align: right;\">\n",
              "      <th></th>\n",
              "      <th>precision</th>\n",
              "      <th>recall</th>\n",
              "      <th>f1-score</th>\n",
              "      <th>support</th>\n",
              "    </tr>\n",
              "  </thead>\n",
              "  <tbody>\n",
              "    <tr>\n",
              "      <th>1</th>\n",
              "      <td>1.000000</td>\n",
              "      <td>1.000000</td>\n",
              "      <td>1.000000</td>\n",
              "      <td>439.000</td>\n",
              "    </tr>\n",
              "    <tr>\n",
              "      <th>2</th>\n",
              "      <td>1.000000</td>\n",
              "      <td>1.000000</td>\n",
              "      <td>1.000000</td>\n",
              "      <td>93.000</td>\n",
              "    </tr>\n",
              "    <tr>\n",
              "      <th>3</th>\n",
              "      <td>1.000000</td>\n",
              "      <td>1.000000</td>\n",
              "      <td>1.000000</td>\n",
              "      <td>22.000</td>\n",
              "    </tr>\n",
              "    <tr>\n",
              "      <th>4</th>\n",
              "      <td>0.975309</td>\n",
              "      <td>0.894340</td>\n",
              "      <td>0.933071</td>\n",
              "      <td>265.000</td>\n",
              "    </tr>\n",
              "    <tr>\n",
              "      <th>5</th>\n",
              "      <td>0.862069</td>\n",
              "      <td>0.966851</td>\n",
              "      <td>0.911458</td>\n",
              "      <td>181.000</td>\n",
              "    </tr>\n",
              "    <tr>\n",
              "      <th>accuracy</th>\n",
              "      <td>0.966000</td>\n",
              "      <td>0.966000</td>\n",
              "      <td>0.966000</td>\n",
              "      <td>0.966</td>\n",
              "    </tr>\n",
              "    <tr>\n",
              "      <th>macro avg</th>\n",
              "      <td>0.967476</td>\n",
              "      <td>0.972238</td>\n",
              "      <td>0.968906</td>\n",
              "      <td>1000.000</td>\n",
              "    </tr>\n",
              "    <tr>\n",
              "      <th>weighted avg</th>\n",
              "      <td>0.968491</td>\n",
              "      <td>0.966000</td>\n",
              "      <td>0.966238</td>\n",
              "      <td>1000.000</td>\n",
              "    </tr>\n",
              "  </tbody>\n",
              "</table>\n",
              "</div>"
            ]
          },
          "metadata": {},
          "execution_count": 13
        }
      ]
    },
    {
      "cell_type": "markdown",
      "source": [
        "###Chaotic region"
      ],
      "metadata": {
        "id": "NX0-PDU47PKp"
      }
    },
    {
      "cell_type": "code",
      "source": [
        "data_path = '/your/path/'\n",
        "test_pngs = glob.glob(data_path + 'test/sample*png')\n",
        "\n",
        "test_ims = {}\n",
        "\n",
        "for png in test_pngs:\n",
        "    test_ims[png]=np.array(PIL.Image.open(png).convert('L'))\n",
        "\n",
        "test_questions = np.array([each for each in test_ims.values()]).astype(np.float32)\n",
        "test_solutions_swp = np.array([float(each.split('_')[-1].split('.')[0])/(1e16)\n",
        "                            for each in test_ims]).astype(np.float32)\n",
        "\n",
        "test_solutions = []\n",
        "for n in test_solutions_swp:\n",
        "  test_solutions.append(parameter_stratification(n))"
      ],
      "metadata": {
        "id": "Z5AuxEp07PKp"
      },
      "execution_count": null,
      "outputs": []
    },
    {
      "cell_type": "code",
      "source": [
        "#Apply model:\n",
        "test_answers = model.predict(test_questions)\n",
        "\n",
        "test_answers_classes = [np.argmax(y, axis=None, out=None) for y in test_answers]\n",
        "print('Accuracy:', accuracy_score(test_answers_classes, test_solutions))"
      ],
      "metadata": {
        "colab": {
          "base_uri": "https://localhost:8080/"
        },
        "id": "sHThjgs37PKp",
        "outputId": "ba7991ec-824d-4da7-aea4-7c976407514a"
      },
      "execution_count": null,
      "outputs": [
        {
          "output_type": "stream",
          "name": "stdout",
          "text": [
            "\u001b[1m32/32\u001b[0m \u001b[32m━━━━━━━━━━━━━━━━━━━━\u001b[0m\u001b[37m\u001b[0m \u001b[1m1s\u001b[0m 16ms/step\n",
            "Accuracy: 0.989\n"
          ]
        }
      ]
    },
    {
      "cell_type": "code",
      "source": [
        "#le = LabelEncoder()\n",
        "#test_y_swp = le.fit_transform(test_y)\n",
        "\n",
        "label_binarizer = LabelBinarizer().fit(test_solutions)\n",
        "test_y_swp = label_binarizer.transform(test_solutions)\n",
        "pred_y_swp = label_binarizer.transform(test_answers_classes)"
      ],
      "metadata": {
        "id": "POjJpBhM7PKp"
      },
      "execution_count": null,
      "outputs": []
    },
    {
      "cell_type": "code",
      "source": [
        "report = classification_report(test_solutions, test_answers_classes, output_dict=True)\n",
        "df_report = pd.DataFrame(report).transpose()\n",
        "df_report"
      ],
      "metadata": {
        "colab": {
          "base_uri": "https://localhost:8080/",
          "height": 238
        },
        "id": "JGMNe-zD7PKp",
        "outputId": "14351b99-a133-4fa2-87b8-401762b82492"
      },
      "execution_count": null,
      "outputs": [
        {
          "output_type": "execute_result",
          "data": {
            "text/plain": [
              "              precision    recall  f1-score   support\n",
              "3              0.944444  1.000000  0.971429    17.000\n",
              "4              0.990148  0.991776  0.990961   608.000\n",
              "5              0.989276  0.984000  0.986631   375.000\n",
              "accuracy       0.989000  0.989000  0.989000     0.989\n",
              "macro avg      0.974623  0.991925  0.983007  1000.000\n",
              "weighted avg   0.989044  0.989000  0.989005  1000.000"
            ],
            "text/html": [
              "<div>\n",
              "<style scoped>\n",
              "    .dataframe tbody tr th:only-of-type {\n",
              "        vertical-align: middle;\n",
              "    }\n",
              "\n",
              "    .dataframe tbody tr th {\n",
              "        vertical-align: top;\n",
              "    }\n",
              "\n",
              "    .dataframe thead th {\n",
              "        text-align: right;\n",
              "    }\n",
              "</style>\n",
              "<table border=\"1\" class=\"dataframe\">\n",
              "  <thead>\n",
              "    <tr style=\"text-align: right;\">\n",
              "      <th></th>\n",
              "      <th>precision</th>\n",
              "      <th>recall</th>\n",
              "      <th>f1-score</th>\n",
              "      <th>support</th>\n",
              "    </tr>\n",
              "  </thead>\n",
              "  <tbody>\n",
              "    <tr>\n",
              "      <th>3</th>\n",
              "      <td>0.944444</td>\n",
              "      <td>1.000000</td>\n",
              "      <td>0.971429</td>\n",
              "      <td>17.000</td>\n",
              "    </tr>\n",
              "    <tr>\n",
              "      <th>4</th>\n",
              "      <td>0.990148</td>\n",
              "      <td>0.991776</td>\n",
              "      <td>0.990961</td>\n",
              "      <td>608.000</td>\n",
              "    </tr>\n",
              "    <tr>\n",
              "      <th>5</th>\n",
              "      <td>0.989276</td>\n",
              "      <td>0.984000</td>\n",
              "      <td>0.986631</td>\n",
              "      <td>375.000</td>\n",
              "    </tr>\n",
              "    <tr>\n",
              "      <th>accuracy</th>\n",
              "      <td>0.989000</td>\n",
              "      <td>0.989000</td>\n",
              "      <td>0.989000</td>\n",
              "      <td>0.989</td>\n",
              "    </tr>\n",
              "    <tr>\n",
              "      <th>macro avg</th>\n",
              "      <td>0.974623</td>\n",
              "      <td>0.991925</td>\n",
              "      <td>0.983007</td>\n",
              "      <td>1000.000</td>\n",
              "    </tr>\n",
              "    <tr>\n",
              "      <th>weighted avg</th>\n",
              "      <td>0.989044</td>\n",
              "      <td>0.989000</td>\n",
              "      <td>0.989005</td>\n",
              "      <td>1000.000</td>\n",
              "    </tr>\n",
              "  </tbody>\n",
              "</table>\n",
              "</div>"
            ]
          },
          "metadata": {},
          "execution_count": 13
        }
      ]
    }
  ]
}