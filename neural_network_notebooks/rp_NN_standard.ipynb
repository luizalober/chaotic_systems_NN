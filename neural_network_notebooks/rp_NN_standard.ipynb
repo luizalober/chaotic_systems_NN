{
  "nbformat": 4,
  "nbformat_minor": 0,
  "metadata": {
    "colab": {
      "provenance": [],
      "toc_visible": true
    },
    "kernelspec": {
      "name": "python3",
      "display_name": "Python 3"
    },
    "language_info": {
      "name": "python"
    }
  },
  "cells": [
    {
      "cell_type": "markdown",
      "source": [
        "#Library and functions"
      ],
      "metadata": {
        "id": "RcvC1t6_ENWq"
      }
    },
    {
      "cell_type": "code",
      "execution_count": null,
      "metadata": {
        "collapsed": true,
        "id": "_OgBtAnpdSd7"
      },
      "outputs": [],
      "source": [
        "#--- Reproductibility ---\n",
        "%env PYTHONHASHSEED=0\n",
        "from numpy.random import seed\n",
        "seed(42)\n",
        "from tensorflow import keras\n",
        "keras.utils.set_random_seed(42)\n",
        "import tensorflow as tf\n",
        "tf.config.experimental.enable_op_determinism()\n",
        "\n",
        "#---\n",
        "import numpy as np\n",
        "import numpy as np\n",
        "import pandas as pd\n",
        "from sklearn.decomposition import PCA\n",
        "from collections import Counter\n",
        "import PIL\n",
        "import glob\n",
        "from tqdm import tqdm\n",
        "import networkx as nx\n",
        "\n",
        "#Graphics\n",
        "from scipy.stats import gaussian_kde\n",
        "from scipy.stats import norm\n",
        "import seaborn as sns\n",
        "from matplotlib import cm\n",
        "import matplotlib.pyplot as plt\n",
        "from matplotlib.patches import Rectangle\n",
        "from keras.preprocessing import image\n",
        "\n",
        "#NN\n",
        "from tensorflow.keras import layers, callbacks, Input\n",
        "from keras.applications.vgg19 import VGG19\n",
        "from keras.applications.resnet50 import ResNet50\n",
        "\n",
        "#sklearn modules: evaluation\n",
        "from sklearn.model_selection import train_test_split\n",
        "from sklearn.ensemble import RandomForestClassifier\n",
        "from sklearn.metrics import accuracy_score, confusion_matrix, roc_curve, classification_report, RocCurveDisplay\n",
        "from sklearn.model_selection import GridSearchCV\n",
        "from sklearn.preprocessing import MinMaxScaler, LabelBinarizer\n",
        "from sklearn.datasets import make_classification\n",
        "from sklearn.preprocessing import LabelEncoder\n",
        "from sklearn.metrics import mean_squared_error, root_mean_squared_error\n",
        "\n",
        "#Recurrence plots\n",
        "from pyts.image import RecurrencePlot\n",
        "from pyts.datasets import load_gunpoint\n",
        "from mpl_toolkits.axes_grid1 import ImageGrid"
      ]
    },
    {
      "cell_type": "code",
      "source": [
        "def _load_image(img_path):\n",
        "  img = image.load_img(img_path, target_size=(100, 100))\n",
        "  img = image.img_to_array(img)\n",
        "  img = np.expand_dims(img, axis=0)\n",
        "  return img"
      ],
      "metadata": {
        "id": "ht2m0y9GIClA"
      },
      "execution_count": null,
      "outputs": []
    },
    {
      "cell_type": "markdown",
      "source": [
        "# Neural net training: regression"
      ],
      "metadata": {
        "id": "XVq53Ur1i5E_"
      }
    },
    {
      "cell_type": "markdown",
      "source": [
        "##Architecture"
      ],
      "metadata": {
        "id": "JJAhC1-FqUYF"
      }
    },
    {
      "cell_type": "code",
      "source": [
        "model = keras.Sequential([\n",
        "  keras.layers.Conv2D(3, 4, activation='relu'),\n",
        "  keras.layers.Conv2D(3, 4, activation='relu'),\n",
        "  keras.layers.AveragePooling2D(2),\n",
        "  keras.layers.Conv2D(3, 4, activation='relu'),\n",
        "  keras.layers.Conv2D(3, 4, activation='relu'),\n",
        "  keras.layers.AveragePooling2D(2),\n",
        "  keras.layers.Conv2D(3, 4, activation='relu'),\n",
        "  keras.layers.Conv2D(3, 4, activation='relu'),\n",
        "  keras.layers.AveragePooling2D(2),\n",
        "  keras.layers.Conv2D(3, 4, activation='relu'),\n",
        "  keras.layers.Conv2D(3, 4, activation='relu'),\n",
        "  keras.layers.Flatten(),\n",
        "  keras.layers.Dense(units=1024, activation='relu'),\n",
        "  keras.layers.Dense(units=512, activation='relu'),\n",
        "  keras.layers.Dense(units=256, activation='relu'),\n",
        "  keras.layers.Dense(units=128, activation='relu'),\n",
        "  keras.layers.Dense(units=64, activation='relu'),\n",
        "  keras.layers.Dense(units=1)\n",
        "])\n",
        "\n",
        "model.compile(loss='mean_squared_error', optimizer=\"adam\")"
      ],
      "metadata": {
        "id": "hd0OpCYDj113"
      },
      "execution_count": null,
      "outputs": []
    },
    {
      "cell_type": "markdown",
      "source": [
        "## Training"
      ],
      "metadata": {
        "id": "DWVEHjBiS1cD"
      }
    },
    {
      "cell_type": "code",
      "source": [
        "#Read all pngs from the train set\n",
        "data_path = '/your/path/'\n",
        "pngs = glob.glob(data_path + 'delta_*/*png')\n",
        "\n",
        "ims = {}\n",
        "for png in pngs:\n",
        "  ims[png]=np.array(PIL.Image.open(png).convert('L'))"
      ],
      "metadata": {
        "id": "Fx5jygsDrlej"
      },
      "execution_count": null,
      "outputs": []
    },
    {
      "cell_type": "code",
      "source": [
        "#Questions = images\n",
        "#Solutions = a parameter that generated that image\n",
        "\n",
        "questions = np.array([each for each in ims.values()]).astype(np.float32)\n",
        "solutions = np.array([float(each.split('_')[-1].split('.')[0].split('/')[1])/(1e16) for each in ims]).astype(np.float32)"
      ],
      "metadata": {
        "id": "4pChzShLruhe"
      },
      "execution_count": null,
      "outputs": []
    },
    {
      "cell_type": "code",
      "source": [
        "N_size = 100\n",
        "\n",
        "#Train/test split (gnuplot data):\n",
        "X_train, X_test, y_train, y_test = train_test_split(questions, solutions, test_size=0.3, random_state=42)\n",
        "#X_train, X_test, y_train, y_test = train_test_split(ims, solutions, test_size=0.3, random_state=42)\n",
        "\n",
        "X_train = X_train.reshape(-1, N_size, N_size, 1)\n",
        "X_test = X_test.reshape(-1, N_size, N_size, 1)"
      ],
      "metadata": {
        "id": "AKekjJKv1wbE"
      },
      "execution_count": null,
      "outputs": []
    },
    {
      "cell_type": "code",
      "source": [
        "early_stopping = callbacks.EarlyStopping(\n",
        "    min_delta=0.001, # minimium amount of change to count as an improvement\n",
        "    patience=20, # how many epochs to wait before stopping\n",
        "    restore_best_weights=True,\n",
        ")"
      ],
      "metadata": {
        "id": "52OOqc7J2gMa"
      },
      "execution_count": null,
      "outputs": []
    },
    {
      "cell_type": "code",
      "source": [
        "#0<k<1\n",
        "history = model.fit(\n",
        "    X_train, y_train,\n",
        "    validation_data=(X_test, y_test),\n",
        "    batch_size=100,\n",
        "    epochs=300,\n",
        "    callbacks=[early_stopping], # put your callbacks in a list\n",
        "    verbose=1,  # turn off training log\n",
        "    shuffle=False\n",
        ")\n",
        "\n",
        "history_df = pd.DataFrame(history.history)\n",
        "history_df.loc[:, ['loss', 'val_loss']].plot();\n",
        "print(\"Minimum validation loss: {}\".format(history_df['val_loss'].min()))"
      ],
      "metadata": {
        "colab": {
          "base_uri": "https://localhost:8080/",
          "height": 1000
        },
        "outputId": "d36413f1-6d05-4c0f-e0e1-13c36b400988",
        "id": "_OhTQ0mAUqx1"
      },
      "execution_count": null,
      "outputs": [
        {
          "output_type": "stream",
          "name": "stderr",
          "text": [
            "2025-02-20 11:35:25.625294: W external/local_tsl/tsl/framework/cpu_allocator_impl.cc:83] Allocation of 1120000000 exceeds 10% of free system memory.\n",
            "2025-02-20 11:35:26.330823: W external/local_tsl/tsl/framework/cpu_allocator_impl.cc:83] Allocation of 1120000000 exceeds 10% of free system memory.\n"
          ]
        },
        {
          "output_type": "stream",
          "name": "stdout",
          "text": [
            "Epoch 1/300\n"
          ]
        },
        {
          "output_type": "stream",
          "name": "stderr",
          "text": [
            "2025-02-20 11:35:26.847231: W external/local_tsl/tsl/framework/cpu_allocator_impl.cc:83] Allocation of 1120000000 exceeds 10% of free system memory.\n",
            "WARNING: All log messages before absl::InitializeLog() is called are written to STDERR\n",
            "I0000 00:00:1740062129.335946   64540 service.cc:145] XLA service 0x7f987c029bb0 initialized for platform CUDA (this does not guarantee that XLA will be used). Devices:\n",
            "I0000 00:00:1740062129.335976   64540 service.cc:153]   StreamExecutor device (0): NVIDIA GeForce RTX 2060 SUPER, Compute Capability 7.5\n",
            "2025-02-20 11:35:29.409746: I tensorflow/compiler/mlir/tensorflow/utils/dump_mlir_util.cc:268] disabling MLIR crash reproducer, set env var `MLIR_CRASH_REPRODUCER_DIRECTORY` to enable.\n",
            "2025-02-20 11:35:29.670784: I external/local_xla/xla/stream_executor/cuda/cuda_dnn.cc:465] Loaded cuDNN version 8907\n"
          ]
        },
        {
          "output_type": "stream",
          "name": "stdout",
          "text": [
            "\u001b[1m 14/280\u001b[0m \u001b[32m━\u001b[0m\u001b[37m━━━━━━━━━━━━━━━━━━━\u001b[0m \u001b[1m3s\u001b[0m 13ms/step - loss: 0.2422"
          ]
        },
        {
          "output_type": "stream",
          "name": "stderr",
          "text": [
            "WARNING: All log messages before absl::InitializeLog() is called are written to STDERR\n",
            "I0000 00:00:1740062131.860307   64540 asm_compiler.cc:369] ptxas warning : Registers are spilled to local memory in function 'input_reduce_select_fusion_6', 8 bytes spill stores, 8 bytes spill loads\n",
            "\n",
            "I0000 00:00:1740062131.864028   64540 device_compiler.h:188] Compiled cluster using XLA!  This line is logged at most once for the lifetime of the process.\n"
          ]
        },
        {
          "output_type": "stream",
          "name": "stdout",
          "text": [
            "\u001b[1m280/280\u001b[0m \u001b[32m━━━━━━━━━━━━━━━━━━━━\u001b[0m\u001b[37m\u001b[0m \u001b[1m10s\u001b[0m 18ms/step - loss: 0.0522 - val_loss: 0.0036\n",
            "Epoch 2/300\n",
            "\u001b[1m280/280\u001b[0m \u001b[32m━━━━━━━━━━━━━━━━━━━━\u001b[0m\u001b[37m\u001b[0m \u001b[1m4s\u001b[0m 14ms/step - loss: 0.0033 - val_loss: 0.0029\n",
            "Epoch 3/300\n",
            "\u001b[1m280/280\u001b[0m \u001b[32m━━━━━━━━━━━━━━━━━━━━\u001b[0m\u001b[37m\u001b[0m \u001b[1m4s\u001b[0m 14ms/step - loss: 0.0030 - val_loss: 0.0026\n",
            "Epoch 4/300\n",
            "\u001b[1m280/280\u001b[0m \u001b[32m━━━━━━━━━━━━━━━━━━━━\u001b[0m\u001b[37m\u001b[0m \u001b[1m4s\u001b[0m 14ms/step - loss: 0.0028 - val_loss: 0.0025\n",
            "Epoch 5/300\n",
            "\u001b[1m280/280\u001b[0m \u001b[32m━━━━━━━━━━━━━━━━━━━━\u001b[0m\u001b[37m\u001b[0m \u001b[1m4s\u001b[0m 13ms/step - loss: 0.0027 - val_loss: 0.0024\n",
            "Epoch 6/300\n",
            "\u001b[1m280/280\u001b[0m \u001b[32m━━━━━━━━━━━━━━━━━━━━\u001b[0m\u001b[37m\u001b[0m \u001b[1m4s\u001b[0m 14ms/step - loss: 0.0025 - val_loss: 0.0024\n",
            "Epoch 7/300\n",
            "\u001b[1m280/280\u001b[0m \u001b[32m━━━━━━━━━━━━━━━━━━━━\u001b[0m\u001b[37m\u001b[0m \u001b[1m4s\u001b[0m 13ms/step - loss: 0.0024 - val_loss: 0.0024\n",
            "Epoch 8/300\n",
            "\u001b[1m280/280\u001b[0m \u001b[32m━━━━━━━━━━━━━━━━━━━━\u001b[0m\u001b[37m\u001b[0m \u001b[1m4s\u001b[0m 13ms/step - loss: 0.0022 - val_loss: 0.0021\n",
            "Epoch 9/300\n",
            "\u001b[1m280/280\u001b[0m \u001b[32m━━━━━━━━━━━━━━━━━━━━\u001b[0m\u001b[37m\u001b[0m \u001b[1m4s\u001b[0m 14ms/step - loss: 0.0020 - val_loss: 0.0020\n",
            "Epoch 10/300\n",
            "\u001b[1m280/280\u001b[0m \u001b[32m━━━━━━━━━━━━━━━━━━━━\u001b[0m\u001b[37m\u001b[0m \u001b[1m4s\u001b[0m 13ms/step - loss: 0.0019 - val_loss: 0.0018\n",
            "Epoch 11/300\n",
            "\u001b[1m280/280\u001b[0m \u001b[32m━━━━━━━━━━━━━━━━━━━━\u001b[0m\u001b[37m\u001b[0m \u001b[1m4s\u001b[0m 13ms/step - loss: 0.0018 - val_loss: 0.0019\n",
            "Epoch 12/300\n",
            "\u001b[1m280/280\u001b[0m \u001b[32m━━━━━━━━━━━━━━━━━━━━\u001b[0m\u001b[37m\u001b[0m \u001b[1m4s\u001b[0m 13ms/step - loss: 0.0018 - val_loss: 0.0019\n",
            "Epoch 13/300\n",
            "\u001b[1m280/280\u001b[0m \u001b[32m━━━━━━━━━━━━━━━━━━━━\u001b[0m\u001b[37m\u001b[0m \u001b[1m4s\u001b[0m 13ms/step - loss: 0.0017 - val_loss: 0.0019\n",
            "Epoch 14/300\n",
            "\u001b[1m280/280\u001b[0m \u001b[32m━━━━━━━━━━━━━━━━━━━━\u001b[0m\u001b[37m\u001b[0m \u001b[1m4s\u001b[0m 13ms/step - loss: 0.0016 - val_loss: 0.0018\n",
            "Epoch 15/300\n",
            "\u001b[1m280/280\u001b[0m \u001b[32m━━━━━━━━━━━━━━━━━━━━\u001b[0m\u001b[37m\u001b[0m \u001b[1m4s\u001b[0m 12ms/step - loss: 0.0015 - val_loss: 0.0017\n",
            "Epoch 16/300\n",
            "\u001b[1m280/280\u001b[0m \u001b[32m━━━━━━━━━━━━━━━━━━━━\u001b[0m\u001b[37m\u001b[0m \u001b[1m4s\u001b[0m 13ms/step - loss: 0.0014 - val_loss: 0.0019\n",
            "Epoch 17/300\n",
            "\u001b[1m280/280\u001b[0m \u001b[32m━━━━━━━━━━━━━━━━━━━━\u001b[0m\u001b[37m\u001b[0m \u001b[1m4s\u001b[0m 12ms/step - loss: 0.0014 - val_loss: 0.0018\n",
            "Epoch 18/300\n",
            "\u001b[1m280/280\u001b[0m \u001b[32m━━━━━━━━━━━━━━━━━━━━\u001b[0m\u001b[37m\u001b[0m \u001b[1m4s\u001b[0m 12ms/step - loss: 0.0012 - val_loss: 0.0020\n",
            "Epoch 19/300\n",
            "\u001b[1m280/280\u001b[0m \u001b[32m━━━━━━━━━━━━━━━━━━━━\u001b[0m\u001b[37m\u001b[0m \u001b[1m4s\u001b[0m 12ms/step - loss: 0.0012 - val_loss: 0.0017\n",
            "Epoch 20/300\n",
            "\u001b[1m280/280\u001b[0m \u001b[32m━━━━━━━━━━━━━━━━━━━━\u001b[0m\u001b[37m\u001b[0m \u001b[1m3s\u001b[0m 12ms/step - loss: 0.0012 - val_loss: 0.0017\n",
            "Epoch 21/300\n",
            "\u001b[1m280/280\u001b[0m \u001b[32m━━━━━━━━━━━━━━━━━━━━\u001b[0m\u001b[37m\u001b[0m \u001b[1m4s\u001b[0m 13ms/step - loss: 0.0011 - val_loss: 0.0016\n",
            "Epoch 22/300\n",
            "\u001b[1m280/280\u001b[0m \u001b[32m━━━━━━━━━━━━━━━━━━━━\u001b[0m\u001b[37m\u001b[0m \u001b[1m4s\u001b[0m 12ms/step - loss: 0.0011 - val_loss: 0.0014\n",
            "Epoch 23/300\n",
            "\u001b[1m280/280\u001b[0m \u001b[32m━━━━━━━━━━━━━━━━━━━━\u001b[0m\u001b[37m\u001b[0m \u001b[1m3s\u001b[0m 12ms/step - loss: 0.0010 - val_loss: 0.0015\n",
            "Epoch 24/300\n",
            "\u001b[1m280/280\u001b[0m \u001b[32m━━━━━━━━━━━━━━━━━━━━\u001b[0m\u001b[37m\u001b[0m \u001b[1m4s\u001b[0m 13ms/step - loss: 0.0011 - val_loss: 0.0016\n",
            "Epoch 25/300\n",
            "\u001b[1m280/280\u001b[0m \u001b[32m━━━━━━━━━━━━━━━━━━━━\u001b[0m\u001b[37m\u001b[0m \u001b[1m4s\u001b[0m 13ms/step - loss: 0.0010 - val_loss: 0.0014\n",
            "Epoch 26/300\n",
            "\u001b[1m280/280\u001b[0m \u001b[32m━━━━━━━━━━━━━━━━━━━━\u001b[0m\u001b[37m\u001b[0m \u001b[1m4s\u001b[0m 13ms/step - loss: 9.7878e-04 - val_loss: 0.0013\n",
            "Epoch 27/300\n",
            "\u001b[1m280/280\u001b[0m \u001b[32m━━━━━━━━━━━━━━━━━━━━\u001b[0m\u001b[37m\u001b[0m \u001b[1m4s\u001b[0m 14ms/step - loss: 9.5130e-04 - val_loss: 0.0014\n",
            "Epoch 28/300\n",
            "\u001b[1m280/280\u001b[0m \u001b[32m━━━━━━━━━━━━━━━━━━━━\u001b[0m\u001b[37m\u001b[0m \u001b[1m4s\u001b[0m 14ms/step - loss: 9.6001e-04 - val_loss: 0.0011\n",
            "Epoch 29/300\n",
            "\u001b[1m280/280\u001b[0m \u001b[32m━━━━━━━━━━━━━━━━━━━━\u001b[0m\u001b[37m\u001b[0m \u001b[1m4s\u001b[0m 15ms/step - loss: 9.2503e-04 - val_loss: 9.8545e-04\n",
            "Epoch 30/300\n",
            "\u001b[1m280/280\u001b[0m \u001b[32m━━━━━━━━━━━━━━━━━━━━\u001b[0m\u001b[37m\u001b[0m \u001b[1m4s\u001b[0m 14ms/step - loss: 9.0328e-04 - val_loss: 0.0010\n",
            "Epoch 31/300\n",
            "\u001b[1m280/280\u001b[0m \u001b[32m━━━━━━━━━━━━━━━━━━━━\u001b[0m\u001b[37m\u001b[0m \u001b[1m4s\u001b[0m 14ms/step - loss: 8.7677e-04 - val_loss: 8.9717e-04\n",
            "Epoch 32/300\n",
            "\u001b[1m280/280\u001b[0m \u001b[32m━━━━━━━━━━━━━━━━━━━━\u001b[0m\u001b[37m\u001b[0m \u001b[1m4s\u001b[0m 14ms/step - loss: 8.9428e-04 - val_loss: 9.5080e-04\n",
            "Epoch 33/300\n",
            "\u001b[1m280/280\u001b[0m \u001b[32m━━━━━━━━━━━━━━━━━━━━\u001b[0m\u001b[37m\u001b[0m \u001b[1m4s\u001b[0m 14ms/step - loss: 8.5464e-04 - val_loss: 8.5406e-04\n",
            "Epoch 34/300\n",
            "\u001b[1m280/280\u001b[0m \u001b[32m━━━━━━━━━━━━━━━━━━━━\u001b[0m\u001b[37m\u001b[0m \u001b[1m4s\u001b[0m 14ms/step - loss: 8.2038e-04 - val_loss: 8.7165e-04\n",
            "Epoch 35/300\n",
            "\u001b[1m280/280\u001b[0m \u001b[32m━━━━━━━━━━━━━━━━━━━━\u001b[0m\u001b[37m\u001b[0m \u001b[1m4s\u001b[0m 15ms/step - loss: 8.2031e-04 - val_loss: 8.1599e-04\n",
            "Epoch 36/300\n",
            "\u001b[1m280/280\u001b[0m \u001b[32m━━━━━━━━━━━━━━━━━━━━\u001b[0m\u001b[37m\u001b[0m \u001b[1m4s\u001b[0m 15ms/step - loss: 8.2074e-04 - val_loss: 8.8428e-04\n",
            "Epoch 37/300\n",
            "\u001b[1m280/280\u001b[0m \u001b[32m━━━━━━━━━━━━━━━━━━━━\u001b[0m\u001b[37m\u001b[0m \u001b[1m4s\u001b[0m 15ms/step - loss: 7.9095e-04 - val_loss: 7.9436e-04\n",
            "Epoch 38/300\n",
            "\u001b[1m280/280\u001b[0m \u001b[32m━━━━━━━━━━━━━━━━━━━━\u001b[0m\u001b[37m\u001b[0m \u001b[1m4s\u001b[0m 15ms/step - loss: 7.9310e-04 - val_loss: 7.7497e-04\n",
            "Epoch 39/300\n",
            "\u001b[1m280/280\u001b[0m \u001b[32m━━━━━━━━━━━━━━━━━━━━\u001b[0m\u001b[37m\u001b[0m \u001b[1m4s\u001b[0m 14ms/step - loss: 7.9267e-04 - val_loss: 0.0012\n",
            "Epoch 40/300\n",
            "\u001b[1m280/280\u001b[0m \u001b[32m━━━━━━━━━━━━━━━━━━━━\u001b[0m\u001b[37m\u001b[0m \u001b[1m4s\u001b[0m 14ms/step - loss: 9.0774e-04 - val_loss: 8.2678e-04\n",
            "Epoch 41/300\n",
            "\u001b[1m280/280\u001b[0m \u001b[32m━━━━━━━━━━━━━━━━━━━━\u001b[0m\u001b[37m\u001b[0m \u001b[1m4s\u001b[0m 14ms/step - loss: 7.5902e-04 - val_loss: 8.2272e-04\n",
            "Epoch 42/300\n",
            "\u001b[1m280/280\u001b[0m \u001b[32m━━━━━━━━━━━━━━━━━━━━\u001b[0m\u001b[37m\u001b[0m \u001b[1m4s\u001b[0m 14ms/step - loss: 7.7448e-04 - val_loss: 8.0155e-04\n",
            "Minimum validation loss: 0.0007749665528535843\n"
          ]
        },
        {
          "output_type": "display_data",
          "data": {
            "text/plain": [
              "<Figure size 432x288 with 1 Axes>"
            ],
            "image/png": "[encoded data removed]"
          },
          "metadata": {
            "needs_background": "light"
          }
        }
      ]
    },
    {
      "cell_type": "code",
      "source": [
        "#0<k<2\n",
        "history = model.fit(\n",
        "    X_train, y_train,\n",
        "    validation_data=(X_test, y_test),\n",
        "    batch_size=100,\n",
        "    epochs=300,\n",
        "    callbacks=[early_stopping], # put your callbacks in a list\n",
        "    verbose=1,  # turn off training log\n",
        "    shuffle=False\n",
        ")\n",
        "\n",
        "history_df = pd.DataFrame(history.history)\n",
        "history_df.loc[:, ['loss', 'val_loss']].plot();\n",
        "print(\"Minimum validation loss: {}\".format(history_df['val_loss'].min()))"
      ],
      "metadata": {
        "id": "0-mCPmZK19JT",
        "colab": {
          "base_uri": "https://localhost:8080/",
          "height": 1000
        },
        "outputId": "0e8a6390-6b28-42a8-9594-398d1e0db63f"
      },
      "execution_count": null,
      "outputs": [
        {
          "output_type": "stream",
          "name": "stdout",
          "text": [
            "Epoch 1/300\n"
          ]
        },
        {
          "output_type": "stream",
          "name": "stderr",
          "text": [
            "WARNING: All log messages before absl::InitializeLog() is called are written to STDERR\n",
            "I0000 00:00:1740055491.183597   15450 service.cc:145] XLA service 0x7fbabc004830 initialized for platform CUDA (this does not guarantee that XLA will be used). Devices:\n",
            "I0000 00:00:1740055491.183632   15450 service.cc:153]   StreamExecutor device (0): NVIDIA GeForce RTX 2060 SUPER, Compute Capability 7.5\n",
            "2025-02-20 09:44:51.246895: I tensorflow/compiler/mlir/tensorflow/utils/dump_mlir_util.cc:268] disabling MLIR crash reproducer, set env var `MLIR_CRASH_REPRODUCER_DIRECTORY` to enable.\n",
            "2025-02-20 09:44:51.531849: I external/local_xla/xla/stream_executor/cuda/cuda_dnn.cc:465] Loaded cuDNN version 8907\n"
          ]
        },
        {
          "output_type": "stream",
          "name": "stdout",
          "text": [
            "\u001b[1m 13/281\u001b[0m \u001b[37m━━━━━━━━━━━━━━━━━━━━\u001b[0m \u001b[1m3s\u001b[0m 15ms/step - loss: 1.1261"
          ]
        },
        {
          "output_type": "stream",
          "name": "stderr",
          "text": [
            "WARNING: All log messages before absl::InitializeLog() is called are written to STDERR\n",
            "I0000 00:00:1740055493.683847   15450 asm_compiler.cc:369] ptxas warning : Registers are spilled to local memory in function 'input_reduce_select_fusion_6', 8 bytes spill stores, 8 bytes spill loads\n",
            "\n",
            "I0000 00:00:1740055493.688015   15450 device_compiler.h:188] Compiled cluster using XLA!  This line is logged at most once for the lifetime of the process.\n"
          ]
        },
        {
          "output_type": "stream",
          "name": "stdout",
          "text": [
            "\u001b[1m281/281\u001b[0m \u001b[32m━━━━━━━━━━━━━━━━━━━━\u001b[0m\u001b[37m\u001b[0m \u001b[1m0s\u001b[0m 18ms/step - loss: 0.2768"
          ]
        },
        {
          "output_type": "stream",
          "name": "stderr",
          "text": [
            "I0000 00:00:1740055498.808164   15450 asm_compiler.cc:369] ptxas warning : Registers are spilled to local memory in function 'input_reduce_select_fusion_5', 4 bytes spill stores, 4 bytes spill loads\n",
            "ptxas warning : Registers are spilled to local memory in function 'input_reduce_select_fusion_4', 8 bytes spill stores, 8 bytes spill loads\n",
            "\n"
          ]
        },
        {
          "output_type": "stream",
          "name": "stdout",
          "text": [
            "\b\b\b\b\b\b\b\b\b\b\b\b\b\b\b\b\b\b\b\b\b\b\b\b\b\b\b\b\b\b\b\b\b\b\b\b\b\b\b\b\b\b\b\b\b\b\b\b\b\b\b\b\b\b\b\b\r\u001b[1m281/281\u001b[0m \u001b[32m━━━━━━━━━━━━━━━━━━━━\u001b[0m\u001b[37m\u001b[0m \u001b[1m12s\u001b[0m 25ms/step - loss: 0.2762 - val_loss: 0.0413\n",
            "Epoch 2/300\n",
            "\u001b[1m281/281\u001b[0m \u001b[32m━━━━━━━━━━━━━━━━━━━━\u001b[0m\u001b[37m\u001b[0m \u001b[1m4s\u001b[0m 14ms/step - loss: 0.0296 - val_loss: 0.0184\n",
            "Epoch 3/300\n",
            "\u001b[1m281/281\u001b[0m \u001b[32m━━━━━━━━━━━━━━━━━━━━\u001b[0m\u001b[37m\u001b[0m \u001b[1m4s\u001b[0m 14ms/step - loss: 0.0173 - val_loss: 0.0156\n",
            "Epoch 4/300\n",
            "\u001b[1m281/281\u001b[0m \u001b[32m━━━━━━━━━━━━━━━━━━━━\u001b[0m\u001b[37m\u001b[0m \u001b[1m4s\u001b[0m 13ms/step - loss: 0.0135 - val_loss: 0.0141\n",
            "Epoch 5/300\n",
            "\u001b[1m281/281\u001b[0m \u001b[32m━━━━━━━━━━━━━━━━━━━━\u001b[0m\u001b[37m\u001b[0m \u001b[1m4s\u001b[0m 14ms/step - loss: 0.0115 - val_loss: 0.0107\n",
            "Epoch 6/300\n",
            "\u001b[1m281/281\u001b[0m \u001b[32m━━━━━━━━━━━━━━━━━━━━\u001b[0m\u001b[37m\u001b[0m \u001b[1m4s\u001b[0m 13ms/step - loss: 0.0100 - val_loss: 0.0098\n",
            "Epoch 7/300\n",
            "\u001b[1m281/281\u001b[0m \u001b[32m━━━━━━━━━━━━━━━━━━━━\u001b[0m\u001b[37m\u001b[0m \u001b[1m4s\u001b[0m 13ms/step - loss: 0.0091 - val_loss: 0.0091\n",
            "Epoch 8/300\n",
            "\u001b[1m281/281\u001b[0m \u001b[32m━━━━━━━━━━━━━━━━━━━━\u001b[0m\u001b[37m\u001b[0m \u001b[1m4s\u001b[0m 14ms/step - loss: 0.0084 - val_loss: 0.0092\n",
            "Epoch 9/300\n",
            "\u001b[1m281/281\u001b[0m \u001b[32m━━━━━━━━━━━━━━━━━━━━\u001b[0m\u001b[37m\u001b[0m \u001b[1m4s\u001b[0m 13ms/step - loss: 0.0081 - val_loss: 0.0082\n",
            "Epoch 10/300\n",
            "\u001b[1m281/281\u001b[0m \u001b[32m━━━━━━━━━━━━━━━━━━━━\u001b[0m\u001b[37m\u001b[0m \u001b[1m4s\u001b[0m 14ms/step - loss: 0.0077 - val_loss: 0.0080\n",
            "Epoch 11/300\n",
            "\u001b[1m281/281\u001b[0m \u001b[32m━━━━━━━━━━━━━━━━━━━━\u001b[0m\u001b[37m\u001b[0m \u001b[1m4s\u001b[0m 13ms/step - loss: 0.0074 - val_loss: 0.0075\n",
            "Epoch 12/300\n",
            "\u001b[1m281/281\u001b[0m \u001b[32m━━━━━━━━━━━━━━━━━━━━\u001b[0m\u001b[37m\u001b[0m \u001b[1m4s\u001b[0m 13ms/step - loss: 0.0072 - val_loss: 0.0073\n",
            "Epoch 13/300\n",
            "\u001b[1m281/281\u001b[0m \u001b[32m━━━━━━━━━━━━━━━━━━━━\u001b[0m\u001b[37m\u001b[0m \u001b[1m4s\u001b[0m 13ms/step - loss: 0.0070 - val_loss: 0.0070\n",
            "Epoch 14/300\n",
            "\u001b[1m281/281\u001b[0m \u001b[32m━━━━━━━━━━━━━━━━━━━━\u001b[0m\u001b[37m\u001b[0m \u001b[1m4s\u001b[0m 13ms/step - loss: 0.0068 - val_loss: 0.0068\n",
            "Epoch 15/300\n",
            "\u001b[1m281/281\u001b[0m \u001b[32m━━━━━━━━━━━━━━━━━━━━\u001b[0m\u001b[37m\u001b[0m \u001b[1m4s\u001b[0m 13ms/step - loss: 0.0067 - val_loss: 0.0065\n",
            "Epoch 16/300\n",
            "\u001b[1m281/281\u001b[0m \u001b[32m━━━━━━━━━━━━━━━━━━━━\u001b[0m\u001b[37m\u001b[0m \u001b[1m4s\u001b[0m 13ms/step - loss: 0.0066 - val_loss: 0.0064\n",
            "Epoch 17/300\n",
            "\u001b[1m281/281\u001b[0m \u001b[32m━━━━━━━━━━━━━━━━━━━━\u001b[0m\u001b[37m\u001b[0m \u001b[1m4s\u001b[0m 14ms/step - loss: 0.0066 - val_loss: 0.0066\n",
            "Epoch 18/300\n",
            "\u001b[1m281/281\u001b[0m \u001b[32m━━━━━━━━━━━━━━━━━━━━\u001b[0m\u001b[37m\u001b[0m \u001b[1m4s\u001b[0m 14ms/step - loss: 0.0064 - val_loss: 0.0067\n",
            "Epoch 19/300\n",
            "\u001b[1m281/281\u001b[0m \u001b[32m━━━━━━━━━━━━━━━━━━━━\u001b[0m\u001b[37m\u001b[0m \u001b[1m5s\u001b[0m 14ms/step - loss: 0.0063 - val_loss: 0.0074\n",
            "Epoch 20/300\n",
            "\u001b[1m281/281\u001b[0m \u001b[32m━━━━━━━━━━━━━━━━━━━━\u001b[0m\u001b[37m\u001b[0m \u001b[1m4s\u001b[0m 13ms/step - loss: 0.0063 - val_loss: 0.0076\n",
            "Epoch 21/300\n",
            "\u001b[1m281/281\u001b[0m \u001b[32m━━━━━━━━━━━━━━━━━━━━\u001b[0m\u001b[37m\u001b[0m \u001b[1m4s\u001b[0m 14ms/step - loss: 0.0061 - val_loss: 0.0076\n",
            "Epoch 22/300\n",
            "\u001b[1m281/281\u001b[0m \u001b[32m━━━━━━━━━━━━━━━━━━━━\u001b[0m\u001b[37m\u001b[0m \u001b[1m4s\u001b[0m 14ms/step - loss: 0.0061 - val_loss: 0.0070\n",
            "Epoch 23/300\n",
            "\u001b[1m281/281\u001b[0m \u001b[32m━━━━━━━━━━━━━━━━━━━━\u001b[0m\u001b[37m\u001b[0m \u001b[1m4s\u001b[0m 13ms/step - loss: 0.0059 - val_loss: 0.0063\n",
            "Epoch 24/300\n",
            "\u001b[1m281/281\u001b[0m \u001b[32m━━━━━━━━━━━━━━━━━━━━\u001b[0m\u001b[37m\u001b[0m \u001b[1m4s\u001b[0m 13ms/step - loss: 0.0057 - val_loss: 0.0062\n",
            "Epoch 25/300\n",
            "\u001b[1m281/281\u001b[0m \u001b[32m━━━━━━━━━━━━━━━━━━━━\u001b[0m\u001b[37m\u001b[0m \u001b[1m4s\u001b[0m 13ms/step - loss: 0.0056 - val_loss: 0.0066\n",
            "Epoch 26/300\n",
            "\u001b[1m281/281\u001b[0m \u001b[32m━━━━━━━━━━━━━━━━━━━━\u001b[0m\u001b[37m\u001b[0m \u001b[1m4s\u001b[0m 13ms/step - loss: 0.0056 - val_loss: 0.0059\n",
            "Epoch 27/300\n",
            "\u001b[1m281/281\u001b[0m \u001b[32m━━━━━━━━━━━━━━━━━━━━\u001b[0m\u001b[37m\u001b[0m \u001b[1m4s\u001b[0m 12ms/step - loss: 0.0055 - val_loss: 0.0060\n",
            "Epoch 28/300\n",
            "\u001b[1m281/281\u001b[0m \u001b[32m━━━━━━━━━━━━━━━━━━━━\u001b[0m\u001b[37m\u001b[0m \u001b[1m4s\u001b[0m 13ms/step - loss: 0.0053 - val_loss: 0.0057\n",
            "Epoch 29/300\n",
            "\u001b[1m281/281\u001b[0m \u001b[32m━━━━━━━━━━━━━━━━━━━━\u001b[0m\u001b[37m\u001b[0m \u001b[1m4s\u001b[0m 13ms/step - loss: 0.0052 - val_loss: 0.0060\n",
            "Epoch 30/300\n",
            "\u001b[1m281/281\u001b[0m \u001b[32m━━━━━━━━━━━━━━━━━━━━\u001b[0m\u001b[37m\u001b[0m \u001b[1m4s\u001b[0m 13ms/step - loss: 0.0052 - val_loss: 0.0063\n",
            "Epoch 31/300\n",
            "\u001b[1m281/281\u001b[0m \u001b[32m━━━━━━━━━━━━━━━━━━━━\u001b[0m\u001b[37m\u001b[0m \u001b[1m4s\u001b[0m 13ms/step - loss: 0.0054 - val_loss: 0.0052\n",
            "Epoch 32/300\n",
            "\u001b[1m281/281\u001b[0m \u001b[32m━━━━━━━━━━━━━━━━━━━━\u001b[0m\u001b[37m\u001b[0m \u001b[1m4s\u001b[0m 12ms/step - loss: 0.0050 - val_loss: 0.0055\n",
            "Epoch 33/300\n",
            "\u001b[1m281/281\u001b[0m \u001b[32m━━━━━━━━━━━━━━━━━━━━\u001b[0m\u001b[37m\u001b[0m \u001b[1m4s\u001b[0m 13ms/step - loss: 0.0051 - val_loss: 0.0050\n",
            "Epoch 34/300\n",
            "\u001b[1m281/281\u001b[0m \u001b[32m━━━━━━━━━━━━━━━━━━━━\u001b[0m\u001b[37m\u001b[0m \u001b[1m4s\u001b[0m 13ms/step - loss: 0.0049 - val_loss: 0.0050\n",
            "Epoch 35/300\n",
            "\u001b[1m281/281\u001b[0m \u001b[32m━━━━━━━━━━━━━━━━━━━━\u001b[0m\u001b[37m\u001b[0m \u001b[1m4s\u001b[0m 13ms/step - loss: 0.0049 - val_loss: 0.0054\n",
            "Epoch 36/300\n",
            "\u001b[1m281/281\u001b[0m \u001b[32m━━━━━━━━━━━━━━━━━━━━\u001b[0m\u001b[37m\u001b[0m \u001b[1m4s\u001b[0m 13ms/step - loss: 0.0047 - val_loss: 0.0053\n",
            "Epoch 37/300\n",
            "\u001b[1m281/281\u001b[0m \u001b[32m━━━━━━━━━━━━━━━━━━━━\u001b[0m\u001b[37m\u001b[0m \u001b[1m4s\u001b[0m 12ms/step - loss: 0.0047 - val_loss: 0.0053\n",
            "Epoch 38/300\n",
            "\u001b[1m281/281\u001b[0m \u001b[32m━━━━━━━━━━━━━━━━━━━━\u001b[0m\u001b[37m\u001b[0m \u001b[1m4s\u001b[0m 13ms/step - loss: 0.0047 - val_loss: 0.0049\n",
            "Epoch 39/300\n",
            "\u001b[1m281/281\u001b[0m \u001b[32m━━━━━━━━━━━━━━━━━━━━\u001b[0m\u001b[37m\u001b[0m \u001b[1m4s\u001b[0m 13ms/step - loss: 0.0046 - val_loss: 0.0049\n",
            "Epoch 40/300\n",
            "\u001b[1m281/281\u001b[0m \u001b[32m━━━━━━━━━━━━━━━━━━━━\u001b[0m\u001b[37m\u001b[0m \u001b[1m4s\u001b[0m 13ms/step - loss: 0.0045 - val_loss: 0.0049\n",
            "Epoch 41/300\n",
            "\u001b[1m281/281\u001b[0m \u001b[32m━━━━━━━━━━━━━━━━━━━━\u001b[0m\u001b[37m\u001b[0m \u001b[1m3s\u001b[0m 12ms/step - loss: 0.0045 - val_loss: 0.0049\n",
            "Epoch 42/300\n",
            "\u001b[1m281/281\u001b[0m \u001b[32m━━━━━━━━━━━━━━━━━━━━\u001b[0m\u001b[37m\u001b[0m \u001b[1m3s\u001b[0m 12ms/step - loss: 0.0045 - val_loss: 0.0050\n",
            "Epoch 43/300\n",
            "\u001b[1m281/281\u001b[0m \u001b[32m━━━━━━━━━━━━━━━━━━━━\u001b[0m\u001b[37m\u001b[0m \u001b[1m4s\u001b[0m 13ms/step - loss: 0.0045 - val_loss: 0.0048\n",
            "Epoch 44/300\n",
            "\u001b[1m281/281\u001b[0m \u001b[32m━━━━━━━━━━━━━━━━━━━━\u001b[0m\u001b[37m\u001b[0m \u001b[1m4s\u001b[0m 13ms/step - loss: 0.0045 - val_loss: 0.0046\n",
            "Epoch 45/300\n",
            "\u001b[1m281/281\u001b[0m \u001b[32m━━━━━━━━━━━━━━━━━━━━\u001b[0m\u001b[37m\u001b[0m \u001b[1m4s\u001b[0m 13ms/step - loss: 0.0045 - val_loss: 0.0046\n",
            "Epoch 46/300\n",
            "\u001b[1m281/281\u001b[0m \u001b[32m━━━━━━━━━━━━━━━━━━━━\u001b[0m\u001b[37m\u001b[0m \u001b[1m4s\u001b[0m 13ms/step - loss: 0.0044 - val_loss: 0.0046\n",
            "Epoch 47/300\n",
            "\u001b[1m281/281\u001b[0m \u001b[32m━━━━━━━━━━━━━━━━━━━━\u001b[0m\u001b[37m\u001b[0m \u001b[1m4s\u001b[0m 13ms/step - loss: 0.0044 - val_loss: 0.0046\n",
            "Epoch 48/300\n",
            "\u001b[1m281/281\u001b[0m \u001b[32m━━━━━━━━━━━━━━━━━━━━\u001b[0m\u001b[37m\u001b[0m \u001b[1m4s\u001b[0m 13ms/step - loss: 0.0044 - val_loss: 0.0047\n",
            "Epoch 49/300\n",
            "\u001b[1m281/281\u001b[0m \u001b[32m━━━━━━━━━━━━━━━━━━━━\u001b[0m\u001b[37m\u001b[0m \u001b[1m4s\u001b[0m 13ms/step - loss: 0.0044 - val_loss: 0.0056\n",
            "Epoch 50/300\n",
            "\u001b[1m281/281\u001b[0m \u001b[32m━━━━━━━━━━━━━━━━━━━━\u001b[0m\u001b[37m\u001b[0m \u001b[1m4s\u001b[0m 13ms/step - loss: 0.0044 - val_loss: 0.0054\n",
            "Epoch 51/300\n",
            "\u001b[1m281/281\u001b[0m \u001b[32m━━━━━━━━━━━━━━━━━━━━\u001b[0m\u001b[37m\u001b[0m \u001b[1m3s\u001b[0m 12ms/step - loss: 0.0043 - val_loss: 0.0050\n",
            "Epoch 52/300\n",
            "\u001b[1m281/281\u001b[0m \u001b[32m━━━━━━━━━━━━━━━━━━━━\u001b[0m\u001b[37m\u001b[0m \u001b[1m4s\u001b[0m 13ms/step - loss: 0.0043 - val_loss: 0.0051\n",
            "Epoch 53/300\n",
            "\u001b[1m281/281\u001b[0m \u001b[32m━━━━━━━━━━━━━━━━━━━━\u001b[0m\u001b[37m\u001b[0m \u001b[1m4s\u001b[0m 13ms/step - loss: 0.0042 - val_loss: 0.0047\n",
            "Epoch 54/300\n",
            "\u001b[1m281/281\u001b[0m \u001b[32m━━━━━━━━━━━━━━━━━━━━\u001b[0m\u001b[37m\u001b[0m \u001b[1m4s\u001b[0m 13ms/step - loss: 0.0042 - val_loss: 0.0046\n",
            "Epoch 55/300\n",
            "\u001b[1m281/281\u001b[0m \u001b[32m━━━━━━━━━━━━━━━━━━━━\u001b[0m\u001b[37m\u001b[0m \u001b[1m4s\u001b[0m 13ms/step - loss: 0.0042 - val_loss: 0.0048\n",
            "Epoch 56/300\n",
            "\u001b[1m281/281\u001b[0m \u001b[32m━━━━━━━━━━━━━━━━━━━━\u001b[0m\u001b[37m\u001b[0m \u001b[1m4s\u001b[0m 13ms/step - loss: 0.0042 - val_loss: 0.0045\n",
            "Epoch 57/300\n",
            "\u001b[1m281/281\u001b[0m \u001b[32m━━━━━━━━━━━━━━━━━━━━\u001b[0m\u001b[37m\u001b[0m \u001b[1m4s\u001b[0m 13ms/step - loss: 0.0042 - val_loss: 0.0046\n",
            "Epoch 58/300\n",
            "\u001b[1m281/281\u001b[0m \u001b[32m━━━━━━━━━━━━━━━━━━━━\u001b[0m\u001b[37m\u001b[0m \u001b[1m3s\u001b[0m 12ms/step - loss: 0.0041 - val_loss: 0.0049\n",
            "Epoch 59/300\n",
            "\u001b[1m281/281\u001b[0m \u001b[32m━━━━━━━━━━━━━━━━━━━━\u001b[0m\u001b[37m\u001b[0m \u001b[1m4s\u001b[0m 13ms/step - loss: 0.0041 - val_loss: 0.0048\n",
            "Epoch 60/300\n",
            "\u001b[1m281/281\u001b[0m \u001b[32m━━━━━━━━━━━━━━━━━━━━\u001b[0m\u001b[37m\u001b[0m \u001b[1m4s\u001b[0m 13ms/step - loss: 0.0041 - val_loss: 0.0049\n",
            "Epoch 61/300\n",
            "\u001b[1m281/281\u001b[0m \u001b[32m━━━━━━━━━━━━━━━━━━━━\u001b[0m\u001b[37m\u001b[0m \u001b[1m3s\u001b[0m 12ms/step - loss: 0.0041 - val_loss: 0.0046\n",
            "Epoch 62/300\n",
            "\u001b[1m281/281\u001b[0m \u001b[32m━━━━━━━━━━━━━━━━━━━━\u001b[0m\u001b[37m\u001b[0m \u001b[1m3s\u001b[0m 12ms/step - loss: 0.0040 - val_loss: 0.0046\n",
            "Epoch 63/300\n",
            "\u001b[1m281/281\u001b[0m \u001b[32m━━━━━━━━━━━━━━━━━━━━\u001b[0m\u001b[37m\u001b[0m \u001b[1m4s\u001b[0m 13ms/step - loss: 0.0041 - val_loss: 0.0048\n",
            "Epoch 64/300\n",
            "\u001b[1m281/281\u001b[0m \u001b[32m━━━━━━━━━━━━━━━━━━━━\u001b[0m\u001b[37m\u001b[0m \u001b[1m4s\u001b[0m 13ms/step - loss: 0.0041 - val_loss: 0.0047\n",
            "Minimum validation loss: 0.00447376212105155\n"
          ]
        },
        {
          "output_type": "display_data",
          "data": {
            "text/plain": [
              "<Figure size 432x288 with 1 Axes>"
            ],
            "image/png": "[encoded data removed]"
          },
          "metadata": {
            "needs_background": "light"
          }
        }
      ]
    },
    {
      "cell_type": "code",
      "source": [
        "#--- ORDER 1E5, 0<k<1 ---\n",
        "history = model.fit(\n",
        "    X_train, y_train,\n",
        "    validation_data=(X_test, y_test),\n",
        "    batch_size=100,\n",
        "    epochs=300,\n",
        "    callbacks=[early_stopping], # put your callbacks in a list\n",
        "    verbose=1,  # turn off training log\n",
        "    shuffle=False\n",
        ")\n",
        "\n",
        "history_df = pd.DataFrame(history.history)\n",
        "history_df.loc[:, ['loss', 'val_loss']].plot();\n",
        "print(\"Minimum validation loss: {}\".format(history_df['val_loss'].min()))"
      ],
      "metadata": {
        "colab": {
          "base_uri": "https://localhost:8080/",
          "height": 1000
        },
        "outputId": "52940726-7eee-4586-989a-f8bf164e7a4a",
        "id": "T7Djys-hhXVR"
      },
      "execution_count": null,
      "outputs": [
        {
          "output_type": "stream",
          "name": "stderr",
          "text": [
            "2024-09-24 17:48:49.501120: W external/local_tsl/tsl/framework/cpu_allocator_impl.cc:83] Allocation of 1120000000 exceeds 10% of free system memory.\n",
            "2024-09-24 17:48:50.172873: W external/local_tsl/tsl/framework/cpu_allocator_impl.cc:83] Allocation of 1120000000 exceeds 10% of free system memory.\n"
          ]
        },
        {
          "output_type": "stream",
          "name": "stdout",
          "text": [
            "Epoch 1/300\n"
          ]
        },
        {
          "output_type": "stream",
          "name": "stderr",
          "text": [
            "2024-09-24 17:48:50.690067: W external/local_tsl/tsl/framework/cpu_allocator_impl.cc:83] Allocation of 1120000000 exceeds 10% of free system memory.\n",
            "WARNING: All log messages before absl::InitializeLog() is called are written to STDERR\n",
            "I0000 00:00:1727210933.424767   76524 service.cc:145] XLA service 0x7f64b4002020 initialized for platform CUDA (this does not guarantee that XLA will be used). Devices:\n",
            "I0000 00:00:1727210933.424802   76524 service.cc:153]   StreamExecutor device (0): NVIDIA GeForce RTX 2060 SUPER, Compute Capability 7.5\n",
            "2024-09-24 17:48:53.510846: I tensorflow/compiler/mlir/tensorflow/utils/dump_mlir_util.cc:268] disabling MLIR crash reproducer, set env var `MLIR_CRASH_REPRODUCER_DIRECTORY` to enable.\n",
            "2024-09-24 17:48:53.771418: I external/local_xla/xla/stream_executor/cuda/cuda_dnn.cc:465] Loaded cuDNN version 8907\n"
          ]
        },
        {
          "output_type": "stream",
          "name": "stdout",
          "text": [
            "\u001b[1m 15/280\u001b[0m \u001b[32m━\u001b[0m\u001b[37m━━━━━━━━━━━━━━━━━━━\u001b[0m \u001b[1m3s\u001b[0m 12ms/step - loss: 0.2093"
          ]
        },
        {
          "output_type": "stream",
          "name": "stderr",
          "text": [
            "I0000 00:00:1727210935.966647   76524 device_compiler.h:188] Compiled cluster using XLA!  This line is logged at most once for the lifetime of the process.\n"
          ]
        },
        {
          "output_type": "stream",
          "name": "stdout",
          "text": [
            "\u001b[1m280/280\u001b[0m \u001b[32m━━━━━━━━━━━━━━━━━━━━\u001b[0m\u001b[37m\u001b[0m \u001b[1m10s\u001b[0m 17ms/step - loss: 0.0463 - val_loss: 0.0049\n",
            "Epoch 2/300\n",
            "\u001b[1m280/280\u001b[0m \u001b[32m━━━━━━━━━━━━━━━━━━━━\u001b[0m\u001b[37m\u001b[0m \u001b[1m4s\u001b[0m 13ms/step - loss: 0.0040 - val_loss: 0.0038\n",
            "Epoch 3/300\n",
            "\u001b[1m280/280\u001b[0m \u001b[32m━━━━━━━━━━━━━━━━━━━━\u001b[0m\u001b[37m\u001b[0m \u001b[1m4s\u001b[0m 13ms/step - loss: 0.0026 - val_loss: 0.0028\n",
            "Epoch 4/300\n",
            "\u001b[1m280/280\u001b[0m \u001b[32m━━━━━━━━━━━━━━━━━━━━\u001b[0m\u001b[37m\u001b[0m \u001b[1m4s\u001b[0m 13ms/step - loss: 0.0018 - val_loss: 0.0021\n",
            "Epoch 5/300\n",
            "\u001b[1m280/280\u001b[0m \u001b[32m━━━━━━━━━━━━━━━━━━━━\u001b[0m\u001b[37m\u001b[0m \u001b[1m4s\u001b[0m 13ms/step - loss: 0.0014 - val_loss: 0.0018\n",
            "Epoch 6/300\n",
            "\u001b[1m280/280\u001b[0m \u001b[32m━━━━━━━━━━━━━━━━━━━━\u001b[0m\u001b[37m\u001b[0m \u001b[1m4s\u001b[0m 13ms/step - loss: 0.0013 - val_loss: 0.0019\n",
            "Epoch 7/300\n",
            "\u001b[1m280/280\u001b[0m \u001b[32m━━━━━━━━━━━━━━━━━━━━\u001b[0m\u001b[37m\u001b[0m \u001b[1m4s\u001b[0m 13ms/step - loss: 0.0013 - val_loss: 0.0048\n",
            "Epoch 8/300\n",
            "\u001b[1m280/280\u001b[0m \u001b[32m━━━━━━━━━━━━━━━━━━━━\u001b[0m\u001b[37m\u001b[0m \u001b[1m4s\u001b[0m 13ms/step - loss: 0.0019 - val_loss: 0.0025\n",
            "Epoch 9/300\n",
            "\u001b[1m280/280\u001b[0m \u001b[32m━━━━━━━━━━━━━━━━━━━━\u001b[0m\u001b[37m\u001b[0m \u001b[1m4s\u001b[0m 13ms/step - loss: 0.0014 - val_loss: 0.0018\n",
            "Epoch 10/300\n",
            "\u001b[1m280/280\u001b[0m \u001b[32m━━━━━━━━━━━━━━━━━━━━\u001b[0m\u001b[37m\u001b[0m \u001b[1m4s\u001b[0m 13ms/step - loss: 0.0011 - val_loss: 0.0014\n",
            "Epoch 11/300\n",
            "\u001b[1m280/280\u001b[0m \u001b[32m━━━━━━━━━━━━━━━━━━━━\u001b[0m\u001b[37m\u001b[0m \u001b[1m4s\u001b[0m 13ms/step - loss: 7.3932e-04 - val_loss: 0.0014\n",
            "Epoch 12/300\n",
            "\u001b[1m280/280\u001b[0m \u001b[32m━━━━━━━━━━━━━━━━━━━━\u001b[0m\u001b[37m\u001b[0m \u001b[1m4s\u001b[0m 14ms/step - loss: 7.4099e-04 - val_loss: 0.0014\n",
            "Epoch 13/300\n",
            "\u001b[1m280/280\u001b[0m \u001b[32m━━━━━━━━━━━━━━━━━━━━\u001b[0m\u001b[37m\u001b[0m \u001b[1m4s\u001b[0m 13ms/step - loss: 7.1888e-04 - val_loss: 0.0015\n",
            "Epoch 14/300\n",
            "\u001b[1m280/280\u001b[0m \u001b[32m━━━━━━━━━━━━━━━━━━━━\u001b[0m\u001b[37m\u001b[0m \u001b[1m4s\u001b[0m 13ms/step - loss: 9.4412e-04 - val_loss: 0.0021\n",
            "Epoch 15/300\n",
            "\u001b[1m280/280\u001b[0m \u001b[32m━━━━━━━━━━━━━━━━━━━━\u001b[0m\u001b[37m\u001b[0m \u001b[1m4s\u001b[0m 13ms/step - loss: 0.0012 - val_loss: 0.0015\n",
            "Epoch 16/300\n",
            "\u001b[1m280/280\u001b[0m \u001b[32m━━━━━━━━━━━━━━━━━━━━\u001b[0m\u001b[37m\u001b[0m \u001b[1m4s\u001b[0m 13ms/step - loss: 8.2745e-04 - val_loss: 0.0015\n",
            "Epoch 17/300\n",
            "\u001b[1m280/280\u001b[0m \u001b[32m━━━━━━━━━━━━━━━━━━━━\u001b[0m\u001b[37m\u001b[0m \u001b[1m4s\u001b[0m 13ms/step - loss: 8.4634e-04 - val_loss: 0.0011\n",
            "Epoch 18/300\n",
            "\u001b[1m280/280\u001b[0m \u001b[32m━━━━━━━━━━━━━━━━━━━━\u001b[0m\u001b[37m\u001b[0m \u001b[1m4s\u001b[0m 13ms/step - loss: 5.3793e-04 - val_loss: 0.0011\n",
            "Epoch 19/300\n",
            "\u001b[1m280/280\u001b[0m \u001b[32m━━━━━━━━━━━━━━━━━━━━\u001b[0m\u001b[37m\u001b[0m \u001b[1m4s\u001b[0m 13ms/step - loss: 4.1214e-04 - val_loss: 0.0012\n",
            "Epoch 20/300\n",
            "\u001b[1m280/280\u001b[0m \u001b[32m━━━━━━━━━━━━━━━━━━━━\u001b[0m\u001b[37m\u001b[0m \u001b[1m4s\u001b[0m 13ms/step - loss: 4.1055e-04 - val_loss: 0.0010\n",
            "Epoch 21/300\n",
            "\u001b[1m280/280\u001b[0m \u001b[32m━━━━━━━━━━━━━━━━━━━━\u001b[0m\u001b[37m\u001b[0m \u001b[1m4s\u001b[0m 13ms/step - loss: 6.0472e-04 - val_loss: 0.0014\n",
            "Epoch 22/300\n",
            "\u001b[1m280/280\u001b[0m \u001b[32m━━━━━━━━━━━━━━━━━━━━\u001b[0m\u001b[37m\u001b[0m \u001b[1m4s\u001b[0m 13ms/step - loss: 7.6335e-04 - val_loss: 0.0019\n",
            "Epoch 23/300\n",
            "\u001b[1m280/280\u001b[0m \u001b[32m━━━━━━━━━━━━━━━━━━━━\u001b[0m\u001b[37m\u001b[0m \u001b[1m4s\u001b[0m 14ms/step - loss: 0.0016 - val_loss: 0.0012\n",
            "Epoch 24/300\n",
            "\u001b[1m280/280\u001b[0m \u001b[32m━━━━━━━━━━━━━━━━━━━━\u001b[0m\u001b[37m\u001b[0m \u001b[1m4s\u001b[0m 13ms/step - loss: 6.4886e-04 - val_loss: 0.0012\n",
            "Epoch 25/300\n",
            "\u001b[1m280/280\u001b[0m \u001b[32m━━━━━━━━━━━━━━━━━━━━\u001b[0m\u001b[37m\u001b[0m \u001b[1m4s\u001b[0m 13ms/step - loss: 5.4270e-04 - val_loss: 9.9846e-04\n",
            "Epoch 26/300\n",
            "\u001b[1m280/280\u001b[0m \u001b[32m━━━━━━━━━━━━━━━━━━━━\u001b[0m\u001b[37m\u001b[0m \u001b[1m4s\u001b[0m 13ms/step - loss: 4.0472e-04 - val_loss: 0.0010\n",
            "Epoch 27/300\n",
            "\u001b[1m280/280\u001b[0m \u001b[32m━━━━━━━━━━━━━━━━━━━━\u001b[0m\u001b[37m\u001b[0m \u001b[1m4s\u001b[0m 13ms/step - loss: 3.3817e-04 - val_loss: 9.3398e-04\n",
            "Epoch 28/300\n",
            "\u001b[1m280/280\u001b[0m \u001b[32m━━━━━━━━━━━━━━━━━━━━\u001b[0m\u001b[37m\u001b[0m \u001b[1m4s\u001b[0m 13ms/step - loss: 2.8816e-04 - val_loss: 9.0479e-04\n",
            "Epoch 29/300\n",
            "\u001b[1m280/280\u001b[0m \u001b[32m━━━━━━━━━━━━━━━━━━━━\u001b[0m\u001b[37m\u001b[0m \u001b[1m4s\u001b[0m 13ms/step - loss: 3.1852e-04 - val_loss: 9.5784e-04\n",
            "Minimum validation loss: 0.0009047905332408845\n"
          ]
        },
        {
          "output_type": "display_data",
          "data": {
            "text/plain": [
              "<Figure size 432x288 with 1 Axes>"
            ],
            "image/png": "[encoded data removed]"
          },
          "metadata": {
            "needs_background": "light"
          }
        }
      ]
    },
    {
      "cell_type": "code",
      "source": [
        "#--- ORDER 1E3, 0<k<1 ---\n",
        "history = model.fit(\n",
        "    X_train, y_train,\n",
        "    validation_data=(X_test, y_test),\n",
        "    batch_size=100,\n",
        "    epochs=300,\n",
        "    callbacks=[early_stopping], # put your callbacks in a list\n",
        "    verbose=1,  # turn off training log\n",
        "    shuffle=False\n",
        ")\n",
        "\n",
        "history_df = pd.DataFrame(history.history)\n",
        "history_df.loc[:, ['loss', 'val_loss']].plot();\n",
        "print(\"Minimum validation loss: {}\".format(history_df['val_loss'].min()))"
      ],
      "metadata": {
        "colab": {
          "base_uri": "https://localhost:8080/",
          "height": 1000
        },
        "outputId": "0980e548-fb13-4e53-81c3-e547f00c5584",
        "id": "1i7A_VEHf5Hu"
      },
      "execution_count": null,
      "outputs": [
        {
          "output_type": "stream",
          "name": "stderr",
          "text": [
            "2024-09-24 17:42:35.702272: W external/local_tsl/tsl/framework/cpu_allocator_impl.cc:83] Allocation of 1120000000 exceeds 10% of free system memory.\n",
            "2024-09-24 17:42:36.366735: W external/local_tsl/tsl/framework/cpu_allocator_impl.cc:83] Allocation of 1120000000 exceeds 10% of free system memory.\n"
          ]
        },
        {
          "output_type": "stream",
          "name": "stdout",
          "text": [
            "Epoch 1/300\n"
          ]
        },
        {
          "output_type": "stream",
          "name": "stderr",
          "text": [
            "2024-09-24 17:42:36.873564: W external/local_tsl/tsl/framework/cpu_allocator_impl.cc:83] Allocation of 1120000000 exceeds 10% of free system memory.\n",
            "WARNING: All log messages before absl::InitializeLog() is called are written to STDERR\n",
            "I0000 00:00:1727210559.634035   73381 service.cc:145] XLA service 0x7f43f4018470 initialized for platform CUDA (this does not guarantee that XLA will be used). Devices:\n",
            "I0000 00:00:1727210559.634080   73381 service.cc:153]   StreamExecutor device (0): NVIDIA GeForce RTX 2060 SUPER, Compute Capability 7.5\n",
            "2024-09-24 17:42:39.714957: I tensorflow/compiler/mlir/tensorflow/utils/dump_mlir_util.cc:268] disabling MLIR crash reproducer, set env var `MLIR_CRASH_REPRODUCER_DIRECTORY` to enable.\n",
            "2024-09-24 17:42:39.965065: I external/local_xla/xla/stream_executor/cuda/cuda_dnn.cc:465] Loaded cuDNN version 8907\n"
          ]
        },
        {
          "output_type": "stream",
          "name": "stdout",
          "text": [
            "\u001b[1m 16/280\u001b[0m \u001b[32m━\u001b[0m\u001b[37m━━━━━━━━━━━━━━━━━━━\u001b[0m \u001b[1m3s\u001b[0m 12ms/step - loss: 0.2216"
          ]
        },
        {
          "output_type": "stream",
          "name": "stderr",
          "text": [
            "I0000 00:00:1727210562.195913   73381 device_compiler.h:188] Compiled cluster using XLA!  This line is logged at most once for the lifetime of the process.\n"
          ]
        },
        {
          "output_type": "stream",
          "name": "stdout",
          "text": [
            "\u001b[1m280/280\u001b[0m \u001b[32m━━━━━━━━━━━━━━━━━━━━\u001b[0m\u001b[37m\u001b[0m \u001b[1m10s\u001b[0m 17ms/step - loss: 0.0439 - val_loss: 0.0031\n",
            "Epoch 2/300\n",
            "\u001b[1m280/280\u001b[0m \u001b[32m━━━━━━━━━━━━━━━━━━━━\u001b[0m\u001b[37m\u001b[0m \u001b[1m4s\u001b[0m 13ms/step - loss: 0.0029 - val_loss: 0.0021\n",
            "Epoch 3/300\n",
            "\u001b[1m280/280\u001b[0m \u001b[32m━━━━━━━━━━━━━━━━━━━━\u001b[0m\u001b[37m\u001b[0m \u001b[1m4s\u001b[0m 13ms/step - loss: 0.0019 - val_loss: 0.0017\n",
            "Epoch 4/300\n",
            "\u001b[1m280/280\u001b[0m \u001b[32m━━━━━━━━━━━━━━━━━━━━\u001b[0m\u001b[37m\u001b[0m \u001b[1m4s\u001b[0m 13ms/step - loss: 0.0015 - val_loss: 0.0014\n",
            "Epoch 5/300\n",
            "\u001b[1m280/280\u001b[0m \u001b[32m━━━━━━━━━━━━━━━━━━━━\u001b[0m\u001b[37m\u001b[0m \u001b[1m4s\u001b[0m 13ms/step - loss: 0.0011 - val_loss: 0.0013\n",
            "Epoch 6/300\n",
            "\u001b[1m280/280\u001b[0m \u001b[32m━━━━━━━━━━━━━━━━━━━━\u001b[0m\u001b[37m\u001b[0m \u001b[1m4s\u001b[0m 13ms/step - loss: 0.0011 - val_loss: 0.0013\n",
            "Epoch 7/300\n",
            "\u001b[1m280/280\u001b[0m \u001b[32m━━━━━━━━━━━━━━━━━━━━\u001b[0m\u001b[37m\u001b[0m \u001b[1m4s\u001b[0m 13ms/step - loss: 8.6535e-04 - val_loss: 0.0014\n",
            "Epoch 8/300\n",
            "\u001b[1m280/280\u001b[0m \u001b[32m━━━━━━━━━━━━━━━━━━━━\u001b[0m\u001b[37m\u001b[0m \u001b[1m4s\u001b[0m 13ms/step - loss: 9.1547e-04 - val_loss: 0.0012\n",
            "Epoch 9/300\n",
            "\u001b[1m280/280\u001b[0m \u001b[32m━━━━━━━━━━━━━━━━━━━━\u001b[0m\u001b[37m\u001b[0m \u001b[1m4s\u001b[0m 13ms/step - loss: 9.9961e-04 - val_loss: 0.0013\n",
            "Epoch 10/300\n",
            "\u001b[1m280/280\u001b[0m \u001b[32m━━━━━━━━━━━━━━━━━━━━\u001b[0m\u001b[37m\u001b[0m \u001b[1m4s\u001b[0m 13ms/step - loss: 9.1503e-04 - val_loss: 0.0011\n",
            "Epoch 11/300\n",
            "\u001b[1m280/280\u001b[0m \u001b[32m━━━━━━━━━━━━━━━━━━━━\u001b[0m\u001b[37m\u001b[0m \u001b[1m4s\u001b[0m 13ms/step - loss: 6.6217e-04 - val_loss: 0.0010\n",
            "Epoch 12/300\n",
            "\u001b[1m280/280\u001b[0m \u001b[32m━━━━━━━━━━━━━━━━━━━━\u001b[0m\u001b[37m\u001b[0m \u001b[1m4s\u001b[0m 13ms/step - loss: 6.2921e-04 - val_loss: 9.5171e-04\n",
            "Epoch 13/300\n",
            "\u001b[1m280/280\u001b[0m \u001b[32m━━━━━━━━━━━━━━━━━━━━\u001b[0m\u001b[37m\u001b[0m \u001b[1m4s\u001b[0m 13ms/step - loss: 6.9225e-04 - val_loss: 8.9283e-04\n",
            "Epoch 14/300\n",
            "\u001b[1m280/280\u001b[0m \u001b[32m━━━━━━━━━━━━━━━━━━━━\u001b[0m\u001b[37m\u001b[0m \u001b[1m4s\u001b[0m 13ms/step - loss: 5.6192e-04 - val_loss: 0.0012\n",
            "Epoch 15/300\n",
            "\u001b[1m280/280\u001b[0m \u001b[32m━━━━━━━━━━━━━━━━━━━━\u001b[0m\u001b[37m\u001b[0m \u001b[1m4s\u001b[0m 14ms/step - loss: 6.8332e-04 - val_loss: 8.9820e-04\n",
            "Epoch 16/300\n",
            "\u001b[1m280/280\u001b[0m \u001b[32m━━━━━━━━━━━━━━━━━━━━\u001b[0m\u001b[37m\u001b[0m \u001b[1m4s\u001b[0m 13ms/step - loss: 5.0405e-04 - val_loss: 8.2976e-04\n",
            "Epoch 17/300\n",
            "\u001b[1m280/280\u001b[0m \u001b[32m━━━━━━━━━━━━━━━━━━━━\u001b[0m\u001b[37m\u001b[0m \u001b[1m4s\u001b[0m 13ms/step - loss: 5.4712e-04 - val_loss: 8.7311e-04\n",
            "Epoch 18/300\n",
            "\u001b[1m280/280\u001b[0m \u001b[32m━━━━━━━━━━━━━━━━━━━━\u001b[0m\u001b[37m\u001b[0m \u001b[1m4s\u001b[0m 13ms/step - loss: 7.1442e-04 - val_loss: 0.0012\n",
            "Epoch 19/300\n",
            "\u001b[1m280/280\u001b[0m \u001b[32m━━━━━━━━━━━━━━━━━━━━\u001b[0m\u001b[37m\u001b[0m \u001b[1m4s\u001b[0m 13ms/step - loss: 9.4076e-04 - val_loss: 0.0013\n",
            "Epoch 20/300\n",
            "\u001b[1m280/280\u001b[0m \u001b[32m━━━━━━━━━━━━━━━━━━━━\u001b[0m\u001b[37m\u001b[0m \u001b[1m4s\u001b[0m 13ms/step - loss: 7.7491e-04 - val_loss: 0.0010\n",
            "Epoch 21/300\n",
            "\u001b[1m280/280\u001b[0m \u001b[32m━━━━━━━━━━━━━━━━━━━━\u001b[0m\u001b[37m\u001b[0m \u001b[1m4s\u001b[0m 14ms/step - loss: 4.9505e-04 - val_loss: 0.0011\n",
            "Epoch 22/300\n",
            "\u001b[1m280/280\u001b[0m \u001b[32m━━━━━━━━━━━━━━━━━━━━\u001b[0m\u001b[37m\u001b[0m \u001b[1m4s\u001b[0m 13ms/step - loss: 4.3544e-04 - val_loss: 0.0010\n",
            "Epoch 23/300\n",
            "\u001b[1m280/280\u001b[0m \u001b[32m━━━━━━━━━━━━━━━━━━━━\u001b[0m\u001b[37m\u001b[0m \u001b[1m4s\u001b[0m 13ms/step - loss: 3.9774e-04 - val_loss: 8.7521e-04\n",
            "Epoch 24/300\n",
            "\u001b[1m280/280\u001b[0m \u001b[32m━━━━━━━━━━━━━━━━━━━━\u001b[0m\u001b[37m\u001b[0m \u001b[1m4s\u001b[0m 13ms/step - loss: 4.2249e-04 - val_loss: 9.8812e-04\n",
            "Epoch 25/300\n",
            "\u001b[1m280/280\u001b[0m \u001b[32m━━━━━━━━━━━━━━━━━━━━\u001b[0m\u001b[37m\u001b[0m \u001b[1m4s\u001b[0m 13ms/step - loss: 3.9293e-04 - val_loss: 7.8069e-04\n",
            "Epoch 26/300\n",
            "\u001b[1m280/280\u001b[0m \u001b[32m━━━━━━━━━━━━━━━━━━━━\u001b[0m\u001b[37m\u001b[0m \u001b[1m4s\u001b[0m 13ms/step - loss: 3.1486e-04 - val_loss: 8.3064e-04\n",
            "Epoch 27/300\n",
            "\u001b[1m280/280\u001b[0m \u001b[32m━━━━━━━━━━━━━━━━━━━━\u001b[0m\u001b[37m\u001b[0m \u001b[1m4s\u001b[0m 13ms/step - loss: 2.6910e-04 - val_loss: 8.5195e-04\n",
            "Epoch 28/300\n",
            "\u001b[1m280/280\u001b[0m \u001b[32m━━━━━━━━━━━━━━━━━━━━\u001b[0m\u001b[37m\u001b[0m \u001b[1m4s\u001b[0m 13ms/step - loss: 2.3916e-04 - val_loss: 8.4240e-04\n",
            "Epoch 29/300\n",
            "\u001b[1m280/280\u001b[0m \u001b[32m━━━━━━━━━━━━━━━━━━━━\u001b[0m\u001b[37m\u001b[0m \u001b[1m4s\u001b[0m 13ms/step - loss: 2.6183e-04 - val_loss: 8.2133e-04\n",
            "Epoch 30/300\n",
            "\u001b[1m280/280\u001b[0m \u001b[32m━━━━━━━━━━━━━━━━━━━━\u001b[0m\u001b[37m\u001b[0m \u001b[1m4s\u001b[0m 13ms/step - loss: 2.6473e-04 - val_loss: 8.6620e-04\n",
            "Epoch 31/300\n",
            "\u001b[1m280/280\u001b[0m \u001b[32m━━━━━━━━━━━━━━━━━━━━\u001b[0m\u001b[37m\u001b[0m \u001b[1m4s\u001b[0m 13ms/step - loss: 3.1488e-04 - val_loss: 8.6959e-04\n",
            "Minimum validation loss: 0.000780691159889102\n"
          ]
        },
        {
          "output_type": "display_data",
          "data": {
            "text/plain": [
              "<Figure size 432x288 with 1 Axes>"
            ],
            "image/png": "[encoded data removed]"
          },
          "metadata": {
            "needs_background": "light"
          }
        }
      ]
    },
    {
      "cell_type": "code",
      "source": [
        "#--- ORDER 1E6, 0<k<1 ---\n",
        "history = model.fit(\n",
        "    X_train, y_train,\n",
        "    validation_data=(X_test, y_test),\n",
        "    batch_size=100,\n",
        "    epochs=300,\n",
        "    callbacks=[early_stopping], # put your callbacks in a list\n",
        "    verbose=1,  # turn off training log\n",
        "    shuffle=False\n",
        ")\n",
        "\n",
        "history_df = pd.DataFrame(history.history)\n",
        "history_df.loc[:, ['loss', 'val_loss']].plot();\n",
        "print(\"Minimum validation loss: {}\".format(history_df['val_loss'].min()))"
      ],
      "metadata": {
        "colab": {
          "base_uri": "https://localhost:8080/"
        },
        "outputId": "dda1b9b4-eb39-491e-c433-f3ec752cc0fe",
        "id": "_zH2ADI1SYWD"
      },
      "execution_count": null,
      "outputs": [
        {
          "output_type": "stream",
          "name": "stderr",
          "text": [
            "2024-09-24 17:55:11.847862: W external/local_tsl/tsl/framework/cpu_allocator_impl.cc:83] Allocation of 1120000000 exceeds 10% of free system memory.\n",
            "2024-09-24 17:55:12.489232: W external/local_tsl/tsl/framework/cpu_allocator_impl.cc:83] Allocation of 1120000000 exceeds 10% of free system memory.\n"
          ]
        },
        {
          "output_type": "stream",
          "name": "stdout",
          "text": [
            "Epoch 1/300\n"
          ]
        },
        {
          "output_type": "stream",
          "name": "stderr",
          "text": [
            "2024-09-24 17:55:12.991137: W external/local_tsl/tsl/framework/cpu_allocator_impl.cc:83] Allocation of 1120000000 exceeds 10% of free system memory.\n",
            "WARNING: All log messages before absl::InitializeLog() is called are written to STDERR\n",
            "I0000 00:00:1727211315.464952   79492 service.cc:145] XLA service 0x7f4fac015af0 initialized for platform CUDA (this does not guarantee that XLA will be used). Devices:\n",
            "I0000 00:00:1727211315.464984   79492 service.cc:153]   StreamExecutor device (0): NVIDIA GeForce RTX 2060 SUPER, Compute Capability 7.5\n",
            "2024-09-24 17:55:15.518159: I tensorflow/compiler/mlir/tensorflow/utils/dump_mlir_util.cc:268] disabling MLIR crash reproducer, set env var `MLIR_CRASH_REPRODUCER_DIRECTORY` to enable.\n",
            "2024-09-24 17:55:15.776804: I external/local_xla/xla/stream_executor/cuda/cuda_dnn.cc:465] Loaded cuDNN version 8907\n"
          ]
        },
        {
          "output_type": "stream",
          "name": "stdout",
          "text": [
            "\u001b[1m 16/280\u001b[0m \u001b[32m━\u001b[0m\u001b[37m━━━━━━━━━━━━━━━━━━━\u001b[0m \u001b[1m3s\u001b[0m 12ms/step - loss: 0.2140"
          ]
        },
        {
          "output_type": "stream",
          "name": "stderr",
          "text": [
            "I0000 00:00:1727211317.899326   79492 device_compiler.h:188] Compiled cluster using XLA!  This line is logged at most once for the lifetime of the process.\n"
          ]
        },
        {
          "output_type": "stream",
          "name": "stdout",
          "text": [
            "\u001b[1m128/280\u001b[0m \u001b[32m━━━━━━━━━\u001b[0m\u001b[37m━━━━━━━━━━━\u001b[0m \u001b[1m1s\u001b[0m 12ms/step - loss: 0.0712"
          ]
        }
      ]
    },
    {
      "cell_type": "code",
      "source": [
        "#--- ORDER 1E7, 0<k<1 ---\n",
        "history = model.fit(\n",
        "    X_train, y_train,\n",
        "    validation_data=(X_test, y_test),\n",
        "    batch_size=100,\n",
        "    epochs=300,\n",
        "    callbacks=[early_stopping], # put your callbacks in a list\n",
        "    verbose=1,  # turn off training log\n",
        "    shuffle=False\n",
        ")\n",
        "\n",
        "history_df = pd.DataFrame(history.history)\n",
        "history_df.loc[:, ['loss', 'val_loss']].plot();\n",
        "print(\"Minimum validation loss: {}\".format(history_df['val_loss'].min()))"
      ],
      "metadata": {
        "colab": {
          "base_uri": "https://localhost:8080/",
          "height": 1000
        },
        "outputId": "2c413761-3928-4435-fdfc-0bc65878d80c",
        "id": "ux7CJccmjETX"
      },
      "execution_count": null,
      "outputs": [
        {
          "output_type": "stream",
          "name": "stderr",
          "text": [
            "2024-09-24 17:55:46.869739: W external/local_tsl/tsl/framework/cpu_allocator_impl.cc:83] Allocation of 1120000000 exceeds 10% of free system memory.\n",
            "2024-09-24 17:55:47.540456: W external/local_tsl/tsl/framework/cpu_allocator_impl.cc:83] Allocation of 1120000000 exceeds 10% of free system memory.\n"
          ]
        },
        {
          "output_type": "stream",
          "name": "stdout",
          "text": [
            "Epoch 1/300\n"
          ]
        },
        {
          "output_type": "stream",
          "name": "stderr",
          "text": [
            "2024-09-24 17:55:48.058264: W external/local_tsl/tsl/framework/cpu_allocator_impl.cc:83] Allocation of 1120000000 exceeds 10% of free system memory.\n",
            "WARNING: All log messages before absl::InitializeLog() is called are written to STDERR\n",
            "I0000 00:00:1727211350.599813   79644 service.cc:145] XLA service 0x7f4a80003970 initialized for platform CUDA (this does not guarantee that XLA will be used). Devices:\n",
            "I0000 00:00:1727211350.599842   79644 service.cc:153]   StreamExecutor device (0): NVIDIA GeForce RTX 2060 SUPER, Compute Capability 7.5\n",
            "2024-09-24 17:55:50.657881: I tensorflow/compiler/mlir/tensorflow/utils/dump_mlir_util.cc:268] disabling MLIR crash reproducer, set env var `MLIR_CRASH_REPRODUCER_DIRECTORY` to enable.\n",
            "2024-09-24 17:55:50.932694: I external/local_xla/xla/stream_executor/cuda/cuda_dnn.cc:465] Loaded cuDNN version 8907\n"
          ]
        },
        {
          "output_type": "stream",
          "name": "stdout",
          "text": [
            "\u001b[1m 13/280\u001b[0m \u001b[37m━━━━━━━━━━━━━━━━━━━━\u001b[0m \u001b[1m3s\u001b[0m 13ms/step - loss: 0.2364"
          ]
        },
        {
          "output_type": "stream",
          "name": "stderr",
          "text": [
            "I0000 00:00:1727211353.291528   79644 device_compiler.h:188] Compiled cluster using XLA!  This line is logged at most once for the lifetime of the process.\n"
          ]
        },
        {
          "output_type": "stream",
          "name": "stdout",
          "text": [
            "\u001b[1m280/280\u001b[0m \u001b[32m━━━━━━━━━━━━━━━━━━━━\u001b[0m\u001b[37m\u001b[0m \u001b[1m10s\u001b[0m 18ms/step - loss: 0.0467 - val_loss: 0.0037\n",
            "Epoch 2/300\n",
            "\u001b[1m280/280\u001b[0m \u001b[32m━━━━━━━━━━━━━━━━━━━━\u001b[0m\u001b[37m\u001b[0m \u001b[1m4s\u001b[0m 13ms/step - loss: 0.0031 - val_loss: 0.0021\n",
            "Epoch 3/300\n",
            "\u001b[1m280/280\u001b[0m \u001b[32m━━━━━━━━━━━━━━━━━━━━\u001b[0m\u001b[37m\u001b[0m \u001b[1m4s\u001b[0m 13ms/step - loss: 0.0019 - val_loss: 0.0015\n",
            "Epoch 4/300\n",
            "\u001b[1m280/280\u001b[0m \u001b[32m━━━━━━━━━━━━━━━━━━━━\u001b[0m\u001b[37m\u001b[0m \u001b[1m4s\u001b[0m 13ms/step - loss: 0.0013 - val_loss: 0.0013\n",
            "Epoch 5/300\n",
            "\u001b[1m280/280\u001b[0m \u001b[32m━━━━━━━━━━━━━━━━━━━━\u001b[0m\u001b[37m\u001b[0m \u001b[1m4s\u001b[0m 13ms/step - loss: 0.0010 - val_loss: 0.0012\n",
            "Epoch 6/300\n",
            "\u001b[1m280/280\u001b[0m \u001b[32m━━━━━━━━━━━━━━━━━━━━\u001b[0m\u001b[37m\u001b[0m \u001b[1m4s\u001b[0m 13ms/step - loss: 8.5750e-04 - val_loss: 0.0011\n",
            "Epoch 7/300\n",
            "\u001b[1m280/280\u001b[0m \u001b[32m━━━━━━━━━━━━━━━━━━━━\u001b[0m\u001b[37m\u001b[0m \u001b[1m4s\u001b[0m 13ms/step - loss: 8.5296e-04 - val_loss: 9.5409e-04\n",
            "Epoch 8/300\n",
            "\u001b[1m280/280\u001b[0m \u001b[32m━━━━━━━━━━━━━━━━━━━━\u001b[0m\u001b[37m\u001b[0m \u001b[1m4s\u001b[0m 13ms/step - loss: 6.9732e-04 - val_loss: 0.0010\n",
            "Epoch 9/300\n",
            "\u001b[1m280/280\u001b[0m \u001b[32m━━━━━━━━━━━━━━━━━━━━\u001b[0m\u001b[37m\u001b[0m \u001b[1m4s\u001b[0m 13ms/step - loss: 6.3330e-04 - val_loss: 0.0011\n",
            "Epoch 10/300\n",
            "\u001b[1m280/280\u001b[0m \u001b[32m━━━━━━━━━━━━━━━━━━━━\u001b[0m\u001b[37m\u001b[0m \u001b[1m4s\u001b[0m 13ms/step - loss: 6.3877e-04 - val_loss: 0.0015\n",
            "Epoch 11/300\n",
            "\u001b[1m280/280\u001b[0m \u001b[32m━━━━━━━━━━━━━━━━━━━━\u001b[0m\u001b[37m\u001b[0m \u001b[1m4s\u001b[0m 13ms/step - loss: 6.8692e-04 - val_loss: 0.0010\n",
            "Epoch 12/300\n",
            "\u001b[1m280/280\u001b[0m \u001b[32m━━━━━━━━━━━━━━━━━━━━\u001b[0m\u001b[37m\u001b[0m \u001b[1m4s\u001b[0m 13ms/step - loss: 5.8250e-04 - val_loss: 9.1364e-04\n",
            "Epoch 13/300\n",
            "\u001b[1m280/280\u001b[0m \u001b[32m━━━━━━━━━━━━━━━━━━━━\u001b[0m\u001b[37m\u001b[0m \u001b[1m4s\u001b[0m 13ms/step - loss: 7.4956e-04 - val_loss: 9.5681e-04\n",
            "Epoch 14/300\n",
            "\u001b[1m280/280\u001b[0m \u001b[32m━━━━━━━━━━━━━━━━━━━━\u001b[0m\u001b[37m\u001b[0m \u001b[1m4s\u001b[0m 13ms/step - loss: 6.2231e-04 - val_loss: 8.7006e-04\n",
            "Epoch 15/300\n",
            "\u001b[1m280/280\u001b[0m \u001b[32m━━━━━━━━━━━━━━━━━━━━\u001b[0m\u001b[37m\u001b[0m \u001b[1m4s\u001b[0m 13ms/step - loss: 4.2609e-04 - val_loss: 7.6191e-04\n",
            "Epoch 16/300\n",
            "\u001b[1m280/280\u001b[0m \u001b[32m━━━━━━━━━━━━━━━━━━━━\u001b[0m\u001b[37m\u001b[0m \u001b[1m4s\u001b[0m 13ms/step - loss: 3.9607e-04 - val_loss: 0.0011\n",
            "Epoch 17/300\n",
            "\u001b[1m280/280\u001b[0m \u001b[32m━━━━━━━━━━━━━━━━━━━━\u001b[0m\u001b[37m\u001b[0m \u001b[1m4s\u001b[0m 13ms/step - loss: 4.6565e-04 - val_loss: 7.6696e-04\n",
            "Epoch 18/300\n",
            "\u001b[1m280/280\u001b[0m \u001b[32m━━━━━━━━━━━━━━━━━━━━\u001b[0m\u001b[37m\u001b[0m \u001b[1m4s\u001b[0m 13ms/step - loss: 4.2047e-04 - val_loss: 9.4452e-04\n",
            "Epoch 19/300\n",
            "\u001b[1m280/280\u001b[0m \u001b[32m━━━━━━━━━━━━━━━━━━━━\u001b[0m\u001b[37m\u001b[0m \u001b[1m4s\u001b[0m 13ms/step - loss: 3.1744e-04 - val_loss: 9.8591e-04\n",
            "Epoch 20/300\n",
            "\u001b[1m280/280\u001b[0m \u001b[32m━━━━━━━━━━━━━━━━━━━━\u001b[0m\u001b[37m\u001b[0m \u001b[1m4s\u001b[0m 13ms/step - loss: 7.1466e-04 - val_loss: 7.2545e-04\n",
            "Epoch 21/300\n",
            "\u001b[1m280/280\u001b[0m \u001b[32m━━━━━━━━━━━━━━━━━━━━\u001b[0m\u001b[37m\u001b[0m \u001b[1m4s\u001b[0m 13ms/step - loss: 3.0564e-04 - val_loss: 7.0602e-04\n",
            "Epoch 22/300\n",
            "\u001b[1m280/280\u001b[0m \u001b[32m━━━━━━━━━━━━━━━━━━━━\u001b[0m\u001b[37m\u001b[0m \u001b[1m4s\u001b[0m 13ms/step - loss: 2.4667e-04 - val_loss: 0.0011\n",
            "Epoch 23/300\n",
            "\u001b[1m280/280\u001b[0m \u001b[32m━━━━━━━━━━━━━━━━━━━━\u001b[0m\u001b[37m\u001b[0m \u001b[1m4s\u001b[0m 13ms/step - loss: 3.5294e-04 - val_loss: 0.0014\n",
            "Epoch 24/300\n",
            "\u001b[1m280/280\u001b[0m \u001b[32m━━━━━━━━━━━━━━━━━━━━\u001b[0m\u001b[37m\u001b[0m \u001b[1m4s\u001b[0m 13ms/step - loss: 7.1540e-04 - val_loss: 6.8549e-04\n",
            "Epoch 25/300\n",
            "\u001b[1m280/280\u001b[0m \u001b[32m━━━━━━━━━━━━━━━━━━━━\u001b[0m\u001b[37m\u001b[0m \u001b[1m4s\u001b[0m 13ms/step - loss: 3.4608e-04 - val_loss: 8.0706e-04\n",
            "Epoch 26/300\n",
            "\u001b[1m280/280\u001b[0m \u001b[32m━━━━━━━━━━━━━━━━━━━━\u001b[0m\u001b[37m\u001b[0m \u001b[1m4s\u001b[0m 13ms/step - loss: 2.6349e-04 - val_loss: 0.0014\n",
            "Epoch 27/300\n",
            "\u001b[1m280/280\u001b[0m \u001b[32m━━━━━━━━━━━━━━━━━━━━\u001b[0m\u001b[37m\u001b[0m \u001b[1m4s\u001b[0m 13ms/step - loss: 3.2871e-04 - val_loss: 0.0012\n",
            "Minimum validation loss: 0.0006854853709228337\n"
          ]
        },
        {
          "output_type": "display_data",
          "data": {
            "text/plain": [
              "<Figure size 432x288 with 1 Axes>"
            ],
            "image/png": "[encoded data removed]"
          },
          "metadata": {
            "needs_background": "light"
          }
        }
      ]
    },
    {
      "cell_type": "code",
      "source": [
        "#--- ORDER 1E8, 0<k<1 ---\n",
        "history = model.fit(\n",
        "    X_train, y_train,\n",
        "    validation_data=(X_test, y_test),\n",
        "    batch_size=100,\n",
        "    epochs=300,\n",
        "    callbacks=[early_stopping], # put your callbacks in a list\n",
        "    verbose=1,  # turn off training log\n",
        "    shuffle=False\n",
        ")\n",
        "\n",
        "history_df = pd.DataFrame(history.history)\n",
        "history_df.loc[:, ['loss', 'val_loss']].plot();\n",
        "print(\"Minimum validation loss: {}\".format(history_df['val_loss'].min()))"
      ],
      "metadata": {
        "colab": {
          "base_uri": "https://localhost:8080/",
          "height": 1000
        },
        "outputId": "8e9f38f0-b04e-4e1b-bcb0-675fbe90fc0e",
        "id": "4mQgNBT1jkVJ"
      },
      "execution_count": null,
      "outputs": [
        {
          "output_type": "stream",
          "name": "stderr",
          "text": [
            "2024-09-24 17:05:08.836628: W external/local_tsl/tsl/framework/cpu_allocator_impl.cc:83] Allocation of 1120000000 exceeds 10% of free system memory.\n",
            "2024-09-24 17:05:09.514900: W external/local_tsl/tsl/framework/cpu_allocator_impl.cc:83] Allocation of 1120000000 exceeds 10% of free system memory.\n"
          ]
        },
        {
          "output_type": "stream",
          "name": "stdout",
          "text": [
            "Epoch 1/300\n"
          ]
        },
        {
          "output_type": "stream",
          "name": "stderr",
          "text": [
            "2024-09-24 17:05:10.029328: W external/local_tsl/tsl/framework/cpu_allocator_impl.cc:83] Allocation of 1120000000 exceeds 10% of free system memory.\n",
            "WARNING: All log messages before absl::InitializeLog() is called are written to STDERR\n",
            "I0000 00:00:1727208312.582878   60377 service.cc:145] XLA service 0x7f3fb4018330 initialized for platform CUDA (this does not guarantee that XLA will be used). Devices:\n",
            "I0000 00:00:1727208312.582913   60377 service.cc:153]   StreamExecutor device (0): NVIDIA GeForce RTX 2060 SUPER, Compute Capability 7.5\n",
            "2024-09-24 17:05:12.672257: I tensorflow/compiler/mlir/tensorflow/utils/dump_mlir_util.cc:268] disabling MLIR crash reproducer, set env var `MLIR_CRASH_REPRODUCER_DIRECTORY` to enable.\n",
            "2024-09-24 17:05:12.932503: I external/local_xla/xla/stream_executor/cuda/cuda_dnn.cc:465] Loaded cuDNN version 8907\n"
          ]
        },
        {
          "output_type": "stream",
          "name": "stdout",
          "text": [
            "\u001b[1m 15/280\u001b[0m \u001b[32m━\u001b[0m\u001b[37m━━━━━━━━━━━━━━━━━━━\u001b[0m \u001b[1m2s\u001b[0m 11ms/step - loss: 0.2580"
          ]
        },
        {
          "output_type": "stream",
          "name": "stderr",
          "text": [
            "I0000 00:00:1727208315.122280   60377 device_compiler.h:188] Compiled cluster using XLA!  This line is logged at most once for the lifetime of the process.\n"
          ]
        },
        {
          "output_type": "stream",
          "name": "stdout",
          "text": [
            "\u001b[1m280/280\u001b[0m \u001b[32m━━━━━━━━━━━━━━━━━━━━\u001b[0m\u001b[37m\u001b[0m \u001b[1m10s\u001b[0m 17ms/step - loss: 0.0577 - val_loss: 0.0039\n",
            "Epoch 2/300\n",
            "\u001b[1m280/280\u001b[0m \u001b[32m━━━━━━━━━━━━━━━━━━━━\u001b[0m\u001b[37m\u001b[0m \u001b[1m4s\u001b[0m 13ms/step - loss: 0.0035 - val_loss: 0.0028\n",
            "Epoch 3/300\n",
            "\u001b[1m280/280\u001b[0m \u001b[32m━━━━━━━━━━━━━━━━━━━━\u001b[0m\u001b[37m\u001b[0m \u001b[1m4s\u001b[0m 13ms/step - loss: 0.0028 - val_loss: 0.0027\n",
            "Epoch 4/300\n",
            "\u001b[1m280/280\u001b[0m \u001b[32m━━━━━━━━━━━━━━━━━━━━\u001b[0m\u001b[37m\u001b[0m \u001b[1m4s\u001b[0m 13ms/step - loss: 0.0025 - val_loss: 0.0026\n",
            "Epoch 5/300\n",
            "\u001b[1m280/280\u001b[0m \u001b[32m━━━━━━━━━━━━━━━━━━━━\u001b[0m\u001b[37m\u001b[0m \u001b[1m4s\u001b[0m 13ms/step - loss: 0.0023 - val_loss: 0.0025\n",
            "Epoch 6/300\n",
            "\u001b[1m280/280\u001b[0m \u001b[32m━━━━━━━━━━━━━━━━━━━━\u001b[0m\u001b[37m\u001b[0m \u001b[1m4s\u001b[0m 13ms/step - loss: 0.0021 - val_loss: 0.0024\n",
            "Epoch 7/300\n",
            "\u001b[1m280/280\u001b[0m \u001b[32m━━━━━━━━━━━━━━━━━━━━\u001b[0m\u001b[37m\u001b[0m \u001b[1m4s\u001b[0m 13ms/step - loss: 0.0020 - val_loss: 0.0021\n",
            "Epoch 8/300\n",
            "\u001b[1m280/280\u001b[0m \u001b[32m━━━━━━━━━━━━━━━━━━━━\u001b[0m\u001b[37m\u001b[0m \u001b[1m4s\u001b[0m 13ms/step - loss: 0.0018 - val_loss: 0.0021\n",
            "Epoch 9/300\n",
            "\u001b[1m280/280\u001b[0m \u001b[32m━━━━━━━━━━━━━━━━━━━━\u001b[0m\u001b[37m\u001b[0m \u001b[1m4s\u001b[0m 13ms/step - loss: 0.0017 - val_loss: 0.0019\n",
            "Epoch 10/300\n",
            "\u001b[1m280/280\u001b[0m \u001b[32m━━━━━━━━━━━━━━━━━━━━\u001b[0m\u001b[37m\u001b[0m \u001b[1m4s\u001b[0m 13ms/step - loss: 0.0015 - val_loss: 0.0018\n",
            "Epoch 11/300\n",
            "\u001b[1m280/280\u001b[0m \u001b[32m━━━━━━━━━━━━━━━━━━━━\u001b[0m\u001b[37m\u001b[0m \u001b[1m4s\u001b[0m 13ms/step - loss: 0.0014 - val_loss: 0.0017\n",
            "Epoch 12/300\n",
            "\u001b[1m280/280\u001b[0m \u001b[32m━━━━━━━━━━━━━━━━━━━━\u001b[0m\u001b[37m\u001b[0m \u001b[1m4s\u001b[0m 13ms/step - loss: 0.0013 - val_loss: 0.0013\n",
            "Epoch 13/300\n",
            "\u001b[1m280/280\u001b[0m \u001b[32m━━━━━━━━━━━━━━━━━━━━\u001b[0m\u001b[37m\u001b[0m \u001b[1m4s\u001b[0m 13ms/step - loss: 0.0011 - val_loss: 0.0011\n",
            "Epoch 14/300\n",
            "\u001b[1m280/280\u001b[0m \u001b[32m━━━━━━━━━━━━━━━━━━━━\u001b[0m\u001b[37m\u001b[0m \u001b[1m4s\u001b[0m 13ms/step - loss: 0.0010 - val_loss: 0.0010\n",
            "Epoch 15/300\n",
            "\u001b[1m280/280\u001b[0m \u001b[32m━━━━━━━━━━━━━━━━━━━━\u001b[0m\u001b[37m\u001b[0m \u001b[1m4s\u001b[0m 13ms/step - loss: 9.3176e-04 - val_loss: 9.7874e-04\n",
            "Epoch 16/300\n",
            "\u001b[1m280/280\u001b[0m \u001b[32m━━━━━━━━━━━━━━━━━━━━\u001b[0m\u001b[37m\u001b[0m \u001b[1m4s\u001b[0m 13ms/step - loss: 8.4131e-04 - val_loss: 9.2998e-04\n",
            "Epoch 17/300\n",
            "\u001b[1m280/280\u001b[0m \u001b[32m━━━━━━━━━━━━━━━━━━━━\u001b[0m\u001b[37m\u001b[0m \u001b[1m4s\u001b[0m 13ms/step - loss: 8.3543e-04 - val_loss: 0.0011\n",
            "Epoch 18/300\n",
            "\u001b[1m280/280\u001b[0m \u001b[32m━━━━━━━━━━━━━━━━━━━━\u001b[0m\u001b[37m\u001b[0m \u001b[1m4s\u001b[0m 13ms/step - loss: 7.7771e-04 - val_loss: 7.9891e-04\n",
            "Epoch 19/300\n",
            "\u001b[1m280/280\u001b[0m \u001b[32m━━━━━━━━━━━━━━━━━━━━\u001b[0m\u001b[37m\u001b[0m \u001b[1m4s\u001b[0m 13ms/step - loss: 6.6774e-04 - val_loss: 0.0011\n",
            "Epoch 20/300\n",
            "\u001b[1m280/280\u001b[0m \u001b[32m━━━━━━━━━━━━━━━━━━━━\u001b[0m\u001b[37m\u001b[0m \u001b[1m4s\u001b[0m 13ms/step - loss: 6.9194e-04 - val_loss: 8.8078e-04\n",
            "Epoch 21/300\n",
            "\u001b[1m280/280\u001b[0m \u001b[32m━━━━━━━━━━━━━━━━━━━━\u001b[0m\u001b[37m\u001b[0m \u001b[1m4s\u001b[0m 13ms/step - loss: 6.6215e-04 - val_loss: 8.0672e-04\n",
            "Epoch 22/300\n",
            "\u001b[1m280/280\u001b[0m \u001b[32m━━━━━━━━━━━━━━━━━━━━\u001b[0m\u001b[37m\u001b[0m \u001b[1m4s\u001b[0m 13ms/step - loss: 5.9849e-04 - val_loss: 8.9930e-04\n",
            "Epoch 23/300\n",
            "\u001b[1m280/280\u001b[0m \u001b[32m━━━━━━━━━━━━━━━━━━━━\u001b[0m\u001b[37m\u001b[0m \u001b[1m4s\u001b[0m 13ms/step - loss: 5.9722e-04 - val_loss: 7.3917e-04\n",
            "Epoch 24/300\n",
            "\u001b[1m280/280\u001b[0m \u001b[32m━━━━━━━━━━━━━━━━━━━━\u001b[0m\u001b[37m\u001b[0m \u001b[1m4s\u001b[0m 13ms/step - loss: 5.1119e-04 - val_loss: 8.7044e-04\n",
            "Epoch 25/300\n",
            "\u001b[1m280/280\u001b[0m \u001b[32m━━━━━━━━━━━━━━━━━━━━\u001b[0m\u001b[37m\u001b[0m \u001b[1m4s\u001b[0m 13ms/step - loss: 6.4218e-04 - val_loss: 8.4273e-04\n",
            "Epoch 26/300\n",
            "\u001b[1m280/280\u001b[0m \u001b[32m━━━━━━━━━━━━━━━━━━━━\u001b[0m\u001b[37m\u001b[0m \u001b[1m4s\u001b[0m 13ms/step - loss: 6.0486e-04 - val_loss: 6.0995e-04\n",
            "Epoch 27/300\n",
            "\u001b[1m280/280\u001b[0m \u001b[32m━━━━━━━━━━━━━━━━━━━━\u001b[0m\u001b[37m\u001b[0m \u001b[1m4s\u001b[0m 13ms/step - loss: 4.7253e-04 - val_loss: 7.3551e-04\n",
            "Epoch 28/300\n",
            "\u001b[1m280/280\u001b[0m \u001b[32m━━━━━━━━━━━━━━━━━━━━\u001b[0m\u001b[37m\u001b[0m \u001b[1m4s\u001b[0m 13ms/step - loss: 5.4979e-04 - val_loss: 6.4434e-04\n",
            "Epoch 29/300\n",
            "\u001b[1m280/280\u001b[0m \u001b[32m━━━━━━━━━━━━━━━━━━━━\u001b[0m\u001b[37m\u001b[0m \u001b[1m4s\u001b[0m 13ms/step - loss: 4.4948e-04 - val_loss: 7.1513e-04\n",
            "Epoch 30/300\n",
            "\u001b[1m280/280\u001b[0m \u001b[32m━━━━━━━━━━━━━━━━━━━━\u001b[0m\u001b[37m\u001b[0m \u001b[1m4s\u001b[0m 13ms/step - loss: 4.0921e-04 - val_loss: 9.2715e-04\n",
            "Epoch 31/300\n",
            "\u001b[1m280/280\u001b[0m \u001b[32m━━━━━━━━━━━━━━━━━━━━\u001b[0m\u001b[37m\u001b[0m \u001b[1m4s\u001b[0m 13ms/step - loss: 4.2108e-04 - val_loss: 6.8026e-04\n",
            "Epoch 32/300\n",
            "\u001b[1m280/280\u001b[0m \u001b[32m━━━━━━━━━━━━━━━━━━━━\u001b[0m\u001b[37m\u001b[0m \u001b[1m4s\u001b[0m 13ms/step - loss: 3.4762e-04 - val_loss: 7.5452e-04\n",
            "Epoch 33/300\n",
            "\u001b[1m280/280\u001b[0m \u001b[32m━━━━━━━━━━━━━━━━━━━━\u001b[0m\u001b[37m\u001b[0m \u001b[1m4s\u001b[0m 13ms/step - loss: 2.7630e-04 - val_loss: 7.0106e-04\n",
            "Epoch 34/300\n",
            "\u001b[1m280/280\u001b[0m \u001b[32m━━━━━━━━━━━━━━━━━━━━\u001b[0m\u001b[37m\u001b[0m \u001b[1m4s\u001b[0m 13ms/step - loss: 2.3996e-04 - val_loss: 6.8132e-04\n",
            "Epoch 35/300\n",
            "\u001b[1m280/280\u001b[0m \u001b[32m━━━━━━━━━━━━━━━━━━━━\u001b[0m\u001b[37m\u001b[0m \u001b[1m4s\u001b[0m 13ms/step - loss: 2.1777e-04 - val_loss: 8.1650e-04\n",
            "Epoch 36/300\n",
            "\u001b[1m280/280\u001b[0m \u001b[32m━━━━━━━━━━━━━━━━━━━━\u001b[0m\u001b[37m\u001b[0m \u001b[1m4s\u001b[0m 13ms/step - loss: 2.4858e-04 - val_loss: 8.8922e-04\n",
            "Epoch 37/300\n",
            "\u001b[1m280/280\u001b[0m \u001b[32m━━━━━━━━━━━━━━━━━━━━\u001b[0m\u001b[37m\u001b[0m \u001b[1m4s\u001b[0m 13ms/step - loss: 4.5920e-04 - val_loss: 6.0929e-04\n",
            "Epoch 38/300\n",
            "\u001b[1m280/280\u001b[0m \u001b[32m━━━━━━━━━━━━━━━━━━━━\u001b[0m\u001b[37m\u001b[0m \u001b[1m4s\u001b[0m 13ms/step - loss: 3.2318e-04 - val_loss: 5.7416e-04\n",
            "Epoch 39/300\n",
            "\u001b[1m280/280\u001b[0m \u001b[32m━━━━━━━━━━━━━━━━━━━━\u001b[0m\u001b[37m\u001b[0m \u001b[1m4s\u001b[0m 13ms/step - loss: 2.7303e-04 - val_loss: 8.6622e-04\n",
            "Epoch 40/300\n",
            "\u001b[1m280/280\u001b[0m \u001b[32m━━━━━━━━━━━━━━━━━━━━\u001b[0m\u001b[37m\u001b[0m \u001b[1m4s\u001b[0m 13ms/step - loss: 5.3488e-04 - val_loss: 5.6473e-04\n",
            "Epoch 41/300\n",
            "\u001b[1m280/280\u001b[0m \u001b[32m━━━━━━━━━━━━━━━━━━━━\u001b[0m\u001b[37m\u001b[0m \u001b[1m4s\u001b[0m 13ms/step - loss: 2.4580e-04 - val_loss: 6.2828e-04\n",
            "Epoch 42/300\n",
            "\u001b[1m280/280\u001b[0m \u001b[32m━━━━━━━━━━━━━━━━━━━━\u001b[0m\u001b[37m\u001b[0m \u001b[1m4s\u001b[0m 13ms/step - loss: 3.7923e-04 - val_loss: 6.6415e-04\n",
            "Epoch 43/300\n",
            "\u001b[1m280/280\u001b[0m \u001b[32m━━━━━━━━━━━━━━━━━━━━\u001b[0m\u001b[37m\u001b[0m \u001b[1m4s\u001b[0m 13ms/step - loss: 2.4068e-04 - val_loss: 5.2993e-04\n",
            "Minimum validation loss: 0.0005299301701597869\n"
          ]
        },
        {
          "output_type": "display_data",
          "data": {
            "text/plain": [
              "<Figure size 432x288 with 1 Axes>"
            ],
            "image/png": "[encoded data removed]"
          },
          "metadata": {
            "needs_background": "light"
          }
        }
      ]
    },
    {
      "cell_type": "code",
      "source": [
        "#--- ORDER 1E9, 0<k<1 ---\n",
        "history = model.fit(\n",
        "    X_train, y_train,\n",
        "    validation_data=(X_test, y_test),\n",
        "    batch_size=100,\n",
        "    epochs=300,\n",
        "    callbacks=[early_stopping], # put your callbacks in a list\n",
        "    verbose=1,  # turn off training log\n",
        "    shuffle=False\n",
        ")\n",
        "\n",
        "history_df = pd.DataFrame(history.history)\n",
        "history_df.loc[:, ['loss', 'val_loss']].plot();\n",
        "print(\"Minimum validation loss: {}\".format(history_df['val_loss'].min()))"
      ],
      "metadata": {
        "colab": {
          "base_uri": "https://localhost:8080/",
          "height": 1000
        },
        "outputId": "9c23086d-548b-4256-8aa3-37d4dae4e7d5",
        "id": "lRk0TNPgTczY"
      },
      "execution_count": null,
      "outputs": [
        {
          "output_type": "stream",
          "name": "stderr",
          "text": [
            "2024-09-24 17:39:01.706456: W external/local_tsl/tsl/framework/cpu_allocator_impl.cc:83] Allocation of 1120000000 exceeds 10% of free system memory.\n",
            "2024-09-24 17:39:02.402578: W external/local_tsl/tsl/framework/cpu_allocator_impl.cc:83] Allocation of 1120000000 exceeds 10% of free system memory.\n"
          ]
        },
        {
          "output_type": "stream",
          "name": "stdout",
          "text": [
            "Epoch 1/300\n"
          ]
        },
        {
          "output_type": "stream",
          "name": "stderr",
          "text": [
            "2024-09-24 17:39:02.919635: W external/local_tsl/tsl/framework/cpu_allocator_impl.cc:83] Allocation of 1120000000 exceeds 10% of free system memory.\n",
            "WARNING: All log messages before absl::InitializeLog() is called are written to STDERR\n",
            "I0000 00:00:1727210345.651995   71415 service.cc:145] XLA service 0x7fb44c018f00 initialized for platform CUDA (this does not guarantee that XLA will be used). Devices:\n",
            "I0000 00:00:1727210345.652023   71415 service.cc:153]   StreamExecutor device (0): NVIDIA GeForce RTX 2060 SUPER, Compute Capability 7.5\n",
            "2024-09-24 17:39:05.704068: I tensorflow/compiler/mlir/tensorflow/utils/dump_mlir_util.cc:268] disabling MLIR crash reproducer, set env var `MLIR_CRASH_REPRODUCER_DIRECTORY` to enable.\n",
            "2024-09-24 17:39:05.970075: I external/local_xla/xla/stream_executor/cuda/cuda_dnn.cc:465] Loaded cuDNN version 8907\n"
          ]
        },
        {
          "output_type": "stream",
          "name": "stdout",
          "text": [
            "\u001b[1m 16/280\u001b[0m \u001b[32m━\u001b[0m\u001b[37m━━━━━━━━━━━━━━━━━━━\u001b[0m \u001b[1m3s\u001b[0m 12ms/step - loss: 0.2431"
          ]
        },
        {
          "output_type": "stream",
          "name": "stderr",
          "text": [
            "I0000 00:00:1727210348.097863   71415 device_compiler.h:188] Compiled cluster using XLA!  This line is logged at most once for the lifetime of the process.\n"
          ]
        },
        {
          "output_type": "stream",
          "name": "stdout",
          "text": [
            "\u001b[1m280/280\u001b[0m \u001b[32m━━━━━━━━━━━━━━━━━━━━\u001b[0m\u001b[37m\u001b[0m \u001b[1m10s\u001b[0m 17ms/step - loss: 0.0505 - val_loss: 0.0033\n",
            "Epoch 2/300\n",
            "\u001b[1m280/280\u001b[0m \u001b[32m━━━━━━━━━━━━━━━━━━━━\u001b[0m\u001b[37m\u001b[0m \u001b[1m4s\u001b[0m 13ms/step - loss: 0.0032 - val_loss: 0.0028\n",
            "Epoch 3/300\n",
            "\u001b[1m280/280\u001b[0m \u001b[32m━━━━━━━━━━━━━━━━━━━━\u001b[0m\u001b[37m\u001b[0m \u001b[1m4s\u001b[0m 13ms/step - loss: 0.0027 - val_loss: 0.0024\n",
            "Epoch 4/300\n",
            "\u001b[1m280/280\u001b[0m \u001b[32m━━━━━━━━━━━━━━━━━━━━\u001b[0m\u001b[37m\u001b[0m \u001b[1m4s\u001b[0m 13ms/step - loss: 0.0025 - val_loss: 0.0025\n",
            "Epoch 5/300\n",
            "\u001b[1m280/280\u001b[0m \u001b[32m━━━━━━━━━━━━━━━━━━━━\u001b[0m\u001b[37m\u001b[0m \u001b[1m4s\u001b[0m 13ms/step - loss: 0.0024 - val_loss: 0.0023\n",
            "Epoch 6/300\n",
            "\u001b[1m280/280\u001b[0m \u001b[32m━━━━━━━━━━━━━━━━━━━━\u001b[0m\u001b[37m\u001b[0m \u001b[1m4s\u001b[0m 13ms/step - loss: 0.0022 - val_loss: 0.0021\n",
            "Epoch 7/300\n",
            "\u001b[1m280/280\u001b[0m \u001b[32m━━━━━━━━━━━━━━━━━━━━\u001b[0m\u001b[37m\u001b[0m \u001b[1m4s\u001b[0m 13ms/step - loss: 0.0021 - val_loss: 0.0019\n",
            "Epoch 8/300\n",
            "\u001b[1m280/280\u001b[0m \u001b[32m━━━━━━━━━━━━━━━━━━━━\u001b[0m\u001b[37m\u001b[0m \u001b[1m4s\u001b[0m 13ms/step - loss: 0.0020 - val_loss: 0.0018\n",
            "Epoch 9/300\n",
            "\u001b[1m280/280\u001b[0m \u001b[32m━━━━━━━━━━━━━━━━━━━━\u001b[0m\u001b[37m\u001b[0m \u001b[1m4s\u001b[0m 13ms/step - loss: 0.0019 - val_loss: 0.0018\n",
            "Epoch 10/300\n",
            "\u001b[1m280/280\u001b[0m \u001b[32m━━━━━━━━━━━━━━━━━━━━\u001b[0m\u001b[37m\u001b[0m \u001b[1m4s\u001b[0m 13ms/step - loss: 0.0018 - val_loss: 0.0018\n",
            "Epoch 11/300\n",
            "\u001b[1m280/280\u001b[0m \u001b[32m━━━━━━━━━━━━━━━━━━━━\u001b[0m\u001b[37m\u001b[0m \u001b[1m4s\u001b[0m 13ms/step - loss: 0.0017 - val_loss: 0.0017\n",
            "Epoch 12/300\n",
            "\u001b[1m280/280\u001b[0m \u001b[32m━━━━━━━━━━━━━━━━━━━━\u001b[0m\u001b[37m\u001b[0m \u001b[1m4s\u001b[0m 14ms/step - loss: 0.0017 - val_loss: 0.0016\n",
            "Epoch 13/300\n",
            "\u001b[1m280/280\u001b[0m \u001b[32m━━━━━━━━━━━━━━━━━━━━\u001b[0m\u001b[37m\u001b[0m \u001b[1m4s\u001b[0m 14ms/step - loss: 0.0016 - val_loss: 0.0016\n",
            "Epoch 14/300\n",
            "\u001b[1m280/280\u001b[0m \u001b[32m━━━━━━━━━━━━━━━━━━━━\u001b[0m\u001b[37m\u001b[0m \u001b[1m4s\u001b[0m 13ms/step - loss: 0.0016 - val_loss: 0.0017\n",
            "Epoch 15/300\n",
            "\u001b[1m280/280\u001b[0m \u001b[32m━━━━━━━━━━━━━━━━━━━━\u001b[0m\u001b[37m\u001b[0m \u001b[1m4s\u001b[0m 13ms/step - loss: 0.0015 - val_loss: 0.0016\n",
            "Epoch 16/300\n",
            "\u001b[1m280/280\u001b[0m \u001b[32m━━━━━━━━━━━━━━━━━━━━\u001b[0m\u001b[37m\u001b[0m \u001b[1m4s\u001b[0m 13ms/step - loss: 0.0015 - val_loss: 0.0014\n",
            "Epoch 17/300\n",
            "\u001b[1m280/280\u001b[0m \u001b[32m━━━━━━━━━━━━━━━━━━━━\u001b[0m\u001b[37m\u001b[0m \u001b[1m4s\u001b[0m 13ms/step - loss: 0.0014 - val_loss: 0.0014\n",
            "Epoch 18/300\n",
            "\u001b[1m280/280\u001b[0m \u001b[32m━━━━━━━━━━━━━━━━━━━━\u001b[0m\u001b[37m\u001b[0m \u001b[1m4s\u001b[0m 13ms/step - loss: 0.0014 - val_loss: 0.0014\n",
            "Epoch 19/300\n",
            "\u001b[1m280/280\u001b[0m \u001b[32m━━━━━━━━━━━━━━━━━━━━\u001b[0m\u001b[37m\u001b[0m \u001b[1m4s\u001b[0m 13ms/step - loss: 0.0013 - val_loss: 0.0012\n",
            "Epoch 20/300\n",
            "\u001b[1m280/280\u001b[0m \u001b[32m━━━━━━━━━━━━━━━━━━━━\u001b[0m\u001b[37m\u001b[0m \u001b[1m4s\u001b[0m 13ms/step - loss: 0.0012 - val_loss: 0.0012\n",
            "Epoch 21/300\n",
            "\u001b[1m280/280\u001b[0m \u001b[32m━━━━━━━━━━━━━━━━━━━━\u001b[0m\u001b[37m\u001b[0m \u001b[1m4s\u001b[0m 13ms/step - loss: 0.0012 - val_loss: 0.0013\n",
            "Epoch 22/300\n",
            "\u001b[1m280/280\u001b[0m \u001b[32m━━━━━━━━━━━━━━━━━━━━\u001b[0m\u001b[37m\u001b[0m \u001b[1m4s\u001b[0m 13ms/step - loss: 0.0012 - val_loss: 0.0012\n",
            "Epoch 23/300\n",
            "\u001b[1m280/280\u001b[0m \u001b[32m━━━━━━━━━━━━━━━━━━━━\u001b[0m\u001b[37m\u001b[0m \u001b[1m4s\u001b[0m 13ms/step - loss: 0.0011 - val_loss: 0.0014\n",
            "Epoch 24/300\n",
            "\u001b[1m280/280\u001b[0m \u001b[32m━━━━━━━━━━━━━━━━━━━━\u001b[0m\u001b[37m\u001b[0m \u001b[1m4s\u001b[0m 13ms/step - loss: 0.0011 - val_loss: 0.0015\n",
            "Epoch 25/300\n",
            "\u001b[1m280/280\u001b[0m \u001b[32m━━━━━━━━━━━━━━━━━━━━\u001b[0m\u001b[37m\u001b[0m \u001b[1m4s\u001b[0m 13ms/step - loss: 9.7546e-04 - val_loss: 0.0014\n",
            "Epoch 26/300\n",
            "\u001b[1m280/280\u001b[0m \u001b[32m━━━━━━━━━━━━━━━━━━━━\u001b[0m\u001b[37m\u001b[0m \u001b[1m4s\u001b[0m 13ms/step - loss: 9.6235e-04 - val_loss: 9.3553e-04\n",
            "Epoch 27/300\n",
            "\u001b[1m280/280\u001b[0m \u001b[32m━━━━━━━━━━━━━━━━━━━━\u001b[0m\u001b[37m\u001b[0m \u001b[1m4s\u001b[0m 13ms/step - loss: 8.1607e-04 - val_loss: 8.7781e-04\n",
            "Epoch 28/300\n",
            "\u001b[1m280/280\u001b[0m \u001b[32m━━━━━━━━━━━━━━━━━━━━\u001b[0m\u001b[37m\u001b[0m \u001b[1m4s\u001b[0m 13ms/step - loss: 7.7466e-04 - val_loss: 8.0564e-04\n",
            "Epoch 29/300\n",
            "\u001b[1m280/280\u001b[0m \u001b[32m━━━━━━━━━━━━━━━━━━━━\u001b[0m\u001b[37m\u001b[0m \u001b[1m4s\u001b[0m 13ms/step - loss: 7.2571e-04 - val_loss: 7.6167e-04\n",
            "Epoch 30/300\n",
            "\u001b[1m280/280\u001b[0m \u001b[32m━━━━━━━━━━━━━━━━━━━━\u001b[0m\u001b[37m\u001b[0m \u001b[1m4s\u001b[0m 14ms/step - loss: 6.7291e-04 - val_loss: 7.6309e-04\n",
            "Epoch 31/300\n",
            "\u001b[1m280/280\u001b[0m \u001b[32m━━━━━━━━━━━━━━━━━━━━\u001b[0m\u001b[37m\u001b[0m \u001b[1m4s\u001b[0m 14ms/step - loss: 6.5384e-04 - val_loss: 7.4640e-04\n",
            "Epoch 32/300\n",
            "\u001b[1m280/280\u001b[0m \u001b[32m━━━━━━━━━━━━━━━━━━━━\u001b[0m\u001b[37m\u001b[0m \u001b[1m4s\u001b[0m 13ms/step - loss: 6.2450e-04 - val_loss: 7.5815e-04\n",
            "Epoch 33/300\n",
            "\u001b[1m280/280\u001b[0m \u001b[32m━━━━━━━━━━━━━━━━━━━━\u001b[0m\u001b[37m\u001b[0m \u001b[1m4s\u001b[0m 13ms/step - loss: 5.7526e-04 - val_loss: 6.8681e-04\n",
            "Epoch 34/300\n",
            "\u001b[1m280/280\u001b[0m \u001b[32m━━━━━━━━━━━━━━━━━━━━\u001b[0m\u001b[37m\u001b[0m \u001b[1m4s\u001b[0m 14ms/step - loss: 5.5621e-04 - val_loss: 6.4758e-04\n",
            "Epoch 35/300\n",
            "\u001b[1m280/280\u001b[0m \u001b[32m━━━━━━━━━━━━━━━━━━━━\u001b[0m\u001b[37m\u001b[0m \u001b[1m4s\u001b[0m 13ms/step - loss: 5.1600e-04 - val_loss: 6.9728e-04\n",
            "Epoch 36/300\n",
            "\u001b[1m280/280\u001b[0m \u001b[32m━━━━━━━━━━━━━━━━━━━━\u001b[0m\u001b[37m\u001b[0m \u001b[1m4s\u001b[0m 13ms/step - loss: 4.4485e-04 - val_loss: 7.1002e-04\n",
            "Epoch 37/300\n",
            "\u001b[1m280/280\u001b[0m \u001b[32m━━━━━━━━━━━━━━━━━━━━\u001b[0m\u001b[37m\u001b[0m \u001b[1m4s\u001b[0m 13ms/step - loss: 4.2825e-04 - val_loss: 6.5041e-04\n",
            "Epoch 38/300\n",
            "\u001b[1m280/280\u001b[0m \u001b[32m━━━━━━━━━━━━━━━━━━━━\u001b[0m\u001b[37m\u001b[0m \u001b[1m4s\u001b[0m 14ms/step - loss: 4.1295e-04 - val_loss: 6.3105e-04\n",
            "Epoch 39/300\n",
            "\u001b[1m280/280\u001b[0m \u001b[32m━━━━━━━━━━━━━━━━━━━━\u001b[0m\u001b[37m\u001b[0m \u001b[1m4s\u001b[0m 14ms/step - loss: 4.1546e-04 - val_loss: 6.1618e-04\n",
            "Minimum validation loss: 0.0006161768105812371\n"
          ]
        },
        {
          "output_type": "display_data",
          "data": {
            "text/plain": [
              "<Figure size 432x288 with 1 Axes>"
            ],
            "image/png": "[encoded data removed]"
          },
          "metadata": {
            "needs_background": "light"
          }
        }
      ]
    },
    {
      "cell_type": "code",
      "source": [
        "#--- 5E-3 noise, 0<k<2 ---\n",
        "history = model.fit(\n",
        "    X_train, y_train,\n",
        "    validation_data=(X_test, y_test),\n",
        "    batch_size=100,\n",
        "    epochs=300,\n",
        "    callbacks=[early_stopping], # put your callbacks in a list\n",
        "    verbose=1,  # turn off training log\n",
        "    shuffle=False\n",
        ")\n",
        "\n",
        "history_df = pd.DataFrame(history.history)\n",
        "history_df.loc[:, ['loss', 'val_loss']].plot();\n",
        "print(\"Minimum validation loss: {}\".format(history_df['val_loss'].min()))"
      ],
      "metadata": {
        "colab": {
          "base_uri": "https://localhost:8080/",
          "height": 1000
        },
        "outputId": "9ad6cb21-6d16-4de7-fcab-5d1ba8742f24",
        "id": "L9U_oL9WljXE"
      },
      "execution_count": null,
      "outputs": [
        {
          "output_type": "stream",
          "name": "stderr",
          "text": [
            "2025-02-20 11:42:44.259925: W external/local_tsl/tsl/framework/cpu_allocator_impl.cc:83] Allocation of 1120080000 exceeds 10% of free system memory.\n",
            "2025-02-20 11:42:44.979159: W external/local_tsl/tsl/framework/cpu_allocator_impl.cc:83] Allocation of 1120080000 exceeds 10% of free system memory.\n"
          ]
        },
        {
          "output_type": "stream",
          "name": "stdout",
          "text": [
            "Epoch 1/300\n"
          ]
        },
        {
          "output_type": "stream",
          "name": "stderr",
          "text": [
            "2025-02-20 11:42:45.512945: W external/local_tsl/tsl/framework/cpu_allocator_impl.cc:83] Allocation of 1120080000 exceeds 10% of free system memory.\n",
            "WARNING: All log messages before absl::InitializeLog() is called are written to STDERR\n",
            "I0000 00:00:1740062568.060380   67294 service.cc:145] XLA service 0x7faaf8003ff0 initialized for platform CUDA (this does not guarantee that XLA will be used). Devices:\n",
            "I0000 00:00:1740062568.060402   67294 service.cc:153]   StreamExecutor device (0): NVIDIA GeForce RTX 2060 SUPER, Compute Capability 7.5\n",
            "2025-02-20 11:42:48.112332: I tensorflow/compiler/mlir/tensorflow/utils/dump_mlir_util.cc:268] disabling MLIR crash reproducer, set env var `MLIR_CRASH_REPRODUCER_DIRECTORY` to enable.\n",
            "2025-02-20 11:42:48.373870: I external/local_xla/xla/stream_executor/cuda/cuda_dnn.cc:465] Loaded cuDNN version 8907\n"
          ]
        },
        {
          "output_type": "stream",
          "name": "stdout",
          "text": [
            "\u001b[1m 12/281\u001b[0m \u001b[37m━━━━━━━━━━━━━━━━━━━━\u001b[0m \u001b[1m4s\u001b[0m 16ms/step - loss: 1.1797"
          ]
        },
        {
          "output_type": "stream",
          "name": "stderr",
          "text": [
            "WARNING: All log messages before absl::InitializeLog() is called are written to STDERR\n",
            "I0000 00:00:1740062570.512272   67294 asm_compiler.cc:369] ptxas warning : Registers are spilled to local memory in function 'input_reduce_select_fusion_6', 8 bytes spill stores, 8 bytes spill loads\n",
            "\n",
            "I0000 00:00:1740062570.517782   67294 device_compiler.h:188] Compiled cluster using XLA!  This line is logged at most once for the lifetime of the process.\n"
          ]
        },
        {
          "output_type": "stream",
          "name": "stdout",
          "text": [
            "\u001b[1m281/281\u001b[0m \u001b[32m━━━━━━━━━━━━━━━━━━━━\u001b[0m\u001b[37m\u001b[0m \u001b[1m0s\u001b[0m 18ms/step - loss: 0.3312"
          ]
        },
        {
          "output_type": "stream",
          "name": "stderr",
          "text": [
            "I0000 00:00:1740062575.565902   67295 asm_compiler.cc:369] ptxas warning : Registers are spilled to local memory in function 'input_reduce_select_fusion_5', 4 bytes spill stores, 4 bytes spill loads\n",
            "ptxas warning : Registers are spilled to local memory in function 'input_reduce_select_fusion_4', 8 bytes spill stores, 8 bytes spill loads\n",
            "\n"
          ]
        },
        {
          "output_type": "stream",
          "name": "stdout",
          "text": [
            "\b\b\b\b\b\b\b\b\b\b\b\b\b\b\b\b\b\b\b\b\b\b\b\b\b\b\b\b\b\b\b\b\b\b\b\b\b\b\b\b\b\b\b\b\b\b\b\b\b\b\b\b\b\b\b\b\r\u001b[1m281/281\u001b[0m \u001b[32m━━━━━━━━━━━━━━━━━━━━\u001b[0m\u001b[37m\u001b[0m \u001b[1m12s\u001b[0m 24ms/step - loss: 0.3305 - val_loss: 0.0718\n",
            "Epoch 2/300\n",
            "\u001b[1m281/281\u001b[0m \u001b[32m━━━━━━━━━━━━━━━━━━━━\u001b[0m\u001b[37m\u001b[0m \u001b[1m4s\u001b[0m 14ms/step - loss: 0.0567 - val_loss: 0.0486\n",
            "Epoch 3/300\n",
            "\u001b[1m281/281\u001b[0m \u001b[32m━━━━━━━━━━━━━━━━━━━━\u001b[0m\u001b[37m\u001b[0m \u001b[1m4s\u001b[0m 14ms/step - loss: 0.0426 - val_loss: 0.0376\n",
            "Epoch 4/300\n",
            "\u001b[1m281/281\u001b[0m \u001b[32m━━━━━━━━━━━━━━━━━━━━\u001b[0m\u001b[37m\u001b[0m \u001b[1m4s\u001b[0m 13ms/step - loss: 0.0337 - val_loss: 0.0302\n",
            "Epoch 5/300\n",
            "\u001b[1m281/281\u001b[0m \u001b[32m━━━━━━━━━━━━━━━━━━━━\u001b[0m\u001b[37m\u001b[0m \u001b[1m4s\u001b[0m 14ms/step - loss: 0.0279 - val_loss: 0.0260\n",
            "Epoch 6/300\n",
            "\u001b[1m281/281\u001b[0m \u001b[32m━━━━━━━━━━━━━━━━━━━━\u001b[0m\u001b[37m\u001b[0m \u001b[1m4s\u001b[0m 13ms/step - loss: 0.0236 - val_loss: 0.0259\n",
            "Epoch 7/300\n",
            "\u001b[1m281/281\u001b[0m \u001b[32m━━━━━━━━━━━━━━━━━━━━\u001b[0m\u001b[37m\u001b[0m \u001b[1m4s\u001b[0m 14ms/step - loss: 0.0217 - val_loss: 0.0220\n",
            "Epoch 8/300\n",
            "\u001b[1m281/281\u001b[0m \u001b[32m━━━━━━━━━━━━━━━━━━━━\u001b[0m\u001b[37m\u001b[0m \u001b[1m4s\u001b[0m 14ms/step - loss: 0.0204 - val_loss: 0.0225\n",
            "Epoch 9/300\n",
            "\u001b[1m281/281\u001b[0m \u001b[32m━━━━━━━━━━━━━━━━━━━━\u001b[0m\u001b[37m\u001b[0m \u001b[1m4s\u001b[0m 14ms/step - loss: 0.0194 - val_loss: 0.0201\n",
            "Epoch 10/300\n",
            "\u001b[1m281/281\u001b[0m \u001b[32m━━━━━━━━━━━━━━━━━━━━\u001b[0m\u001b[37m\u001b[0m \u001b[1m4s\u001b[0m 13ms/step - loss: 0.0186 - val_loss: 0.0202\n",
            "Epoch 11/300\n",
            "\u001b[1m281/281\u001b[0m \u001b[32m━━━━━━━━━━━━━━━━━━━━\u001b[0m\u001b[37m\u001b[0m \u001b[1m4s\u001b[0m 14ms/step - loss: 0.0179 - val_loss: 0.0207\n",
            "Epoch 12/300\n",
            "\u001b[1m281/281\u001b[0m \u001b[32m━━━━━━━━━━━━━━━━━━━━\u001b[0m\u001b[37m\u001b[0m \u001b[1m4s\u001b[0m 14ms/step - loss: 0.0174 - val_loss: 0.0205\n",
            "Epoch 13/300\n",
            "\u001b[1m281/281\u001b[0m \u001b[32m━━━━━━━━━━━━━━━━━━━━\u001b[0m\u001b[37m\u001b[0m \u001b[1m4s\u001b[0m 13ms/step - loss: 0.0169 - val_loss: 0.0199\n",
            "Epoch 14/300\n",
            "\u001b[1m281/281\u001b[0m \u001b[32m━━━━━━━━━━━━━━━━━━━━\u001b[0m\u001b[37m\u001b[0m \u001b[1m4s\u001b[0m 14ms/step - loss: 0.0164 - val_loss: 0.0195\n",
            "Epoch 15/300\n",
            "\u001b[1m281/281\u001b[0m \u001b[32m━━━━━━━━━━━━━━━━━━━━\u001b[0m\u001b[37m\u001b[0m \u001b[1m4s\u001b[0m 13ms/step - loss: 0.0160 - val_loss: 0.0190\n",
            "Epoch 16/300\n",
            "\u001b[1m281/281\u001b[0m \u001b[32m━━━━━━━━━━━━━━━━━━━━\u001b[0m\u001b[37m\u001b[0m \u001b[1m4s\u001b[0m 13ms/step - loss: 0.0156 - val_loss: 0.0178\n",
            "Epoch 17/300\n",
            "\u001b[1m281/281\u001b[0m \u001b[32m━━━━━━━━━━━━━━━━━━━━\u001b[0m\u001b[37m\u001b[0m \u001b[1m4s\u001b[0m 14ms/step - loss: 0.0153 - val_loss: 0.0171\n",
            "Epoch 18/300\n",
            "\u001b[1m281/281\u001b[0m \u001b[32m━━━━━━━━━━━━━━━━━━━━\u001b[0m\u001b[37m\u001b[0m \u001b[1m4s\u001b[0m 14ms/step - loss: 0.0150 - val_loss: 0.0162\n",
            "Epoch 19/300\n",
            "\u001b[1m281/281\u001b[0m \u001b[32m━━━━━━━━━━━━━━━━━━━━\u001b[0m\u001b[37m\u001b[0m \u001b[1m4s\u001b[0m 14ms/step - loss: 0.0147 - val_loss: 0.0155\n",
            "Epoch 20/300\n",
            "\u001b[1m281/281\u001b[0m \u001b[32m━━━━━━━━━━━━━━━━━━━━\u001b[0m\u001b[37m\u001b[0m \u001b[1m4s\u001b[0m 13ms/step - loss: 0.0144 - val_loss: 0.0154\n",
            "Epoch 21/300\n",
            "\u001b[1m281/281\u001b[0m \u001b[32m━━━━━━━━━━━━━━━━━━━━\u001b[0m\u001b[37m\u001b[0m \u001b[1m4s\u001b[0m 14ms/step - loss: 0.0141 - val_loss: 0.0151\n",
            "Epoch 22/300\n",
            "\u001b[1m281/281\u001b[0m \u001b[32m━━━━━━━━━━━━━━━━━━━━\u001b[0m\u001b[37m\u001b[0m \u001b[1m4s\u001b[0m 13ms/step - loss: 0.0138 - val_loss: 0.0143\n",
            "Epoch 23/300\n",
            "\u001b[1m281/281\u001b[0m \u001b[32m━━━━━━━━━━━━━━━━━━━━\u001b[0m\u001b[37m\u001b[0m \u001b[1m4s\u001b[0m 14ms/step - loss: 0.0135 - val_loss: 0.0138\n",
            "Epoch 24/300\n",
            "\u001b[1m281/281\u001b[0m \u001b[32m━━━━━━━━━━━━━━━━━━━━\u001b[0m\u001b[37m\u001b[0m \u001b[1m4s\u001b[0m 13ms/step - loss: 0.0132 - val_loss: 0.0132\n",
            "Epoch 25/300\n",
            "\u001b[1m281/281\u001b[0m \u001b[32m━━━━━━━━━━━━━━━━━━━━\u001b[0m\u001b[37m\u001b[0m \u001b[1m4s\u001b[0m 14ms/step - loss: 0.0130 - val_loss: 0.0134\n",
            "Epoch 26/300\n",
            "\u001b[1m281/281\u001b[0m \u001b[32m━━━━━━━━━━━━━━━━━━━━\u001b[0m\u001b[37m\u001b[0m \u001b[1m4s\u001b[0m 13ms/step - loss: 0.0128 - val_loss: 0.0133\n",
            "Epoch 27/300\n",
            "\u001b[1m281/281\u001b[0m \u001b[32m━━━━━━━━━━━━━━━━━━━━\u001b[0m\u001b[37m\u001b[0m \u001b[1m4s\u001b[0m 13ms/step - loss: 0.0126 - val_loss: 0.0131\n",
            "Epoch 28/300\n",
            "\u001b[1m281/281\u001b[0m \u001b[32m━━━━━━━━━━━━━━━━━━━━\u001b[0m\u001b[37m\u001b[0m \u001b[1m4s\u001b[0m 13ms/step - loss: 0.0124 - val_loss: 0.0136\n",
            "Epoch 29/300\n",
            "\u001b[1m281/281\u001b[0m \u001b[32m━━━━━━━━━━━━━━━━━━━━\u001b[0m\u001b[37m\u001b[0m \u001b[1m4s\u001b[0m 13ms/step - loss: 0.0122 - val_loss: 0.0133\n",
            "Epoch 30/300\n",
            "\u001b[1m281/281\u001b[0m \u001b[32m━━━━━━━━━━━━━━━━━━━━\u001b[0m\u001b[37m\u001b[0m \u001b[1m4s\u001b[0m 13ms/step - loss: 0.0119 - val_loss: 0.0132\n",
            "Epoch 31/300\n",
            "\u001b[1m281/281\u001b[0m \u001b[32m━━━━━━━━━━━━━━━━━━━━\u001b[0m\u001b[37m\u001b[0m \u001b[1m4s\u001b[0m 13ms/step - loss: 0.0118 - val_loss: 0.0131\n",
            "Epoch 32/300\n",
            "\u001b[1m281/281\u001b[0m \u001b[32m━━━━━━━━━━━━━━━━━━━━\u001b[0m\u001b[37m\u001b[0m \u001b[1m4s\u001b[0m 13ms/step - loss: 0.0117 - val_loss: 0.0123\n",
            "Epoch 33/300\n",
            "\u001b[1m281/281\u001b[0m \u001b[32m━━━━━━━━━━━━━━━━━━━━\u001b[0m\u001b[37m\u001b[0m \u001b[1m4s\u001b[0m 13ms/step - loss: 0.0115 - val_loss: 0.0121\n",
            "Epoch 34/300\n",
            "\u001b[1m281/281\u001b[0m \u001b[32m━━━━━━━━━━━━━━━━━━━━\u001b[0m\u001b[37m\u001b[0m \u001b[1m4s\u001b[0m 13ms/step - loss: 0.0114 - val_loss: 0.0124\n",
            "Epoch 35/300\n",
            "\u001b[1m281/281\u001b[0m \u001b[32m━━━━━━━━━━━━━━━━━━━━\u001b[0m\u001b[37m\u001b[0m \u001b[1m4s\u001b[0m 13ms/step - loss: 0.0113 - val_loss: 0.0116\n",
            "Epoch 36/300\n",
            "\u001b[1m281/281\u001b[0m \u001b[32m━━━━━━━━━━━━━━━━━━━━\u001b[0m\u001b[37m\u001b[0m \u001b[1m4s\u001b[0m 13ms/step - loss: 0.0111 - val_loss: 0.0115\n",
            "Epoch 37/300\n",
            "\u001b[1m281/281\u001b[0m \u001b[32m━━━━━━━━━━━━━━━━━━━━\u001b[0m\u001b[37m\u001b[0m \u001b[1m4s\u001b[0m 13ms/step - loss: 0.0110 - val_loss: 0.0114\n",
            "Epoch 38/300\n",
            "\u001b[1m281/281\u001b[0m \u001b[32m━━━━━━━━━━━━━━━━━━━━\u001b[0m\u001b[37m\u001b[0m \u001b[1m4s\u001b[0m 13ms/step - loss: 0.0109 - val_loss: 0.0112\n",
            "Epoch 39/300\n",
            "\u001b[1m281/281\u001b[0m \u001b[32m━━━━━━━━━━━━━━━━━━━━\u001b[0m\u001b[37m\u001b[0m \u001b[1m4s\u001b[0m 13ms/step - loss: 0.0108 - val_loss: 0.0111\n",
            "Epoch 40/300\n",
            "\u001b[1m281/281\u001b[0m \u001b[32m━━━━━━━━━━━━━━━━━━━━\u001b[0m\u001b[37m\u001b[0m \u001b[1m4s\u001b[0m 12ms/step - loss: 0.0107 - val_loss: 0.0106\n",
            "Epoch 41/300\n",
            "\u001b[1m281/281\u001b[0m \u001b[32m━━━━━━━━━━━━━━━━━━━━\u001b[0m\u001b[37m\u001b[0m \u001b[1m4s\u001b[0m 13ms/step - loss: 0.0106 - val_loss: 0.0105\n",
            "Epoch 42/300\n",
            "\u001b[1m281/281\u001b[0m \u001b[32m━━━━━━━━━━━━━━━━━━━━\u001b[0m\u001b[37m\u001b[0m \u001b[1m4s\u001b[0m 13ms/step - loss: 0.0104 - val_loss: 0.0107\n",
            "Epoch 43/300\n",
            "\u001b[1m281/281\u001b[0m \u001b[32m━━━━━━━━━━━━━━━━━━━━\u001b[0m\u001b[37m\u001b[0m \u001b[1m4s\u001b[0m 13ms/step - loss: 0.0103 - val_loss: 0.0105\n",
            "Epoch 44/300\n",
            "\u001b[1m281/281\u001b[0m \u001b[32m━━━━━━━━━━━━━━━━━━━━\u001b[0m\u001b[37m\u001b[0m \u001b[1m4s\u001b[0m 13ms/step - loss: 0.0102 - val_loss: 0.0105\n",
            "Epoch 45/300\n",
            "\u001b[1m281/281\u001b[0m \u001b[32m━━━━━━━━━━━━━━━━━━━━\u001b[0m\u001b[37m\u001b[0m \u001b[1m4s\u001b[0m 13ms/step - loss: 0.0101 - val_loss: 0.0104\n",
            "Epoch 46/300\n",
            "\u001b[1m281/281\u001b[0m \u001b[32m━━━━━━━━━━━━━━━━━━━━\u001b[0m\u001b[37m\u001b[0m \u001b[1m4s\u001b[0m 13ms/step - loss: 0.0100 - val_loss: 0.0102\n",
            "Epoch 47/300\n",
            "\u001b[1m281/281\u001b[0m \u001b[32m━━━━━━━━━━━━━━━━━━━━\u001b[0m\u001b[37m\u001b[0m \u001b[1m4s\u001b[0m 13ms/step - loss: 0.0100 - val_loss: 0.0100\n",
            "Epoch 48/300\n",
            "\u001b[1m281/281\u001b[0m \u001b[32m━━━━━━━━━━━━━━━━━━━━\u001b[0m\u001b[37m\u001b[0m \u001b[1m4s\u001b[0m 13ms/step - loss: 0.0099 - val_loss: 0.0100\n",
            "Epoch 49/300\n",
            "\u001b[1m281/281\u001b[0m \u001b[32m━━━━━━━━━━━━━━━━━━━━\u001b[0m\u001b[37m\u001b[0m \u001b[1m4s\u001b[0m 13ms/step - loss: 0.0098 - val_loss: 0.0101\n",
            "Epoch 50/300\n",
            "\u001b[1m281/281\u001b[0m \u001b[32m━━━━━━━━━━━━━━━━━━━━\u001b[0m\u001b[37m\u001b[0m \u001b[1m4s\u001b[0m 13ms/step - loss: 0.0097 - val_loss: 0.0101\n",
            "Epoch 51/300\n",
            "\u001b[1m281/281\u001b[0m \u001b[32m━━━━━━━━━━━━━━━━━━━━\u001b[0m\u001b[37m\u001b[0m \u001b[1m4s\u001b[0m 13ms/step - loss: 0.0097 - val_loss: 0.0106\n",
            "Epoch 52/300\n",
            "\u001b[1m281/281\u001b[0m \u001b[32m━━━━━━━━━━━━━━━━━━━━\u001b[0m\u001b[37m\u001b[0m \u001b[1m4s\u001b[0m 13ms/step - loss: 0.0096 - val_loss: 0.0106\n",
            "Epoch 53/300\n",
            "\u001b[1m281/281\u001b[0m \u001b[32m━━━━━━━━━━━━━━━━━━━━\u001b[0m\u001b[37m\u001b[0m \u001b[1m4s\u001b[0m 13ms/step - loss: 0.0096 - val_loss: 0.0106\n",
            "Epoch 54/300\n",
            "\u001b[1m281/281\u001b[0m \u001b[32m━━━━━━━━━━━━━━━━━━━━\u001b[0m\u001b[37m\u001b[0m \u001b[1m4s\u001b[0m 13ms/step - loss: 0.0096 - val_loss: 0.0110\n",
            "Epoch 55/300\n",
            "\u001b[1m281/281\u001b[0m \u001b[32m━━━━━━━━━━━━━━━━━━━━\u001b[0m\u001b[37m\u001b[0m \u001b[1m4s\u001b[0m 13ms/step - loss: 0.0095 - val_loss: 0.0105\n",
            "Epoch 56/300\n",
            "\u001b[1m281/281\u001b[0m \u001b[32m━━━━━━━━━━━━━━━━━━━━\u001b[0m\u001b[37m\u001b[0m \u001b[1m4s\u001b[0m 13ms/step - loss: 0.0094 - val_loss: 0.0109\n",
            "Epoch 57/300\n",
            "\u001b[1m281/281\u001b[0m \u001b[32m━━━━━━━━━━━━━━━━━━━━\u001b[0m\u001b[37m\u001b[0m \u001b[1m4s\u001b[0m 13ms/step - loss: 0.0094 - val_loss: 0.0115\n",
            "Epoch 58/300\n",
            "\u001b[1m281/281\u001b[0m \u001b[32m━━━━━━━━━━━━━━━━━━━━\u001b[0m\u001b[37m\u001b[0m \u001b[1m4s\u001b[0m 14ms/step - loss: 0.0093 - val_loss: 0.0125\n",
            "Epoch 59/300\n",
            "\u001b[1m281/281\u001b[0m \u001b[32m━━━━━━━━━━━━━━━━━━━━\u001b[0m\u001b[37m\u001b[0m \u001b[1m4s\u001b[0m 14ms/step - loss: 0.0093 - val_loss: 0.0121\n",
            "Epoch 60/300\n",
            "\u001b[1m281/281\u001b[0m \u001b[32m━━━━━━━━━━━━━━━━━━━━\u001b[0m\u001b[37m\u001b[0m \u001b[1m4s\u001b[0m 14ms/step - loss: 0.0091 - val_loss: 0.0113\n",
            "Epoch 61/300\n",
            "\u001b[1m281/281\u001b[0m \u001b[32m━━━━━━━━━━━━━━━━━━━━\u001b[0m\u001b[37m\u001b[0m \u001b[1m4s\u001b[0m 14ms/step - loss: 0.0090 - val_loss: 0.0116\n",
            "Epoch 62/300\n",
            "\u001b[1m281/281\u001b[0m \u001b[32m━━━━━━━━━━━━━━━━━━━━\u001b[0m\u001b[37m\u001b[0m \u001b[1m4s\u001b[0m 14ms/step - loss: 0.0090 - val_loss: 0.0108\n",
            "Epoch 63/300\n",
            "\u001b[1m281/281\u001b[0m \u001b[32m━━━━━━━━━━━━━━━━━━━━\u001b[0m\u001b[37m\u001b[0m \u001b[1m4s\u001b[0m 14ms/step - loss: 0.0089 - val_loss: 0.0102\n",
            "Epoch 64/300\n",
            "\u001b[1m281/281\u001b[0m \u001b[32m━━━━━━━━━━━━━━━━━━━━\u001b[0m\u001b[37m\u001b[0m \u001b[1m4s\u001b[0m 14ms/step - loss: 0.0088 - val_loss: 0.0109\n",
            "Epoch 65/300\n",
            "\u001b[1m281/281\u001b[0m \u001b[32m━━━━━━━━━━━━━━━━━━━━\u001b[0m\u001b[37m\u001b[0m \u001b[1m4s\u001b[0m 14ms/step - loss: 0.0089 - val_loss: 0.0100\n",
            "Epoch 66/300\n",
            "\u001b[1m281/281\u001b[0m \u001b[32m━━━━━━━━━━━━━━━━━━━━\u001b[0m\u001b[37m\u001b[0m \u001b[1m4s\u001b[0m 15ms/step - loss: 0.0087 - val_loss: 0.0104\n",
            "Epoch 67/300\n",
            "\u001b[1m281/281\u001b[0m \u001b[32m━━━━━━━━━━━━━━━━━━━━\u001b[0m\u001b[37m\u001b[0m \u001b[1m4s\u001b[0m 15ms/step - loss: 0.0088 - val_loss: 0.0102\n",
            "Minimum validation loss: 0.010036318562924862\n"
          ]
        },
        {
          "output_type": "display_data",
          "data": {
            "text/plain": [
              "<Figure size 432x288 with 1 Axes>"
            ],
            "image/png": "[encoded data removed]"
          },
          "metadata": {
            "needs_background": "light"
          }
        }
      ]
    },
    {
      "cell_type": "code",
      "source": [
        "#--- 1E-3 noise, 0<k<2 ---\n",
        "history = model.fit(\n",
        "    X_train, y_train,\n",
        "    validation_data=(X_test, y_test),\n",
        "    batch_size=100,\n",
        "    epochs=300,\n",
        "    callbacks=[early_stopping], # put your callbacks in a list\n",
        "    verbose=1,  # turn off training log\n",
        "    shuffle=False\n",
        ")\n",
        "\n",
        "history_df = pd.DataFrame(history.history)\n",
        "history_df.loc[:, ['loss', 'val_loss']].plot();\n",
        "print(\"Minimum validation loss: {}\".format(history_df['val_loss'].min()))"
      ],
      "metadata": {
        "colab": {
          "base_uri": "https://localhost:8080/",
          "height": 1000
        },
        "outputId": "3c85e8cd-c4fc-4763-d102-777ab0d88e4d",
        "id": "rfWcFI2XnVH8"
      },
      "execution_count": null,
      "outputs": [
        {
          "output_type": "stream",
          "name": "stderr",
          "text": [
            "2025-02-20 11:48:09.422967: W external/local_tsl/tsl/framework/cpu_allocator_impl.cc:83] Allocation of 1120080000 exceeds 10% of free system memory.\n",
            "2025-02-20 11:48:10.165744: W external/local_tsl/tsl/framework/cpu_allocator_impl.cc:83] Allocation of 1120080000 exceeds 10% of free system memory.\n"
          ]
        },
        {
          "output_type": "stream",
          "name": "stdout",
          "text": [
            "Epoch 1/300\n"
          ]
        },
        {
          "output_type": "stream",
          "name": "stderr",
          "text": [
            "2025-02-20 11:48:10.709089: W external/local_tsl/tsl/framework/cpu_allocator_impl.cc:83] Allocation of 1120080000 exceeds 10% of free system memory.\n",
            "WARNING: All log messages before absl::InitializeLog() is called are written to STDERR\n",
            "I0000 00:00:1740062893.327371   70323 service.cc:145] XLA service 0x7f4a8c014e90 initialized for platform CUDA (this does not guarantee that XLA will be used). Devices:\n",
            "I0000 00:00:1740062893.327412   70323 service.cc:153]   StreamExecutor device (0): NVIDIA GeForce RTX 2060 SUPER, Compute Capability 7.5\n",
            "2025-02-20 11:48:13.406909: I tensorflow/compiler/mlir/tensorflow/utils/dump_mlir_util.cc:268] disabling MLIR crash reproducer, set env var `MLIR_CRASH_REPRODUCER_DIRECTORY` to enable.\n",
            "2025-02-20 11:48:13.660608: I external/local_xla/xla/stream_executor/cuda/cuda_dnn.cc:465] Loaded cuDNN version 8907\n"
          ]
        },
        {
          "output_type": "stream",
          "name": "stdout",
          "text": [
            "\u001b[1m 13/281\u001b[0m \u001b[37m━━━━━━━━━━━━━━━━━━━━\u001b[0m \u001b[1m3s\u001b[0m 15ms/step - loss: 1.1707"
          ]
        },
        {
          "output_type": "stream",
          "name": "stderr",
          "text": [
            "WARNING: All log messages before absl::InitializeLog() is called are written to STDERR\n",
            "I0000 00:00:1740062895.790961   70323 asm_compiler.cc:369] ptxas warning : Registers are spilled to local memory in function 'input_reduce_select_fusion_6', 8 bytes spill stores, 8 bytes spill loads\n",
            "\n",
            "I0000 00:00:1740062895.795454   70323 device_compiler.h:188] Compiled cluster using XLA!  This line is logged at most once for the lifetime of the process.\n"
          ]
        },
        {
          "output_type": "stream",
          "name": "stdout",
          "text": [
            "\u001b[1m281/281\u001b[0m \u001b[32m━━━━━━━━━━━━━━━━━━━━\u001b[0m\u001b[37m\u001b[0m \u001b[1m0s\u001b[0m 18ms/step - loss: 0.3361"
          ]
        },
        {
          "output_type": "stream",
          "name": "stderr",
          "text": [
            "I0000 00:00:1740062900.949160   70322 asm_compiler.cc:369] ptxas warning : Registers are spilled to local memory in function 'input_reduce_select_fusion_5', 4 bytes spill stores, 4 bytes spill loads\n",
            "ptxas warning : Registers are spilled to local memory in function 'input_reduce_select_fusion_4', 8 bytes spill stores, 8 bytes spill loads\n",
            "\n"
          ]
        },
        {
          "output_type": "stream",
          "name": "stdout",
          "text": [
            "\b\b\b\b\b\b\b\b\b\b\b\b\b\b\b\b\b\b\b\b\b\b\b\b\b\b\b\b\b\b\b\b\b\b\b\b\b\b\b\b\b\b\b\b\b\b\b\b\b\b\b\b\b\b\b\b\r\u001b[1m281/281\u001b[0m \u001b[32m━━━━━━━━━━━━━━━━━━━━\u001b[0m\u001b[37m\u001b[0m \u001b[1m12s\u001b[0m 25ms/step - loss: 0.3355 - val_loss: 0.0772\n",
            "Epoch 2/300\n",
            "\u001b[1m281/281\u001b[0m \u001b[32m━━━━━━━━━━━━━━━━━━━━\u001b[0m\u001b[37m\u001b[0m \u001b[1m4s\u001b[0m 14ms/step - loss: 0.0659 - val_loss: 0.0985\n",
            "Epoch 3/300\n",
            "\u001b[1m281/281\u001b[0m \u001b[32m━━━━━━━━━━━━━━━━━━━━\u001b[0m\u001b[37m\u001b[0m \u001b[1m4s\u001b[0m 14ms/step - loss: 0.0415 - val_loss: 0.0352\n",
            "Epoch 4/300\n",
            "\u001b[1m281/281\u001b[0m \u001b[32m━━━━━━━━━━━━━━━━━━━━\u001b[0m\u001b[37m\u001b[0m \u001b[1m4s\u001b[0m 14ms/step - loss: 0.0307 - val_loss: 0.0453\n",
            "Epoch 5/300\n",
            "\u001b[1m281/281\u001b[0m \u001b[32m━━━━━━━━━━━━━━━━━━━━\u001b[0m\u001b[37m\u001b[0m \u001b[1m4s\u001b[0m 14ms/step - loss: 0.0277 - val_loss: 0.0347\n",
            "Epoch 6/300\n",
            "\u001b[1m281/281\u001b[0m \u001b[32m━━━━━━━━━━━━━━━━━━━━\u001b[0m\u001b[37m\u001b[0m \u001b[1m4s\u001b[0m 14ms/step - loss: 0.0233 - val_loss: 0.0253\n",
            "Epoch 7/300\n",
            "\u001b[1m281/281\u001b[0m \u001b[32m━━━━━━━━━━━━━━━━━━━━\u001b[0m\u001b[37m\u001b[0m \u001b[1m4s\u001b[0m 14ms/step - loss: 0.0206 - val_loss: 0.0205\n",
            "Epoch 8/300\n",
            "\u001b[1m281/281\u001b[0m \u001b[32m━━━━━━━━━━━━━━━━━━━━\u001b[0m\u001b[37m\u001b[0m \u001b[1m4s\u001b[0m 14ms/step - loss: 0.0188 - val_loss: 0.0176\n",
            "Epoch 9/300\n",
            "\u001b[1m281/281\u001b[0m \u001b[32m━━━━━━━━━━━━━━━━━━━━\u001b[0m\u001b[37m\u001b[0m \u001b[1m4s\u001b[0m 14ms/step - loss: 0.0176 - val_loss: 0.0156\n",
            "Epoch 10/300\n",
            "\u001b[1m281/281\u001b[0m \u001b[32m━━━━━━━━━━━━━━━━━━━━\u001b[0m\u001b[37m\u001b[0m \u001b[1m4s\u001b[0m 14ms/step - loss: 0.0165 - val_loss: 0.0147\n",
            "Epoch 11/300\n",
            "\u001b[1m281/281\u001b[0m \u001b[32m━━━━━━━━━━━━━━━━━━━━\u001b[0m\u001b[37m\u001b[0m \u001b[1m4s\u001b[0m 14ms/step - loss: 0.0157 - val_loss: 0.0140\n",
            "Epoch 12/300\n",
            "\u001b[1m281/281\u001b[0m \u001b[32m━━━━━━━━━━━━━━━━━━━━\u001b[0m\u001b[37m\u001b[0m \u001b[1m4s\u001b[0m 14ms/step - loss: 0.0150 - val_loss: 0.0135\n",
            "Epoch 13/300\n",
            "\u001b[1m281/281\u001b[0m \u001b[32m━━━━━━━━━━━━━━━━━━━━\u001b[0m\u001b[37m\u001b[0m \u001b[1m4s\u001b[0m 14ms/step - loss: 0.0146 - val_loss: 0.0126\n",
            "Epoch 14/300\n",
            "\u001b[1m281/281\u001b[0m \u001b[32m━━━━━━━━━━━━━━━━━━━━\u001b[0m\u001b[37m\u001b[0m \u001b[1m4s\u001b[0m 14ms/step - loss: 0.0136 - val_loss: 0.0121\n",
            "Epoch 15/300\n",
            "\u001b[1m281/281\u001b[0m \u001b[32m━━━━━━━━━━━━━━━━━━━━\u001b[0m\u001b[37m\u001b[0m \u001b[1m4s\u001b[0m 14ms/step - loss: 0.0130 - val_loss: 0.0116\n",
            "Epoch 16/300\n",
            "\u001b[1m281/281\u001b[0m \u001b[32m━━━━━━━━━━━━━━━━━━━━\u001b[0m\u001b[37m\u001b[0m \u001b[1m4s\u001b[0m 14ms/step - loss: 0.0126 - val_loss: 0.0113\n",
            "Epoch 17/300\n",
            "\u001b[1m281/281\u001b[0m \u001b[32m━━━━━━━━━━━━━━━━━━━━\u001b[0m\u001b[37m\u001b[0m \u001b[1m4s\u001b[0m 14ms/step - loss: 0.0120 - val_loss: 0.0112\n",
            "Epoch 18/300\n",
            "\u001b[1m281/281\u001b[0m \u001b[32m━━━━━━━━━━━━━━━━━━━━\u001b[0m\u001b[37m\u001b[0m \u001b[1m4s\u001b[0m 14ms/step - loss: 0.0120 - val_loss: 0.0109\n",
            "Epoch 19/300\n",
            "\u001b[1m281/281\u001b[0m \u001b[32m━━━━━━━━━━━━━━━━━━━━\u001b[0m\u001b[37m\u001b[0m \u001b[1m4s\u001b[0m 14ms/step - loss: 0.0115 - val_loss: 0.0105\n",
            "Epoch 20/300\n",
            "\u001b[1m281/281\u001b[0m \u001b[32m━━━━━━━━━━━━━━━━━━━━\u001b[0m\u001b[37m\u001b[0m \u001b[1m4s\u001b[0m 14ms/step - loss: 0.0112 - val_loss: 0.0105\n",
            "Epoch 21/300\n",
            "\u001b[1m281/281\u001b[0m \u001b[32m━━━━━━━━━━━━━━━━━━━━\u001b[0m\u001b[37m\u001b[0m \u001b[1m4s\u001b[0m 14ms/step - loss: 0.0109 - val_loss: 0.0108\n",
            "Epoch 22/300\n",
            "\u001b[1m281/281\u001b[0m \u001b[32m━━━━━━━━━━━━━━━━━━━━\u001b[0m\u001b[37m\u001b[0m \u001b[1m4s\u001b[0m 14ms/step - loss: 0.0106 - val_loss: 0.0102\n",
            "Epoch 23/300\n",
            "\u001b[1m281/281\u001b[0m \u001b[32m━━━━━━━━━━━━━━━━━━━━\u001b[0m\u001b[37m\u001b[0m \u001b[1m4s\u001b[0m 14ms/step - loss: 0.0103 - val_loss: 0.0098\n",
            "Epoch 24/300\n",
            "\u001b[1m281/281\u001b[0m \u001b[32m━━━━━━━━━━━━━━━━━━━━\u001b[0m\u001b[37m\u001b[0m \u001b[1m4s\u001b[0m 14ms/step - loss: 0.0100 - val_loss: 0.0095\n",
            "Epoch 25/300\n",
            "\u001b[1m281/281\u001b[0m \u001b[32m━━━━━━━━━━━━━━━━━━━━\u001b[0m\u001b[37m\u001b[0m \u001b[1m4s\u001b[0m 14ms/step - loss: 0.0099 - val_loss: 0.0101\n",
            "Epoch 26/300\n",
            "\u001b[1m281/281\u001b[0m \u001b[32m━━━━━━━━━━━━━━━━━━━━\u001b[0m\u001b[37m\u001b[0m \u001b[1m4s\u001b[0m 14ms/step - loss: 0.0095 - val_loss: 0.0094\n",
            "Epoch 27/300\n",
            "\u001b[1m281/281\u001b[0m \u001b[32m━━━━━━━━━━━━━━━━━━━━\u001b[0m\u001b[37m\u001b[0m \u001b[1m4s\u001b[0m 14ms/step - loss: 0.0094 - val_loss: 0.0089\n",
            "Epoch 28/300\n",
            "\u001b[1m281/281\u001b[0m \u001b[32m━━━━━━━━━━━━━━━━━━━━\u001b[0m\u001b[37m\u001b[0m \u001b[1m4s\u001b[0m 14ms/step - loss: 0.0091 - val_loss: 0.0085\n",
            "Epoch 29/300\n",
            "\u001b[1m281/281\u001b[0m \u001b[32m━━━━━━━━━━━━━━━━━━━━\u001b[0m\u001b[37m\u001b[0m \u001b[1m4s\u001b[0m 14ms/step - loss: 0.0091 - val_loss: 0.0089\n",
            "Epoch 30/300\n",
            "\u001b[1m281/281\u001b[0m \u001b[32m━━━━━━━━━━━━━━━━━━━━\u001b[0m\u001b[37m\u001b[0m \u001b[1m4s\u001b[0m 14ms/step - loss: 0.0087 - val_loss: 0.0083\n",
            "Epoch 31/300\n",
            "\u001b[1m281/281\u001b[0m \u001b[32m━━━━━━━━━━━━━━━━━━━━\u001b[0m\u001b[37m\u001b[0m \u001b[1m4s\u001b[0m 13ms/step - loss: 0.0084 - val_loss: 0.0086\n",
            "Epoch 32/300\n",
            "\u001b[1m281/281\u001b[0m \u001b[32m━━━━━━━━━━━━━━━━━━━━\u001b[0m\u001b[37m\u001b[0m \u001b[1m4s\u001b[0m 14ms/step - loss: 0.0082 - val_loss: 0.0081\n",
            "Epoch 33/300\n",
            "\u001b[1m281/281\u001b[0m \u001b[32m━━━━━━━━━━━━━━━━━━━━\u001b[0m\u001b[37m\u001b[0m \u001b[1m4s\u001b[0m 14ms/step - loss: 0.0081 - val_loss: 0.0082\n",
            "Epoch 34/300\n",
            "\u001b[1m281/281\u001b[0m \u001b[32m━━━━━━━━━━━━━━━━━━━━\u001b[0m\u001b[37m\u001b[0m \u001b[1m4s\u001b[0m 14ms/step - loss: 0.0079 - val_loss: 0.0076\n",
            "Epoch 35/300\n",
            "\u001b[1m281/281\u001b[0m \u001b[32m━━━━━━━━━━━━━━━━━━━━\u001b[0m\u001b[37m\u001b[0m \u001b[1m4s\u001b[0m 14ms/step - loss: 0.0079 - val_loss: 0.0080\n",
            "Epoch 36/300\n",
            "\u001b[1m281/281\u001b[0m \u001b[32m━━━━━━━━━━━━━━━━━━━━\u001b[0m\u001b[37m\u001b[0m \u001b[1m4s\u001b[0m 14ms/step - loss: 0.0076 - val_loss: 0.0078\n",
            "Epoch 37/300\n",
            "\u001b[1m281/281\u001b[0m \u001b[32m━━━━━━━━━━━━━━━━━━━━\u001b[0m\u001b[37m\u001b[0m \u001b[1m4s\u001b[0m 14ms/step - loss: 0.0075 - val_loss: 0.0075\n",
            "Epoch 38/300\n",
            "\u001b[1m281/281\u001b[0m \u001b[32m━━━━━━━━━━━━━━━━━━━━\u001b[0m\u001b[37m\u001b[0m \u001b[1m4s\u001b[0m 14ms/step - loss: 0.0074 - val_loss: 0.0072\n",
            "Epoch 39/300\n",
            "\u001b[1m281/281\u001b[0m \u001b[32m━━━━━━━━━━━━━━━━━━━━\u001b[0m\u001b[37m\u001b[0m \u001b[1m4s\u001b[0m 14ms/step - loss: 0.0073 - val_loss: 0.0075\n",
            "Epoch 40/300\n",
            "\u001b[1m281/281\u001b[0m \u001b[32m━━━━━━━━━━━━━━━━━━━━\u001b[0m\u001b[37m\u001b[0m \u001b[1m4s\u001b[0m 14ms/step - loss: 0.0072 - val_loss: 0.0077\n",
            "Epoch 41/300\n",
            "\u001b[1m281/281\u001b[0m \u001b[32m━━━━━━━━━━━━━━━━━━━━\u001b[0m\u001b[37m\u001b[0m \u001b[1m4s\u001b[0m 14ms/step - loss: 0.0071 - val_loss: 0.0073\n",
            "Epoch 42/300\n",
            "\u001b[1m281/281\u001b[0m \u001b[32m━━━━━━━━━━━━━━━━━━━━\u001b[0m\u001b[37m\u001b[0m \u001b[1m4s\u001b[0m 14ms/step - loss: 0.0071 - val_loss: 0.0070\n",
            "Epoch 43/300\n",
            "\u001b[1m281/281\u001b[0m \u001b[32m━━━━━━━━━━━━━━━━━━━━\u001b[0m\u001b[37m\u001b[0m \u001b[1m4s\u001b[0m 14ms/step - loss: 0.0070 - val_loss: 0.0066\n",
            "Epoch 44/300\n",
            "\u001b[1m281/281\u001b[0m \u001b[32m━━━━━━━━━━━━━━━━━━━━\u001b[0m\u001b[37m\u001b[0m \u001b[1m4s\u001b[0m 14ms/step - loss: 0.0070 - val_loss: 0.0068\n",
            "Epoch 45/300\n",
            "\u001b[1m281/281\u001b[0m \u001b[32m━━━━━━━━━━━━━━━━━━━━\u001b[0m\u001b[37m\u001b[0m \u001b[1m4s\u001b[0m 14ms/step - loss: 0.0068 - val_loss: 0.0063\n",
            "Epoch 46/300\n",
            "\u001b[1m281/281\u001b[0m \u001b[32m━━━━━━━━━━━━━━━━━━━━\u001b[0m\u001b[37m\u001b[0m \u001b[1m4s\u001b[0m 14ms/step - loss: 0.0068 - val_loss: 0.0063\n",
            "Epoch 47/300\n",
            "\u001b[1m281/281\u001b[0m \u001b[32m━━━━━━━━━━━━━━━━━━━━\u001b[0m\u001b[37m\u001b[0m \u001b[1m4s\u001b[0m 14ms/step - loss: 0.0067 - val_loss: 0.0062\n",
            "Epoch 48/300\n",
            "\u001b[1m281/281\u001b[0m \u001b[32m━━━━━━━━━━━━━━━━━━━━\u001b[0m\u001b[37m\u001b[0m \u001b[1m4s\u001b[0m 14ms/step - loss: 0.0066 - val_loss: 0.0061\n",
            "Epoch 49/300\n",
            "\u001b[1m281/281\u001b[0m \u001b[32m━━━━━━━━━━━━━━━━━━━━\u001b[0m\u001b[37m\u001b[0m \u001b[1m4s\u001b[0m 14ms/step - loss: 0.0066 - val_loss: 0.0061\n",
            "Epoch 50/300\n",
            "\u001b[1m281/281\u001b[0m \u001b[32m━━━━━━━━━━━━━━━━━━━━\u001b[0m\u001b[37m\u001b[0m \u001b[1m4s\u001b[0m 15ms/step - loss: 0.0065 - val_loss: 0.0060\n",
            "Epoch 51/300\n",
            "\u001b[1m281/281\u001b[0m \u001b[32m━━━━━━━━━━━━━━━━━━━━\u001b[0m\u001b[37m\u001b[0m \u001b[1m4s\u001b[0m 14ms/step - loss: 0.0065 - val_loss: 0.0059\n",
            "Epoch 52/300\n",
            "\u001b[1m281/281\u001b[0m \u001b[32m━━━━━━━━━━━━━━━━━━━━\u001b[0m\u001b[37m\u001b[0m \u001b[1m4s\u001b[0m 15ms/step - loss: 0.0064 - val_loss: 0.0059\n",
            "Epoch 53/300\n",
            "\u001b[1m281/281\u001b[0m \u001b[32m━━━━━━━━━━━━━━━━━━━━\u001b[0m\u001b[37m\u001b[0m \u001b[1m4s\u001b[0m 14ms/step - loss: 0.0064 - val_loss: 0.0058\n",
            "Epoch 54/300\n",
            "\u001b[1m281/281\u001b[0m \u001b[32m━━━━━━━━━━━━━━━━━━━━\u001b[0m\u001b[37m\u001b[0m \u001b[1m4s\u001b[0m 14ms/step - loss: 0.0064 - val_loss: 0.0058\n",
            "Epoch 55/300\n",
            "\u001b[1m281/281\u001b[0m \u001b[32m━━━━━━━━━━━━━━━━━━━━\u001b[0m\u001b[37m\u001b[0m \u001b[1m4s\u001b[0m 14ms/step - loss: 0.0063 - val_loss: 0.0057\n",
            "Epoch 56/300\n",
            "\u001b[1m281/281\u001b[0m \u001b[32m━━━━━━━━━━━━━━━━━━━━\u001b[0m\u001b[37m\u001b[0m \u001b[1m4s\u001b[0m 14ms/step - loss: 0.0063 - val_loss: 0.0057\n",
            "Epoch 57/300\n",
            "\u001b[1m281/281\u001b[0m \u001b[32m━━━━━━━━━━━━━━━━━━━━\u001b[0m\u001b[37m\u001b[0m \u001b[1m4s\u001b[0m 14ms/step - loss: 0.0062 - val_loss: 0.0056\n",
            "Epoch 58/300\n",
            "\u001b[1m281/281\u001b[0m \u001b[32m━━━━━━━━━━━━━━━━━━━━\u001b[0m\u001b[37m\u001b[0m \u001b[1m4s\u001b[0m 14ms/step - loss: 0.0061 - val_loss: 0.0056\n",
            "Epoch 59/300\n",
            "\u001b[1m281/281\u001b[0m \u001b[32m━━━━━━━━━━━━━━━━━━━━\u001b[0m\u001b[37m\u001b[0m \u001b[1m4s\u001b[0m 14ms/step - loss: 0.0060 - val_loss: 0.0056\n",
            "Epoch 60/300\n",
            "\u001b[1m281/281\u001b[0m \u001b[32m━━━━━━━━━━━━━━━━━━━━\u001b[0m\u001b[37m\u001b[0m \u001b[1m4s\u001b[0m 14ms/step - loss: 0.0059 - val_loss: 0.0055\n",
            "Epoch 61/300\n",
            "\u001b[1m281/281\u001b[0m \u001b[32m━━━━━━━━━━━━━━━━━━━━\u001b[0m\u001b[37m\u001b[0m \u001b[1m4s\u001b[0m 14ms/step - loss: 0.0059 - val_loss: 0.0054\n",
            "Epoch 62/300\n",
            "\u001b[1m281/281\u001b[0m \u001b[32m━━━━━━━━━━━━━━━━━━━━\u001b[0m\u001b[37m\u001b[0m \u001b[1m4s\u001b[0m 14ms/step - loss: 0.0059 - val_loss: 0.0054\n",
            "Epoch 63/300\n",
            "\u001b[1m281/281\u001b[0m \u001b[32m━━━━━━━━━━━━━━━━━━━━\u001b[0m\u001b[37m\u001b[0m \u001b[1m4s\u001b[0m 14ms/step - loss: 0.0059 - val_loss: 0.0054\n",
            "Epoch 64/300\n",
            "\u001b[1m281/281\u001b[0m \u001b[32m━━━━━━━━━━━━━━━━━━━━\u001b[0m\u001b[37m\u001b[0m \u001b[1m4s\u001b[0m 14ms/step - loss: 0.0059 - val_loss: 0.0054\n",
            "Epoch 65/300\n",
            "\u001b[1m281/281\u001b[0m \u001b[32m━━━━━━━━━━━━━━━━━━━━\u001b[0m\u001b[37m\u001b[0m \u001b[1m4s\u001b[0m 14ms/step - loss: 0.0059 - val_loss: 0.0053\n",
            "Epoch 66/300\n",
            "\u001b[1m281/281\u001b[0m \u001b[32m━━━━━━━━━━━━━━━━━━━━\u001b[0m\u001b[37m\u001b[0m \u001b[1m4s\u001b[0m 14ms/step - loss: 0.0059 - val_loss: 0.0053\n",
            "Epoch 67/300\n",
            "\u001b[1m281/281\u001b[0m \u001b[32m━━━━━━━━━━━━━━━━━━━━\u001b[0m\u001b[37m\u001b[0m \u001b[1m4s\u001b[0m 14ms/step - loss: 0.0058 - val_loss: 0.0052\n",
            "Epoch 68/300\n",
            "\u001b[1m281/281\u001b[0m \u001b[32m━━━━━━━━━━━━━━━━━━━━\u001b[0m\u001b[37m\u001b[0m \u001b[1m4s\u001b[0m 14ms/step - loss: 0.0058 - val_loss: 0.0052\n",
            "Epoch 69/300\n",
            "\u001b[1m281/281\u001b[0m \u001b[32m━━━━━━━━━━━━━━━━━━━━\u001b[0m\u001b[37m\u001b[0m \u001b[1m4s\u001b[0m 14ms/step - loss: 0.0058 - val_loss: 0.0053\n",
            "Epoch 70/300\n",
            "\u001b[1m281/281\u001b[0m \u001b[32m━━━━━━━━━━━━━━━━━━━━\u001b[0m\u001b[37m\u001b[0m \u001b[1m4s\u001b[0m 13ms/step - loss: 0.0057 - val_loss: 0.0053\n",
            "Epoch 71/300\n",
            "\u001b[1m281/281\u001b[0m \u001b[32m━━━━━━━━━━━━━━━━━━━━\u001b[0m\u001b[37m\u001b[0m \u001b[1m4s\u001b[0m 14ms/step - loss: 0.0057 - val_loss: 0.0052\n",
            "Epoch 72/300\n",
            "\u001b[1m281/281\u001b[0m \u001b[32m━━━━━━━━━━━━━━━━━━━━\u001b[0m\u001b[37m\u001b[0m \u001b[1m4s\u001b[0m 14ms/step - loss: 0.0056 - val_loss: 0.0052\n",
            "Epoch 73/300\n",
            "\u001b[1m281/281\u001b[0m \u001b[32m━━━━━━━━━━━━━━━━━━━━\u001b[0m\u001b[37m\u001b[0m \u001b[1m4s\u001b[0m 14ms/step - loss: 0.0056 - val_loss: 0.0052\n",
            "Epoch 74/300\n",
            "\u001b[1m281/281\u001b[0m \u001b[32m━━━━━━━━━━━━━━━━━━━━\u001b[0m\u001b[37m\u001b[0m \u001b[1m4s\u001b[0m 14ms/step - loss: 0.0055 - val_loss: 0.0051\n",
            "Epoch 75/300\n",
            "\u001b[1m281/281\u001b[0m \u001b[32m━━━━━━━━━━━━━━━━━━━━\u001b[0m\u001b[37m\u001b[0m \u001b[1m4s\u001b[0m 14ms/step - loss: 0.0055 - val_loss: 0.0051\n",
            "Epoch 76/300\n",
            "\u001b[1m281/281\u001b[0m \u001b[32m━━━━━━━━━━━━━━━━━━━━\u001b[0m\u001b[37m\u001b[0m \u001b[1m4s\u001b[0m 14ms/step - loss: 0.0054 - val_loss: 0.0051\n",
            "Epoch 77/300\n",
            "\u001b[1m281/281\u001b[0m \u001b[32m━━━━━━━━━━━━━━━━━━━━\u001b[0m\u001b[37m\u001b[0m \u001b[1m4s\u001b[0m 14ms/step - loss: 0.0054 - val_loss: 0.0051\n",
            "Epoch 78/300\n",
            "\u001b[1m281/281\u001b[0m \u001b[32m━━━━━━━━━━━━━━━━━━━━\u001b[0m\u001b[37m\u001b[0m \u001b[1m4s\u001b[0m 14ms/step - loss: 0.0054 - val_loss: 0.0052\n",
            "Epoch 79/300\n",
            "\u001b[1m281/281\u001b[0m \u001b[32m━━━━━━━━━━━━━━━━━━━━\u001b[0m\u001b[37m\u001b[0m \u001b[1m4s\u001b[0m 14ms/step - loss: 0.0053 - val_loss: 0.0051\n",
            "Epoch 80/300\n",
            "\u001b[1m281/281\u001b[0m \u001b[32m━━━━━━━━━━━━━━━━━━━━\u001b[0m\u001b[37m\u001b[0m \u001b[1m4s\u001b[0m 14ms/step - loss: 0.0053 - val_loss: 0.0052\n",
            "Minimum validation loss: 0.005124408286064863\n"
          ]
        },
        {
          "output_type": "display_data",
          "data": {
            "text/plain": [
              "<Figure size 432x288 with 1 Axes>"
            ],
            "image/png": "[encoded data removed]"
          },
          "metadata": {
            "needs_background": "light"
          }
        }
      ]
    },
    {
      "cell_type": "code",
      "source": [
        "#--- 1E-1 noise, 0<k<2 ---\n",
        "history = model.fit(\n",
        "    X_train, y_train,\n",
        "    validation_data=(X_test, y_test),\n",
        "    batch_size=100,\n",
        "    epochs=300,\n",
        "    callbacks=[early_stopping], # put your callbacks in a list\n",
        "    verbose=1,  # turn off training log\n",
        "    shuffle=False\n",
        ")\n",
        "\n",
        "history_df = pd.DataFrame(history.history)\n",
        "history_df.loc[:, ['loss', 'val_loss']].plot();\n",
        "print(\"Minimum validation loss: {}\".format(history_df['val_loss'].min()))"
      ],
      "metadata": {
        "colab": {
          "base_uri": "https://localhost:8080/",
          "height": 1000
        },
        "outputId": "901ecb4e-9df1-40c7-be08-9cb4edec6f43",
        "id": "rQ0Yqmf-YCFU"
      },
      "execution_count": null,
      "outputs": [
        {
          "output_type": "stream",
          "name": "stderr",
          "text": [
            "2025-02-20 11:54:23.094144: W external/local_tsl/tsl/framework/cpu_allocator_impl.cc:83] Allocation of 1120080000 exceeds 10% of free system memory.\n",
            "2025-02-20 11:54:23.769736: W external/local_tsl/tsl/framework/cpu_allocator_impl.cc:83] Allocation of 1120080000 exceeds 10% of free system memory.\n"
          ]
        },
        {
          "output_type": "stream",
          "name": "stdout",
          "text": [
            "Epoch 1/300\n"
          ]
        },
        {
          "output_type": "stream",
          "name": "stderr",
          "text": [
            "2025-02-20 11:54:24.300727: W external/local_tsl/tsl/framework/cpu_allocator_impl.cc:83] Allocation of 1120080000 exceeds 10% of free system memory.\n",
            "WARNING: All log messages before absl::InitializeLog() is called are written to STDERR\n",
            "I0000 00:00:1740063266.834077   73316 service.cc:145] XLA service 0x7f74b4005060 initialized for platform CUDA (this does not guarantee that XLA will be used). Devices:\n",
            "I0000 00:00:1740063266.834101   73316 service.cc:153]   StreamExecutor device (0): NVIDIA GeForce RTX 2060 SUPER, Compute Capability 7.5\n",
            "2025-02-20 11:54:26.895500: I tensorflow/compiler/mlir/tensorflow/utils/dump_mlir_util.cc:268] disabling MLIR crash reproducer, set env var `MLIR_CRASH_REPRODUCER_DIRECTORY` to enable.\n",
            "2025-02-20 11:54:27.163401: I external/local_xla/xla/stream_executor/cuda/cuda_dnn.cc:465] Loaded cuDNN version 8907\n"
          ]
        },
        {
          "output_type": "stream",
          "name": "stdout",
          "text": [
            "\u001b[1m 13/281\u001b[0m \u001b[37m━━━━━━━━━━━━━━━━━━━━\u001b[0m \u001b[1m3s\u001b[0m 14ms/step - loss: 1.1707"
          ]
        },
        {
          "output_type": "stream",
          "name": "stderr",
          "text": [
            "WARNING: All log messages before absl::InitializeLog() is called are written to STDERR\n",
            "I0000 00:00:1740063269.261304   73316 asm_compiler.cc:369] ptxas warning : Registers are spilled to local memory in function 'input_reduce_select_fusion_6', 8 bytes spill stores, 8 bytes spill loads\n",
            "\n",
            "I0000 00:00:1740063269.267389   73316 device_compiler.h:188] Compiled cluster using XLA!  This line is logged at most once for the lifetime of the process.\n"
          ]
        },
        {
          "output_type": "stream",
          "name": "stdout",
          "text": [
            "\u001b[1m281/281\u001b[0m \u001b[32m━━━━━━━━━━━━━━━━━━━━\u001b[0m\u001b[37m\u001b[0m \u001b[1m0s\u001b[0m 18ms/step - loss: 0.3361"
          ]
        },
        {
          "output_type": "stream",
          "name": "stderr",
          "text": [
            "I0000 00:00:1740063274.447954   73316 asm_compiler.cc:369] ptxas warning : Registers are spilled to local memory in function 'input_reduce_select_fusion_5', 4 bytes spill stores, 4 bytes spill loads\n",
            "ptxas warning : Registers are spilled to local memory in function 'input_reduce_select_fusion_4', 8 bytes spill stores, 8 bytes spill loads\n",
            "\n"
          ]
        },
        {
          "output_type": "stream",
          "name": "stdout",
          "text": [
            "\b\b\b\b\b\b\b\b\b\b\b\b\b\b\b\b\b\b\b\b\b\b\b\b\b\b\b\b\b\b\b\b\b\b\b\b\b\b\b\b\b\b\b\b\b\b\b\b\b\b\b\b\b\b\b\b\r\u001b[1m281/281\u001b[0m \u001b[32m━━━━━━━━━━━━━━━━━━━━\u001b[0m\u001b[37m\u001b[0m \u001b[1m12s\u001b[0m 25ms/step - loss: 0.3355 - val_loss: 0.0772\n",
            "Epoch 2/300\n",
            "\u001b[1m281/281\u001b[0m \u001b[32m━━━━━━━━━━━━━━━━━━━━\u001b[0m\u001b[37m\u001b[0m \u001b[1m4s\u001b[0m 14ms/step - loss: 0.0659 - val_loss: 0.0985\n",
            "Epoch 3/300\n",
            "\u001b[1m281/281\u001b[0m \u001b[32m━━━━━━━━━━━━━━━━━━━━\u001b[0m\u001b[37m\u001b[0m \u001b[1m4s\u001b[0m 14ms/step - loss: 0.0415 - val_loss: 0.0352\n",
            "Epoch 4/300\n",
            "\u001b[1m281/281\u001b[0m \u001b[32m━━━━━━━━━━━━━━━━━━━━\u001b[0m\u001b[37m\u001b[0m \u001b[1m4s\u001b[0m 14ms/step - loss: 0.0307 - val_loss: 0.0453\n",
            "Epoch 5/300\n",
            "\u001b[1m281/281\u001b[0m \u001b[32m━━━━━━━━━━━━━━━━━━━━\u001b[0m\u001b[37m\u001b[0m \u001b[1m4s\u001b[0m 14ms/step - loss: 0.0277 - val_loss: 0.0347\n",
            "Epoch 6/300\n",
            "\u001b[1m281/281\u001b[0m \u001b[32m━━━━━━━━━━━━━━━━━━━━\u001b[0m\u001b[37m\u001b[0m \u001b[1m4s\u001b[0m 14ms/step - loss: 0.0233 - val_loss: 0.0253\n",
            "Epoch 7/300\n",
            "\u001b[1m281/281\u001b[0m \u001b[32m━━━━━━━━━━━━━━━━━━━━\u001b[0m\u001b[37m\u001b[0m \u001b[1m5s\u001b[0m 14ms/step - loss: 0.0206 - val_loss: 0.0205\n",
            "Epoch 8/300\n",
            "\u001b[1m281/281\u001b[0m \u001b[32m━━━━━━━━━━━━━━━━━━━━\u001b[0m\u001b[37m\u001b[0m \u001b[1m4s\u001b[0m 14ms/step - loss: 0.0188 - val_loss: 0.0176\n",
            "Epoch 9/300\n",
            "\u001b[1m281/281\u001b[0m \u001b[32m━━━━━━━━━━━━━━━━━━━━\u001b[0m\u001b[37m\u001b[0m \u001b[1m4s\u001b[0m 14ms/step - loss: 0.0176 - val_loss: 0.0156\n",
            "Epoch 10/300\n",
            "\u001b[1m281/281\u001b[0m \u001b[32m━━━━━━━━━━━━━━━━━━━━\u001b[0m\u001b[37m\u001b[0m \u001b[1m4s\u001b[0m 14ms/step - loss: 0.0165 - val_loss: 0.0147\n",
            "Epoch 11/300\n",
            "\u001b[1m281/281\u001b[0m \u001b[32m━━━━━━━━━━━━━━━━━━━━\u001b[0m\u001b[37m\u001b[0m \u001b[1m4s\u001b[0m 14ms/step - loss: 0.0157 - val_loss: 0.0140\n",
            "Epoch 12/300\n",
            "\u001b[1m281/281\u001b[0m \u001b[32m━━━━━━━━━━━━━━━━━━━━\u001b[0m\u001b[37m\u001b[0m \u001b[1m4s\u001b[0m 14ms/step - loss: 0.0150 - val_loss: 0.0135\n",
            "Epoch 13/300\n",
            "\u001b[1m281/281\u001b[0m \u001b[32m━━━━━━━━━━━━━━━━━━━━\u001b[0m\u001b[37m\u001b[0m \u001b[1m4s\u001b[0m 14ms/step - loss: 0.0146 - val_loss: 0.0126\n",
            "Epoch 14/300\n",
            "\u001b[1m281/281\u001b[0m \u001b[32m━━━━━━━━━━━━━━━━━━━━\u001b[0m\u001b[37m\u001b[0m \u001b[1m4s\u001b[0m 14ms/step - loss: 0.0136 - val_loss: 0.0121\n",
            "Epoch 15/300\n",
            "\u001b[1m281/281\u001b[0m \u001b[32m━━━━━━━━━━━━━━━━━━━━\u001b[0m\u001b[37m\u001b[0m \u001b[1m4s\u001b[0m 14ms/step - loss: 0.0130 - val_loss: 0.0116\n",
            "Epoch 16/300\n",
            "\u001b[1m281/281\u001b[0m \u001b[32m━━━━━━━━━━━━━━━━━━━━\u001b[0m\u001b[37m\u001b[0m \u001b[1m4s\u001b[0m 14ms/step - loss: 0.0126 - val_loss: 0.0113\n",
            "Epoch 17/300\n",
            "\u001b[1m281/281\u001b[0m \u001b[32m━━━━━━━━━━━━━━━━━━━━\u001b[0m\u001b[37m\u001b[0m \u001b[1m4s\u001b[0m 14ms/step - loss: 0.0120 - val_loss: 0.0112\n",
            "Epoch 18/300\n",
            "\u001b[1m281/281\u001b[0m \u001b[32m━━━━━━━━━━━━━━━━━━━━\u001b[0m\u001b[37m\u001b[0m \u001b[1m4s\u001b[0m 14ms/step - loss: 0.0120 - val_loss: 0.0109\n",
            "Epoch 19/300\n",
            "\u001b[1m281/281\u001b[0m \u001b[32m━━━━━━━━━━━━━━━━━━━━\u001b[0m\u001b[37m\u001b[0m \u001b[1m4s\u001b[0m 14ms/step - loss: 0.0115 - val_loss: 0.0105\n",
            "Epoch 20/300\n",
            "\u001b[1m281/281\u001b[0m \u001b[32m━━━━━━━━━━━━━━━━━━━━\u001b[0m\u001b[37m\u001b[0m \u001b[1m4s\u001b[0m 14ms/step - loss: 0.0112 - val_loss: 0.0105\n",
            "Epoch 21/300\n",
            "\u001b[1m281/281\u001b[0m \u001b[32m━━━━━━━━━━━━━━━━━━━━\u001b[0m\u001b[37m\u001b[0m \u001b[1m4s\u001b[0m 14ms/step - loss: 0.0109 - val_loss: 0.0108\n",
            "Epoch 22/300\n",
            "\u001b[1m281/281\u001b[0m \u001b[32m━━━━━━━━━━━━━━━━━━━━\u001b[0m\u001b[37m\u001b[0m \u001b[1m4s\u001b[0m 14ms/step - loss: 0.0106 - val_loss: 0.0102\n",
            "Epoch 23/300\n",
            "\u001b[1m281/281\u001b[0m \u001b[32m━━━━━━━━━━━━━━━━━━━━\u001b[0m\u001b[37m\u001b[0m \u001b[1m4s\u001b[0m 14ms/step - loss: 0.0103 - val_loss: 0.0098\n",
            "Epoch 24/300\n",
            "\u001b[1m281/281\u001b[0m \u001b[32m━━━━━━━━━━━━━━━━━━━━\u001b[0m\u001b[37m\u001b[0m \u001b[1m4s\u001b[0m 14ms/step - loss: 0.0100 - val_loss: 0.0095\n",
            "Epoch 25/300\n",
            "\u001b[1m281/281\u001b[0m \u001b[32m━━━━━━━━━━━━━━━━━━━━\u001b[0m\u001b[37m\u001b[0m \u001b[1m4s\u001b[0m 14ms/step - loss: 0.0099 - val_loss: 0.0101\n",
            "Epoch 26/300\n",
            "\u001b[1m281/281\u001b[0m \u001b[32m━━━━━━━━━━━━━━━━━━━━\u001b[0m\u001b[37m\u001b[0m \u001b[1m4s\u001b[0m 14ms/step - loss: 0.0095 - val_loss: 0.0094\n",
            "Epoch 27/300\n",
            "\u001b[1m281/281\u001b[0m \u001b[32m━━━━━━━━━━━━━━━━━━━━\u001b[0m\u001b[37m\u001b[0m \u001b[1m4s\u001b[0m 14ms/step - loss: 0.0094 - val_loss: 0.0089\n",
            "Epoch 28/300\n",
            "\u001b[1m281/281\u001b[0m \u001b[32m━━━━━━━━━━━━━━━━━━━━\u001b[0m\u001b[37m\u001b[0m \u001b[1m4s\u001b[0m 14ms/step - loss: 0.0091 - val_loss: 0.0085\n",
            "Epoch 29/300\n",
            "\u001b[1m281/281\u001b[0m \u001b[32m━━━━━━━━━━━━━━━━━━━━\u001b[0m\u001b[37m\u001b[0m \u001b[1m4s\u001b[0m 14ms/step - loss: 0.0091 - val_loss: 0.0089\n",
            "Epoch 30/300\n",
            "\u001b[1m281/281\u001b[0m \u001b[32m━━━━━━━━━━━━━━━━━━━━\u001b[0m\u001b[37m\u001b[0m \u001b[1m4s\u001b[0m 14ms/step - loss: 0.0087 - val_loss: 0.0083\n",
            "Epoch 31/300\n",
            "\u001b[1m281/281\u001b[0m \u001b[32m━━━━━━━━━━━━━━━━━━━━\u001b[0m\u001b[37m\u001b[0m \u001b[1m4s\u001b[0m 14ms/step - loss: 0.0084 - val_loss: 0.0086\n",
            "Epoch 32/300\n",
            "\u001b[1m281/281\u001b[0m \u001b[32m━━━━━━━━━━━━━━━━━━━━\u001b[0m\u001b[37m\u001b[0m \u001b[1m4s\u001b[0m 14ms/step - loss: 0.0082 - val_loss: 0.0081\n",
            "Epoch 33/300\n",
            "\u001b[1m281/281\u001b[0m \u001b[32m━━━━━━━━━━━━━━━━━━━━\u001b[0m\u001b[37m\u001b[0m \u001b[1m4s\u001b[0m 14ms/step - loss: 0.0081 - val_loss: 0.0082\n",
            "Epoch 34/300\n",
            "\u001b[1m281/281\u001b[0m \u001b[32m━━━━━━━━━━━━━━━━━━━━\u001b[0m\u001b[37m\u001b[0m \u001b[1m4s\u001b[0m 14ms/step - loss: 0.0079 - val_loss: 0.0076\n",
            "Epoch 35/300\n",
            "\u001b[1m281/281\u001b[0m \u001b[32m━━━━━━━━━━━━━━━━━━━━\u001b[0m\u001b[37m\u001b[0m \u001b[1m4s\u001b[0m 14ms/step - loss: 0.0079 - val_loss: 0.0080\n",
            "Epoch 36/300\n",
            "\u001b[1m281/281\u001b[0m \u001b[32m━━━━━━━━━━━━━━━━━━━━\u001b[0m\u001b[37m\u001b[0m \u001b[1m4s\u001b[0m 14ms/step - loss: 0.0076 - val_loss: 0.0078\n",
            "Epoch 37/300\n",
            "\u001b[1m281/281\u001b[0m \u001b[32m━━━━━━━━━━━━━━━━━━━━\u001b[0m\u001b[37m\u001b[0m \u001b[1m4s\u001b[0m 14ms/step - loss: 0.0075 - val_loss: 0.0075\n",
            "Epoch 38/300\n",
            "\u001b[1m281/281\u001b[0m \u001b[32m━━━━━━━━━━━━━━━━━━━━\u001b[0m\u001b[37m\u001b[0m \u001b[1m4s\u001b[0m 14ms/step - loss: 0.0074 - val_loss: 0.0072\n",
            "Epoch 39/300\n",
            "\u001b[1m281/281\u001b[0m \u001b[32m━━━━━━━━━━━━━━━━━━━━\u001b[0m\u001b[37m\u001b[0m \u001b[1m4s\u001b[0m 14ms/step - loss: 0.0073 - val_loss: 0.0075\n",
            "Epoch 40/300\n",
            "\u001b[1m281/281\u001b[0m \u001b[32m━━━━━━━━━━━━━━━━━━━━\u001b[0m\u001b[37m\u001b[0m \u001b[1m4s\u001b[0m 14ms/step - loss: 0.0072 - val_loss: 0.0077\n",
            "Epoch 41/300\n",
            "\u001b[1m281/281\u001b[0m \u001b[32m━━━━━━━━━━━━━━━━━━━━\u001b[0m\u001b[37m\u001b[0m \u001b[1m4s\u001b[0m 14ms/step - loss: 0.0071 - val_loss: 0.0073\n",
            "Epoch 42/300\n",
            "\u001b[1m281/281\u001b[0m \u001b[32m━━━━━━━━━━━━━━━━━━━━\u001b[0m\u001b[37m\u001b[0m \u001b[1m4s\u001b[0m 14ms/step - loss: 0.0071 - val_loss: 0.0070\n",
            "Epoch 43/300\n",
            "\u001b[1m281/281\u001b[0m \u001b[32m━━━━━━━━━━━━━━━━━━━━\u001b[0m\u001b[37m\u001b[0m \u001b[1m4s\u001b[0m 14ms/step - loss: 0.0070 - val_loss: 0.0066\n",
            "Epoch 44/300\n",
            "\u001b[1m281/281\u001b[0m \u001b[32m━━━━━━━━━━━━━━━━━━━━\u001b[0m\u001b[37m\u001b[0m \u001b[1m4s\u001b[0m 14ms/step - loss: 0.0070 - val_loss: 0.0068\n",
            "Epoch 45/300\n",
            "\u001b[1m281/281\u001b[0m \u001b[32m━━━━━━━━━━━━━━━━━━━━\u001b[0m\u001b[37m\u001b[0m \u001b[1m4s\u001b[0m 14ms/step - loss: 0.0068 - val_loss: 0.0063\n",
            "Epoch 46/300\n",
            "\u001b[1m281/281\u001b[0m \u001b[32m━━━━━━━━━━━━━━━━━━━━\u001b[0m\u001b[37m\u001b[0m \u001b[1m4s\u001b[0m 14ms/step - loss: 0.0068 - val_loss: 0.0063\n",
            "Epoch 47/300\n",
            "\u001b[1m281/281\u001b[0m \u001b[32m━━━━━━━━━━━━━━━━━━━━\u001b[0m\u001b[37m\u001b[0m \u001b[1m4s\u001b[0m 14ms/step - loss: 0.0067 - val_loss: 0.0062\n",
            "Epoch 48/300\n",
            "\u001b[1m281/281\u001b[0m \u001b[32m━━━━━━━━━━━━━━━━━━━━\u001b[0m\u001b[37m\u001b[0m \u001b[1m4s\u001b[0m 14ms/step - loss: 0.0066 - val_loss: 0.0061\n",
            "Epoch 49/300\n",
            "\u001b[1m281/281\u001b[0m \u001b[32m━━━━━━━━━━━━━━━━━━━━\u001b[0m\u001b[37m\u001b[0m \u001b[1m4s\u001b[0m 14ms/step - loss: 0.0066 - val_loss: 0.0061\n",
            "Epoch 50/300\n",
            "\u001b[1m281/281\u001b[0m \u001b[32m━━━━━━━━━━━━━━━━━━━━\u001b[0m\u001b[37m\u001b[0m \u001b[1m4s\u001b[0m 14ms/step - loss: 0.0065 - val_loss: 0.0060\n",
            "Epoch 51/300\n",
            "\u001b[1m281/281\u001b[0m \u001b[32m━━━━━━━━━━━━━━━━━━━━\u001b[0m\u001b[37m\u001b[0m \u001b[1m4s\u001b[0m 14ms/step - loss: 0.0065 - val_loss: 0.0059\n",
            "Epoch 52/300\n",
            "\u001b[1m281/281\u001b[0m \u001b[32m━━━━━━━━━━━━━━━━━━━━\u001b[0m\u001b[37m\u001b[0m \u001b[1m4s\u001b[0m 14ms/step - loss: 0.0064 - val_loss: 0.0059\n",
            "Epoch 53/300\n",
            "\u001b[1m281/281\u001b[0m \u001b[32m━━━━━━━━━━━━━━━━━━━━\u001b[0m\u001b[37m\u001b[0m \u001b[1m4s\u001b[0m 14ms/step - loss: 0.0064 - val_loss: 0.0058\n",
            "Epoch 54/300\n",
            "\u001b[1m281/281\u001b[0m \u001b[32m━━━━━━━━━━━━━━━━━━━━\u001b[0m\u001b[37m\u001b[0m \u001b[1m4s\u001b[0m 14ms/step - loss: 0.0064 - val_loss: 0.0058\n",
            "Epoch 55/300\n",
            "\u001b[1m281/281\u001b[0m \u001b[32m━━━━━━━━━━━━━━━━━━━━\u001b[0m\u001b[37m\u001b[0m \u001b[1m4s\u001b[0m 14ms/step - loss: 0.0063 - val_loss: 0.0057\n",
            "Epoch 56/300\n",
            "\u001b[1m281/281\u001b[0m \u001b[32m━━━━━━━━━━━━━━━━━━━━\u001b[0m\u001b[37m\u001b[0m \u001b[1m4s\u001b[0m 14ms/step - loss: 0.0063 - val_loss: 0.0057\n",
            "Epoch 57/300\n",
            "\u001b[1m281/281\u001b[0m \u001b[32m━━━━━━━━━━━━━━━━━━━━\u001b[0m\u001b[37m\u001b[0m \u001b[1m4s\u001b[0m 14ms/step - loss: 0.0062 - val_loss: 0.0056\n",
            "Epoch 58/300\n",
            "\u001b[1m281/281\u001b[0m \u001b[32m━━━━━━━━━━━━━━━━━━━━\u001b[0m\u001b[37m\u001b[0m \u001b[1m4s\u001b[0m 14ms/step - loss: 0.0061 - val_loss: 0.0056\n",
            "Epoch 59/300\n",
            "\u001b[1m281/281\u001b[0m \u001b[32m━━━━━━━━━━━━━━━━━━━━\u001b[0m\u001b[37m\u001b[0m \u001b[1m4s\u001b[0m 14ms/step - loss: 0.0060 - val_loss: 0.0056\n",
            "Epoch 60/300\n",
            "\u001b[1m281/281\u001b[0m \u001b[32m━━━━━━━━━━━━━━━━━━━━\u001b[0m\u001b[37m\u001b[0m \u001b[1m4s\u001b[0m 14ms/step - loss: 0.0059 - val_loss: 0.0055\n",
            "Epoch 61/300\n",
            "\u001b[1m281/281\u001b[0m \u001b[32m━━━━━━━━━━━━━━━━━━━━\u001b[0m\u001b[37m\u001b[0m \u001b[1m4s\u001b[0m 14ms/step - loss: 0.0059 - val_loss: 0.0054\n",
            "Epoch 62/300\n",
            "\u001b[1m281/281\u001b[0m \u001b[32m━━━━━━━━━━━━━━━━━━━━\u001b[0m\u001b[37m\u001b[0m \u001b[1m4s\u001b[0m 14ms/step - loss: 0.0059 - val_loss: 0.0054\n",
            "Epoch 63/300\n",
            "\u001b[1m281/281\u001b[0m \u001b[32m━━━━━━━━━━━━━━━━━━━━\u001b[0m\u001b[37m\u001b[0m \u001b[1m4s\u001b[0m 14ms/step - loss: 0.0059 - val_loss: 0.0054\n",
            "Epoch 64/300\n",
            "\u001b[1m281/281\u001b[0m \u001b[32m━━━━━━━━━━━━━━━━━━━━\u001b[0m\u001b[37m\u001b[0m \u001b[1m4s\u001b[0m 14ms/step - loss: 0.0059 - val_loss: 0.0054\n",
            "Epoch 65/300\n",
            "\u001b[1m281/281\u001b[0m \u001b[32m━━━━━━━━━━━━━━━━━━━━\u001b[0m\u001b[37m\u001b[0m \u001b[1m4s\u001b[0m 14ms/step - loss: 0.0059 - val_loss: 0.0053\n",
            "Epoch 66/300\n",
            "\u001b[1m281/281\u001b[0m \u001b[32m━━━━━━━━━━━━━━━━━━━━\u001b[0m\u001b[37m\u001b[0m \u001b[1m4s\u001b[0m 14ms/step - loss: 0.0059 - val_loss: 0.0053\n",
            "Epoch 67/300\n",
            "\u001b[1m281/281\u001b[0m \u001b[32m━━━━━━━━━━━━━━━━━━━━\u001b[0m\u001b[37m\u001b[0m \u001b[1m4s\u001b[0m 14ms/step - loss: 0.0058 - val_loss: 0.0052\n",
            "Epoch 68/300\n",
            "\u001b[1m281/281\u001b[0m \u001b[32m━━━━━━━━━━━━━━━━━━━━\u001b[0m\u001b[37m\u001b[0m \u001b[1m4s\u001b[0m 14ms/step - loss: 0.0058 - val_loss: 0.0052\n",
            "Epoch 69/300\n",
            "\u001b[1m281/281\u001b[0m \u001b[32m━━━━━━━━━━━━━━━━━━━━\u001b[0m\u001b[37m\u001b[0m \u001b[1m4s\u001b[0m 14ms/step - loss: 0.0058 - val_loss: 0.0053\n",
            "Epoch 70/300\n",
            "\u001b[1m281/281\u001b[0m \u001b[32m━━━━━━━━━━━━━━━━━━━━\u001b[0m\u001b[37m\u001b[0m \u001b[1m4s\u001b[0m 14ms/step - loss: 0.0057 - val_loss: 0.0053\n",
            "Epoch 71/300\n",
            "\u001b[1m281/281\u001b[0m \u001b[32m━━━━━━━━━━━━━━━━━━━━\u001b[0m\u001b[37m\u001b[0m \u001b[1m4s\u001b[0m 14ms/step - loss: 0.0057 - val_loss: 0.0052\n",
            "Epoch 72/300\n",
            "\u001b[1m281/281\u001b[0m \u001b[32m━━━━━━━━━━━━━━━━━━━━\u001b[0m\u001b[37m\u001b[0m \u001b[1m4s\u001b[0m 14ms/step - loss: 0.0056 - val_loss: 0.0052\n",
            "Epoch 73/300\n",
            "\u001b[1m281/281\u001b[0m \u001b[32m━━━━━━━━━━━━━━━━━━━━\u001b[0m\u001b[37m\u001b[0m \u001b[1m4s\u001b[0m 14ms/step - loss: 0.0056 - val_loss: 0.0052\n",
            "Epoch 74/300\n",
            "\u001b[1m281/281\u001b[0m \u001b[32m━━━━━━━━━━━━━━━━━━━━\u001b[0m\u001b[37m\u001b[0m \u001b[1m4s\u001b[0m 14ms/step - loss: 0.0055 - val_loss: 0.0051\n",
            "Epoch 75/300\n",
            "\u001b[1m281/281\u001b[0m \u001b[32m━━━━━━━━━━━━━━━━━━━━\u001b[0m\u001b[37m\u001b[0m \u001b[1m4s\u001b[0m 14ms/step - loss: 0.0055 - val_loss: 0.0051\n",
            "Epoch 76/300\n",
            "\u001b[1m281/281\u001b[0m \u001b[32m━━━━━━━━━━━━━━━━━━━━\u001b[0m\u001b[37m\u001b[0m \u001b[1m4s\u001b[0m 14ms/step - loss: 0.0054 - val_loss: 0.0051\n",
            "Epoch 77/300\n",
            "\u001b[1m281/281\u001b[0m \u001b[32m━━━━━━━━━━━━━━━━━━━━\u001b[0m\u001b[37m\u001b[0m \u001b[1m4s\u001b[0m 14ms/step - loss: 0.0054 - val_loss: 0.0051\n",
            "Epoch 78/300\n",
            "\u001b[1m281/281\u001b[0m \u001b[32m━━━━━━━━━━━━━━━━━━━━\u001b[0m\u001b[37m\u001b[0m \u001b[1m4s\u001b[0m 14ms/step - loss: 0.0054 - val_loss: 0.0052\n",
            "Epoch 79/300\n",
            "\u001b[1m281/281\u001b[0m \u001b[32m━━━━━━━━━━━━━━━━━━━━\u001b[0m\u001b[37m\u001b[0m \u001b[1m4s\u001b[0m 14ms/step - loss: 0.0053 - val_loss: 0.0051\n",
            "Epoch 80/300\n",
            "\u001b[1m281/281\u001b[0m \u001b[32m━━━━━━━━━━━━━━━━━━━━\u001b[0m\u001b[37m\u001b[0m \u001b[1m4s\u001b[0m 14ms/step - loss: 0.0053 - val_loss: 0.0052\n",
            "Minimum validation loss: 0.005124408286064863\n"
          ]
        },
        {
          "output_type": "display_data",
          "data": {
            "text/plain": [
              "<Figure size 432x288 with 1 Axes>"
            ],
            "image/png": "[encoded data removed]"
          },
          "metadata": {
            "needs_background": "light"
          }
        }
      ]
    },
    {
      "cell_type": "markdown",
      "source": [
        "##Testing"
      ],
      "metadata": {
        "id": "R_QvWWoNS4Ot"
      }
    },
    {
      "cell_type": "code",
      "source": [
        "data_path = '/your/path/'\n",
        "test_pngs = glob.glob(data_path + 'test/sample*png')\n",
        "test_ims = {}\n",
        "\n",
        "for png in test_pngs:\n",
        "  test_ims[png]=np.array(PIL.Image.open(png).convert('L'))\n",
        "\n",
        "\n",
        "#Prepare test questions and solutions as before:\n",
        "test_questions = np.array([each for each in test_ims.values()]).astype(np.float32)\n",
        "test_solutions = np.array([float(each.split('_')[-1].split('.')[0].split('/')[2])/(1e16)\n",
        "                            for each in test_ims]).astype(np.float32)\n",
        "#test_solutions = np.array([float(each.split('_')[-1].split('.')[0].split('/')[1])/(1e16) for each in test_ims]).astype(np.float32)\n",
        "\n",
        "\n",
        "#Apply model:\n",
        "test_answers = model.predict(test_questions)"
      ],
      "metadata": {
        "id": "vTCZez8Hgc9a"
      },
      "execution_count": null,
      "outputs": []
    },
    {
      "cell_type": "markdown",
      "source": [
        "#Metrics"
      ],
      "metadata": {
        "id": "2JQZ5BEwetbP"
      }
    },
    {
      "cell_type": "markdown",
      "source": [
        "##Average c and RMSE"
      ],
      "metadata": {
        "id": "72uwps1oeunj"
      }
    },
    {
      "cell_type": "code",
      "source": [
        "print('=== 1E3 ===')\n",
        "\n",
        "df_res = pd.read_csv('NN_RP_standardmap_n_100_1E3_K0to1_40k_train_1k_test.csv', index_col=0)\n",
        "df_res['diff'] = np.abs(df_res['test_actual'] - df_res['test_predictions'])\n",
        "\n",
        "df_res['diff_0.001'] = df_res['diff'].values < 0.001\n",
        "df_res['diff_0.01'] = df_res['diff'].values < 0.01\n",
        "df_res['diff_0.1'] = df_res['diff'].values < 0.1\n",
        "\n",
        "#--- New metric ---\n",
        "print('Percentage of predictions within 0.001 precision:', np.sum(df_res['diff_0.001'].values)/len(df_res)*100, '%')\n",
        "print('Percentage of predictions within 0.01 precision:', np.sum(df_res['diff_0.01'].values)/len(df_res)*100, '%')\n",
        "print('Percentage of predictions within 0.1 precision:', np.sum(df_res['diff_0.1'].values)/len(df_res)*100, '%')\n",
        "\n",
        "print('---')\n",
        "\n",
        "print('RMSE:', np.round(root_mean_squared_error(df_res['test_actual'].values, df_res['test_predictions'].values), 4))"
      ],
      "metadata": {
        "colab": {
          "base_uri": "https://localhost:8080/"
        },
        "id": "LzJd94Glk-u8",
        "outputId": "fe520711-6aa9-4338-916c-d1b72451b2b0"
      },
      "execution_count": null,
      "outputs": [
        {
          "output_type": "stream",
          "name": "stdout",
          "text": [
            "=== 1E3 ===\n",
            "Percentage of predictions within 0.001 precision: 5.4 %\n",
            "Percentage of predictions within 0.01 precision: 38.1 %\n",
            "Percentage of predictions within 0.1 precision: 99.5 %\n",
            "---\n",
            "RMSE: 0.0295\n"
          ]
        }
      ]
    },
    {
      "cell_type": "code",
      "source": [
        "print('=== 1E5 ===')\n",
        "\n",
        "df_res = pd.read_csv('NN_RP_standardmap_n_100_1E5_K0to1_40k_train_1k_test.csv', index_col=0)\n",
        "df_res['diff'] = np.abs(df_res['test_actual'] - df_res['test_predictions'])\n",
        "\n",
        "df_res['diff_0.001'] = df_res['diff'].values < 0.001\n",
        "df_res['diff_0.01'] = df_res['diff'].values < 0.01\n",
        "df_res['diff_0.1'] = df_res['diff'].values < 0.1\n",
        "\n",
        "#--- New metric ---\n",
        "print('Percentage of predictions within 0.001 precision:', np.sum(df_res['diff_0.001'].values)/len(df_res)*100, '%')\n",
        "print('Percentage of predictions within 0.01 precision:', np.sum(df_res['diff_0.01'].values)/len(df_res)*100, '%')\n",
        "print('Percentage of predictions within 0.1 precision:', np.sum(df_res['diff_0.1'].values)/len(df_res)*100, '%')\n",
        "\n",
        "print('---')\n",
        "\n",
        "print('RMSE:', np.round(root_mean_squared_error(df_res['test_actual'].values, df_res['test_predictions'].values), 4))"
      ],
      "metadata": {
        "colab": {
          "base_uri": "https://localhost:8080/"
        },
        "outputId": "1717ce0c-ace2-4425-c237-9888f32e48aa",
        "id": "VugLSakLn0XI"
      },
      "execution_count": null,
      "outputs": [
        {
          "output_type": "stream",
          "name": "stdout",
          "text": [
            "=== 1E5 ===\n",
            "Percentage of predictions within 0.001 precision: 3.3000000000000003 %\n",
            "Percentage of predictions within 0.01 precision: 35.3 %\n",
            "Percentage of predictions within 0.1 precision: 98.3 %\n",
            "---\n",
            "RMSE: 0.0365\n"
          ]
        }
      ]
    },
    {
      "cell_type": "code",
      "source": [
        "\n",
        "print('=== 1E6 ===')\n",
        "\n",
        "df_res = pd.read_csv('NN_RP_standardmap_n_100_1E6_K0to1_40k_train_1k_test.csv', index_col=0)\n",
        "df_res['diff'] = np.abs(df_res['test_actual'] - df_res['test_predictions'])\n",
        "\n",
        "df_res['diff_0.001'] = df_res['diff'].values < 0.001\n",
        "df_res['diff_0.01'] = df_res['diff'].values < 0.01\n",
        "df_res['diff_0.1'] = df_res['diff'].values < 0.1\n",
        "\n",
        "#--- New metric ---\n",
        "print('Percentage of predictions within 0.001 precision:', np.sum(df_res['diff_0.001'].values)/len(df_res)*100, '%')\n",
        "print('Percentage of predictions within 0.01 precision:', np.sum(df_res['diff_0.01'].values)/len(df_res)*100, '%')\n",
        "print('Percentage of predictions within 0.1 precision:', np.sum(df_res['diff_0.1'].values)/len(df_res)*100, '%')\n",
        "\n",
        "print('---')\n",
        "\n",
        "print('RMSE:', np.round(root_mean_squared_error(df_res['test_actual'].values, df_res['test_predictions'].values), 4))"
      ],
      "metadata": {
        "colab": {
          "base_uri": "https://localhost:8080/"
        },
        "outputId": "f9f23645-c96d-4806-ecc6-10a844182b98",
        "id": "Q64EYxbyT9An"
      },
      "execution_count": null,
      "outputs": [
        {
          "output_type": "stream",
          "name": "stdout",
          "text": [
            "=== 1E6 ===\n",
            "Percentage of predictions within 0.001 precision: 7.6 %\n",
            "Percentage of predictions within 0.01 precision: 46.9 %\n",
            "Percentage of predictions within 0.1 precision: 98.0 %\n",
            "---\n",
            "RMSE: 0.0347\n"
          ]
        }
      ]
    },
    {
      "cell_type": "code",
      "source": [
        "print('=== 1E7 ===')\n",
        "\n",
        "df_res = pd.read_csv('NN_RP_standardmap_n_100_1E7_K0to1_40k_train_1k_test.csv', index_col=0)\n",
        "df_res['diff'] = np.abs(df_res['test_actual'] - df_res['test_predictions'])\n",
        "\n",
        "df_res['diff_0.001'] = df_res['diff'].values < 0.001\n",
        "df_res['diff_0.01'] = df_res['diff'].values < 0.01\n",
        "df_res['diff_0.1'] = df_res['diff'].values < 0.1\n",
        "\n",
        "#--- New metric ---\n",
        "print('Percentage of predictions within 0.001 precision:', np.sum(df_res['diff_0.001'].values)/len(df_res)*100, '%')\n",
        "print('Percentage of predictions within 0.01 precision:', np.sum(df_res['diff_0.01'].values)/len(df_res)*100, '%')\n",
        "print('Percentage of predictions within 0.1 precision:', np.sum(df_res['diff_0.1'].values)/len(df_res)*100, '%')\n",
        "\n",
        "print('---')\n",
        "\n",
        "print('RMSE:', np.round(root_mean_squared_error(df_res['test_actual'].values, df_res['test_predictions'].values), 4))"
      ],
      "metadata": {
        "colab": {
          "base_uri": "https://localhost:8080/"
        },
        "outputId": "9d43f2d1-a9a8-4946-abd4-d235f7a362bd",
        "id": "U4VUMbl7n0kJ"
      },
      "execution_count": null,
      "outputs": [
        {
          "output_type": "stream",
          "name": "stdout",
          "text": [
            "=== 1E7 ===\n",
            "Percentage of predictions within 0.001 precision: 3.8 %\n",
            "Percentage of predictions within 0.01 precision: 45.2 %\n",
            "Percentage of predictions within 0.1 precision: 98.9 %\n",
            "---\n",
            "RMSE: 0.0277\n"
          ]
        }
      ]
    },
    {
      "cell_type": "code",
      "source": [
        "print('=== 1E8 ===')\n",
        "\n",
        "df_res = pd.read_csv('NN_RP_standardmap_n_100_1E8_K0to1_40k_train_1k_test.csv', index_col=0)\n",
        "df_res['diff'] = np.abs(df_res['test_actual'] - df_res['test_predictions'])\n",
        "\n",
        "df_res['diff_0.001'] = df_res['diff'].values < 0.001\n",
        "df_res['diff_0.01'] = df_res['diff'].values < 0.01\n",
        "df_res['diff_0.1'] = df_res['diff'].values < 0.1\n",
        "\n",
        "#--- New metric ---\n",
        "print('Percentage of predictions within 0.001 precision:', np.sum(df_res['diff_0.001'].values)/len(df_res)*100, '%')\n",
        "print('Percentage of predictions within 0.01 precision:', np.sum(df_res['diff_0.01'].values)/len(df_res)*100, '%')\n",
        "print('Percentage of predictions within 0.1 precision:', np.sum(df_res['diff_0.1'].values)/len(df_res)*100, '%')\n",
        "\n",
        "print('---')\n",
        "\n",
        "print('RMSE:', np.round(root_mean_squared_error(df_res['test_actual'].values, df_res['test_predictions'].values), 4))"
      ],
      "metadata": {
        "colab": {
          "base_uri": "https://localhost:8080/"
        },
        "outputId": "a7dffbf9-570a-4981-c708-730cbfe352e7",
        "id": "2IkFMnvFT_zA"
      },
      "execution_count": null,
      "outputs": [
        {
          "output_type": "stream",
          "name": "stdout",
          "text": [
            "=== 1E8 ===\n",
            "Percentage of predictions within 0.001 precision: 4.3999999999999995 %\n",
            "Percentage of predictions within 0.01 precision: 47.8 %\n",
            "Percentage of predictions within 0.1 precision: 99.4 %\n",
            "---\n",
            "RMSE: 0.0273\n"
          ]
        }
      ]
    },
    {
      "cell_type": "code",
      "source": [
        "print('=== 1E9 ===')\n",
        "\n",
        "df_res = pd.read_csv('NN_RP_standardmap_n_100_1E9_K0to1_40k_train_1k_test.csv', index_col=0)\n",
        "df_res['diff'] = np.abs(df_res['test_actual'] - df_res['test_predictions'])\n",
        "\n",
        "df_res['diff_0.001'] = df_res['diff'].values < 0.001\n",
        "df_res['diff_0.01'] = df_res['diff'].values < 0.01\n",
        "df_res['diff_0.1'] = df_res['diff'].values < 0.1\n",
        "\n",
        "#--- New metric ---\n",
        "print('Percentage of predictions within 0.001 precision:', np.sum(df_res['diff_0.001'].values)/len(df_res)*100, '%')\n",
        "print('Percentage of predictions within 0.01 precision:', np.sum(df_res['diff_0.01'].values)/len(df_res)*100, '%')\n",
        "print('Percentage of predictions within 0.1 precision:', np.sum(df_res['diff_0.1'].values)/len(df_res)*100, '%')\n",
        "\n",
        "print('---')\n",
        "\n",
        "print('RMSE:', np.round(root_mean_squared_error(df_res['test_actual'].values, df_res['test_predictions'].values), 4))"
      ],
      "metadata": {
        "colab": {
          "base_uri": "https://localhost:8080/"
        },
        "outputId": "1066f509-9573-4941-b49c-07fc82884904",
        "id": "SopugxKlwmxk"
      },
      "execution_count": null,
      "outputs": [
        {
          "output_type": "stream",
          "name": "stdout",
          "text": [
            "=== 1E9 ===\n",
            "Percentage of predictions within 0.001 precision: 1.6 %\n",
            "Percentage of predictions within 0.01 precision: 21.8 %\n",
            "Percentage of predictions within 0.1 precision: 98.1 %\n",
            "---\n",
            "RMSE: 0.041\n"
          ]
        }
      ]
    },
    {
      "cell_type": "code",
      "source": [
        "print('=== 0<k<1, 1E8 ===')\n",
        "\n",
        "df_res = pd.read_csv('NN_RP_standardmap_0to1_no_noise_3x4.csv', index_col=0)\n",
        "df_res['diff'] = np.abs(df_res['test_actual'] - df_res['test_predictions'])\n",
        "\n",
        "df_res['diff_0.001'] = df_res['diff'].values < 0.001\n",
        "df_res['diff_0.01'] = df_res['diff'].values < 0.01\n",
        "df_res['diff_0.1'] = df_res['diff'].values < 0.1\n",
        "\n",
        "#--- New metric ---\n",
        "print('Percentage of predictions within 0.001 precision:', np.sum(df_res['diff_0.001'].values)/len(df_res)*100, '%')\n",
        "print('Percentage of predictions within 0.01 precision:', np.sum(df_res['diff_0.01'].values)/len(df_res)*100, '%')\n",
        "print('Percentage of predictions within 0.1 precision:', np.sum(df_res['diff_0.1'].values)/len(df_res)*100, '%')\n",
        "\n",
        "print('---')\n",
        "\n",
        "print('RMSE:', np.round(root_mean_squared_error(df_res['test_actual'].values, df_res['test_predictions'].values), 4))"
      ],
      "metadata": {
        "colab": {
          "base_uri": "https://localhost:8080/"
        },
        "outputId": "8cd79f7f-4a8f-433f-d224-732c317f6099",
        "id": "oEYUpipSIa5L"
      },
      "execution_count": null,
      "outputs": [
        {
          "output_type": "stream",
          "name": "stdout",
          "text": [
            "=== 0<k<1, 1E8 ===\n",
            "Percentage of predictions within 0.001 precision: 2.3 %\n",
            "Percentage of predictions within 0.01 precision: 24.0 %\n",
            "Percentage of predictions within 0.1 precision: 98.8 %\n",
            "---\n",
            "RMSE: 0.0348\n"
          ]
        }
      ]
    },
    {
      "cell_type": "markdown",
      "source": [
        "0<k<2"
      ],
      "metadata": {
        "id": "lt6-Pd2rcTy0"
      }
    },
    {
      "cell_type": "code",
      "source": [
        "print('=== 0<k<2, 1E8 ===')\n",
        "\n",
        "df_res = pd.read_csv('NN_RP_standardmap_0to2_no_noise_3x4.csv', index_col=0)\n",
        "df_res['diff'] = np.abs(df_res['test_actual'] - df_res['test_predictions'])\n",
        "\n",
        "df_res['diff_0.001'] = df_res['diff'].values < 0.001\n",
        "df_res['diff_0.01'] = df_res['diff'].values < 0.01\n",
        "df_res['diff_0.1'] = df_res['diff'].values < 0.1\n",
        "\n",
        "#--- New metric ---\n",
        "print('Percentage of predictions within 0.001 precision:', np.sum(df_res['diff_0.001'].values)/len(df_res)*100, '%')\n",
        "print('Percentage of predictions within 0.01 precision:', np.sum(df_res['diff_0.01'].values)/len(df_res)*100, '%')\n",
        "print('Percentage of predictions within 0.1 precision:', np.sum(df_res['diff_0.1'].values)/len(df_res)*100, '%')\n",
        "\n",
        "print('---')\n",
        "\n",
        "print('RMSE:', np.round(root_mean_squared_error(df_res['test_actual'].values, df_res['test_predictions'].values), 4))"
      ],
      "metadata": {
        "colab": {
          "base_uri": "https://localhost:8080/"
        },
        "outputId": "4f58edd7-574e-4b5d-a07f-d16666750e8c",
        "id": "rRIJ8DAp6T5I"
      },
      "execution_count": null,
      "outputs": [
        {
          "output_type": "stream",
          "name": "stdout",
          "text": [
            "=== 0<k<2, 1E8 ===\n",
            "Percentage of predictions within 0.001 precision: 0.8999999999999999 %\n",
            "Percentage of predictions within 0.01 precision: 11.799999999999999 %\n",
            "Percentage of predictions within 0.1 precision: 85.5 %\n",
            "---\n",
            "RMSE: 0.0677\n"
          ]
        }
      ]
    },
    {
      "cell_type": "code",
      "source": [
        "print('=== 1E-1 noise ===')\n",
        "\n",
        "df_res = pd.read_csv('NN_RP_standardmap_0to2_1em1_noise_3x4.csv', index_col=0)\n",
        "df_res['diff'] = np.abs(df_res['test_actual'] - df_res['test_predictions'])\n",
        "\n",
        "df_res['diff_0.001'] = df_res['diff'].values < 0.001\n",
        "df_res['diff_0.01'] = df_res['diff'].values < 0.01\n",
        "df_res['diff_0.1'] = df_res['diff'].values < 0.1\n",
        "\n",
        "#--- New metric ---\n",
        "print('Percentage of predictions within 0.001 precision:', np.sum(df_res['diff_0.001'].values)/len(df_res)*100, '%')\n",
        "print('Percentage of predictions within 0.01 precision:', np.sum(df_res['diff_0.01'].values)/len(df_res)*100, '%')\n",
        "print('Percentage of predictions within 0.1 precision:', np.sum(df_res['diff_0.1'].values)/len(df_res)*100, '%')\n",
        "\n",
        "print('---')\n",
        "\n",
        "print('RMSE:', np.round(root_mean_squared_error(df_res['test_actual'].values, df_res['test_predictions'].values), 4))"
      ],
      "metadata": {
        "colab": {
          "base_uri": "https://localhost:8080/"
        },
        "outputId": "d427d3ef-8220-48b4-93ff-1f1fe5a92cd9",
        "id": "WOAekqDHZL5o"
      },
      "execution_count": null,
      "outputs": [
        {
          "output_type": "stream",
          "name": "stdout",
          "text": [
            "=== 1E-1 noise ===\n",
            "Percentage of predictions within 0.001 precision: 0.1 %\n",
            "Percentage of predictions within 0.01 precision: 2.0 %\n",
            "Percentage of predictions within 0.1 precision: 23.7 %\n",
            "---\n",
            "RMSE: 0.4334\n"
          ]
        }
      ]
    },
    {
      "cell_type": "code",
      "source": [
        "print('=== 1E-3 noise ===')\n",
        "\n",
        "df_res = pd.read_csv('NN_RP_standardmap_0to2_1em3_noise_3x4.csv', index_col=0)\n",
        "df_res['diff'] = np.abs(df_res['test_actual'] - df_res['test_predictions'])\n",
        "\n",
        "df_res['diff_0.001'] = df_res['diff'].values < 0.001\n",
        "df_res['diff_0.01'] = df_res['diff'].values < 0.01\n",
        "df_res['diff_0.1'] = df_res['diff'].values < 0.1\n",
        "\n",
        "#--- New metric ---\n",
        "print('Percentage of predictions within 0.001 precision:', np.sum(df_res['diff_0.001'].values)/len(df_res)*100, '%')\n",
        "print('Percentage of predictions within 0.01 precision:', np.sum(df_res['diff_0.01'].values)/len(df_res)*100, '%')\n",
        "print('Percentage of predictions within 0.1 precision:', np.sum(df_res['diff_0.1'].values)/len(df_res)*100, '%')\n",
        "\n",
        "print('---')\n",
        "\n",
        "print('RMSE:', np.round(root_mean_squared_error(df_res['test_actual'].values, df_res['test_predictions'].values), 4))"
      ],
      "metadata": {
        "colab": {
          "base_uri": "https://localhost:8080/"
        },
        "outputId": "864a34b5-a9c6-4cf1-e4bd-fb4f6576efa8",
        "id": "vz1-RXSDZTkQ"
      },
      "execution_count": null,
      "outputs": [
        {
          "output_type": "stream",
          "name": "stdout",
          "text": [
            "=== 1E-3 noise ===\n",
            "Percentage of predictions within 0.001 precision: 1.3 %\n",
            "Percentage of predictions within 0.01 precision: 14.799999999999999 %\n",
            "Percentage of predictions within 0.1 precision: 83.0 %\n",
            "---\n",
            "RMSE: 0.0775\n"
          ]
        }
      ]
    },
    {
      "cell_type": "code",
      "source": [
        "print('=== 5E-3 noise ===')\n",
        "\n",
        "df_res = pd.read_csv('NN_RP_standardmap_0to2_5em3_noise_3x4.csv', index_col=0)\n",
        "df_res['diff'] = np.abs(df_res['test_actual'] - df_res['test_predictions'])\n",
        "\n",
        "df_res['diff_0.001'] = df_res['diff'].values < 0.001\n",
        "df_res['diff_0.01'] = df_res['diff'].values < 0.01\n",
        "df_res['diff_0.1'] = df_res['diff'].values < 0.1\n",
        "\n",
        "#--- New metric ---\n",
        "print('Percentage of predictions within 0.001 precision:', np.sum(df_res['diff_0.001'].values)/len(df_res)*100, '%')\n",
        "print('Percentage of predictions within 0.01 precision:', np.sum(df_res['diff_0.01'].values)/len(df_res)*100, '%')\n",
        "print('Percentage of predictions within 0.1 precision:', np.sum(df_res['diff_0.1'].values)/len(df_res)*100, '%')\n",
        "\n",
        "print('---')\n",
        "\n",
        "print('RMSE:', np.round(root_mean_squared_error(df_res['test_actual'].values, df_res['test_predictions'].values), 4))"
      ],
      "metadata": {
        "colab": {
          "base_uri": "https://localhost:8080/"
        },
        "outputId": "f624ba28-7b43-483d-c74f-c12293c2760f",
        "id": "aLwqCR2ZZYoO"
      },
      "execution_count": null,
      "outputs": [
        {
          "output_type": "stream",
          "name": "stdout",
          "text": [
            "=== 5E-3 noise ===\n",
            "Percentage of predictions within 0.001 precision: 1.0999999999999999 %\n",
            "Percentage of predictions within 0.01 precision: 9.8 %\n",
            "Percentage of predictions within 0.1 precision: 74.0 %\n",
            "---\n",
            "RMSE: 0.0982\n"
          ]
        }
      ]
    }
  ]
}