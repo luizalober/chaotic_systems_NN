{
  "nbformat": 4,
  "nbformat_minor": 0,
  "metadata": {
    "colab": {
      "provenance": [],
      "toc_visible": true
    },
    "kernelspec": {
      "name": "python3",
      "display_name": "Python 3"
    },
    "language_info": {
      "name": "python"
    }
  },
  "cells": [
    {
      "cell_type": "markdown",
      "source": [
        "#Library and functions"
      ],
      "metadata": {
        "id": "RcvC1t6_ENWq"
      }
    },
    {
      "cell_type": "code",
      "execution_count": null,
      "metadata": {
        "collapsed": true,
        "id": "_OgBtAnpdSd7"
      },
      "outputs": [],
      "source": [
        "#--- Reproductibility ---\n",
        "%env PYTHONHASHSEED=0\n",
        "from numpy.random import seed\n",
        "seed(42)\n",
        "from tensorflow import keras\n",
        "keras.utils.set_random_seed(42)\n",
        "import tensorflow as tf\n",
        "tf.config.experimental.enable_op_determinism()\n",
        "\n",
        "#---\n",
        "\n",
        "import numpy as np\n",
        "import numpy as np\n",
        "import pandas as pd\n",
        "from sklearn.decomposition import PCA\n",
        "from collections import Counter\n",
        "import PIL\n",
        "import glob\n",
        "from tqdm import tqdm\n",
        "import networkx as nx\n",
        "\n",
        "#Graphics\n",
        "from scipy.stats import gaussian_kde\n",
        "from scipy.stats import norm\n",
        "import seaborn as sns\n",
        "from matplotlib import cm\n",
        "import matplotlib.pyplot as plt\n",
        "from matplotlib.patches import Rectangle\n",
        "\n",
        "#NN\n",
        "from tensorflow import keras\n",
        "from tensorflow.keras import layers, callbacks\n",
        "#import tensorflow as tf\n",
        "\n",
        "#sklearn modules: evaluation\n",
        "from sklearn.model_selection import train_test_split\n",
        "from sklearn.ensemble import RandomForestClassifier\n",
        "from sklearn.metrics import accuracy_score, confusion_matrix, roc_curve, classification_report, RocCurveDisplay\n",
        "from sklearn.model_selection import GridSearchCV\n",
        "from sklearn.preprocessing import MinMaxScaler, LabelBinarizer\n",
        "from sklearn.datasets import make_classification\n",
        "from sklearn.preprocessing import LabelEncoder\n",
        "from sklearn.metrics import mean_squared_error, root_mean_squared_error\n",
        "\n",
        "#Recurrence plots\n",
        "from pyts.image import RecurrencePlot\n",
        "from pyts.datasets import load_gunpoint\n",
        "from mpl_toolkits.axes_grid1 import ImageGrid"
      ]
    },
    {
      "cell_type": "code",
      "source": [
        "def parameter_stratification(value):\n",
        "  '''\n",
        "  Assumes the parameters of the logistic map will be in the 3 to 4 range.\n",
        "  Categories:\n",
        "  1 - Oscillations between two values\n",
        "  2 - Oscillations between four values\n",
        "  3 - Oscillations between nth values, where n is even and >4\n",
        "  4 - Onset of chaos\n",
        "  5 - Appearance of stability islands\n",
        "  '''\n",
        "\n",
        "  #Periods\n",
        "  if (value < 3.44949):\n",
        "    return 1\n",
        "  if ( (value >= 3.44949) and (value < 3.54409) ):\n",
        "    return 2\n",
        "  if ( (value >= 3.54409) and (value < 3.56995) ):\n",
        "    return 3\n",
        "  if ( (value >= 3.56995) and (value < 3.82843) ):\n",
        "    return 4\n",
        "  if ( (value >= 3.82843) ):\n",
        "    return 5"
      ],
      "metadata": {
        "id": "64nNxe3n03Wi"
      },
      "execution_count": null,
      "outputs": []
    },
    {
      "cell_type": "markdown",
      "source": [
        "# Neural net training: regression"
      ],
      "metadata": {
        "id": "XVq53Ur1i5E_"
      }
    },
    {
      "cell_type": "markdown",
      "source": [
        "##Architecture"
      ],
      "metadata": {
        "id": "JJAhC1-FqUYF"
      }
    },
    {
      "cell_type": "code",
      "source": [
        "model = keras.Sequential([\n",
        "  keras.layers.Conv2D(3, 4, activation='relu'),\n",
        "  keras.layers.Conv2D(3, 4, activation='relu'),\n",
        "  keras.layers.AveragePooling2D(2),\n",
        "  keras.layers.Dropout(0.2),\n",
        "  keras.layers.Conv2D(3, 4, activation='relu'),\n",
        "  keras.layers.Conv2D(3, 4, activation='relu'),\n",
        "  keras.layers.AveragePooling2D(2),\n",
        "  keras.layers.Dropout(0.2),\n",
        "  keras.layers.Conv2D(3, 4, activation='relu'),\n",
        "  keras.layers.Conv2D(3, 4, activation='relu'),\n",
        "  keras.layers.Flatten(),\n",
        "  keras.layers.Dense(units=1024, activation='relu'),\n",
        "  keras.layers.Dense(units=512, activation='relu'),\n",
        "  keras.layers.Dense(units=256, activation='relu'),\n",
        "  keras.layers.Dense(units=128, activation='relu'),\n",
        "  keras.layers.Dense(units=64, activation='relu'),\n",
        "  keras.layers.Dense(units=1)\n",
        "])\n",
        "\n",
        "model.compile(loss='mean_squared_error', optimizer=\"adam\")"
      ],
      "metadata": {
        "id": "hd0OpCYDj113"
      },
      "execution_count": null,
      "outputs": []
    },
    {
      "cell_type": "markdown",
      "source": [
        "## Training"
      ],
      "metadata": {
        "id": "DWVEHjBiS1cD"
      }
    },
    {
      "cell_type": "code",
      "source": [
        "#Read all pngs from the train set\n",
        "data_path = '/your/path/'\n",
        "pngs = glob.glob(data_path + 'IC_0.*/sample*png')\n",
        "\n",
        "ims = {}\n",
        "for png in pngs:\n",
        "  ims[png]=np.array(PIL.Image.open(png).convert('L'))"
      ],
      "metadata": {
        "id": "Fx5jygsDrlej"
      },
      "execution_count": null,
      "outputs": []
    },
    {
      "cell_type": "code",
      "source": [
        "#Questions = images\n",
        "#Solutions = main parameter of the logistic map used to generated that image\n",
        "\n",
        "questions = np.array([each for each in ims.values()]).astype(np.float32)\n",
        "solutions = np.array([float(each.split('/')[-1].split('.')[0])/(1e16) for each in ims]).astype(np.float32)"
      ],
      "metadata": {
        "id": "4pChzShLruhe"
      },
      "execution_count": null,
      "outputs": []
    },
    {
      "cell_type": "code",
      "source": [
        "N_size = 100\n",
        "\n",
        "#Train/test split (gnuplot data):\n",
        "X_train, X_test, y_train, y_test = train_test_split(questions, solutions, test_size=0.3, random_state=42)\n",
        "\n",
        "X_train = X_train.reshape(-1, N_size, N_size, 1)\n",
        "X_test = X_test.reshape(-1, N_size, N_size, 1)"
      ],
      "metadata": {
        "id": "i7beSSgj9H4H"
      },
      "execution_count": null,
      "outputs": []
    },
    {
      "cell_type": "code",
      "source": [
        "early_stopping = callbacks.EarlyStopping(\n",
        "    min_delta=0.001, # minimium amount of change to count as an improvement\n",
        "    patience=20, # how many epochs to wait before stopping\n",
        "    restore_best_weights=True,\n",
        ")"
      ],
      "metadata": {
        "id": "52OOqc7J2gMa"
      },
      "execution_count": null,
      "outputs": []
    },
    {
      "cell_type": "code",
      "source": [
        "#--- N=res runs ---\n",
        "history = model.fit(\n",
        "    X_train, y_train,\n",
        "    validation_data=(X_test, y_test),\n",
        "    batch_size=100,\n",
        "    epochs=300,\n",
        "    callbacks=[early_stopping], # put your callbacks in a list\n",
        "    verbose=1,  # turn off training log\n",
        "    shuffle=False\n",
        ")\n",
        "\n",
        "history_df = pd.DataFrame(history.history)\n",
        "history_df.loc[:, ['loss', 'val_loss']].plot();\n",
        "print(\"Minimum validation loss: {}\".format(history_df['val_loss'].min()))"
      ],
      "metadata": {
        "id": "uONc0KKHD9vn",
        "colab": {
          "base_uri": "https://localhost:8080/",
          "height": 1000
        },
        "outputId": "c84b6879-90e0-4a9e-b6a0-1e56fa5b2c98"
      },
      "execution_count": null,
      "outputs": [
        {
          "output_type": "stream",
          "name": "stdout",
          "text": [
            "Epoch 1/300\n"
          ]
        },
        {
          "output_type": "stream",
          "name": "stderr",
          "text": [
            "WARNING: All log messages before absl::InitializeLog() is called are written to STDERR\n",
            "I0000 00:00:1727215296.095055  104124 service.cc:145] XLA service 0x7fc368003bc0 initialized for platform CUDA (this does not guarantee that XLA will be used). Devices:\n",
            "I0000 00:00:1727215296.095093  104124 service.cc:153]   StreamExecutor device (0): NVIDIA GeForce RTX 2060 SUPER, Compute Capability 7.5\n",
            "2024-09-24 19:01:36.190731: I tensorflow/compiler/mlir/tensorflow/utils/dump_mlir_util.cc:268] disabling MLIR crash reproducer, set env var `MLIR_CRASH_REPRODUCER_DIRECTORY` to enable.\n",
            "2024-09-24 19:01:36.454326: I external/local_xla/xla/stream_executor/cuda/cuda_dnn.cc:465] Loaded cuDNN version 8907\n"
          ]
        },
        {
          "output_type": "stream",
          "name": "stdout",
          "text": [
            "\u001b[1m12/71\u001b[0m \u001b[32m━━━\u001b[0m\u001b[37m━━━━━━━━━━━━━━━━━\u001b[0m \u001b[1m0s\u001b[0m 15ms/step - loss: 9.2517 "
          ]
        },
        {
          "output_type": "stream",
          "name": "stderr",
          "text": [
            "I0000 00:00:1727215298.681146  104124 device_compiler.h:188] Compiled cluster using XLA!  This line is logged at most once for the lifetime of the process.\n"
          ]
        },
        {
          "output_type": "stream",
          "name": "stdout",
          "text": [
            "\u001b[1m71/71\u001b[0m \u001b[32m━━━━━━━━━━━━━━━━━━━━\u001b[0m\u001b[37m\u001b[0m \u001b[1m8s\u001b[0m 49ms/step - loss: 3.5254 - val_loss: 0.1320\n",
            "Epoch 2/300\n",
            "\u001b[1m71/71\u001b[0m \u001b[32m━━━━━━━━━━━━━━━━━━━━\u001b[0m\u001b[37m\u001b[0m \u001b[1m1s\u001b[0m 14ms/step - loss: 0.0537 - val_loss: 0.0763\n",
            "Epoch 3/300\n",
            "\u001b[1m71/71\u001b[0m \u001b[32m━━━━━━━━━━━━━━━━━━━━\u001b[0m\u001b[37m\u001b[0m \u001b[1m1s\u001b[0m 13ms/step - loss: 0.0326 - val_loss: 0.0775\n",
            "Epoch 4/300\n",
            "\u001b[1m71/71\u001b[0m \u001b[32m━━━━━━━━━━━━━━━━━━━━\u001b[0m\u001b[37m\u001b[0m \u001b[1m1s\u001b[0m 14ms/step - loss: 0.0311 - val_loss: 0.0560\n",
            "Epoch 5/300\n",
            "\u001b[1m71/71\u001b[0m \u001b[32m━━━━━━━━━━━━━━━━━━━━\u001b[0m\u001b[37m\u001b[0m \u001b[1m1s\u001b[0m 14ms/step - loss: 0.0259 - val_loss: 0.0418\n",
            "Epoch 6/300\n",
            "\u001b[1m71/71\u001b[0m \u001b[32m━━━━━━━━━━━━━━━━━━━━\u001b[0m\u001b[37m\u001b[0m \u001b[1m1s\u001b[0m 14ms/step - loss: 0.0202 - val_loss: 0.0315\n",
            "Epoch 7/300\n",
            "\u001b[1m71/71\u001b[0m \u001b[32m━━━━━━━━━━━━━━━━━━━━\u001b[0m\u001b[37m\u001b[0m \u001b[1m1s\u001b[0m 15ms/step - loss: 0.0180 - val_loss: 0.0186\n",
            "Epoch 8/300\n",
            "\u001b[1m71/71\u001b[0m \u001b[32m━━━━━━━━━━━━━━━━━━━━\u001b[0m\u001b[37m\u001b[0m \u001b[1m1s\u001b[0m 14ms/step - loss: 0.0144 - val_loss: 0.0193\n",
            "Epoch 9/300\n",
            "\u001b[1m71/71\u001b[0m \u001b[32m━━━━━━━━━━━━━━━━━━━━\u001b[0m\u001b[37m\u001b[0m \u001b[1m1s\u001b[0m 14ms/step - loss: 0.0144 - val_loss: 0.0199\n",
            "Epoch 10/300\n",
            "\u001b[1m71/71\u001b[0m \u001b[32m━━━━━━━━━━━━━━━━━━━━\u001b[0m\u001b[37m\u001b[0m \u001b[1m1s\u001b[0m 14ms/step - loss: 0.0143 - val_loss: 0.0205\n",
            "Epoch 11/300\n",
            "\u001b[1m71/71\u001b[0m \u001b[32m━━━━━━━━━━━━━━━━━━━━\u001b[0m\u001b[37m\u001b[0m \u001b[1m1s\u001b[0m 14ms/step - loss: 0.0142 - val_loss: 0.0157\n",
            "Epoch 12/300\n",
            "\u001b[1m71/71\u001b[0m \u001b[32m━━━━━━━━━━━━━━━━━━━━\u001b[0m\u001b[37m\u001b[0m \u001b[1m1s\u001b[0m 14ms/step - loss: 0.0132 - val_loss: 0.0166\n",
            "Epoch 13/300\n",
            "\u001b[1m71/71\u001b[0m \u001b[32m━━━━━━━━━━━━━━━━━━━━\u001b[0m\u001b[37m\u001b[0m \u001b[1m1s\u001b[0m 14ms/step - loss: 0.0124 - val_loss: 0.0125\n",
            "Epoch 14/300\n",
            "\u001b[1m71/71\u001b[0m \u001b[32m━━━━━━━━━━━━━━━━━━━━\u001b[0m\u001b[37m\u001b[0m \u001b[1m1s\u001b[0m 14ms/step - loss: 0.0113 - val_loss: 0.0112\n",
            "Epoch 15/300\n",
            "\u001b[1m71/71\u001b[0m \u001b[32m━━━━━━━━━━━━━━━━━━━━\u001b[0m\u001b[37m\u001b[0m \u001b[1m1s\u001b[0m 14ms/step - loss: 0.0104 - val_loss: 0.0101\n",
            "Epoch 16/300\n",
            "\u001b[1m71/71\u001b[0m \u001b[32m━━━━━━━━━━━━━━━━━━━━\u001b[0m\u001b[37m\u001b[0m \u001b[1m1s\u001b[0m 14ms/step - loss: 0.0095 - val_loss: 0.0092\n",
            "Epoch 17/300\n",
            "\u001b[1m71/71\u001b[0m \u001b[32m━━━━━━━━━━━━━━━━━━━━\u001b[0m\u001b[37m\u001b[0m \u001b[1m1s\u001b[0m 14ms/step - loss: 0.0089 - val_loss: 0.0088\n",
            "Epoch 18/300\n",
            "\u001b[1m71/71\u001b[0m \u001b[32m━━━━━━━━━━━━━━━━━━━━\u001b[0m\u001b[37m\u001b[0m \u001b[1m1s\u001b[0m 14ms/step - loss: 0.0084 - val_loss: 0.0086\n",
            "Epoch 19/300\n",
            "\u001b[1m71/71\u001b[0m \u001b[32m━━━━━━━━━━━━━━━━━━━━\u001b[0m\u001b[37m\u001b[0m \u001b[1m1s\u001b[0m 14ms/step - loss: 0.0079 - val_loss: 0.0085\n",
            "Epoch 20/300\n",
            "\u001b[1m71/71\u001b[0m \u001b[32m━━━━━━━━━━━━━━━━━━━━\u001b[0m\u001b[37m\u001b[0m \u001b[1m1s\u001b[0m 14ms/step - loss: 0.0075 - val_loss: 0.0078\n",
            "Epoch 21/300\n",
            "\u001b[1m71/71\u001b[0m \u001b[32m━━━━━━━━━━━━━━━━━━━━\u001b[0m\u001b[37m\u001b[0m \u001b[1m1s\u001b[0m 14ms/step - loss: 0.0071 - val_loss: 0.0074\n",
            "Epoch 22/300\n",
            "\u001b[1m71/71\u001b[0m \u001b[32m━━━━━━━━━━━━━━━━━━━━\u001b[0m\u001b[37m\u001b[0m \u001b[1m1s\u001b[0m 15ms/step - loss: 0.0067 - val_loss: 0.0070\n",
            "Epoch 23/300\n",
            "\u001b[1m71/71\u001b[0m \u001b[32m━━━━━━━━━━━━━━━━━━━━\u001b[0m\u001b[37m\u001b[0m \u001b[1m1s\u001b[0m 15ms/step - loss: 0.0063 - val_loss: 0.0067\n",
            "Epoch 24/300\n",
            "\u001b[1m71/71\u001b[0m \u001b[32m━━━━━━━━━━━━━━━━━━━━\u001b[0m\u001b[37m\u001b[0m \u001b[1m1s\u001b[0m 14ms/step - loss: 0.0057 - val_loss: 0.0064\n",
            "Epoch 25/300\n",
            "\u001b[1m71/71\u001b[0m \u001b[32m━━━━━━━━━━━━━━━━━━━━\u001b[0m\u001b[37m\u001b[0m \u001b[1m1s\u001b[0m 15ms/step - loss: 0.0055 - val_loss: 0.0067\n",
            "Epoch 26/300\n",
            "\u001b[1m71/71\u001b[0m \u001b[32m━━━━━━━━━━━━━━━━━━━━\u001b[0m\u001b[37m\u001b[0m \u001b[1m1s\u001b[0m 14ms/step - loss: 0.0052 - val_loss: 0.0067\n",
            "Epoch 27/300\n",
            "\u001b[1m71/71\u001b[0m \u001b[32m━━━━━━━━━━━━━━━━━━━━\u001b[0m\u001b[37m\u001b[0m \u001b[1m1s\u001b[0m 14ms/step - loss: 0.0050 - val_loss: 0.0064\n",
            "Epoch 28/300\n",
            "\u001b[1m71/71\u001b[0m \u001b[32m━━━━━━━━━━━━━━━━━━━━\u001b[0m\u001b[37m\u001b[0m \u001b[1m1s\u001b[0m 14ms/step - loss: 0.0048 - val_loss: 0.0082\n",
            "Epoch 29/300\n",
            "\u001b[1m71/71\u001b[0m \u001b[32m━━━━━━━━━━━━━━━━━━━━\u001b[0m\u001b[37m\u001b[0m \u001b[1m1s\u001b[0m 14ms/step - loss: 0.0049 - val_loss: 0.0068\n",
            "Epoch 30/300\n",
            "\u001b[1m71/71\u001b[0m \u001b[32m━━━━━━━━━━━━━━━━━━━━\u001b[0m\u001b[37m\u001b[0m \u001b[1m1s\u001b[0m 14ms/step - loss: 0.0046 - val_loss: 0.0058\n",
            "Epoch 31/300\n",
            "\u001b[1m71/71\u001b[0m \u001b[32m━━━━━━━━━━━━━━━━━━━━\u001b[0m\u001b[37m\u001b[0m \u001b[1m1s\u001b[0m 14ms/step - loss: 0.0043 - val_loss: 0.0083\n",
            "Epoch 32/300\n",
            "\u001b[1m71/71\u001b[0m \u001b[32m━━━━━━━━━━━━━━━━━━━━\u001b[0m\u001b[37m\u001b[0m \u001b[1m1s\u001b[0m 14ms/step - loss: 0.0045 - val_loss: 0.0048\n",
            "Epoch 33/300\n",
            "\u001b[1m71/71\u001b[0m \u001b[32m━━━━━━━━━━━━━━━━━━━━\u001b[0m\u001b[37m\u001b[0m \u001b[1m1s\u001b[0m 14ms/step - loss: 0.0041 - val_loss: 0.0204\n",
            "Epoch 34/300\n",
            "\u001b[1m71/71\u001b[0m \u001b[32m━━━━━━━━━━━━━━━━━━━━\u001b[0m\u001b[37m\u001b[0m \u001b[1m1s\u001b[0m 14ms/step - loss: 0.0068 - val_loss: 0.0047\n",
            "Epoch 35/300\n",
            "\u001b[1m71/71\u001b[0m \u001b[32m━━━━━━━━━━━━━━━━━━━━\u001b[0m\u001b[37m\u001b[0m \u001b[1m1s\u001b[0m 15ms/step - loss: 0.0038 - val_loss: 0.0043\n",
            "Epoch 36/300\n",
            "\u001b[1m71/71\u001b[0m \u001b[32m━━━━━━━━━━━━━━━━━━━━\u001b[0m\u001b[37m\u001b[0m \u001b[1m1s\u001b[0m 16ms/step - loss: 0.0034 - val_loss: 0.0069\n",
            "Epoch 37/300\n",
            "\u001b[1m71/71\u001b[0m \u001b[32m━━━━━━━━━━━━━━━━━━━━\u001b[0m\u001b[37m\u001b[0m \u001b[1m1s\u001b[0m 14ms/step - loss: 0.0035 - val_loss: 0.0039\n",
            "Epoch 38/300\n",
            "\u001b[1m71/71\u001b[0m \u001b[32m━━━━━━━━━━━━━━━━━━━━\u001b[0m\u001b[37m\u001b[0m \u001b[1m1s\u001b[0m 14ms/step - loss: 0.0033 - val_loss: 0.0121\n",
            "Epoch 39/300\n",
            "\u001b[1m71/71\u001b[0m \u001b[32m━━━━━━━━━━━━━━━━━━━━\u001b[0m\u001b[37m\u001b[0m \u001b[1m1s\u001b[0m 15ms/step - loss: 0.0043 - val_loss: 0.0048\n",
            "Epoch 40/300\n",
            "\u001b[1m71/71\u001b[0m \u001b[32m━━━━━━━━━━━━━━━━━━━━\u001b[0m\u001b[37m\u001b[0m \u001b[1m1s\u001b[0m 15ms/step - loss: 0.0036 - val_loss: 0.0146\n",
            "Epoch 41/300\n",
            "\u001b[1m71/71\u001b[0m \u001b[32m━━━━━━━━━━━━━━━━━━━━\u001b[0m\u001b[37m\u001b[0m \u001b[1m1s\u001b[0m 14ms/step - loss: 0.0047 - val_loss: 0.0046\n",
            "Epoch 42/300\n",
            "\u001b[1m71/71\u001b[0m \u001b[32m━━━━━━━━━━━━━━━━━━━━\u001b[0m\u001b[37m\u001b[0m \u001b[1m1s\u001b[0m 14ms/step - loss: 0.0035 - val_loss: 0.0199\n",
            "Epoch 43/300\n",
            "\u001b[1m71/71\u001b[0m \u001b[32m━━━━━━━━━━━━━━━━━━━━\u001b[0m\u001b[37m\u001b[0m \u001b[1m1s\u001b[0m 14ms/step - loss: 0.0056 - val_loss: 0.0042\n",
            "Epoch 44/300\n",
            "\u001b[1m71/71\u001b[0m \u001b[32m━━━━━━━━━━━━━━━━━━━━\u001b[0m\u001b[37m\u001b[0m \u001b[1m1s\u001b[0m 14ms/step - loss: 0.0032 - val_loss: 0.0376\n",
            "Epoch 45/300\n",
            "\u001b[1m71/71\u001b[0m \u001b[32m━━━━━━━━━━━━━━━━━━━━\u001b[0m\u001b[37m\u001b[0m \u001b[1m1s\u001b[0m 14ms/step - loss: 0.0094 - val_loss: 0.0045\n",
            "Epoch 46/300\n",
            "\u001b[1m71/71\u001b[0m \u001b[32m━━━━━━━━━━━━━━━━━━━━\u001b[0m\u001b[37m\u001b[0m \u001b[1m1s\u001b[0m 14ms/step - loss: 0.0026 - val_loss: 0.0179\n",
            "Epoch 47/300\n",
            "\u001b[1m71/71\u001b[0m \u001b[32m━━━━━━━━━━━━━━━━━━━━\u001b[0m\u001b[37m\u001b[0m \u001b[1m1s\u001b[0m 14ms/step - loss: 0.0054 - val_loss: 0.0097\n",
            "Epoch 48/300\n",
            "\u001b[1m71/71\u001b[0m \u001b[32m━━━━━━━━━━━━━━━━━━━━\u001b[0m\u001b[37m\u001b[0m \u001b[1m1s\u001b[0m 15ms/step - loss: 0.0037 - val_loss: 0.0107\n",
            "Epoch 49/300\n",
            "\u001b[1m71/71\u001b[0m \u001b[32m━━━━━━━━━━━━━━━━━━━━\u001b[0m\u001b[37m\u001b[0m \u001b[1m1s\u001b[0m 15ms/step - loss: 0.0039 - val_loss: 0.0064\n",
            "Epoch 50/300\n",
            "\u001b[1m71/71\u001b[0m \u001b[32m━━━━━━━━━━━━━━━━━━━━\u001b[0m\u001b[37m\u001b[0m \u001b[1m1s\u001b[0m 14ms/step - loss: 0.0032 - val_loss: 0.0039\n",
            "Epoch 51/300\n",
            "\u001b[1m71/71\u001b[0m \u001b[32m━━━━━━━━━━━━━━━━━━━━\u001b[0m\u001b[37m\u001b[0m \u001b[1m1s\u001b[0m 14ms/step - loss: 0.0029 - val_loss: 0.0113\n",
            "Epoch 52/300\n",
            "\u001b[1m71/71\u001b[0m \u001b[32m━━━━━━━━━━━━━━━━━━━━\u001b[0m\u001b[37m\u001b[0m \u001b[1m1s\u001b[0m 14ms/step - loss: 0.0039 - val_loss: 0.0043\n",
            "Minimum validation loss: 0.0039029086474329233\n"
          ]
        },
        {
          "output_type": "display_data",
          "data": {
            "text/plain": [
              "<Figure size 432x288 with 1 Axes>"
            ],
            "image/png": "[encoded data removed]"
          },
          "metadata": {
            "needs_background": "light"
          }
        }
      ]
    },
    {
      "cell_type": "code",
      "source": [
        "#Complete region\n",
        "history = model.fit(\n",
        "    X_train, y_train,\n",
        "    validation_data=(X_test, y_test),\n",
        "    batch_size=100,\n",
        "    epochs=300,\n",
        "    callbacks=[early_stopping], # put your callbacks in a list\n",
        "    verbose=1,  # turn off training log\n",
        "    shuffle=False\n",
        ")\n",
        "\n",
        "history_df = pd.DataFrame(history.history)\n",
        "history_df.loc[:, ['loss', 'val_loss']].plot();\n",
        "print(\"Minimum validation loss: {}\".format(history_df['val_loss'].min()))"
      ],
      "metadata": {
        "colab": {
          "base_uri": "https://localhost:8080/",
          "height": 1000
        },
        "outputId": "c80620b4-acec-4fe7-df05-d4d8acaa1153",
        "id": "C949V1mXSoHs"
      },
      "execution_count": null,
      "outputs": [
        {
          "output_type": "stream",
          "name": "stderr",
          "text": [
            "2025-02-19 19:39:35.779666: W external/local_tsl/tsl/framework/cpu_allocator_impl.cc:83] Allocation of 1148000000 exceeds 10% of free system memory.\n",
            "2025-02-19 19:39:36.498306: W external/local_tsl/tsl/framework/cpu_allocator_impl.cc:83] Allocation of 1148000000 exceeds 10% of free system memory.\n"
          ]
        },
        {
          "output_type": "stream",
          "name": "stdout",
          "text": [
            "Epoch 1/300\n"
          ]
        },
        {
          "output_type": "stream",
          "name": "stderr",
          "text": [
            "2025-02-19 19:39:37.025548: W external/local_tsl/tsl/framework/cpu_allocator_impl.cc:83] Allocation of 1148000000 exceeds 10% of free system memory.\n",
            "WARNING: All log messages before absl::InitializeLog() is called are written to STDERR\n",
            "I0000 00:00:1740004779.288921   83563 service.cc:145] XLA service 0x56414a78bb80 initialized for platform CUDA (this does not guarantee that XLA will be used). Devices:\n",
            "I0000 00:00:1740004779.288969   83563 service.cc:153]   StreamExecutor device (0): NVIDIA GeForce RTX 2060 SUPER, Compute Capability 7.5\n",
            "2025-02-19 19:39:39.361714: I tensorflow/compiler/mlir/tensorflow/utils/dump_mlir_util.cc:268] disabling MLIR crash reproducer, set env var `MLIR_CRASH_REPRODUCER_DIRECTORY` to enable.\n",
            "2025-02-19 19:39:39.583966: I external/local_xla/xla/stream_executor/cuda/cuda_dnn.cc:465] Loaded cuDNN version 8907\n"
          ]
        },
        {
          "output_type": "stream",
          "name": "stdout",
          "text": [
            "\u001b[1m  8/287\u001b[0m \u001b[37m━━━━━━━━━━━━━━━━━━━━\u001b[0m \u001b[1m4s\u001b[0m 16ms/step - loss: 10.3488"
          ]
        },
        {
          "output_type": "stream",
          "name": "stderr",
          "text": [
            "WARNING: All log messages before absl::InitializeLog() is called are written to STDERR\n",
            "I0000 00:00:1740004783.182177   83563 asm_compiler.cc:369] ptxas warning : Registers are spilled to local memory in function 'input_reduce_select_fusion_4', 8 bytes spill stores, 8 bytes spill loads\n",
            "\n",
            "I0000 00:00:1740004783.187032   83563 device_compiler.h:188] Compiled cluster using XLA!  This line is logged at most once for the lifetime of the process.\n"
          ]
        },
        {
          "output_type": "stream",
          "name": "stdout",
          "text": [
            "\u001b[1m287/287\u001b[0m \u001b[32m━━━━━━━━━━━━━━━━━━━━\u001b[0m\u001b[37m\u001b[0m \u001b[1m11s\u001b[0m 18ms/step - loss: 1.8812 - val_loss: 1.6288\n",
            "Epoch 2/300\n",
            "\u001b[1m287/287\u001b[0m \u001b[32m━━━━━━━━━━━━━━━━━━━━\u001b[0m\u001b[37m\u001b[0m \u001b[1m4s\u001b[0m 14ms/step - loss: 0.0811 - val_loss: 0.9504\n",
            "Epoch 3/300\n",
            "\u001b[1m287/287\u001b[0m \u001b[32m━━━━━━━━━━━━━━━━━━━━\u001b[0m\u001b[37m\u001b[0m \u001b[1m4s\u001b[0m 14ms/step - loss: 0.0449 - val_loss: 0.5576\n",
            "Epoch 4/300\n",
            "\u001b[1m287/287\u001b[0m \u001b[32m━━━━━━━━━━━━━━━━━━━━\u001b[0m\u001b[37m\u001b[0m \u001b[1m4s\u001b[0m 14ms/step - loss: 0.0242 - val_loss: 0.2983\n",
            "Epoch 5/300\n",
            "\u001b[1m287/287\u001b[0m \u001b[32m━━━━━━━━━━━━━━━━━━━━\u001b[0m\u001b[37m\u001b[0m \u001b[1m4s\u001b[0m 14ms/step - loss: 0.0154 - val_loss: 0.0645\n",
            "Epoch 6/300\n",
            "\u001b[1m287/287\u001b[0m \u001b[32m━━━━━━━━━━━━━━━━━━━━\u001b[0m\u001b[37m\u001b[0m \u001b[1m4s\u001b[0m 14ms/step - loss: 0.0085 - val_loss: 0.0317\n",
            "Epoch 7/300\n",
            "\u001b[1m287/287\u001b[0m \u001b[32m━━━━━━━━━━━━━━━━━━━━\u001b[0m\u001b[37m\u001b[0m \u001b[1m4s\u001b[0m 14ms/step - loss: 0.0063 - val_loss: 0.0153\n",
            "Epoch 8/300\n",
            "\u001b[1m287/287\u001b[0m \u001b[32m━━━━━━━━━━━━━━━━━━━━\u001b[0m\u001b[37m\u001b[0m \u001b[1m4s\u001b[0m 14ms/step - loss: 0.0058 - val_loss: 0.0156\n",
            "Epoch 9/300\n",
            "\u001b[1m287/287\u001b[0m \u001b[32m━━━━━━━━━━━━━━━━━━━━\u001b[0m\u001b[37m\u001b[0m \u001b[1m4s\u001b[0m 14ms/step - loss: 0.0043 - val_loss: 0.0111\n",
            "Epoch 10/300\n",
            "\u001b[1m287/287\u001b[0m \u001b[32m━━━━━━━━━━━━━━━━━━━━\u001b[0m\u001b[37m\u001b[0m \u001b[1m4s\u001b[0m 14ms/step - loss: 0.0041 - val_loss: 0.0110\n",
            "Epoch 11/300\n",
            "\u001b[1m287/287\u001b[0m \u001b[32m━━━━━━━━━━━━━━━━━━━━\u001b[0m\u001b[37m\u001b[0m \u001b[1m4s\u001b[0m 14ms/step - loss: 0.0031 - val_loss: 0.0093\n",
            "Epoch 12/300\n",
            "\u001b[1m287/287\u001b[0m \u001b[32m━━━━━━━━━━━━━━━━━━━━\u001b[0m\u001b[37m\u001b[0m \u001b[1m4s\u001b[0m 14ms/step - loss: 0.0026 - val_loss: 0.0085\n",
            "Epoch 13/300\n",
            "\u001b[1m287/287\u001b[0m \u001b[32m━━━━━━━━━━━━━━━━━━━━\u001b[0m\u001b[37m\u001b[0m \u001b[1m4s\u001b[0m 14ms/step - loss: 0.0023 - val_loss: 0.0075\n",
            "Epoch 14/300\n",
            "\u001b[1m287/287\u001b[0m \u001b[32m━━━━━━━━━━━━━━━━━━━━\u001b[0m\u001b[37m\u001b[0m \u001b[1m4s\u001b[0m 14ms/step - loss: 0.0020 - val_loss: 0.0058\n",
            "Epoch 15/300\n",
            "\u001b[1m287/287\u001b[0m \u001b[32m━━━━━━━━━━━━━━━━━━━━\u001b[0m\u001b[37m\u001b[0m \u001b[1m4s\u001b[0m 14ms/step - loss: 0.0019 - val_loss: 0.0056\n",
            "Epoch 16/300\n",
            "\u001b[1m287/287\u001b[0m \u001b[32m━━━━━━━━━━━━━━━━━━━━\u001b[0m\u001b[37m\u001b[0m \u001b[1m4s\u001b[0m 14ms/step - loss: 0.0020 - val_loss: 0.0048\n",
            "Epoch 17/300\n",
            "\u001b[1m287/287\u001b[0m \u001b[32m━━━━━━━━━━━━━━━━━━━━\u001b[0m\u001b[37m\u001b[0m \u001b[1m4s\u001b[0m 14ms/step - loss: 0.0019 - val_loss: 0.0063\n",
            "Epoch 18/300\n",
            "\u001b[1m287/287\u001b[0m \u001b[32m━━━━━━━━━━━━━━━━━━━━\u001b[0m\u001b[37m\u001b[0m \u001b[1m4s\u001b[0m 14ms/step - loss: 0.0016 - val_loss: 0.0057\n",
            "Epoch 19/300\n",
            "\u001b[1m287/287\u001b[0m \u001b[32m━━━━━━━━━━━━━━━━━━━━\u001b[0m\u001b[37m\u001b[0m \u001b[1m4s\u001b[0m 14ms/step - loss: 0.0017 - val_loss: 0.0024\n",
            "Epoch 20/300\n",
            "\u001b[1m287/287\u001b[0m \u001b[32m━━━━━━━━━━━━━━━━━━━━\u001b[0m\u001b[37m\u001b[0m \u001b[1m4s\u001b[0m 14ms/step - loss: 0.0016 - val_loss: 0.0048\n",
            "Epoch 21/300\n",
            "\u001b[1m287/287\u001b[0m \u001b[32m━━━━━━━━━━━━━━━━━━━━\u001b[0m\u001b[37m\u001b[0m \u001b[1m4s\u001b[0m 14ms/step - loss: 0.0013 - val_loss: 0.0037\n",
            "Epoch 22/300\n",
            "\u001b[1m287/287\u001b[0m \u001b[32m━━━━━━━━━━━━━━━━━━━━\u001b[0m\u001b[37m\u001b[0m \u001b[1m4s\u001b[0m 14ms/step - loss: 0.0013 - val_loss: 0.0025\n",
            "Epoch 23/300\n",
            "\u001b[1m287/287\u001b[0m \u001b[32m━━━━━━━━━━━━━━━━━━━━\u001b[0m\u001b[37m\u001b[0m \u001b[1m4s\u001b[0m 14ms/step - loss: 0.0014 - val_loss: 0.0028\n",
            "Epoch 24/300\n",
            "\u001b[1m287/287\u001b[0m \u001b[32m━━━━━━━━━━━━━━━━━━━━\u001b[0m\u001b[37m\u001b[0m \u001b[1m4s\u001b[0m 14ms/step - loss: 0.0013 - val_loss: 0.0031\n",
            "Epoch 25/300\n",
            "\u001b[1m287/287\u001b[0m \u001b[32m━━━━━━━━━━━━━━━━━━━━\u001b[0m\u001b[37m\u001b[0m \u001b[1m4s\u001b[0m 14ms/step - loss: 0.0011 - val_loss: 0.0014\n",
            "Epoch 26/300\n",
            "\u001b[1m287/287\u001b[0m \u001b[32m━━━━━━━━━━━━━━━━━━━━\u001b[0m\u001b[37m\u001b[0m \u001b[1m4s\u001b[0m 14ms/step - loss: 0.0011 - val_loss: 9.5532e-04\n",
            "Epoch 27/300\n",
            "\u001b[1m287/287\u001b[0m \u001b[32m━━━━━━━━━━━━━━━━━━━━\u001b[0m\u001b[37m\u001b[0m \u001b[1m4s\u001b[0m 14ms/step - loss: 0.0011 - val_loss: 0.0032\n",
            "Epoch 28/300\n",
            "\u001b[1m287/287\u001b[0m \u001b[32m━━━━━━━━━━━━━━━━━━━━\u001b[0m\u001b[37m\u001b[0m \u001b[1m4s\u001b[0m 14ms/step - loss: 0.0010 - val_loss: 0.0014\n",
            "Epoch 29/300\n",
            "\u001b[1m287/287\u001b[0m \u001b[32m━━━━━━━━━━━━━━━━━━━━\u001b[0m\u001b[37m\u001b[0m \u001b[1m4s\u001b[0m 14ms/step - loss: 9.9420e-04 - val_loss: 0.0011\n",
            "Epoch 30/300\n",
            "\u001b[1m287/287\u001b[0m \u001b[32m━━━━━━━━━━━━━━━━━━━━\u001b[0m\u001b[37m\u001b[0m \u001b[1m4s\u001b[0m 14ms/step - loss: 0.0010 - val_loss: 0.0011\n",
            "Epoch 31/300\n",
            "\u001b[1m287/287\u001b[0m \u001b[32m━━━━━━━━━━━━━━━━━━━━\u001b[0m\u001b[37m\u001b[0m \u001b[1m4s\u001b[0m 14ms/step - loss: 9.4806e-04 - val_loss: 9.6059e-04\n",
            "Epoch 32/300\n",
            "\u001b[1m287/287\u001b[0m \u001b[32m━━━━━━━━━━━━━━━━━━━━\u001b[0m\u001b[37m\u001b[0m \u001b[1m4s\u001b[0m 14ms/step - loss: 9.0183e-04 - val_loss: 7.1288e-04\n",
            "Epoch 33/300\n",
            "\u001b[1m287/287\u001b[0m \u001b[32m━━━━━━━━━━━━━━━━━━━━\u001b[0m\u001b[37m\u001b[0m \u001b[1m4s\u001b[0m 14ms/step - loss: 9.5578e-04 - val_loss: 0.0012\n",
            "Epoch 34/300\n",
            "\u001b[1m287/287\u001b[0m \u001b[32m━━━━━━━━━━━━━━━━━━━━\u001b[0m\u001b[37m\u001b[0m \u001b[1m4s\u001b[0m 14ms/step - loss: 7.9825e-04 - val_loss: 6.2760e-04\n",
            "Epoch 35/300\n",
            "\u001b[1m287/287\u001b[0m \u001b[32m━━━━━━━━━━━━━━━━━━━━\u001b[0m\u001b[37m\u001b[0m \u001b[1m4s\u001b[0m 14ms/step - loss: 8.4564e-04 - val_loss: 0.0012\n",
            "Epoch 36/300\n",
            "\u001b[1m287/287\u001b[0m \u001b[32m━━━━━━━━━━━━━━━━━━━━\u001b[0m\u001b[37m\u001b[0m \u001b[1m4s\u001b[0m 14ms/step - loss: 8.9777e-04 - val_loss: 8.4673e-04\n",
            "Epoch 37/300\n",
            "\u001b[1m287/287\u001b[0m \u001b[32m━━━━━━━━━━━━━━━━━━━━\u001b[0m\u001b[37m\u001b[0m \u001b[1m4s\u001b[0m 14ms/step - loss: 7.8733e-04 - val_loss: 8.1133e-04\n",
            "Epoch 38/300\n",
            "\u001b[1m287/287\u001b[0m \u001b[32m━━━━━━━━━━━━━━━━━━━━\u001b[0m\u001b[37m\u001b[0m \u001b[1m4s\u001b[0m 14ms/step - loss: 7.9008e-04 - val_loss: 0.0011\n",
            "Epoch 39/300\n",
            "\u001b[1m287/287\u001b[0m \u001b[32m━━━━━━━━━━━━━━━━━━━━\u001b[0m\u001b[37m\u001b[0m \u001b[1m4s\u001b[0m 14ms/step - loss: 7.8205e-04 - val_loss: 5.6557e-04\n",
            "Epoch 40/300\n",
            "\u001b[1m287/287\u001b[0m \u001b[32m━━━━━━━━━━━━━━━━━━━━\u001b[0m\u001b[37m\u001b[0m \u001b[1m4s\u001b[0m 14ms/step - loss: 7.7407e-04 - val_loss: 8.6412e-04\n",
            "Epoch 41/300\n",
            "\u001b[1m287/287\u001b[0m \u001b[32m━━━━━━━━━━━━━━━━━━━━\u001b[0m\u001b[37m\u001b[0m \u001b[1m4s\u001b[0m 14ms/step - loss: 7.4978e-04 - val_loss: 7.7903e-04\n",
            "Epoch 42/300\n",
            "\u001b[1m287/287\u001b[0m \u001b[32m━━━━━━━━━━━━━━━━━━━━\u001b[0m\u001b[37m\u001b[0m \u001b[1m4s\u001b[0m 14ms/step - loss: 6.4964e-04 - val_loss: 5.7235e-04\n",
            "Epoch 43/300\n",
            "\u001b[1m287/287\u001b[0m \u001b[32m━━━━━━━━━━━━━━━━━━━━\u001b[0m\u001b[37m\u001b[0m \u001b[1m4s\u001b[0m 14ms/step - loss: 6.5696e-04 - val_loss: 8.7815e-04\n",
            "Epoch 44/300\n",
            "\u001b[1m287/287\u001b[0m \u001b[32m━━━━━━━━━━━━━━━━━━━━\u001b[0m\u001b[37m\u001b[0m \u001b[1m4s\u001b[0m 14ms/step - loss: 7.6375e-04 - val_loss: 5.7520e-04\n",
            "Epoch 45/300\n",
            "\u001b[1m287/287\u001b[0m \u001b[32m━━━━━━━━━━━━━━━━━━━━\u001b[0m\u001b[37m\u001b[0m \u001b[1m4s\u001b[0m 14ms/step - loss: 7.2999e-04 - val_loss: 0.0011\n",
            "Minimum validation loss: 0.0005655689747072756\n"
          ]
        },
        {
          "output_type": "display_data",
          "data": {
            "text/plain": [
              "<Figure size 432x288 with 1 Axes>"
            ],
            "image/png": "[encoded data removed]"
          },
          "metadata": {
            "needs_background": "light"
          }
        }
      ]
    },
    {
      "cell_type": "code",
      "source": [
        "#Chaotic region\n",
        "history = model.fit(\n",
        "    X_train, y_train,\n",
        "    validation_data=(X_test, y_test),\n",
        "    batch_size=100,\n",
        "    epochs=300,\n",
        "    callbacks=[early_stopping], # put your callbacks in a list\n",
        "    verbose=1,  # turn off training log\n",
        "    shuffle=False\n",
        ")\n",
        "\n",
        "history_df = pd.DataFrame(history.history)\n",
        "history_df.loc[:, ['loss', 'val_loss']].plot();\n",
        "print(\"Minimum validation loss: {}\".format(history_df['val_loss'].min()))"
      ],
      "metadata": {
        "colab": {
          "base_uri": "https://localhost:8080/",
          "height": 1000
        },
        "outputId": "7c7e5c36-bbf2-4a47-df9a-8c0f45515e04",
        "id": "ERI8tLY55A5Q"
      },
      "execution_count": null,
      "outputs": [
        {
          "output_type": "stream",
          "name": "stderr",
          "text": [
            "2025-02-20 12:21:24.889057: W external/local_tsl/tsl/framework/cpu_allocator_impl.cc:83] Allocation of 1120080000 exceeds 10% of free system memory.\n",
            "2025-02-20 12:21:25.573387: W external/local_tsl/tsl/framework/cpu_allocator_impl.cc:83] Allocation of 1120080000 exceeds 10% of free system memory.\n"
          ]
        },
        {
          "output_type": "stream",
          "name": "stdout",
          "text": [
            "Epoch 1/300\n"
          ]
        },
        {
          "output_type": "stream",
          "name": "stderr",
          "text": [
            "2025-02-20 12:21:26.086694: W external/local_tsl/tsl/framework/cpu_allocator_impl.cc:83] Allocation of 1120080000 exceeds 10% of free system memory.\n",
            "WARNING: All log messages before absl::InitializeLog() is called are written to STDERR\n",
            "I0000 00:00:1740064888.425626   78296 service.cc:145] XLA service 0x5606aa97bbd0 initialized for platform CUDA (this does not guarantee that XLA will be used). Devices:\n",
            "I0000 00:00:1740064888.425671   78296 service.cc:153]   StreamExecutor device (0): NVIDIA GeForce RTX 2060 SUPER, Compute Capability 7.5\n",
            "2025-02-20 12:21:28.473651: I tensorflow/compiler/mlir/tensorflow/utils/dump_mlir_util.cc:268] disabling MLIR crash reproducer, set env var `MLIR_CRASH_REPRODUCER_DIRECTORY` to enable.\n",
            "2025-02-20 12:21:28.713847: I external/local_xla/xla/stream_executor/cuda/cuda_dnn.cc:465] Loaded cuDNN version 8907\n"
          ]
        },
        {
          "output_type": "stream",
          "name": "stdout",
          "text": [
            "\u001b[1m 12/281\u001b[0m \u001b[37m━━━━━━━━━━━━━━━━━━━━\u001b[0m \u001b[1m4s\u001b[0m 16ms/step - loss: 9.4267 "
          ]
        },
        {
          "output_type": "stream",
          "name": "stderr",
          "text": [
            "WARNING: All log messages before absl::InitializeLog() is called are written to STDERR\n",
            "I0000 00:00:1740064892.331654   78296 asm_compiler.cc:369] ptxas warning : Registers are spilled to local memory in function 'input_reduce_select_fusion_4', 8 bytes spill stores, 8 bytes spill loads\n",
            "\n",
            "I0000 00:00:1740064892.336586   78296 device_compiler.h:188] Compiled cluster using XLA!  This line is logged at most once for the lifetime of the process.\n"
          ]
        },
        {
          "output_type": "stream",
          "name": "stdout",
          "text": [
            "\u001b[1m281/281\u001b[0m \u001b[32m━━━━━━━━━━━━━━━━━━━━\u001b[0m\u001b[37m\u001b[0m \u001b[1m0s\u001b[0m 24ms/step - loss: 1.5118"
          ]
        },
        {
          "output_type": "stream",
          "name": "stderr",
          "text": [
            "I0000 00:00:1740064899.011312   78295 asm_compiler.cc:369] ptxas warning : Registers are spilled to local memory in function 'input_reduce_select_fusion_2', 4 bytes spill stores, 4 bytes spill loads\n",
            "ptxas warning : Registers are spilled to local memory in function 'input_reduce_select_fusion_1', 8 bytes spill stores, 8 bytes spill loads\n",
            "\n"
          ]
        },
        {
          "output_type": "stream",
          "name": "stdout",
          "text": [
            "\b\b\b\b\b\b\b\b\b\b\b\b\b\b\b\b\b\b\b\b\b\b\b\b\b\b\b\b\b\b\b\b\b\b\b\b\b\b\b\b\b\b\b\b\b\b\b\b\b\b\b\b\b\b\b\b\r\u001b[1m281/281\u001b[0m \u001b[32m━━━━━━━━━━━━━━━━━━━━\u001b[0m\u001b[37m\u001b[0m \u001b[1m15s\u001b[0m 30ms/step - loss: 1.5081 - val_loss: 5.2015\n",
            "Epoch 2/300\n",
            "\u001b[1m281/281\u001b[0m \u001b[32m━━━━━━━━━━━━━━━━━━━━\u001b[0m\u001b[37m\u001b[0m \u001b[1m4s\u001b[0m 13ms/step - loss: 0.0780 - val_loss: 3.7720\n",
            "Epoch 3/300\n",
            "\u001b[1m281/281\u001b[0m \u001b[32m━━━━━━━━━━━━━━━━━━━━\u001b[0m\u001b[37m\u001b[0m \u001b[1m4s\u001b[0m 13ms/step - loss: 0.0521 - val_loss: 2.0283\n",
            "Epoch 4/300\n",
            "\u001b[1m281/281\u001b[0m \u001b[32m━━━━━━━━━━━━━━━━━━━━\u001b[0m\u001b[37m\u001b[0m \u001b[1m4s\u001b[0m 14ms/step - loss: 0.0283 - val_loss: 1.1149\n",
            "Epoch 5/300\n",
            "\u001b[1m281/281\u001b[0m \u001b[32m━━━━━━━━━━━━━━━━━━━━\u001b[0m\u001b[37m\u001b[0m \u001b[1m4s\u001b[0m 14ms/step - loss: 0.0205 - val_loss: 0.6869\n",
            "Epoch 6/300\n",
            "\u001b[1m281/281\u001b[0m \u001b[32m━━━━━━━━━━━━━━━━━━━━\u001b[0m\u001b[37m\u001b[0m \u001b[1m4s\u001b[0m 14ms/step - loss: 0.0205 - val_loss: 0.4921\n",
            "Epoch 7/300\n",
            "\u001b[1m281/281\u001b[0m \u001b[32m━━━━━━━━━━━━━━━━━━━━\u001b[0m\u001b[37m\u001b[0m \u001b[1m4s\u001b[0m 14ms/step - loss: 0.0170 - val_loss: 0.6312\n",
            "Epoch 8/300\n",
            "\u001b[1m281/281\u001b[0m \u001b[32m━━━━━━━━━━━━━━━━━━━━\u001b[0m\u001b[37m\u001b[0m \u001b[1m4s\u001b[0m 14ms/step - loss: 0.0115 - val_loss: 0.5153\n",
            "Epoch 9/300\n",
            "\u001b[1m281/281\u001b[0m \u001b[32m━━━━━━━━━━━━━━━━━━━━\u001b[0m\u001b[37m\u001b[0m \u001b[1m4s\u001b[0m 14ms/step - loss: 0.0116 - val_loss: 0.5745\n",
            "Epoch 10/300\n",
            "\u001b[1m281/281\u001b[0m \u001b[32m━━━━━━━━━━━━━━━━━━━━\u001b[0m\u001b[37m\u001b[0m \u001b[1m4s\u001b[0m 14ms/step - loss: 0.0125 - val_loss: 0.4675\n",
            "Epoch 11/300\n",
            "\u001b[1m281/281\u001b[0m \u001b[32m━━━━━━━━━━━━━━━━━━━━\u001b[0m\u001b[37m\u001b[0m \u001b[1m4s\u001b[0m 14ms/step - loss: 0.0102 - val_loss: 0.1837\n",
            "Epoch 12/300\n",
            "\u001b[1m281/281\u001b[0m \u001b[32m━━━━━━━━━━━━━━━━━━━━\u001b[0m\u001b[37m\u001b[0m \u001b[1m4s\u001b[0m 14ms/step - loss: 0.0189 - val_loss: 0.2092\n",
            "Epoch 13/300\n",
            "\u001b[1m281/281\u001b[0m \u001b[32m━━━━━━━━━━━━━━━━━━━━\u001b[0m\u001b[37m\u001b[0m \u001b[1m4s\u001b[0m 14ms/step - loss: 0.0126 - val_loss: 0.5049\n",
            "Epoch 14/300\n",
            "\u001b[1m281/281\u001b[0m \u001b[32m━━━━━━━━━━━━━━━━━━━━\u001b[0m\u001b[37m\u001b[0m \u001b[1m4s\u001b[0m 14ms/step - loss: 0.0075 - val_loss: 0.2313\n",
            "Epoch 15/300\n",
            "\u001b[1m281/281\u001b[0m \u001b[32m━━━━━━━━━━━━━━━━━━━━\u001b[0m\u001b[37m\u001b[0m \u001b[1m4s\u001b[0m 14ms/step - loss: 0.0099 - val_loss: 0.1671\n",
            "Epoch 16/300\n",
            "\u001b[1m281/281\u001b[0m \u001b[32m━━━━━━━━━━━━━━━━━━━━\u001b[0m\u001b[37m\u001b[0m \u001b[1m4s\u001b[0m 13ms/step - loss: 0.0104 - val_loss: 0.2244\n",
            "Epoch 17/300\n",
            "\u001b[1m281/281\u001b[0m \u001b[32m━━━━━━━━━━━━━━━━━━━━\u001b[0m\u001b[37m\u001b[0m \u001b[1m4s\u001b[0m 13ms/step - loss: 0.0066 - val_loss: 0.2523\n",
            "Epoch 18/300\n",
            "\u001b[1m281/281\u001b[0m \u001b[32m━━━━━━━━━━━━━━━━━━━━\u001b[0m\u001b[37m\u001b[0m \u001b[1m4s\u001b[0m 13ms/step - loss: 0.0057 - val_loss: 0.1805\n",
            "Epoch 19/300\n",
            "\u001b[1m281/281\u001b[0m \u001b[32m━━━━━━━━━━━━━━━━━━━━\u001b[0m\u001b[37m\u001b[0m \u001b[1m4s\u001b[0m 13ms/step - loss: 0.0052 - val_loss: 0.1434\n",
            "Epoch 20/300\n",
            "\u001b[1m281/281\u001b[0m \u001b[32m━━━━━━━━━━━━━━━━━━━━\u001b[0m\u001b[37m\u001b[0m \u001b[1m4s\u001b[0m 13ms/step - loss: 0.0051 - val_loss: 0.1855\n",
            "Epoch 21/300\n",
            "\u001b[1m281/281\u001b[0m \u001b[32m━━━━━━━━━━━━━━━━━━━━\u001b[0m\u001b[37m\u001b[0m \u001b[1m4s\u001b[0m 13ms/step - loss: 0.0042 - val_loss: 0.1460\n",
            "Epoch 22/300\n",
            "\u001b[1m281/281\u001b[0m \u001b[32m━━━━━━━━━━━━━━━━━━━━\u001b[0m\u001b[37m\u001b[0m \u001b[1m4s\u001b[0m 13ms/step - loss: 0.0032 - val_loss: 0.1530\n",
            "Epoch 23/300\n",
            "\u001b[1m281/281\u001b[0m \u001b[32m━━━━━━━━━━━━━━━━━━━━\u001b[0m\u001b[37m\u001b[0m \u001b[1m4s\u001b[0m 14ms/step - loss: 0.0036 - val_loss: 0.0785\n",
            "Epoch 24/300\n",
            "\u001b[1m281/281\u001b[0m \u001b[32m━━━━━━━━━━━━━━━━━━━━\u001b[0m\u001b[37m\u001b[0m \u001b[1m4s\u001b[0m 14ms/step - loss: 0.0029 - val_loss: 0.0945\n",
            "Epoch 25/300\n",
            "\u001b[1m281/281\u001b[0m \u001b[32m━━━━━━━━━━━━━━━━━━━━\u001b[0m\u001b[37m\u001b[0m \u001b[1m4s\u001b[0m 13ms/step - loss: 0.0026 - val_loss: 0.0900\n",
            "Epoch 26/300\n",
            "\u001b[1m281/281\u001b[0m \u001b[32m━━━━━━━━━━━━━━━━━━━━\u001b[0m\u001b[37m\u001b[0m \u001b[1m4s\u001b[0m 13ms/step - loss: 0.0024 - val_loss: 0.0835\n",
            "Epoch 27/300\n",
            "\u001b[1m281/281\u001b[0m \u001b[32m━━━━━━━━━━━━━━━━━━━━\u001b[0m\u001b[37m\u001b[0m \u001b[1m4s\u001b[0m 13ms/step - loss: 0.0023 - val_loss: 0.0662\n",
            "Epoch 28/300\n",
            "\u001b[1m281/281\u001b[0m \u001b[32m━━━━━━━━━━━━━━━━━━━━\u001b[0m\u001b[37m\u001b[0m \u001b[1m4s\u001b[0m 13ms/step - loss: 0.0023 - val_loss: 0.0673\n",
            "Epoch 29/300\n",
            "\u001b[1m281/281\u001b[0m \u001b[32m━━━━━━━━━━━━━━━━━━━━\u001b[0m\u001b[37m\u001b[0m \u001b[1m4s\u001b[0m 14ms/step - loss: 0.0025 - val_loss: 0.0564\n",
            "Epoch 30/300\n",
            "\u001b[1m281/281\u001b[0m \u001b[32m━━━━━━━━━━━━━━━━━━━━\u001b[0m\u001b[37m\u001b[0m \u001b[1m4s\u001b[0m 14ms/step - loss: 0.0022 - val_loss: 0.0470\n",
            "Epoch 31/300\n",
            "\u001b[1m281/281\u001b[0m \u001b[32m━━━━━━━━━━━━━━━━━━━━\u001b[0m\u001b[37m\u001b[0m \u001b[1m4s\u001b[0m 13ms/step - loss: 0.0019 - val_loss: 0.0574\n",
            "Epoch 32/300\n",
            "\u001b[1m281/281\u001b[0m \u001b[32m━━━━━━━━━━━━━━━━━━━━\u001b[0m\u001b[37m\u001b[0m \u001b[1m4s\u001b[0m 14ms/step - loss: 0.0022 - val_loss: 0.0238\n",
            "Epoch 33/300\n",
            "\u001b[1m281/281\u001b[0m \u001b[32m━━━━━━━━━━━━━━━━━━━━\u001b[0m\u001b[37m\u001b[0m \u001b[1m4s\u001b[0m 13ms/step - loss: 0.0014 - val_loss: 0.0306\n",
            "Epoch 34/300\n",
            "\u001b[1m281/281\u001b[0m \u001b[32m━━━━━━━━━━━━━━━━━━━━\u001b[0m\u001b[37m\u001b[0m \u001b[1m4s\u001b[0m 13ms/step - loss: 0.0016 - val_loss: 0.0192\n",
            "Epoch 35/300\n",
            "\u001b[1m281/281\u001b[0m \u001b[32m━━━━━━━━━━━━━━━━━━━━\u001b[0m\u001b[37m\u001b[0m \u001b[1m4s\u001b[0m 13ms/step - loss: 0.0013 - val_loss: 0.0264\n",
            "Epoch 36/300\n",
            "\u001b[1m281/281\u001b[0m \u001b[32m━━━━━━━━━━━━━━━━━━━━\u001b[0m\u001b[37m\u001b[0m \u001b[1m4s\u001b[0m 13ms/step - loss: 0.0015 - val_loss: 0.0164\n",
            "Epoch 37/300\n",
            "\u001b[1m281/281\u001b[0m \u001b[32m━━━━━━━━━━━━━━━━━━━━\u001b[0m\u001b[37m\u001b[0m \u001b[1m4s\u001b[0m 13ms/step - loss: 0.0013 - val_loss: 0.0219\n",
            "Epoch 38/300\n",
            "\u001b[1m281/281\u001b[0m \u001b[32m━━━━━━━━━━━━━━━━━━━━\u001b[0m\u001b[37m\u001b[0m \u001b[1m4s\u001b[0m 13ms/step - loss: 0.0014 - val_loss: 0.0180\n",
            "Epoch 39/300\n",
            "\u001b[1m281/281\u001b[0m \u001b[32m━━━━━━━━━━━━━━━━━━━━\u001b[0m\u001b[37m\u001b[0m \u001b[1m4s\u001b[0m 13ms/step - loss: 0.0013 - val_loss: 0.0022\n",
            "Epoch 40/300\n",
            "\u001b[1m281/281\u001b[0m \u001b[32m━━━━━━━━━━━━━━━━━━━━\u001b[0m\u001b[37m\u001b[0m \u001b[1m4s\u001b[0m 13ms/step - loss: 0.0012 - val_loss: 0.0121\n",
            "Epoch 41/300\n",
            "\u001b[1m281/281\u001b[0m \u001b[32m━━━━━━━━━━━━━━━━━━━━\u001b[0m\u001b[37m\u001b[0m \u001b[1m4s\u001b[0m 13ms/step - loss: 0.0012 - val_loss: 0.0011\n",
            "Epoch 42/300\n",
            "\u001b[1m281/281\u001b[0m \u001b[32m━━━━━━━━━━━━━━━━━━━━\u001b[0m\u001b[37m\u001b[0m \u001b[1m4s\u001b[0m 13ms/step - loss: 0.0011 - val_loss: 0.0064\n",
            "Epoch 43/300\n",
            "\u001b[1m281/281\u001b[0m \u001b[32m━━━━━━━━━━━━━━━━━━━━\u001b[0m\u001b[37m\u001b[0m \u001b[1m4s\u001b[0m 13ms/step - loss: 0.0012 - val_loss: 0.0031\n",
            "Epoch 44/300\n",
            "\u001b[1m281/281\u001b[0m \u001b[32m━━━━━━━━━━━━━━━━━━━━\u001b[0m\u001b[37m\u001b[0m \u001b[1m4s\u001b[0m 13ms/step - loss: 9.1418e-04 - val_loss: 0.0021\n",
            "Epoch 45/300\n",
            "\u001b[1m281/281\u001b[0m \u001b[32m━━━━━━━━━━━━━━━━━━━━\u001b[0m\u001b[37m\u001b[0m \u001b[1m3s\u001b[0m 12ms/step - loss: 7.6065e-04 - val_loss: 7.9049e-04\n",
            "Epoch 46/300\n",
            "\u001b[1m281/281\u001b[0m \u001b[32m━━━━━━━━━━━━━━━━━━━━\u001b[0m\u001b[37m\u001b[0m \u001b[1m4s\u001b[0m 13ms/step - loss: 7.9136e-04 - val_loss: 0.0023\n",
            "Epoch 47/300\n",
            "\u001b[1m281/281\u001b[0m \u001b[32m━━━━━━━━━━━━━━━━━━━━\u001b[0m\u001b[37m\u001b[0m \u001b[1m4s\u001b[0m 13ms/step - loss: 6.4281e-04 - val_loss: 0.0044\n",
            "Epoch 48/300\n",
            "\u001b[1m281/281\u001b[0m \u001b[32m━━━━━━━━━━━━━━━━━━━━\u001b[0m\u001b[37m\u001b[0m \u001b[1m4s\u001b[0m 13ms/step - loss: 7.1354e-04 - val_loss: 0.0031\n",
            "Epoch 49/300\n",
            "\u001b[1m281/281\u001b[0m \u001b[32m━━━━━━━━━━━━━━━━━━━━\u001b[0m\u001b[37m\u001b[0m \u001b[1m4s\u001b[0m 13ms/step - loss: 5.9114e-04 - val_loss: 6.3965e-04\n",
            "Epoch 50/300\n",
            "\u001b[1m281/281\u001b[0m \u001b[32m━━━━━━━━━━━━━━━━━━━━\u001b[0m\u001b[37m\u001b[0m \u001b[1m4s\u001b[0m 13ms/step - loss: 7.0231e-04 - val_loss: 0.0015\n",
            "Epoch 51/300\n",
            "\u001b[1m281/281\u001b[0m \u001b[32m━━━━━━━━━━━━━━━━━━━━\u001b[0m\u001b[37m\u001b[0m \u001b[1m4s\u001b[0m 13ms/step - loss: 5.3504e-04 - val_loss: 0.0013\n",
            "Epoch 52/300\n",
            "\u001b[1m281/281\u001b[0m \u001b[32m━━━━━━━━━━━━━━━━━━━━\u001b[0m\u001b[37m\u001b[0m \u001b[1m4s\u001b[0m 13ms/step - loss: 4.7064e-04 - val_loss: 0.0031\n",
            "Epoch 53/300\n",
            "\u001b[1m281/281\u001b[0m \u001b[32m━━━━━━━━━━━━━━━━━━━━\u001b[0m\u001b[37m\u001b[0m \u001b[1m4s\u001b[0m 13ms/step - loss: 4.9554e-04 - val_loss: 0.0016\n",
            "Epoch 54/300\n",
            "\u001b[1m281/281\u001b[0m \u001b[32m━━━━━━━━━━━━━━━━━━━━\u001b[0m\u001b[37m\u001b[0m \u001b[1m4s\u001b[0m 14ms/step - loss: 4.2544e-04 - val_loss: 0.0027\n",
            "Epoch 55/300\n",
            "\u001b[1m281/281\u001b[0m \u001b[32m━━━━━━━━━━━━━━━━━━━━\u001b[0m\u001b[37m\u001b[0m \u001b[1m4s\u001b[0m 14ms/step - loss: 4.3253e-04 - val_loss: 9.5724e-04\n",
            "Epoch 56/300\n",
            "\u001b[1m281/281\u001b[0m \u001b[32m━━━━━━━━━━━━━━━━━━━━\u001b[0m\u001b[37m\u001b[0m \u001b[1m4s\u001b[0m 14ms/step - loss: 4.3165e-04 - val_loss: 0.0024\n",
            "Epoch 57/300\n",
            "\u001b[1m281/281\u001b[0m \u001b[32m━━━━━━━━━━━━━━━━━━━━\u001b[0m\u001b[37m\u001b[0m \u001b[1m4s\u001b[0m 14ms/step - loss: 3.9858e-04 - val_loss: 0.0010\n",
            "Epoch 58/300\n",
            "\u001b[1m281/281\u001b[0m \u001b[32m━━━━━━━━━━━━━━━━━━━━\u001b[0m\u001b[37m\u001b[0m \u001b[1m4s\u001b[0m 14ms/step - loss: 4.5601e-04 - val_loss: 0.0013\n",
            "Epoch 59/300\n",
            "\u001b[1m281/281\u001b[0m \u001b[32m━━━━━━━━━━━━━━━━━━━━\u001b[0m\u001b[37m\u001b[0m \u001b[1m4s\u001b[0m 14ms/step - loss: 4.2617e-04 - val_loss: 0.0014\n",
            "Epoch 60/300\n",
            "\u001b[1m281/281\u001b[0m \u001b[32m━━━━━━━━━━━━━━━━━━━━\u001b[0m\u001b[37m\u001b[0m \u001b[1m4s\u001b[0m 14ms/step - loss: 4.2222e-04 - val_loss: 0.0012\n",
            "Epoch 61/300\n",
            "\u001b[1m281/281\u001b[0m \u001b[32m━━━━━━━━━━━━━━━━━━━━\u001b[0m\u001b[37m\u001b[0m \u001b[1m4s\u001b[0m 14ms/step - loss: 4.0923e-04 - val_loss: 0.0023\n",
            "Minimum validation loss: 0.0006396503304131329\n"
          ]
        },
        {
          "output_type": "display_data",
          "data": {
            "text/plain": [
              "<Figure size 432x288 with 1 Axes>"
            ],
            "image/png": "[encoded data removed]"
          },
          "metadata": {
            "needs_background": "light"
          }
        }
      ]
    },
    {
      "cell_type": "code",
      "source": [
        "#Noisy (5E-2) full region\n",
        "history = model.fit(\n",
        "    X_train, y_train,\n",
        "    validation_data=(X_test, y_test),\n",
        "    batch_size=100,\n",
        "    epochs=300,\n",
        "    callbacks=[early_stopping], # put your callbacks in a list\n",
        "    verbose=1,  # turn off training log\n",
        "    shuffle=False\n",
        ")\n",
        "\n",
        "history_df = pd.DataFrame(history.history)\n",
        "history_df.loc[:, ['loss', 'val_loss']].plot();\n",
        "print(\"Minimum validation loss: {}\".format(history_df['val_loss'].min()))"
      ],
      "metadata": {
        "colab": {
          "base_uri": "https://localhost:8080/",
          "height": 1000
        },
        "outputId": "b644f6d4-f416-4b83-f779-22ff720bbdb0",
        "id": "UdKLm5b9aNHR"
      },
      "execution_count": null,
      "outputs": [
        {
          "output_type": "stream",
          "name": "stderr",
          "text": [
            "2025-02-20 10:53:50.274838: W external/local_tsl/tsl/framework/cpu_allocator_impl.cc:83] Allocation of 1120000000 exceeds 10% of free system memory.\n",
            "2025-02-20 10:53:50.929439: W external/local_tsl/tsl/framework/cpu_allocator_impl.cc:83] Allocation of 1120000000 exceeds 10% of free system memory.\n"
          ]
        },
        {
          "output_type": "stream",
          "name": "stdout",
          "text": [
            "Epoch 1/300\n"
          ]
        },
        {
          "output_type": "stream",
          "name": "stderr",
          "text": [
            "2025-02-20 10:53:51.438016: W external/local_tsl/tsl/framework/cpu_allocator_impl.cc:83] Allocation of 1120000000 exceeds 10% of free system memory.\n",
            "WARNING: All log messages before absl::InitializeLog() is called are written to STDERR\n",
            "I0000 00:00:1740059633.731782   45701 service.cc:145] XLA service 0x55903b36f6c0 initialized for platform CUDA (this does not guarantee that XLA will be used). Devices:\n",
            "I0000 00:00:1740059633.731821   45701 service.cc:153]   StreamExecutor device (0): NVIDIA GeForce RTX 2060 SUPER, Compute Capability 7.5\n",
            "2025-02-20 10:53:53.816146: I tensorflow/compiler/mlir/tensorflow/utils/dump_mlir_util.cc:268] disabling MLIR crash reproducer, set env var `MLIR_CRASH_REPRODUCER_DIRECTORY` to enable.\n",
            "2025-02-20 10:53:54.037427: I external/local_xla/xla/stream_executor/cuda/cuda_dnn.cc:465] Loaded cuDNN version 8907\n"
          ]
        },
        {
          "output_type": "stream",
          "name": "stdout",
          "text": [
            "\u001b[1m 13/280\u001b[0m \u001b[37m━━━━━━━━━━━━━━━━━━━━\u001b[0m \u001b[1m3s\u001b[0m 14ms/step - loss: 7.0360"
          ]
        },
        {
          "output_type": "stream",
          "name": "stderr",
          "text": [
            "WARNING: All log messages before absl::InitializeLog() is called are written to STDERR\n",
            "I0000 00:00:1740059637.749413   45701 asm_compiler.cc:369] ptxas warning : Registers are spilled to local memory in function 'input_reduce_select_fusion_4', 8 bytes spill stores, 8 bytes spill loads\n",
            "\n",
            "I0000 00:00:1740059637.755370   45701 device_compiler.h:188] Compiled cluster using XLA!  This line is logged at most once for the lifetime of the process.\n"
          ]
        },
        {
          "output_type": "stream",
          "name": "stdout",
          "text": [
            "\u001b[1m280/280\u001b[0m \u001b[32m━━━━━━━━━━━━━━━━━━━━\u001b[0m\u001b[37m\u001b[0m \u001b[1m11s\u001b[0m 17ms/step - loss: 1.2569 - val_loss: 1.9703\n",
            "Epoch 2/300\n",
            "\u001b[1m280/280\u001b[0m \u001b[32m━━━━━━━━━━━━━━━━━━━━\u001b[0m\u001b[37m\u001b[0m \u001b[1m4s\u001b[0m 13ms/step - loss: 0.0724 - val_loss: 0.9721\n",
            "Epoch 3/300\n",
            "\u001b[1m280/280\u001b[0m \u001b[32m━━━━━━━━━━━━━━━━━━━━\u001b[0m\u001b[37m\u001b[0m \u001b[1m4s\u001b[0m 13ms/step - loss: 0.0365 - val_loss: 0.5111\n",
            "Epoch 4/300\n",
            "\u001b[1m280/280\u001b[0m \u001b[32m━━━━━━━━━━━━━━━━━━━━\u001b[0m\u001b[37m\u001b[0m \u001b[1m4s\u001b[0m 13ms/step - loss: 0.0250 - val_loss: 0.3117\n",
            "Epoch 5/300\n",
            "\u001b[1m280/280\u001b[0m \u001b[32m━━━━━━━━━━━━━━━━━━━━\u001b[0m\u001b[37m\u001b[0m \u001b[1m4s\u001b[0m 13ms/step - loss: 0.0233 - val_loss: 0.4317\n",
            "Epoch 6/300\n",
            "\u001b[1m280/280\u001b[0m \u001b[32m━━━━━━━━━━━━━━━━━━━━\u001b[0m\u001b[37m\u001b[0m \u001b[1m4s\u001b[0m 14ms/step - loss: 0.0206 - val_loss: 0.2660\n",
            "Epoch 7/300\n",
            "\u001b[1m280/280\u001b[0m \u001b[32m━━━━━━━━━━━━━━━━━━━━\u001b[0m\u001b[37m\u001b[0m \u001b[1m4s\u001b[0m 14ms/step - loss: 0.0181 - val_loss: 0.2592\n",
            "Epoch 8/300\n",
            "\u001b[1m280/280\u001b[0m \u001b[32m━━━━━━━━━━━━━━━━━━━━\u001b[0m\u001b[37m\u001b[0m \u001b[1m4s\u001b[0m 13ms/step - loss: 0.0165 - val_loss: 0.3237\n",
            "Epoch 9/300\n",
            "\u001b[1m280/280\u001b[0m \u001b[32m━━━━━━━━━━━━━━━━━━━━\u001b[0m\u001b[37m\u001b[0m \u001b[1m4s\u001b[0m 13ms/step - loss: 0.0146 - val_loss: 0.2600\n",
            "Epoch 10/300\n",
            "\u001b[1m280/280\u001b[0m \u001b[32m━━━━━━━━━━━━━━━━━━━━\u001b[0m\u001b[37m\u001b[0m \u001b[1m4s\u001b[0m 14ms/step - loss: 0.0141 - val_loss: 0.3663\n",
            "Epoch 11/300\n",
            "\u001b[1m280/280\u001b[0m \u001b[32m━━━━━━━━━━━━━━━━━━━━\u001b[0m\u001b[37m\u001b[0m \u001b[1m4s\u001b[0m 14ms/step - loss: 0.0123 - val_loss: 0.3178\n",
            "Epoch 12/300\n",
            "\u001b[1m280/280\u001b[0m \u001b[32m━━━━━━━━━━━━━━━━━━━━\u001b[0m\u001b[37m\u001b[0m \u001b[1m4s\u001b[0m 14ms/step - loss: 0.0117 - val_loss: 0.3189\n",
            "Epoch 13/300\n",
            "\u001b[1m280/280\u001b[0m \u001b[32m━━━━━━━━━━━━━━━━━━━━\u001b[0m\u001b[37m\u001b[0m \u001b[1m4s\u001b[0m 14ms/step - loss: 0.0103 - val_loss: 0.2805\n",
            "Epoch 14/300\n",
            "\u001b[1m280/280\u001b[0m \u001b[32m━━━━━━━━━━━━━━━━━━━━\u001b[0m\u001b[37m\u001b[0m \u001b[1m4s\u001b[0m 13ms/step - loss: 0.0095 - val_loss: 0.2852\n",
            "Epoch 15/300\n",
            "\u001b[1m280/280\u001b[0m \u001b[32m━━━━━━━━━━━━━━━━━━━━\u001b[0m\u001b[37m\u001b[0m \u001b[1m4s\u001b[0m 13ms/step - loss: 0.0093 - val_loss: 0.2149\n",
            "Epoch 16/300\n",
            "\u001b[1m280/280\u001b[0m \u001b[32m━━━━━━━━━━━━━━━━━━━━\u001b[0m\u001b[37m\u001b[0m \u001b[1m4s\u001b[0m 13ms/step - loss: 0.0078 - val_loss: 0.1969\n",
            "Epoch 17/300\n",
            "\u001b[1m280/280\u001b[0m \u001b[32m━━━━━━━━━━━━━━━━━━━━\u001b[0m\u001b[37m\u001b[0m \u001b[1m4s\u001b[0m 13ms/step - loss: 0.0076 - val_loss: 0.1582\n",
            "Epoch 18/300\n",
            "\u001b[1m280/280\u001b[0m \u001b[32m━━━━━━━━━━━━━━━━━━━━\u001b[0m\u001b[37m\u001b[0m \u001b[1m4s\u001b[0m 13ms/step - loss: 0.0065 - val_loss: 0.1259\n",
            "Epoch 19/300\n",
            "\u001b[1m280/280\u001b[0m \u001b[32m━━━━━━━━━━━━━━━━━━━━\u001b[0m\u001b[37m\u001b[0m \u001b[1m4s\u001b[0m 13ms/step - loss: 0.0061 - val_loss: 0.1082\n",
            "Epoch 20/300\n",
            "\u001b[1m280/280\u001b[0m \u001b[32m━━━━━━━━━━━━━━━━━━━━\u001b[0m\u001b[37m\u001b[0m \u001b[1m4s\u001b[0m 13ms/step - loss: 0.0054 - val_loss: 0.0849\n",
            "Epoch 21/300\n",
            "\u001b[1m280/280\u001b[0m \u001b[32m━━━━━━━━━━━━━━━━━━━━\u001b[0m\u001b[37m\u001b[0m \u001b[1m4s\u001b[0m 13ms/step - loss: 0.0050 - val_loss: 0.0787\n",
            "Epoch 22/300\n",
            "\u001b[1m280/280\u001b[0m \u001b[32m━━━━━━━━━━━━━━━━━━━━\u001b[0m\u001b[37m\u001b[0m \u001b[1m4s\u001b[0m 13ms/step - loss: 0.0045 - val_loss: 0.0641\n",
            "Epoch 23/300\n",
            "\u001b[1m280/280\u001b[0m \u001b[32m━━━━━━━━━━━━━━━━━━━━\u001b[0m\u001b[37m\u001b[0m \u001b[1m4s\u001b[0m 13ms/step - loss: 0.0041 - val_loss: 0.0543\n",
            "Epoch 24/300\n",
            "\u001b[1m280/280\u001b[0m \u001b[32m━━━━━━━━━━━━━━━━━━━━\u001b[0m\u001b[37m\u001b[0m \u001b[1m4s\u001b[0m 13ms/step - loss: 0.0038 - val_loss: 0.0385\n",
            "Epoch 25/300\n",
            "\u001b[1m280/280\u001b[0m \u001b[32m━━━━━━━━━━━━━━━━━━━━\u001b[0m\u001b[37m\u001b[0m \u001b[1m4s\u001b[0m 13ms/step - loss: 0.0033 - val_loss: 0.0343\n",
            "Epoch 26/300\n",
            "\u001b[1m280/280\u001b[0m \u001b[32m━━━━━━━━━━━━━━━━━━━━\u001b[0m\u001b[37m\u001b[0m \u001b[1m4s\u001b[0m 14ms/step - loss: 0.0030 - val_loss: 0.0340\n",
            "Epoch 27/300\n",
            "\u001b[1m280/280\u001b[0m \u001b[32m━━━━━━━━━━━━━━━━━━━━\u001b[0m\u001b[37m\u001b[0m \u001b[1m4s\u001b[0m 14ms/step - loss: 0.0029 - val_loss: 0.0284\n",
            "Epoch 28/300\n",
            "\u001b[1m280/280\u001b[0m \u001b[32m━━━━━━━━━━━━━━━━━━━━\u001b[0m\u001b[37m\u001b[0m \u001b[1m4s\u001b[0m 13ms/step - loss: 0.0026 - val_loss: 0.0247\n",
            "Epoch 29/300\n",
            "\u001b[1m280/280\u001b[0m \u001b[32m━━━━━━━━━━━━━━━━━━━━\u001b[0m\u001b[37m\u001b[0m \u001b[1m3s\u001b[0m 12ms/step - loss: 0.0026 - val_loss: 0.0218\n",
            "Epoch 30/300\n",
            "\u001b[1m280/280\u001b[0m \u001b[32m━━━━━━━━━━━━━━━━━━━━\u001b[0m\u001b[37m\u001b[0m \u001b[1m3s\u001b[0m 12ms/step - loss: 0.0025 - val_loss: 0.0218\n",
            "Epoch 31/300\n",
            "\u001b[1m280/280\u001b[0m \u001b[32m━━━━━━━━━━━━━━━━━━━━\u001b[0m\u001b[37m\u001b[0m \u001b[1m3s\u001b[0m 12ms/step - loss: 0.0023 - val_loss: 0.0201\n",
            "Epoch 32/300\n",
            "\u001b[1m280/280\u001b[0m \u001b[32m━━━━━━━━━━━━━━━━━━━━\u001b[0m\u001b[37m\u001b[0m \u001b[1m3s\u001b[0m 12ms/step - loss: 0.0022 - val_loss: 0.0209\n",
            "Epoch 33/300\n",
            "\u001b[1m280/280\u001b[0m \u001b[32m━━━━━━━━━━━━━━━━━━━━\u001b[0m\u001b[37m\u001b[0m \u001b[1m3s\u001b[0m 12ms/step - loss: 0.0022 - val_loss: 0.0182\n",
            "Epoch 34/300\n",
            "\u001b[1m280/280\u001b[0m \u001b[32m━━━━━━━━━━━━━━━━━━━━\u001b[0m\u001b[37m\u001b[0m \u001b[1m4s\u001b[0m 12ms/step - loss: 0.0020 - val_loss: 0.0107\n",
            "Epoch 35/300\n",
            "\u001b[1m280/280\u001b[0m \u001b[32m━━━━━━━━━━━━━━━━━━━━\u001b[0m\u001b[37m\u001b[0m \u001b[1m3s\u001b[0m 12ms/step - loss: 0.0022 - val_loss: 0.0172\n",
            "Epoch 36/300\n",
            "\u001b[1m280/280\u001b[0m \u001b[32m━━━━━━━━━━━━━━━━━━━━\u001b[0m\u001b[37m\u001b[0m \u001b[1m4s\u001b[0m 12ms/step - loss: 0.0020 - val_loss: 0.0148\n",
            "Epoch 37/300\n",
            "\u001b[1m280/280\u001b[0m \u001b[32m━━━━━━━━━━━━━━━━━━━━\u001b[0m\u001b[37m\u001b[0m \u001b[1m4s\u001b[0m 13ms/step - loss: 0.0019 - val_loss: 0.0167\n",
            "Epoch 38/300\n",
            "\u001b[1m280/280\u001b[0m \u001b[32m━━━━━━━━━━━━━━━━━━━━\u001b[0m\u001b[37m\u001b[0m \u001b[1m3s\u001b[0m 12ms/step - loss: 0.0018 - val_loss: 0.0144\n",
            "Epoch 39/300\n",
            "\u001b[1m280/280\u001b[0m \u001b[32m━━━━━━━━━━━━━━━━━━━━\u001b[0m\u001b[37m\u001b[0m \u001b[1m4s\u001b[0m 13ms/step - loss: 0.0018 - val_loss: 0.0135\n",
            "Epoch 40/300\n",
            "\u001b[1m280/280\u001b[0m \u001b[32m━━━━━━━━━━━━━━━━━━━━\u001b[0m\u001b[37m\u001b[0m \u001b[1m3s\u001b[0m 12ms/step - loss: 0.0017 - val_loss: 0.0105\n",
            "Epoch 41/300\n",
            "\u001b[1m280/280\u001b[0m \u001b[32m━━━━━━━━━━━━━━━━━━━━\u001b[0m\u001b[37m\u001b[0m \u001b[1m4s\u001b[0m 12ms/step - loss: 0.0016 - val_loss: 0.0109\n",
            "Epoch 42/300\n",
            "\u001b[1m280/280\u001b[0m \u001b[32m━━━━━━━━━━━━━━━━━━━━\u001b[0m\u001b[37m\u001b[0m \u001b[1m3s\u001b[0m 12ms/step - loss: 0.0016 - val_loss: 0.0102\n",
            "Epoch 43/300\n",
            "\u001b[1m280/280\u001b[0m \u001b[32m━━━━━━━━━━━━━━━━━━━━\u001b[0m\u001b[37m\u001b[0m \u001b[1m3s\u001b[0m 12ms/step - loss: 0.0015 - val_loss: 0.0122\n",
            "Epoch 44/300\n",
            "\u001b[1m280/280\u001b[0m \u001b[32m━━━━━━━━━━━━━━━━━━━━\u001b[0m\u001b[37m\u001b[0m \u001b[1m4s\u001b[0m 13ms/step - loss: 0.0015 - val_loss: 0.0089\n",
            "Epoch 45/300\n",
            "\u001b[1m280/280\u001b[0m \u001b[32m━━━━━━━━━━━━━━━━━━━━\u001b[0m\u001b[37m\u001b[0m \u001b[1m4s\u001b[0m 13ms/step - loss: 0.0014 - val_loss: 0.0089\n",
            "Epoch 46/300\n",
            "\u001b[1m280/280\u001b[0m \u001b[32m━━━━━━━━━━━━━━━━━━━━\u001b[0m\u001b[37m\u001b[0m \u001b[1m3s\u001b[0m 12ms/step - loss: 0.0015 - val_loss: 0.0091\n",
            "Epoch 47/300\n",
            "\u001b[1m280/280\u001b[0m \u001b[32m━━━━━━━━━━━━━━━━━━━━\u001b[0m\u001b[37m\u001b[0m \u001b[1m4s\u001b[0m 13ms/step - loss: 0.0014 - val_loss: 0.0078\n",
            "Epoch 48/300\n",
            "\u001b[1m280/280\u001b[0m \u001b[32m━━━━━━━━━━━━━━━━━━━━\u001b[0m\u001b[37m\u001b[0m \u001b[1m4s\u001b[0m 12ms/step - loss: 0.0014 - val_loss: 0.0092\n",
            "Epoch 49/300\n",
            "\u001b[1m280/280\u001b[0m \u001b[32m━━━━━━━━━━━━━━━━━━━━\u001b[0m\u001b[37m\u001b[0m \u001b[1m3s\u001b[0m 12ms/step - loss: 0.0014 - val_loss: 0.0065\n",
            "Epoch 50/300\n",
            "\u001b[1m280/280\u001b[0m \u001b[32m━━━━━━━━━━━━━━━━━━━━\u001b[0m\u001b[37m\u001b[0m \u001b[1m3s\u001b[0m 12ms/step - loss: 0.0013 - val_loss: 0.0071\n",
            "Epoch 51/300\n",
            "\u001b[1m280/280\u001b[0m \u001b[32m━━━━━━━━━━━━━━━━━━━━\u001b[0m\u001b[37m\u001b[0m \u001b[1m4s\u001b[0m 13ms/step - loss: 0.0012 - val_loss: 0.0062\n",
            "Epoch 52/300\n",
            "\u001b[1m280/280\u001b[0m \u001b[32m━━━━━━━━━━━━━━━━━━━━\u001b[0m\u001b[37m\u001b[0m \u001b[1m4s\u001b[0m 13ms/step - loss: 0.0012 - val_loss: 0.0085\n",
            "Epoch 53/300\n",
            "\u001b[1m280/280\u001b[0m \u001b[32m━━━━━━━━━━━━━━━━━━━━\u001b[0m\u001b[37m\u001b[0m \u001b[1m4s\u001b[0m 13ms/step - loss: 0.0012 - val_loss: 0.0075\n",
            "Epoch 54/300\n",
            "\u001b[1m280/280\u001b[0m \u001b[32m━━━━━━━━━━━━━━━━━━━━\u001b[0m\u001b[37m\u001b[0m \u001b[1m4s\u001b[0m 13ms/step - loss: 0.0012 - val_loss: 0.0069\n",
            "Epoch 55/300\n",
            "\u001b[1m280/280\u001b[0m \u001b[32m━━━━━━━━━━━━━━━━━━━━\u001b[0m\u001b[37m\u001b[0m \u001b[1m4s\u001b[0m 12ms/step - loss: 0.0012 - val_loss: 0.0053\n",
            "Epoch 56/300\n",
            "\u001b[1m280/280\u001b[0m \u001b[32m━━━━━━━━━━━━━━━━━━━━\u001b[0m\u001b[37m\u001b[0m \u001b[1m4s\u001b[0m 13ms/step - loss: 0.0011 - val_loss: 0.0037\n",
            "Epoch 57/300\n",
            "\u001b[1m280/280\u001b[0m \u001b[32m━━━━━━━━━━━━━━━━━━━━\u001b[0m\u001b[37m\u001b[0m \u001b[1m4s\u001b[0m 13ms/step - loss: 0.0012 - val_loss: 0.0067\n",
            "Epoch 58/300\n",
            "\u001b[1m280/280\u001b[0m \u001b[32m━━━━━━━━━━━━━━━━━━━━\u001b[0m\u001b[37m\u001b[0m \u001b[1m4s\u001b[0m 13ms/step - loss: 0.0012 - val_loss: 0.0038\n",
            "Epoch 59/300\n",
            "\u001b[1m280/280\u001b[0m \u001b[32m━━━━━━━━━━━━━━━━━━━━\u001b[0m\u001b[37m\u001b[0m \u001b[1m3s\u001b[0m 12ms/step - loss: 0.0012 - val_loss: 0.0025\n",
            "Epoch 60/300\n",
            "\u001b[1m280/280\u001b[0m \u001b[32m━━━━━━━━━━━━━━━━━━━━\u001b[0m\u001b[37m\u001b[0m \u001b[1m3s\u001b[0m 12ms/step - loss: 0.0012 - val_loss: 0.0033\n",
            "Epoch 61/300\n",
            "\u001b[1m280/280\u001b[0m \u001b[32m━━━━━━━━━━━━━━━━━━━━\u001b[0m\u001b[37m\u001b[0m \u001b[1m3s\u001b[0m 12ms/step - loss: 0.0011 - val_loss: 0.0029\n",
            "Epoch 62/300\n",
            "\u001b[1m280/280\u001b[0m \u001b[32m━━━━━━━━━━━━━━━━━━━━\u001b[0m\u001b[37m\u001b[0m \u001b[1m4s\u001b[0m 13ms/step - loss: 0.0010 - val_loss: 0.0026\n",
            "Epoch 63/300\n",
            "\u001b[1m280/280\u001b[0m \u001b[32m━━━━━━━━━━━━━━━━━━━━\u001b[0m\u001b[37m\u001b[0m \u001b[1m4s\u001b[0m 13ms/step - loss: 0.0011 - val_loss: 0.0046\n",
            "Epoch 64/300\n",
            "\u001b[1m280/280\u001b[0m \u001b[32m━━━━━━━━━━━━━━━━━━━━\u001b[0m\u001b[37m\u001b[0m \u001b[1m4s\u001b[0m 12ms/step - loss: 0.0010 - val_loss: 0.0028\n",
            "Epoch 65/300\n",
            "\u001b[1m280/280\u001b[0m \u001b[32m━━━━━━━━━━━━━━━━━━━━\u001b[0m\u001b[37m\u001b[0m \u001b[1m4s\u001b[0m 14ms/step - loss: 9.5333e-04 - val_loss: 0.0026\n",
            "Epoch 66/300\n",
            "\u001b[1m280/280\u001b[0m \u001b[32m━━━━━━━━━━━━━━━━━━━━\u001b[0m\u001b[37m\u001b[0m \u001b[1m4s\u001b[0m 14ms/step - loss: 9.5114e-04 - val_loss: 0.0030\n",
            "Epoch 67/300\n",
            "\u001b[1m280/280\u001b[0m \u001b[32m━━━━━━━━━━━━━━━━━━━━\u001b[0m\u001b[37m\u001b[0m \u001b[1m4s\u001b[0m 13ms/step - loss: 9.5227e-04 - val_loss: 0.0026\n",
            "Epoch 68/300\n",
            "\u001b[1m280/280\u001b[0m \u001b[32m━━━━━━━━━━━━━━━━━━━━\u001b[0m\u001b[37m\u001b[0m \u001b[1m4s\u001b[0m 13ms/step - loss: 9.9362e-04 - val_loss: 0.0025\n",
            "Epoch 69/300\n",
            "\u001b[1m280/280\u001b[0m \u001b[32m━━━━━━━━━━━━━━━━━━━━\u001b[0m\u001b[37m\u001b[0m \u001b[1m4s\u001b[0m 13ms/step - loss: 9.6474e-04 - val_loss: 0.0024\n",
            "Epoch 70/300\n",
            "\u001b[1m280/280\u001b[0m \u001b[32m━━━━━━━━━━━━━━━━━━━━\u001b[0m\u001b[37m\u001b[0m \u001b[1m4s\u001b[0m 13ms/step - loss: 9.6730e-04 - val_loss: 0.0026\n",
            "Epoch 71/300\n",
            "\u001b[1m280/280\u001b[0m \u001b[32m━━━━━━━━━━━━━━━━━━━━\u001b[0m\u001b[37m\u001b[0m \u001b[1m4s\u001b[0m 13ms/step - loss: 0.0010 - val_loss: 0.0030\n",
            "Epoch 72/300\n",
            "\u001b[1m280/280\u001b[0m \u001b[32m━━━━━━━━━━━━━━━━━━━━\u001b[0m\u001b[37m\u001b[0m \u001b[1m4s\u001b[0m 13ms/step - loss: 8.9549e-04 - val_loss: 0.0086\n",
            "Epoch 73/300\n",
            "\u001b[1m280/280\u001b[0m \u001b[32m━━━━━━━━━━━━━━━━━━━━\u001b[0m\u001b[37m\u001b[0m \u001b[1m4s\u001b[0m 13ms/step - loss: 0.0011 - val_loss: 0.0050\n",
            "Epoch 74/300\n",
            "\u001b[1m280/280\u001b[0m \u001b[32m━━━━━━━━━━━━━━━━━━━━\u001b[0m\u001b[37m\u001b[0m \u001b[1m4s\u001b[0m 13ms/step - loss: 9.7883e-04 - val_loss: 0.0047\n",
            "Epoch 75/300\n",
            "\u001b[1m280/280\u001b[0m \u001b[32m━━━━━━━━━━━━━━━━━━━━\u001b[0m\u001b[37m\u001b[0m \u001b[1m4s\u001b[0m 13ms/step - loss: 9.4351e-04 - val_loss: 0.0070\n",
            "Epoch 76/300\n",
            "\u001b[1m280/280\u001b[0m \u001b[32m━━━━━━━━━━━━━━━━━━━━\u001b[0m\u001b[37m\u001b[0m \u001b[1m4s\u001b[0m 13ms/step - loss: 0.0011 - val_loss: 0.0057\n",
            "Epoch 77/300\n",
            "\u001b[1m280/280\u001b[0m \u001b[32m━━━━━━━━━━━━━━━━━━━━\u001b[0m\u001b[37m\u001b[0m \u001b[1m4s\u001b[0m 13ms/step - loss: 8.8891e-04 - val_loss: 0.0031\n",
            "Epoch 78/300\n",
            "\u001b[1m280/280\u001b[0m \u001b[32m━━━━━━━━━━━━━━━━━━━━\u001b[0m\u001b[37m\u001b[0m \u001b[1m4s\u001b[0m 13ms/step - loss: 8.3297e-04 - val_loss: 0.0024\n",
            "Epoch 79/300\n",
            "\u001b[1m280/280\u001b[0m \u001b[32m━━━━━━━━━━━━━━━━━━━━\u001b[0m\u001b[37m\u001b[0m \u001b[1m4s\u001b[0m 13ms/step - loss: 8.2413e-04 - val_loss: 0.0022\n",
            "Minimum validation loss: 0.0021725406404584646\n"
          ]
        },
        {
          "output_type": "display_data",
          "data": {
            "text/plain": [
              "<Figure size 432x288 with 1 Axes>"
            ],
            "image/png": "[encoded data removed]"
          },
          "metadata": {
            "needs_background": "light"
          }
        }
      ]
    },
    {
      "cell_type": "code",
      "source": [
        "#Noisy (1E-2) Chaotic region\n",
        "history = model.fit(\n",
        "    X_train, y_train,\n",
        "    validation_data=(X_test, y_test),\n",
        "    batch_size=100,\n",
        "    epochs=300,\n",
        "    callbacks=[early_stopping], # put your callbacks in a list\n",
        "    verbose=1,  # turn off training log\n",
        "    shuffle=False\n",
        ")\n",
        "\n",
        "history_df = pd.DataFrame(history.history)\n",
        "history_df.loc[:, ['loss', 'val_loss']].plot();\n",
        "print(\"Minimum validation loss: {}\".format(history_df['val_loss'].min()))"
      ],
      "metadata": {
        "colab": {
          "base_uri": "https://localhost:8080/",
          "height": 1000
        },
        "outputId": "7e4c218c-2e44-4a8c-c31b-6393e4f52db9",
        "id": "uzhS0RsYP2tJ"
      },
      "execution_count": null,
      "outputs": [
        {
          "output_type": "stream",
          "name": "stderr",
          "text": [
            "2025-02-20 11:02:11.103233: W external/local_tsl/tsl/framework/cpu_allocator_impl.cc:83] Allocation of 1120000000 exceeds 10% of free system memory.\n",
            "2025-02-20 11:02:11.755949: W external/local_tsl/tsl/framework/cpu_allocator_impl.cc:83] Allocation of 1120000000 exceeds 10% of free system memory.\n"
          ]
        },
        {
          "output_type": "stream",
          "name": "stdout",
          "text": [
            "Epoch 1/300\n"
          ]
        },
        {
          "output_type": "stream",
          "name": "stderr",
          "text": [
            "2025-02-20 11:02:12.260268: W external/local_tsl/tsl/framework/cpu_allocator_impl.cc:83] Allocation of 1120000000 exceeds 10% of free system memory.\n",
            "WARNING: All log messages before absl::InitializeLog() is called are written to STDERR\n",
            "I0000 00:00:1740060134.526255   49278 service.cc:145] XLA service 0x5572b82fe450 initialized for platform CUDA (this does not guarantee that XLA will be used). Devices:\n",
            "I0000 00:00:1740060134.526303   49278 service.cc:153]   StreamExecutor device (0): NVIDIA GeForce RTX 2060 SUPER, Compute Capability 7.5\n",
            "2025-02-20 11:02:14.574664: I tensorflow/compiler/mlir/tensorflow/utils/dump_mlir_util.cc:268] disabling MLIR crash reproducer, set env var `MLIR_CRASH_REPRODUCER_DIRECTORY` to enable.\n",
            "2025-02-20 11:02:14.804519: I external/local_xla/xla/stream_executor/cuda/cuda_dnn.cc:465] Loaded cuDNN version 8907\n"
          ]
        },
        {
          "output_type": "stream",
          "name": "stdout",
          "text": [
            "\u001b[1m  9/280\u001b[0m \u001b[37m━━━━━━━━━━━━━━━━━━━━\u001b[0m \u001b[1m4s\u001b[0m 16ms/step - loss: 8.2815"
          ]
        },
        {
          "output_type": "stream",
          "name": "stderr",
          "text": [
            "WARNING: All log messages before absl::InitializeLog() is called are written to STDERR\n",
            "I0000 00:00:1740060138.449431   49278 asm_compiler.cc:369] ptxas warning : Registers are spilled to local memory in function 'input_reduce_select_fusion_4', 8 bytes spill stores, 8 bytes spill loads\n",
            "\n",
            "I0000 00:00:1740060138.454237   49278 device_compiler.h:188] Compiled cluster using XLA!  This line is logged at most once for the lifetime of the process.\n"
          ]
        },
        {
          "output_type": "stream",
          "name": "stdout",
          "text": [
            "\u001b[1m280/280\u001b[0m \u001b[32m━━━━━━━━━━━━━━━━━━━━\u001b[0m\u001b[37m\u001b[0m \u001b[1m11s\u001b[0m 17ms/step - loss: 1.4268 - val_loss: 2.8432\n",
            "Epoch 2/300\n",
            "\u001b[1m280/280\u001b[0m \u001b[32m━━━━━━━━━━━━━━━━━━━━\u001b[0m\u001b[37m\u001b[0m \u001b[1m4s\u001b[0m 13ms/step - loss: 0.0832 - val_loss: 1.4726\n",
            "Epoch 3/300\n",
            "\u001b[1m280/280\u001b[0m \u001b[32m━━━━━━━━━━━━━━━━━━━━\u001b[0m\u001b[37m\u001b[0m \u001b[1m4s\u001b[0m 13ms/step - loss: 0.0442 - val_loss: 0.4694\n",
            "Epoch 4/300\n",
            "\u001b[1m280/280\u001b[0m \u001b[32m━━━━━━━━━━━━━━━━━━━━\u001b[0m\u001b[37m\u001b[0m \u001b[1m4s\u001b[0m 13ms/step - loss: 0.0245 - val_loss: 0.3599\n",
            "Epoch 5/300\n",
            "\u001b[1m280/280\u001b[0m \u001b[32m━━━━━━━━━━━━━━━━━━━━\u001b[0m\u001b[37m\u001b[0m \u001b[1m4s\u001b[0m 13ms/step - loss: 0.0210 - val_loss: 0.2746\n",
            "Epoch 6/300\n",
            "\u001b[1m280/280\u001b[0m \u001b[32m━━━━━━━━━━━━━━━━━━━━\u001b[0m\u001b[37m\u001b[0m \u001b[1m4s\u001b[0m 13ms/step - loss: 0.0183 - val_loss: 0.3007\n",
            "Epoch 7/300\n",
            "\u001b[1m280/280\u001b[0m \u001b[32m━━━━━━━━━━━━━━━━━━━━\u001b[0m\u001b[37m\u001b[0m \u001b[1m4s\u001b[0m 12ms/step - loss: 0.0190 - val_loss: 0.2082\n",
            "Epoch 8/300\n",
            "\u001b[1m280/280\u001b[0m \u001b[32m━━━━━━━━━━━━━━━━━━━━\u001b[0m\u001b[37m\u001b[0m \u001b[1m3s\u001b[0m 12ms/step - loss: 0.0161 - val_loss: 0.3000\n",
            "Epoch 9/300\n",
            "\u001b[1m280/280\u001b[0m \u001b[32m━━━━━━━━━━━━━━━━━━━━\u001b[0m\u001b[37m\u001b[0m \u001b[1m4s\u001b[0m 13ms/step - loss: 0.0138 - val_loss: 0.2715\n",
            "Epoch 10/300\n",
            "\u001b[1m280/280\u001b[0m \u001b[32m━━━━━━━━━━━━━━━━━━━━\u001b[0m\u001b[37m\u001b[0m \u001b[1m3s\u001b[0m 12ms/step - loss: 0.0136 - val_loss: 0.3504\n",
            "Epoch 11/300\n",
            "\u001b[1m280/280\u001b[0m \u001b[32m━━━━━━━━━━━━━━━━━━━━\u001b[0m\u001b[37m\u001b[0m \u001b[1m3s\u001b[0m 12ms/step - loss: 0.0130 - val_loss: 0.3363\n",
            "Epoch 12/300\n",
            "\u001b[1m280/280\u001b[0m \u001b[32m━━━━━━━━━━━━━━━━━━━━\u001b[0m\u001b[37m\u001b[0m \u001b[1m4s\u001b[0m 12ms/step - loss: 0.0121 - val_loss: 0.2958\n",
            "Epoch 13/300\n",
            "\u001b[1m280/280\u001b[0m \u001b[32m━━━━━━━━━━━━━━━━━━━━\u001b[0m\u001b[37m\u001b[0m \u001b[1m4s\u001b[0m 13ms/step - loss: 0.0101 - val_loss: 0.2891\n",
            "Epoch 14/300\n",
            "\u001b[1m280/280\u001b[0m \u001b[32m━━━━━━━━━━━━━━━━━━━━\u001b[0m\u001b[37m\u001b[0m \u001b[1m4s\u001b[0m 12ms/step - loss: 0.0098 - val_loss: 0.2280\n",
            "Epoch 15/300\n",
            "\u001b[1m280/280\u001b[0m \u001b[32m━━━━━━━━━━━━━━━━━━━━\u001b[0m\u001b[37m\u001b[0m \u001b[1m4s\u001b[0m 13ms/step - loss: 0.0101 - val_loss: 0.2457\n",
            "Epoch 16/300\n",
            "\u001b[1m280/280\u001b[0m \u001b[32m━━━━━━━━━━━━━━━━━━━━\u001b[0m\u001b[37m\u001b[0m \u001b[1m3s\u001b[0m 12ms/step - loss: 0.0079 - val_loss: 0.1868\n",
            "Epoch 17/300\n",
            "\u001b[1m280/280\u001b[0m \u001b[32m━━━━━━━━━━━━━━━━━━━━\u001b[0m\u001b[37m\u001b[0m \u001b[1m4s\u001b[0m 12ms/step - loss: 0.0079 - val_loss: 0.1852\n",
            "Epoch 18/300\n",
            "\u001b[1m280/280\u001b[0m \u001b[32m━━━━━━━━━━━━━━━━━━━━\u001b[0m\u001b[37m\u001b[0m \u001b[1m4s\u001b[0m 12ms/step - loss: 0.0072 - val_loss: 0.1502\n",
            "Epoch 19/300\n",
            "\u001b[1m280/280\u001b[0m \u001b[32m━━━━━━━━━━━━━━━━━━━━\u001b[0m\u001b[37m\u001b[0m \u001b[1m3s\u001b[0m 12ms/step - loss: 0.0066 - val_loss: 0.1403\n",
            "Epoch 20/300\n",
            "\u001b[1m280/280\u001b[0m \u001b[32m━━━━━━━━━━━━━━━━━━━━\u001b[0m\u001b[37m\u001b[0m \u001b[1m3s\u001b[0m 12ms/step - loss: 0.0062 - val_loss: 0.1144\n",
            "Epoch 21/300\n",
            "\u001b[1m280/280\u001b[0m \u001b[32m━━━━━━━━━━━━━━━━━━━━\u001b[0m\u001b[37m\u001b[0m \u001b[1m4s\u001b[0m 12ms/step - loss: 0.0063 - val_loss: 0.1104\n",
            "Epoch 22/300\n",
            "\u001b[1m280/280\u001b[0m \u001b[32m━━━━━━━━━━━━━━━━━━━━\u001b[0m\u001b[37m\u001b[0m \u001b[1m4s\u001b[0m 13ms/step - loss: 0.0060 - val_loss: 0.0702\n",
            "Epoch 23/300\n",
            "\u001b[1m280/280\u001b[0m \u001b[32m━━━━━━━━━━━━━━━━━━━━\u001b[0m\u001b[37m\u001b[0m \u001b[1m3s\u001b[0m 12ms/step - loss: 0.0050 - val_loss: 0.0540\n",
            "Epoch 24/300\n",
            "\u001b[1m280/280\u001b[0m \u001b[32m━━━━━━━━━━━━━━━━━━━━\u001b[0m\u001b[37m\u001b[0m \u001b[1m4s\u001b[0m 13ms/step - loss: 0.0045 - val_loss: 0.0453\n",
            "Epoch 25/300\n",
            "\u001b[1m280/280\u001b[0m \u001b[32m━━━━━━━━━━━━━━━━━━━━\u001b[0m\u001b[37m\u001b[0m \u001b[1m4s\u001b[0m 13ms/step - loss: 0.0038 - val_loss: 0.0329\n",
            "Epoch 26/300\n",
            "\u001b[1m280/280\u001b[0m \u001b[32m━━━━━━━━━━━━━━━━━━━━\u001b[0m\u001b[37m\u001b[0m \u001b[1m4s\u001b[0m 13ms/step - loss: 0.0034 - val_loss: 0.0241\n",
            "Epoch 27/300\n",
            "\u001b[1m280/280\u001b[0m \u001b[32m━━━━━━━━━━━━━━━━━━━━\u001b[0m\u001b[37m\u001b[0m \u001b[1m4s\u001b[0m 13ms/step - loss: 0.0029 - val_loss: 0.0192\n",
            "Epoch 28/300\n",
            "\u001b[1m280/280\u001b[0m \u001b[32m━━━━━━━━━━━━━━━━━━━━\u001b[0m\u001b[37m\u001b[0m \u001b[1m4s\u001b[0m 13ms/step - loss: 0.0027 - val_loss: 0.0217\n",
            "Epoch 29/300\n",
            "\u001b[1m280/280\u001b[0m \u001b[32m━━━━━━━━━━━━━━━━━━━━\u001b[0m\u001b[37m\u001b[0m \u001b[1m4s\u001b[0m 13ms/step - loss: 0.0028 - val_loss: 0.0179\n",
            "Epoch 30/300\n",
            "\u001b[1m280/280\u001b[0m \u001b[32m━━━━━━━━━━━━━━━━━━━━\u001b[0m\u001b[37m\u001b[0m \u001b[1m4s\u001b[0m 13ms/step - loss: 0.0025 - val_loss: 0.0155\n",
            "Epoch 31/300\n",
            "\u001b[1m280/280\u001b[0m \u001b[32m━━━━━━━━━━━━━━━━━━━━\u001b[0m\u001b[37m\u001b[0m \u001b[1m4s\u001b[0m 13ms/step - loss: 0.0022 - val_loss: 0.0128\n",
            "Epoch 32/300\n",
            "\u001b[1m280/280\u001b[0m \u001b[32m━━━━━━━━━━━━━━━━━━━━\u001b[0m\u001b[37m\u001b[0m \u001b[1m4s\u001b[0m 13ms/step - loss: 0.0021 - val_loss: 0.0119\n",
            "Epoch 33/300\n",
            "\u001b[1m280/280\u001b[0m \u001b[32m━━━━━━━━━━━━━━━━━━━━\u001b[0m\u001b[37m\u001b[0m \u001b[1m4s\u001b[0m 13ms/step - loss: 0.0020 - val_loss: 0.0125\n",
            "Epoch 34/300\n",
            "\u001b[1m280/280\u001b[0m \u001b[32m━━━━━━━━━━━━━━━━━━━━\u001b[0m\u001b[37m\u001b[0m \u001b[1m4s\u001b[0m 13ms/step - loss: 0.0020 - val_loss: 0.0144\n",
            "Epoch 35/300\n",
            "\u001b[1m280/280\u001b[0m \u001b[32m━━━━━━━━━━━━━━━━━━━━\u001b[0m\u001b[37m\u001b[0m \u001b[1m4s\u001b[0m 13ms/step - loss: 0.0020 - val_loss: 0.0121\n",
            "Epoch 36/300\n",
            "\u001b[1m280/280\u001b[0m \u001b[32m━━━━━━━━━━━━━━━━━━━━\u001b[0m\u001b[37m\u001b[0m \u001b[1m4s\u001b[0m 13ms/step - loss: 0.0019 - val_loss: 0.0130\n",
            "Epoch 37/300\n",
            "\u001b[1m280/280\u001b[0m \u001b[32m━━━━━━━━━━━━━━━━━━━━\u001b[0m\u001b[37m\u001b[0m \u001b[1m4s\u001b[0m 13ms/step - loss: 0.0018 - val_loss: 0.0139\n",
            "Epoch 38/300\n",
            "\u001b[1m280/280\u001b[0m \u001b[32m━━━━━━━━━━━━━━━━━━━━\u001b[0m\u001b[37m\u001b[0m \u001b[1m4s\u001b[0m 13ms/step - loss: 0.0018 - val_loss: 0.0096\n",
            "Epoch 39/300\n",
            "\u001b[1m280/280\u001b[0m \u001b[32m━━━━━━━━━━━━━━━━━━━━\u001b[0m\u001b[37m\u001b[0m \u001b[1m4s\u001b[0m 13ms/step - loss: 0.0017 - val_loss: 0.0133\n",
            "Epoch 40/300\n",
            "\u001b[1m280/280\u001b[0m \u001b[32m━━━━━━━━━━━━━━━━━━━━\u001b[0m\u001b[37m\u001b[0m \u001b[1m4s\u001b[0m 13ms/step - loss: 0.0017 - val_loss: 0.0111\n",
            "Epoch 41/300\n",
            "\u001b[1m280/280\u001b[0m \u001b[32m━━━━━━━━━━━━━━━━━━━━\u001b[0m\u001b[37m\u001b[0m \u001b[1m4s\u001b[0m 13ms/step - loss: 0.0017 - val_loss: 0.0111\n",
            "Epoch 42/300\n",
            "\u001b[1m280/280\u001b[0m \u001b[32m━━━━━━━━━━━━━━━━━━━━\u001b[0m\u001b[37m\u001b[0m \u001b[1m4s\u001b[0m 13ms/step - loss: 0.0017 - val_loss: 0.0080\n",
            "Epoch 43/300\n",
            "\u001b[1m280/280\u001b[0m \u001b[32m━━━━━━━━━━━━━━━━━━━━\u001b[0m\u001b[37m\u001b[0m \u001b[1m4s\u001b[0m 13ms/step - loss: 0.0015 - val_loss: 0.0069\n",
            "Epoch 44/300\n",
            "\u001b[1m280/280\u001b[0m \u001b[32m━━━━━━━━━━━━━━━━━━━━\u001b[0m\u001b[37m\u001b[0m \u001b[1m4s\u001b[0m 14ms/step - loss: 0.0015 - val_loss: 0.0059\n",
            "Epoch 45/300\n",
            "\u001b[1m280/280\u001b[0m \u001b[32m━━━━━━━━━━━━━━━━━━━━\u001b[0m\u001b[37m\u001b[0m \u001b[1m4s\u001b[0m 14ms/step - loss: 0.0015 - val_loss: 0.0033\n",
            "Epoch 46/300\n",
            "\u001b[1m280/280\u001b[0m \u001b[32m━━━━━━━━━━━━━━━━━━━━\u001b[0m\u001b[37m\u001b[0m \u001b[1m4s\u001b[0m 13ms/step - loss: 0.0014 - val_loss: 0.0042\n",
            "Epoch 47/300\n",
            "\u001b[1m280/280\u001b[0m \u001b[32m━━━━━━━━━━━━━━━━━━━━\u001b[0m\u001b[37m\u001b[0m \u001b[1m4s\u001b[0m 14ms/step - loss: 0.0013 - val_loss: 0.0050\n",
            "Epoch 48/300\n",
            "\u001b[1m280/280\u001b[0m \u001b[32m━━━━━━━━━━━━━━━━━━━━\u001b[0m\u001b[37m\u001b[0m \u001b[1m4s\u001b[0m 13ms/step - loss: 0.0014 - val_loss: 0.0039\n",
            "Epoch 49/300\n",
            "\u001b[1m280/280\u001b[0m \u001b[32m━━━━━━━━━━━━━━━━━━━━\u001b[0m\u001b[37m\u001b[0m \u001b[1m4s\u001b[0m 14ms/step - loss: 0.0015 - val_loss: 0.0034\n",
            "Epoch 50/300\n",
            "\u001b[1m280/280\u001b[0m \u001b[32m━━━━━━━━━━━━━━━━━━━━\u001b[0m\u001b[37m\u001b[0m \u001b[1m4s\u001b[0m 14ms/step - loss: 0.0014 - val_loss: 0.0034\n",
            "Epoch 51/300\n",
            "\u001b[1m280/280\u001b[0m \u001b[32m━━━━━━━━━━━━━━━━━━━━\u001b[0m\u001b[37m\u001b[0m \u001b[1m4s\u001b[0m 14ms/step - loss: 0.0013 - val_loss: 0.0032\n",
            "Epoch 52/300\n",
            "\u001b[1m280/280\u001b[0m \u001b[32m━━━━━━━━━━━━━━━━━━━━\u001b[0m\u001b[37m\u001b[0m \u001b[1m4s\u001b[0m 13ms/step - loss: 0.0013 - val_loss: 0.0033\n",
            "Epoch 53/300\n",
            "\u001b[1m280/280\u001b[0m \u001b[32m━━━━━━━━━━━━━━━━━━━━\u001b[0m\u001b[37m\u001b[0m \u001b[1m4s\u001b[0m 13ms/step - loss: 0.0013 - val_loss: 0.0037\n",
            "Epoch 54/300\n",
            "\u001b[1m280/280\u001b[0m \u001b[32m━━━━━━━━━━━━━━━━━━━━\u001b[0m\u001b[37m\u001b[0m \u001b[1m4s\u001b[0m 13ms/step - loss: 0.0013 - val_loss: 0.0034\n",
            "Epoch 55/300\n",
            "\u001b[1m280/280\u001b[0m \u001b[32m━━━━━━━━━━━━━━━━━━━━\u001b[0m\u001b[37m\u001b[0m \u001b[1m4s\u001b[0m 13ms/step - loss: 0.0012 - val_loss: 0.0030\n",
            "Epoch 56/300\n",
            "\u001b[1m280/280\u001b[0m \u001b[32m━━━━━━━━━━━━━━━━━━━━\u001b[0m\u001b[37m\u001b[0m \u001b[1m4s\u001b[0m 13ms/step - loss: 0.0012 - val_loss: 0.0023\n",
            "Epoch 57/300\n",
            "\u001b[1m280/280\u001b[0m \u001b[32m━━━━━━━━━━━━━━━━━━━━\u001b[0m\u001b[37m\u001b[0m \u001b[1m4s\u001b[0m 13ms/step - loss: 0.0012 - val_loss: 0.0026\n",
            "Epoch 58/300\n",
            "\u001b[1m280/280\u001b[0m \u001b[32m━━━━━━━━━━━━━━━━━━━━\u001b[0m\u001b[37m\u001b[0m \u001b[1m4s\u001b[0m 13ms/step - loss: 0.0012 - val_loss: 0.0025\n",
            "Epoch 59/300\n",
            "\u001b[1m280/280\u001b[0m \u001b[32m━━━━━━━━━━━━━━━━━━━━\u001b[0m\u001b[37m\u001b[0m \u001b[1m4s\u001b[0m 13ms/step - loss: 0.0012 - val_loss: 0.0021\n",
            "Epoch 60/300\n",
            "\u001b[1m280/280\u001b[0m \u001b[32m━━━━━━━━━━━━━━━━━━━━\u001b[0m\u001b[37m\u001b[0m \u001b[1m4s\u001b[0m 13ms/step - loss: 0.0011 - val_loss: 0.0038\n",
            "Epoch 61/300\n",
            "\u001b[1m280/280\u001b[0m \u001b[32m━━━━━━━━━━━━━━━━━━━━\u001b[0m\u001b[37m\u001b[0m \u001b[1m4s\u001b[0m 14ms/step - loss: 0.0012 - val_loss: 0.0035\n",
            "Epoch 62/300\n",
            "\u001b[1m280/280\u001b[0m \u001b[32m━━━━━━━━━━━━━━━━━━━━\u001b[0m\u001b[37m\u001b[0m \u001b[1m4s\u001b[0m 14ms/step - loss: 0.0012 - val_loss: 0.0028\n",
            "Epoch 63/300\n",
            "\u001b[1m280/280\u001b[0m \u001b[32m━━━━━━━━━━━━━━━━━━━━\u001b[0m\u001b[37m\u001b[0m \u001b[1m4s\u001b[0m 13ms/step - loss: 0.0011 - val_loss: 0.0035\n",
            "Epoch 64/300\n",
            "\u001b[1m280/280\u001b[0m \u001b[32m━━━━━━━━━━━━━━━━━━━━\u001b[0m\u001b[37m\u001b[0m \u001b[1m4s\u001b[0m 13ms/step - loss: 0.0010 - val_loss: 0.0025\n",
            "Epoch 65/300\n",
            "\u001b[1m280/280\u001b[0m \u001b[32m━━━━━━━━━━━━━━━━━━━━\u001b[0m\u001b[37m\u001b[0m \u001b[1m4s\u001b[0m 14ms/step - loss: 0.0010 - val_loss: 0.0029\n",
            "Epoch 66/300\n",
            "\u001b[1m280/280\u001b[0m \u001b[32m━━━━━━━━━━━━━━━━━━━━\u001b[0m\u001b[37m\u001b[0m \u001b[1m4s\u001b[0m 14ms/step - loss: 9.6318e-04 - val_loss: 0.0018\n",
            "Epoch 67/300\n",
            "\u001b[1m280/280\u001b[0m \u001b[32m━━━━━━━━━━━━━━━━━━━━\u001b[0m\u001b[37m\u001b[0m \u001b[1m4s\u001b[0m 14ms/step - loss: 9.3363e-04 - val_loss: 0.0023\n",
            "Epoch 68/300\n",
            "\u001b[1m280/280\u001b[0m \u001b[32m━━━━━━━━━━━━━━━━━━━━\u001b[0m\u001b[37m\u001b[0m \u001b[1m4s\u001b[0m 14ms/step - loss: 9.0905e-04 - val_loss: 0.0019\n",
            "Epoch 69/300\n",
            "\u001b[1m280/280\u001b[0m \u001b[32m━━━━━━━━━━━━━━━━━━━━\u001b[0m\u001b[37m\u001b[0m \u001b[1m4s\u001b[0m 14ms/step - loss: 9.3964e-04 - val_loss: 0.0018\n",
            "Epoch 70/300\n",
            "\u001b[1m280/280\u001b[0m \u001b[32m━━━━━━━━━━━━━━━━━━━━\u001b[0m\u001b[37m\u001b[0m \u001b[1m4s\u001b[0m 14ms/step - loss: 8.8406e-04 - val_loss: 0.0023\n",
            "Epoch 71/300\n",
            "\u001b[1m280/280\u001b[0m \u001b[32m━━━━━━━━━━━━━━━━━━━━\u001b[0m\u001b[37m\u001b[0m \u001b[1m4s\u001b[0m 14ms/step - loss: 0.0010 - val_loss: 0.0023\n",
            "Epoch 72/300\n",
            "\u001b[1m280/280\u001b[0m \u001b[32m━━━━━━━━━━━━━━━━━━━━\u001b[0m\u001b[37m\u001b[0m \u001b[1m4s\u001b[0m 14ms/step - loss: 9.3720e-04 - val_loss: 0.0030\n",
            "Epoch 73/300\n",
            "\u001b[1m280/280\u001b[0m \u001b[32m━━━━━━━━━━━━━━━━━━━━\u001b[0m\u001b[37m\u001b[0m \u001b[1m4s\u001b[0m 14ms/step - loss: 0.0010 - val_loss: 0.0027\n",
            "Epoch 74/300\n",
            "\u001b[1m280/280\u001b[0m \u001b[32m━━━━━━━━━━━━━━━━━━━━\u001b[0m\u001b[37m\u001b[0m \u001b[1m4s\u001b[0m 14ms/step - loss: 9.1740e-04 - val_loss: 0.0021\n",
            "Epoch 75/300\n",
            "\u001b[1m280/280\u001b[0m \u001b[32m━━━━━━━━━━━━━━━━━━━━\u001b[0m\u001b[37m\u001b[0m \u001b[1m4s\u001b[0m 14ms/step - loss: 8.2797e-04 - val_loss: 0.0018\n",
            "Epoch 76/300\n",
            "\u001b[1m280/280\u001b[0m \u001b[32m━━━━━━━━━━━━━━━━━━━━\u001b[0m\u001b[37m\u001b[0m \u001b[1m4s\u001b[0m 14ms/step - loss: 8.6509e-04 - val_loss: 0.0019\n",
            "Epoch 77/300\n",
            "\u001b[1m280/280\u001b[0m \u001b[32m━━━━━━━━━━━━━━━━━━━━\u001b[0m\u001b[37m\u001b[0m \u001b[1m4s\u001b[0m 14ms/step - loss: 8.7315e-04 - val_loss: 0.0022\n",
            "Epoch 78/300\n",
            "\u001b[1m280/280\u001b[0m \u001b[32m━━━━━━━━━━━━━━━━━━━━\u001b[0m\u001b[37m\u001b[0m \u001b[1m4s\u001b[0m 13ms/step - loss: 9.2893e-04 - val_loss: 0.0036\n",
            "Epoch 79/300\n",
            "\u001b[1m280/280\u001b[0m \u001b[32m━━━━━━━━━━━━━━━━━━━━\u001b[0m\u001b[37m\u001b[0m \u001b[1m4s\u001b[0m 13ms/step - loss: 8.8646e-04 - val_loss: 0.0042\n",
            "Minimum validation loss: 0.0018003660952672362\n"
          ]
        },
        {
          "output_type": "display_data",
          "data": {
            "text/plain": [
              "<Figure size 432x288 with 1 Axes>"
            ],
            "image/png": "[encoded data removed]"
          },
          "metadata": {
            "needs_background": "light"
          }
        }
      ]
    },
    {
      "cell_type": "code",
      "source": [
        "#Noisy (1E-1) Chaotic region\n",
        "history = model.fit(\n",
        "    X_train, y_train,\n",
        "    validation_data=(X_test, y_test),\n",
        "    batch_size=100,\n",
        "    epochs=300,\n",
        "    callbacks=[early_stopping], # put your callbacks in a list\n",
        "    verbose=1,  # turn off training log\n",
        "    shuffle=False\n",
        ")\n",
        "\n",
        "history_df = pd.DataFrame(history.history)\n",
        "history_df.loc[:, ['loss', 'val_loss']].plot();\n",
        "print(\"Minimum validation loss: {}\".format(history_df['val_loss'].min()))"
      ],
      "metadata": {
        "colab": {
          "base_uri": "https://localhost:8080/",
          "height": 1000
        },
        "outputId": "14766ccf-22ae-46f1-ec5b-37830b14b584",
        "id": "AO8IU-JLqt7G"
      },
      "execution_count": null,
      "outputs": [
        {
          "output_type": "stream",
          "name": "stdout",
          "text": [
            "Epoch 1/300\n"
          ]
        },
        {
          "output_type": "stream",
          "name": "stderr",
          "text": [
            "WARNING: All log messages before absl::InitializeLog() is called are written to STDERR\n",
            "I0000 00:00:1740060604.870055   52776 service.cc:145] XLA service 0x7ff3f0003f50 initialized for platform CUDA (this does not guarantee that XLA will be used). Devices:\n",
            "I0000 00:00:1740060604.870109   52776 service.cc:153]   StreamExecutor device (0): NVIDIA GeForce RTX 2060 SUPER, Compute Capability 7.5\n",
            "2025-02-20 11:10:04.925118: I tensorflow/compiler/mlir/tensorflow/utils/dump_mlir_util.cc:268] disabling MLIR crash reproducer, set env var `MLIR_CRASH_REPRODUCER_DIRECTORY` to enable.\n",
            "2025-02-20 11:10:05.161406: I external/local_xla/xla/stream_executor/cuda/cuda_dnn.cc:465] Loaded cuDNN version 8907\n"
          ]
        },
        {
          "output_type": "stream",
          "name": "stdout",
          "text": [
            "\u001b[1m 12/210\u001b[0m \u001b[32m━\u001b[0m\u001b[37m━━━━━━━━━━━━━━━━━━━\u001b[0m \u001b[1m2s\u001b[0m 15ms/step - loss: 8.5881"
          ]
        },
        {
          "output_type": "stream",
          "name": "stderr",
          "text": [
            "WARNING: All log messages before absl::InitializeLog() is called are written to STDERR\n",
            "I0000 00:00:1740060608.801096   52776 asm_compiler.cc:369] ptxas warning : Registers are spilled to local memory in function 'input_reduce_select_fusion_4', 8 bytes spill stores, 8 bytes spill loads\n",
            "\n",
            "I0000 00:00:1740060608.807089   52776 device_compiler.h:188] Compiled cluster using XLA!  This line is logged at most once for the lifetime of the process.\n"
          ]
        },
        {
          "output_type": "stream",
          "name": "stdout",
          "text": [
            "\u001b[1m210/210\u001b[0m \u001b[32m━━━━━━━━━━━━━━━━━━━━\u001b[0m\u001b[37m\u001b[0m \u001b[1m10s\u001b[0m 18ms/step - loss: 2.0358 - val_loss: 2.5225\n",
            "Epoch 2/300\n",
            "\u001b[1m210/210\u001b[0m \u001b[32m━━━━━━━━━━━━━━━━━━━━\u001b[0m\u001b[37m\u001b[0m \u001b[1m3s\u001b[0m 13ms/step - loss: 0.0908 - val_loss: 1.4980\n",
            "Epoch 3/300\n",
            "\u001b[1m210/210\u001b[0m \u001b[32m━━━━━━━━━━━━━━━━━━━━\u001b[0m\u001b[37m\u001b[0m \u001b[1m3s\u001b[0m 13ms/step - loss: 0.0546 - val_loss: 1.0896\n",
            "Epoch 4/300\n",
            "\u001b[1m210/210\u001b[0m \u001b[32m━━━━━━━━━━━━━━━━━━━━\u001b[0m\u001b[37m\u001b[0m \u001b[1m3s\u001b[0m 13ms/step - loss: 0.0406 - val_loss: 0.9422\n",
            "Epoch 5/300\n",
            "\u001b[1m210/210\u001b[0m \u001b[32m━━━━━━━━━━━━━━━━━━━━\u001b[0m\u001b[37m\u001b[0m \u001b[1m3s\u001b[0m 13ms/step - loss: 0.0317 - val_loss: 0.6732\n",
            "Epoch 6/300\n",
            "\u001b[1m210/210\u001b[0m \u001b[32m━━━━━━━━━━━━━━━━━━━━\u001b[0m\u001b[37m\u001b[0m \u001b[1m3s\u001b[0m 13ms/step - loss: 0.0261 - val_loss: 0.5398\n",
            "Epoch 7/300\n",
            "\u001b[1m210/210\u001b[0m \u001b[32m━━━━━━━━━━━━━━━━━━━━\u001b[0m\u001b[37m\u001b[0m \u001b[1m3s\u001b[0m 14ms/step - loss: 0.0217 - val_loss: 0.4863\n",
            "Epoch 8/300\n",
            "\u001b[1m210/210\u001b[0m \u001b[32m━━━━━━━━━━━━━━━━━━━━\u001b[0m\u001b[37m\u001b[0m \u001b[1m3s\u001b[0m 14ms/step - loss: 0.0202 - val_loss: 0.3448\n",
            "Epoch 9/300\n",
            "\u001b[1m210/210\u001b[0m \u001b[32m━━━━━━━━━━━━━━━━━━━━\u001b[0m\u001b[37m\u001b[0m \u001b[1m3s\u001b[0m 14ms/step - loss: 0.0180 - val_loss: 0.2947\n",
            "Epoch 10/300\n",
            "\u001b[1m210/210\u001b[0m \u001b[32m━━━━━━━━━━━━━━━━━━━━\u001b[0m\u001b[37m\u001b[0m \u001b[1m3s\u001b[0m 14ms/step - loss: 0.0163 - val_loss: 0.2354\n",
            "Epoch 11/300\n",
            "\u001b[1m210/210\u001b[0m \u001b[32m━━━━━━━━━━━━━━━━━━━━\u001b[0m\u001b[37m\u001b[0m \u001b[1m3s\u001b[0m 15ms/step - loss: 0.0153 - val_loss: 0.2388\n",
            "Epoch 12/300\n",
            "\u001b[1m210/210\u001b[0m \u001b[32m━━━━━━━━━━━━━━━━━━━━\u001b[0m\u001b[37m\u001b[0m \u001b[1m5s\u001b[0m 14ms/step - loss: 0.0145 - val_loss: 0.2053\n",
            "Epoch 13/300\n",
            "\u001b[1m210/210\u001b[0m \u001b[32m━━━━━━━━━━━━━━━━━━━━\u001b[0m\u001b[37m\u001b[0m \u001b[1m3s\u001b[0m 14ms/step - loss: 0.0133 - val_loss: 0.1871\n",
            "Epoch 14/300\n",
            "\u001b[1m210/210\u001b[0m \u001b[32m━━━━━━━━━━━━━━━━━━━━\u001b[0m\u001b[37m\u001b[0m \u001b[1m3s\u001b[0m 14ms/step - loss: 0.0121 - val_loss: 0.1711\n",
            "Epoch 15/300\n",
            "\u001b[1m210/210\u001b[0m \u001b[32m━━━━━━━━━━━━━━━━━━━━\u001b[0m\u001b[37m\u001b[0m \u001b[1m3s\u001b[0m 14ms/step - loss: 0.0111 - val_loss: 0.1662\n",
            "Epoch 16/300\n",
            "\u001b[1m210/210\u001b[0m \u001b[32m━━━━━━━━━━━━━━━━━━━━\u001b[0m\u001b[37m\u001b[0m \u001b[1m3s\u001b[0m 14ms/step - loss: 0.0104 - val_loss: 0.1599\n",
            "Epoch 17/300\n",
            "\u001b[1m210/210\u001b[0m \u001b[32m━━━━━━━━━━━━━━━━━━━━\u001b[0m\u001b[37m\u001b[0m \u001b[1m3s\u001b[0m 14ms/step - loss: 0.0091 - val_loss: 0.1308\n",
            "Epoch 18/300\n",
            "\u001b[1m210/210\u001b[0m \u001b[32m━━━━━━━━━━━━━━━━━━━━\u001b[0m\u001b[37m\u001b[0m \u001b[1m3s\u001b[0m 14ms/step - loss: 0.0080 - val_loss: 0.1258\n",
            "Epoch 19/300\n",
            "\u001b[1m210/210\u001b[0m \u001b[32m━━━━━━━━━━━━━━━━━━━━\u001b[0m\u001b[37m\u001b[0m \u001b[1m3s\u001b[0m 14ms/step - loss: 0.0076 - val_loss: 0.1005\n",
            "Epoch 20/300\n",
            "\u001b[1m210/210\u001b[0m \u001b[32m━━━━━━━━━━━━━━━━━━━━\u001b[0m\u001b[37m\u001b[0m \u001b[1m3s\u001b[0m 15ms/step - loss: 0.0069 - val_loss: 0.0916\n",
            "Epoch 21/300\n",
            "\u001b[1m210/210\u001b[0m \u001b[32m━━━━━━━━━━━━━━━━━━━━\u001b[0m\u001b[37m\u001b[0m \u001b[1m3s\u001b[0m 14ms/step - loss: 0.0064 - val_loss: 0.0679\n",
            "Epoch 22/300\n",
            "\u001b[1m210/210\u001b[0m \u001b[32m━━━━━━━━━━━━━━━━━━━━\u001b[0m\u001b[37m\u001b[0m \u001b[1m3s\u001b[0m 14ms/step - loss: 0.0060 - val_loss: 0.0668\n",
            "Epoch 23/300\n",
            "\u001b[1m210/210\u001b[0m \u001b[32m━━━━━━━━━━━━━━━━━━━━\u001b[0m\u001b[37m\u001b[0m \u001b[1m3s\u001b[0m 14ms/step - loss: 0.0054 - val_loss: 0.0601\n",
            "Epoch 24/300\n",
            "\u001b[1m210/210\u001b[0m \u001b[32m━━━━━━━━━━━━━━━━━━━━\u001b[0m\u001b[37m\u001b[0m \u001b[1m3s\u001b[0m 14ms/step - loss: 0.0053 - val_loss: 0.0478\n",
            "Epoch 25/300\n",
            "\u001b[1m210/210\u001b[0m \u001b[32m━━━━━━━━━━━━━━━━━━━━\u001b[0m\u001b[37m\u001b[0m \u001b[1m3s\u001b[0m 14ms/step - loss: 0.0051 - val_loss: 0.0450\n",
            "Epoch 26/300\n",
            "\u001b[1m210/210\u001b[0m \u001b[32m━━━━━━━━━━━━━━━━━━━━\u001b[0m\u001b[37m\u001b[0m \u001b[1m3s\u001b[0m 14ms/step - loss: 0.0049 - val_loss: 0.0382\n",
            "Epoch 27/300\n",
            "\u001b[1m210/210\u001b[0m \u001b[32m━━━━━━━━━━━━━━━━━━━━\u001b[0m\u001b[37m\u001b[0m \u001b[1m3s\u001b[0m 14ms/step - loss: 0.0047 - val_loss: 0.0335\n",
            "Epoch 28/300\n",
            "\u001b[1m210/210\u001b[0m \u001b[32m━━━━━━━━━━━━━━━━━━━━\u001b[0m\u001b[37m\u001b[0m \u001b[1m3s\u001b[0m 14ms/step - loss: 0.0046 - val_loss: 0.0302\n",
            "Epoch 29/300\n",
            "\u001b[1m210/210\u001b[0m \u001b[32m━━━━━━━━━━━━━━━━━━━━\u001b[0m\u001b[37m\u001b[0m \u001b[1m3s\u001b[0m 14ms/step - loss: 0.0045 - val_loss: 0.0315\n",
            "Epoch 30/300\n",
            "\u001b[1m210/210\u001b[0m \u001b[32m━━━━━━━━━━━━━━━━━━━━\u001b[0m\u001b[37m\u001b[0m \u001b[1m3s\u001b[0m 14ms/step - loss: 0.0047 - val_loss: 0.0301\n",
            "Epoch 31/300\n",
            "\u001b[1m210/210\u001b[0m \u001b[32m━━━━━━━━━━━━━━━━━━━━\u001b[0m\u001b[37m\u001b[0m \u001b[1m3s\u001b[0m 14ms/step - loss: 0.0044 - val_loss: 0.0233\n",
            "Epoch 32/300\n",
            "\u001b[1m210/210\u001b[0m \u001b[32m━━━━━━━━━━━━━━━━━━━━\u001b[0m\u001b[37m\u001b[0m \u001b[1m3s\u001b[0m 14ms/step - loss: 0.0042 - val_loss: 0.0215\n",
            "Epoch 33/300\n",
            "\u001b[1m210/210\u001b[0m \u001b[32m━━━━━━━━━━━━━━━━━━━━\u001b[0m\u001b[37m\u001b[0m \u001b[1m3s\u001b[0m 14ms/step - loss: 0.0043 - val_loss: 0.0230\n",
            "Epoch 34/300\n",
            "\u001b[1m210/210\u001b[0m \u001b[32m━━━━━━━━━━━━━━━━━━━━\u001b[0m\u001b[37m\u001b[0m \u001b[1m3s\u001b[0m 14ms/step - loss: 0.0042 - val_loss: 0.0226\n",
            "Epoch 35/300\n",
            "\u001b[1m210/210\u001b[0m \u001b[32m━━━━━━━━━━━━━━━━━━━━\u001b[0m\u001b[37m\u001b[0m \u001b[1m3s\u001b[0m 14ms/step - loss: 0.0041 - val_loss: 0.0191\n",
            "Epoch 36/300\n",
            "\u001b[1m210/210\u001b[0m \u001b[32m━━━━━━━━━━━━━━━━━━━━\u001b[0m\u001b[37m\u001b[0m \u001b[1m3s\u001b[0m 14ms/step - loss: 0.0041 - val_loss: 0.0162\n",
            "Epoch 37/300\n",
            "\u001b[1m210/210\u001b[0m \u001b[32m━━━━━━━━━━━━━━━━━━━━\u001b[0m\u001b[37m\u001b[0m \u001b[1m3s\u001b[0m 14ms/step - loss: 0.0039 - val_loss: 0.0169\n",
            "Epoch 38/300\n",
            "\u001b[1m210/210\u001b[0m \u001b[32m━━━━━━━━━━━━━━━━━━━━\u001b[0m\u001b[37m\u001b[0m \u001b[1m3s\u001b[0m 14ms/step - loss: 0.0038 - val_loss: 0.0137\n",
            "Epoch 39/300\n",
            "\u001b[1m210/210\u001b[0m \u001b[32m━━━━━━━━━━━━━━━━━━━━\u001b[0m\u001b[37m\u001b[0m \u001b[1m3s\u001b[0m 14ms/step - loss: 0.0036 - val_loss: 0.0108\n",
            "Epoch 40/300\n",
            "\u001b[1m210/210\u001b[0m \u001b[32m━━━━━━━━━━━━━━━━━━━━\u001b[0m\u001b[37m\u001b[0m \u001b[1m3s\u001b[0m 13ms/step - loss: 0.0038 - val_loss: 0.0129\n",
            "Epoch 41/300\n",
            "\u001b[1m210/210\u001b[0m \u001b[32m━━━━━━━━━━━━━━━━━━━━\u001b[0m\u001b[37m\u001b[0m \u001b[1m3s\u001b[0m 13ms/step - loss: 0.0039 - val_loss: 0.0107\n",
            "Epoch 42/300\n",
            "\u001b[1m210/210\u001b[0m \u001b[32m━━━━━━━━━━━━━━━━━━━━\u001b[0m\u001b[37m\u001b[0m \u001b[1m3s\u001b[0m 12ms/step - loss: 0.0036 - val_loss: 0.0109\n",
            "Epoch 43/300\n",
            "\u001b[1m210/210\u001b[0m \u001b[32m━━━━━━━━━━━━━━━━━━━━\u001b[0m\u001b[37m\u001b[0m \u001b[1m3s\u001b[0m 12ms/step - loss: 0.0034 - val_loss: 0.0096\n",
            "Epoch 44/300\n",
            "\u001b[1m210/210\u001b[0m \u001b[32m━━━━━━━━━━━━━━━━━━━━\u001b[0m\u001b[37m\u001b[0m \u001b[1m3s\u001b[0m 12ms/step - loss: 0.0034 - val_loss: 0.0098\n",
            "Epoch 45/300\n",
            "\u001b[1m210/210\u001b[0m \u001b[32m━━━━━━━━━━━━━━━━━━━━\u001b[0m\u001b[37m\u001b[0m \u001b[1m3s\u001b[0m 12ms/step - loss: 0.0033 - val_loss: 0.0117\n",
            "Epoch 46/300\n",
            "\u001b[1m210/210\u001b[0m \u001b[32m━━━━━━━━━━━━━━━━━━━━\u001b[0m\u001b[37m\u001b[0m \u001b[1m3s\u001b[0m 13ms/step - loss: 0.0035 - val_loss: 0.0112\n",
            "Epoch 47/300\n",
            "\u001b[1m210/210\u001b[0m \u001b[32m━━━━━━━━━━━━━━━━━━━━\u001b[0m\u001b[37m\u001b[0m \u001b[1m3s\u001b[0m 13ms/step - loss: 0.0034 - val_loss: 0.0111\n",
            "Epoch 48/300\n",
            "\u001b[1m210/210\u001b[0m \u001b[32m━━━━━━━━━━━━━━━━━━━━\u001b[0m\u001b[37m\u001b[0m \u001b[1m3s\u001b[0m 12ms/step - loss: 0.0032 - val_loss: 0.0098\n",
            "Epoch 49/300\n",
            "\u001b[1m210/210\u001b[0m \u001b[32m━━━━━━━━━━━━━━━━━━━━\u001b[0m\u001b[37m\u001b[0m \u001b[1m3s\u001b[0m 12ms/step - loss: 0.0032 - val_loss: 0.0105\n",
            "Epoch 50/300\n",
            "\u001b[1m210/210\u001b[0m \u001b[32m━━━━━━━━━━━━━━━━━━━━\u001b[0m\u001b[37m\u001b[0m \u001b[1m3s\u001b[0m 12ms/step - loss: 0.0031 - val_loss: 0.0106\n",
            "Epoch 51/300\n",
            "\u001b[1m210/210\u001b[0m \u001b[32m━━━━━━━━━━━━━━━━━━━━\u001b[0m\u001b[37m\u001b[0m \u001b[1m3s\u001b[0m 12ms/step - loss: 0.0031 - val_loss: 0.0082\n",
            "Epoch 52/300\n",
            "\u001b[1m210/210\u001b[0m \u001b[32m━━━━━━━━━━━━━━━━━━━━\u001b[0m\u001b[37m\u001b[0m \u001b[1m3s\u001b[0m 12ms/step - loss: 0.0029 - val_loss: 0.0082\n",
            "Epoch 53/300\n",
            "\u001b[1m210/210\u001b[0m \u001b[32m━━━━━━━━━━━━━━━━━━━━\u001b[0m\u001b[37m\u001b[0m \u001b[1m3s\u001b[0m 12ms/step - loss: 0.0030 - val_loss: 0.0087\n",
            "Epoch 54/300\n",
            "\u001b[1m210/210\u001b[0m \u001b[32m━━━━━━━━━━━━━━━━━━━━\u001b[0m\u001b[37m\u001b[0m \u001b[1m3s\u001b[0m 12ms/step - loss: 0.0029 - val_loss: 0.0088\n",
            "Epoch 55/300\n",
            "\u001b[1m210/210\u001b[0m \u001b[32m━━━━━━━━━━━━━━━━━━━━\u001b[0m\u001b[37m\u001b[0m \u001b[1m3s\u001b[0m 13ms/step - loss: 0.0028 - val_loss: 0.0069\n",
            "Epoch 56/300\n",
            "\u001b[1m210/210\u001b[0m \u001b[32m━━━━━━━━━━━━━━━━━━━━\u001b[0m\u001b[37m\u001b[0m \u001b[1m3s\u001b[0m 13ms/step - loss: 0.0029 - val_loss: 0.0080\n",
            "Epoch 57/300\n",
            "\u001b[1m210/210\u001b[0m \u001b[32m━━━━━━━━━━━━━━━━━━━━\u001b[0m\u001b[37m\u001b[0m \u001b[1m3s\u001b[0m 13ms/step - loss: 0.0028 - val_loss: 0.0070\n",
            "Epoch 58/300\n",
            "\u001b[1m210/210\u001b[0m \u001b[32m━━━━━━━━━━━━━━━━━━━━\u001b[0m\u001b[37m\u001b[0m \u001b[1m3s\u001b[0m 14ms/step - loss: 0.0028 - val_loss: 0.0082\n",
            "Epoch 59/300\n",
            "\u001b[1m210/210\u001b[0m \u001b[32m━━━━━━━━━━━━━━━━━━━━\u001b[0m\u001b[37m\u001b[0m \u001b[1m3s\u001b[0m 14ms/step - loss: 0.0029 - val_loss: 0.0095\n",
            "Epoch 60/300\n",
            "\u001b[1m210/210\u001b[0m \u001b[32m━━━━━━━━━━━━━━━━━━━━\u001b[0m\u001b[37m\u001b[0m \u001b[1m3s\u001b[0m 14ms/step - loss: 0.0026 - val_loss: 0.0091\n",
            "Epoch 61/300\n",
            "\u001b[1m210/210\u001b[0m \u001b[32m━━━━━━━━━━━━━━━━━━━━\u001b[0m\u001b[37m\u001b[0m \u001b[1m3s\u001b[0m 14ms/step - loss: 0.0026 - val_loss: 0.0091\n",
            "Epoch 62/300\n",
            "\u001b[1m210/210\u001b[0m \u001b[32m━━━━━━━━━━━━━━━━━━━━\u001b[0m\u001b[37m\u001b[0m \u001b[1m3s\u001b[0m 13ms/step - loss: 0.0025 - val_loss: 0.0085\n",
            "Epoch 63/300\n",
            "\u001b[1m210/210\u001b[0m \u001b[32m━━━━━━━━━━━━━━━━━━━━\u001b[0m\u001b[37m\u001b[0m \u001b[1m3s\u001b[0m 14ms/step - loss: 0.0026 - val_loss: 0.0080\n",
            "Epoch 64/300\n",
            "\u001b[1m210/210\u001b[0m \u001b[32m━━━━━━━━━━━━━━━━━━━━\u001b[0m\u001b[37m\u001b[0m \u001b[1m3s\u001b[0m 14ms/step - loss: 0.0024 - val_loss: 0.0082\n",
            "Epoch 65/300\n",
            "\u001b[1m210/210\u001b[0m \u001b[32m━━━━━━━━━━━━━━━━━━━━\u001b[0m\u001b[37m\u001b[0m \u001b[1m3s\u001b[0m 14ms/step - loss: 0.0023 - val_loss: 0.0083\n",
            "Epoch 66/300\n",
            "\u001b[1m210/210\u001b[0m \u001b[32m━━━━━━━━━━━━━━━━━━━━\u001b[0m\u001b[37m\u001b[0m \u001b[1m3s\u001b[0m 14ms/step - loss: 0.0023 - val_loss: 0.0077\n",
            "Epoch 67/300\n",
            "\u001b[1m210/210\u001b[0m \u001b[32m━━━━━━━━━━━━━━━━━━━━\u001b[0m\u001b[37m\u001b[0m \u001b[1m3s\u001b[0m 14ms/step - loss: 0.0023 - val_loss: 0.0066\n",
            "Epoch 68/300\n",
            "\u001b[1m210/210\u001b[0m \u001b[32m━━━━━━━━━━━━━━━━━━━━\u001b[0m\u001b[37m\u001b[0m \u001b[1m3s\u001b[0m 14ms/step - loss: 0.0023 - val_loss: 0.0070\n",
            "Epoch 69/300\n",
            "\u001b[1m210/210\u001b[0m \u001b[32m━━━━━━━━━━━━━━━━━━━━\u001b[0m\u001b[37m\u001b[0m \u001b[1m3s\u001b[0m 14ms/step - loss: 0.0023 - val_loss: 0.0063\n",
            "Epoch 70/300\n",
            "\u001b[1m210/210\u001b[0m \u001b[32m━━━━━━━━━━━━━━━━━━━━\u001b[0m\u001b[37m\u001b[0m \u001b[1m3s\u001b[0m 14ms/step - loss: 0.0023 - val_loss: 0.0078\n",
            "Epoch 71/300\n",
            "\u001b[1m210/210\u001b[0m \u001b[32m━━━━━━━━━━━━━━━━━━━━\u001b[0m\u001b[37m\u001b[0m \u001b[1m3s\u001b[0m 14ms/step - loss: 0.0022 - val_loss: 0.0076\n",
            "Epoch 72/300\n",
            "\u001b[1m210/210\u001b[0m \u001b[32m━━━━━━━━━━━━━━━━━━━━\u001b[0m\u001b[37m\u001b[0m \u001b[1m3s\u001b[0m 14ms/step - loss: 0.0021 - val_loss: 0.0055\n",
            "Epoch 73/300\n",
            "\u001b[1m210/210\u001b[0m \u001b[32m━━━━━━━━━━━━━━━━━━━━\u001b[0m\u001b[37m\u001b[0m \u001b[1m3s\u001b[0m 14ms/step - loss: 0.0021 - val_loss: 0.0057\n",
            "Epoch 74/300\n",
            "\u001b[1m210/210\u001b[0m \u001b[32m━━━━━━━━━━━━━━━━━━━━\u001b[0m\u001b[37m\u001b[0m \u001b[1m3s\u001b[0m 14ms/step - loss: 0.0021 - val_loss: 0.0057\n",
            "Epoch 75/300\n",
            "\u001b[1m210/210\u001b[0m \u001b[32m━━━━━━━━━━━━━━━━━━━━\u001b[0m\u001b[37m\u001b[0m \u001b[1m3s\u001b[0m 14ms/step - loss: 0.0020 - val_loss: 0.0062\n",
            "Epoch 76/300\n",
            "\u001b[1m210/210\u001b[0m \u001b[32m━━━━━━━━━━━━━━━━━━━━\u001b[0m\u001b[37m\u001b[0m \u001b[1m3s\u001b[0m 14ms/step - loss: 0.0020 - val_loss: 0.0045\n",
            "Epoch 77/300\n",
            "\u001b[1m210/210\u001b[0m \u001b[32m━━━━━━━━━━━━━━━━━━━━\u001b[0m\u001b[37m\u001b[0m \u001b[1m3s\u001b[0m 14ms/step - loss: 0.0019 - val_loss: 0.0060\n",
            "Epoch 78/300\n",
            "\u001b[1m210/210\u001b[0m \u001b[32m━━━━━━━━━━━━━━━━━━━━\u001b[0m\u001b[37m\u001b[0m \u001b[1m3s\u001b[0m 14ms/step - loss: 0.0018 - val_loss: 0.0061\n",
            "Epoch 79/300\n",
            "\u001b[1m210/210\u001b[0m \u001b[32m━━━━━━━━━━━━━━━━━━━━\u001b[0m\u001b[37m\u001b[0m \u001b[1m3s\u001b[0m 14ms/step - loss: 0.0019 - val_loss: 0.0052\n",
            "Epoch 80/300\n",
            "\u001b[1m210/210\u001b[0m \u001b[32m━━━━━━━━━━━━━━━━━━━━\u001b[0m\u001b[37m\u001b[0m \u001b[1m3s\u001b[0m 14ms/step - loss: 0.0018 - val_loss: 0.0051\n",
            "Epoch 81/300\n",
            "\u001b[1m210/210\u001b[0m \u001b[32m━━━━━━━━━━━━━━━━━━━━\u001b[0m\u001b[37m\u001b[0m \u001b[1m3s\u001b[0m 14ms/step - loss: 0.0019 - val_loss: 0.0065\n",
            "Epoch 82/300\n",
            "\u001b[1m210/210\u001b[0m \u001b[32m━━━━━━━━━━━━━━━━━━━━\u001b[0m\u001b[37m\u001b[0m \u001b[1m3s\u001b[0m 14ms/step - loss: 0.0018 - val_loss: 0.0064\n",
            "Epoch 83/300\n",
            "\u001b[1m210/210\u001b[0m \u001b[32m━━━━━━━━━━━━━━━━━━━━\u001b[0m\u001b[37m\u001b[0m \u001b[1m3s\u001b[0m 14ms/step - loss: 0.0018 - val_loss: 0.0047\n",
            "Epoch 84/300\n",
            "\u001b[1m210/210\u001b[0m \u001b[32m━━━━━━━━━━━━━━━━━━━━\u001b[0m\u001b[37m\u001b[0m \u001b[1m3s\u001b[0m 14ms/step - loss: 0.0018 - val_loss: 0.0048\n",
            "Epoch 85/300\n",
            "\u001b[1m210/210\u001b[0m \u001b[32m━━━━━━━━━━━━━━━━━━━━\u001b[0m\u001b[37m\u001b[0m \u001b[1m3s\u001b[0m 14ms/step - loss: 0.0018 - val_loss: 0.0043\n",
            "Epoch 86/300\n",
            "\u001b[1m210/210\u001b[0m \u001b[32m━━━━━━━━━━━━━━━━━━━━\u001b[0m\u001b[37m\u001b[0m \u001b[1m3s\u001b[0m 14ms/step - loss: 0.0017 - val_loss: 0.0045\n",
            "Epoch 87/300\n",
            "\u001b[1m210/210\u001b[0m \u001b[32m━━━━━━━━━━━━━━━━━━━━\u001b[0m\u001b[37m\u001b[0m \u001b[1m3s\u001b[0m 14ms/step - loss: 0.0016 - val_loss: 0.0042\n",
            "Epoch 88/300\n",
            "\u001b[1m210/210\u001b[0m \u001b[32m━━━━━━━━━━━━━━━━━━━━\u001b[0m\u001b[37m\u001b[0m \u001b[1m3s\u001b[0m 14ms/step - loss: 0.0016 - val_loss: 0.0043\n",
            "Epoch 89/300\n",
            "\u001b[1m210/210\u001b[0m \u001b[32m━━━━━━━━━━━━━━━━━━━━\u001b[0m\u001b[37m\u001b[0m \u001b[1m3s\u001b[0m 14ms/step - loss: 0.0019 - val_loss: 0.0053\n",
            "Epoch 90/300\n",
            "\u001b[1m210/210\u001b[0m \u001b[32m━━━━━━━━━━━━━━━━━━━━\u001b[0m\u001b[37m\u001b[0m \u001b[1m3s\u001b[0m 14ms/step - loss: 0.0017 - val_loss: 0.0040\n",
            "Epoch 91/300\n",
            "\u001b[1m210/210\u001b[0m \u001b[32m━━━━━━━━━━━━━━━━━━━━\u001b[0m\u001b[37m\u001b[0m \u001b[1m3s\u001b[0m 14ms/step - loss: 0.0017 - val_loss: 0.0049\n",
            "Epoch 92/300\n",
            "\u001b[1m210/210\u001b[0m \u001b[32m━━━━━━━━━━━━━━━━━━━━\u001b[0m\u001b[37m\u001b[0m \u001b[1m3s\u001b[0m 14ms/step - loss: 0.0017 - val_loss: 0.0061\n",
            "Epoch 93/300\n",
            "\u001b[1m210/210\u001b[0m \u001b[32m━━━━━━━━━━━━━━━━━━━━\u001b[0m\u001b[37m\u001b[0m \u001b[1m3s\u001b[0m 14ms/step - loss: 0.0016 - val_loss: 0.0060\n",
            "Epoch 94/300\n",
            "\u001b[1m210/210\u001b[0m \u001b[32m━━━━━━━━━━━━━━━━━━━━\u001b[0m\u001b[37m\u001b[0m \u001b[1m3s\u001b[0m 14ms/step - loss: 0.0017 - val_loss: 0.0048\n",
            "Epoch 95/300\n",
            "\u001b[1m210/210\u001b[0m \u001b[32m━━━━━━━━━━━━━━━━━━━━\u001b[0m\u001b[37m\u001b[0m \u001b[1m3s\u001b[0m 14ms/step - loss: 0.0016 - val_loss: 0.0042\n",
            "Epoch 96/300\n",
            "\u001b[1m210/210\u001b[0m \u001b[32m━━━━━━━━━━━━━━━━━━━━\u001b[0m\u001b[37m\u001b[0m \u001b[1m3s\u001b[0m 14ms/step - loss: 0.0015 - val_loss: 0.0042\n",
            "Minimum validation loss: 0.004026482347398996\n"
          ]
        },
        {
          "output_type": "display_data",
          "data": {
            "text/plain": [
              "<Figure size 432x288 with 1 Axes>"
            ],
            "image/png": "[encoded data removed]"
          },
          "metadata": {
            "needs_background": "light"
          }
        }
      ]
    },
    {
      "cell_type": "markdown",
      "source": [
        "##Testing"
      ],
      "metadata": {
        "id": "R_QvWWoNS4Ot"
      }
    },
    {
      "cell_type": "code",
      "source": [
        "#Read in pngs:\n",
        "data_path = '/your/path/'\n",
        "test_pngs = glob.glob(data_path + 'test/sample*png')\n",
        "\n",
        "test_ims = {}\n",
        "\n",
        "for png in test_pngs:\n",
        "  test_ims[png]=np.array(PIL.Image.open(png).convert('L'))\n",
        "\n",
        "\n",
        "#Prepare test questions and solutions as before:\n",
        "test_questions = np.array([each for each in test_ims.values()]).astype(np.float32)\n",
        "test_solutions = np.array([float(each.split('_')[-1].split('.')[0])/(1e16)\n",
        "                            for each in test_ims]).astype(np.float32)\n",
        "\n",
        "#Apply model:\n",
        "test_answers = model.predict(test_questions)"
      ],
      "metadata": {
        "id": "0ZtS85QVsWo-"
      },
      "execution_count": null,
      "outputs": []
    },
    {
      "cell_type": "markdown",
      "source": [
        "# Neural net training: classification"
      ],
      "metadata": {
        "id": "evdCpM-msVZm"
      }
    },
    {
      "cell_type": "markdown",
      "source": [
        "##Architecture"
      ],
      "metadata": {
        "id": "HuDc_fTfsVZ3"
      }
    },
    {
      "cell_type": "code",
      "source": [
        "model = keras.Sequential([\n",
        "  keras.layers.Conv2D(3, 4),\n",
        "  keras.layers.Conv2D(3, 4),\n",
        "  keras.layers.Activation('relu'),\n",
        "  keras.layers.AveragePooling2D(2),\n",
        "  keras.layers.Dropout(0.2),\n",
        "  keras.layers.Conv2D(3, 4),\n",
        "  keras.layers.Conv2D(3, 4),\n",
        "  keras.layers.Activation('relu'),\n",
        "  keras.layers.AveragePooling2D(2),\n",
        "  keras.layers.Dropout(0.2),\n",
        "  keras.layers.Conv2D(3, 4),\n",
        "  keras.layers.Conv2D(3, 4),\n",
        "  keras.layers.Activation('relu'),\n",
        "  keras.layers.AveragePooling2D(2),\n",
        "  keras.layers.Dropout(0.2),\n",
        "  keras.layers.Flatten(),\n",
        "  keras.layers.Dense(units=1024, activation='relu'),\n",
        "  keras.layers.Dense(units=512, activation='relu'),\n",
        "  keras.layers.Dense(units=256, activation='relu'),\n",
        "  keras.layers.Dense(units=128, activation='relu'),\n",
        "  keras.layers.Dense(units=64, activation='relu'),\n",
        "  keras.layers.Dense(units=6, activation='softmax')\n",
        "])\n",
        "\n",
        "model.compile(loss='CategoricalCrossentropy', optimizer=\"adam\", metrics=['accuracy'])"
      ],
      "metadata": {
        "id": "CowlWhB-t9HB"
      },
      "execution_count": null,
      "outputs": []
    },
    {
      "cell_type": "markdown",
      "source": [
        "## Training"
      ],
      "metadata": {
        "id": "xi0ap029sVZ3"
      }
    },
    {
      "cell_type": "code",
      "source": [
        "#Read all pngs from the train set\n",
        "data_path = '/your/path/'\n",
        "pngs = glob.glob(data_path + 'IC_0.*/sample*png')\n",
        "\n",
        "ims = {}\n",
        "for png in pngs:\n",
        "    ims[png]=np.array(PIL.Image.open(png).convert('L'))"
      ],
      "metadata": {
        "id": "7eA0kwAwsVZ3"
      },
      "execution_count": null,
      "outputs": []
    },
    {
      "cell_type": "code",
      "source": [
        "#Questions = images\n",
        "#Solutions = a parameter that generated that image\n",
        "\n",
        "questions = np.array([each for each in ims.values()]).astype(np.float32)\n",
        "solutions_swp = np.array([float(each.split('/')[-1].split('.')[0])/(1e16)\n",
        "                            for each in ims]).astype(np.float32)\n",
        "\n",
        "solutions = []\n",
        "for n in solutions_swp:\n",
        "  solutions.append(parameter_stratification(n))"
      ],
      "metadata": {
        "id": "SdjHTMxwsVZ3"
      },
      "execution_count": null,
      "outputs": []
    },
    {
      "cell_type": "code",
      "source": [
        "N_size = 100\n",
        "\n",
        "#Train/test split (gnuplot data):\n",
        "X_train, X_test, y_train, y_test = train_test_split(questions, solutions, test_size=0.3, random_state=42)\n",
        "\n",
        "X_train = X_train.reshape(-1, N_size, N_size, 1)\n",
        "X_test = X_test.reshape(-1, N_size, N_size, 1)"
      ],
      "metadata": {
        "id": "2XvRMSnUKeVl"
      },
      "execution_count": null,
      "outputs": []
    },
    {
      "cell_type": "code",
      "source": [
        "# Get one hot encoding\n",
        "y_train = keras.utils.to_categorical(y_train)\n",
        "y_test = keras.utils.to_categorical(y_test)"
      ],
      "metadata": {
        "id": "0ffXyTQ0osl3"
      },
      "execution_count": null,
      "outputs": []
    },
    {
      "cell_type": "code",
      "source": [
        "early_stopping = callbacks.EarlyStopping(\n",
        "    min_delta=0.001, # minimium amount of change to count as an improvement\n",
        "    patience=20, # how many epochs to wait before stopping\n",
        "    restore_best_weights=True,\n",
        ")"
      ],
      "metadata": {
        "id": "co1Gz5I8sVZ3"
      },
      "execution_count": null,
      "outputs": []
    },
    {
      "cell_type": "code",
      "source": [
        "#Complete region\n",
        "history = model.fit(\n",
        "    X_train, y_train,\n",
        "    validation_data=(X_test, y_test),\n",
        "    batch_size=100,\n",
        "    epochs=300,\n",
        "    callbacks=[early_stopping], # put your callbacks in a list\n",
        "    verbose=1,  # turn off training log\n",
        "    shuffle=False\n",
        ")\n",
        "\n",
        "history_df = pd.DataFrame(history.history)\n",
        "history_df.loc[:, ['loss', 'val_loss']].plot();\n",
        "print(\"Minimum validation loss: {}\".format(history_df['val_loss'].min()))"
      ],
      "metadata": {
        "id": "VapuFf4mKSru",
        "colab": {
          "base_uri": "https://localhost:8080/",
          "height": 1000
        },
        "outputId": "3ced1406-30aa-4f14-dc90-3b09736e6293"
      },
      "execution_count": null,
      "outputs": [
        {
          "output_type": "stream",
          "name": "stderr",
          "text": [
            "2025-02-20 11:24:35.712908: W external/local_tsl/tsl/framework/cpu_allocator_impl.cc:83] Allocation of 1148000000 exceeds 10% of free system memory.\n",
            "2025-02-20 11:24:36.402660: W external/local_tsl/tsl/framework/cpu_allocator_impl.cc:83] Allocation of 1148000000 exceeds 10% of free system memory.\n"
          ]
        },
        {
          "output_type": "stream",
          "name": "stdout",
          "text": [
            "Epoch 1/300\n"
          ]
        },
        {
          "output_type": "stream",
          "name": "stderr",
          "text": [
            "2025-02-20 11:24:36.939118: W external/local_tsl/tsl/framework/cpu_allocator_impl.cc:83] Allocation of 1148000000 exceeds 10% of free system memory.\n",
            "WARNING: All log messages before absl::InitializeLog() is called are written to STDERR\n",
            "I0000 00:00:1740061479.369397   60019 service.cc:145] XLA service 0x55cc74abb360 initialized for platform CUDA (this does not guarantee that XLA will be used). Devices:\n",
            "I0000 00:00:1740061479.369421   60019 service.cc:153]   StreamExecutor device (0): NVIDIA GeForce RTX 2060 SUPER, Compute Capability 7.5\n",
            "2025-02-20 11:24:39.420348: I tensorflow/compiler/mlir/tensorflow/utils/dump_mlir_util.cc:268] disabling MLIR crash reproducer, set env var `MLIR_CRASH_REPRODUCER_DIRECTORY` to enable.\n",
            "2025-02-20 11:24:39.656472: I external/local_xla/xla/stream_executor/cuda/cuda_dnn.cc:465] Loaded cuDNN version 8907\n"
          ]
        },
        {
          "output_type": "stream",
          "name": "stdout",
          "text": [
            "\u001b[1m 12/287\u001b[0m \u001b[37m━━━━━━━━━━━━━━━━━━━━\u001b[0m \u001b[1m4s\u001b[0m 16ms/step - accuracy: 0.4319 - loss: 1.6084"
          ]
        },
        {
          "output_type": "stream",
          "name": "stderr",
          "text": [
            "WARNING: All log messages before absl::InitializeLog() is called are written to STDERR\n",
            "I0000 00:00:1740061484.803284   60019 asm_compiler.cc:369] ptxas warning : Registers are spilled to local memory in function 'input_reduce_select_fusion_2', 8 bytes spill stores, 8 bytes spill loads\n",
            "\n",
            "I0000 00:00:1740061484.810044   60019 device_compiler.h:188] Compiled cluster using XLA!  This line is logged at most once for the lifetime of the process.\n"
          ]
        },
        {
          "output_type": "stream",
          "name": "stdout",
          "text": [
            "\u001b[1m287/287\u001b[0m \u001b[32m━━━━━━━━━━━━━━━━━━━━\u001b[0m\u001b[37m\u001b[0m \u001b[1m13s\u001b[0m 18ms/step - accuracy: 0.7298 - loss: 0.7383 - val_accuracy: 0.8107 - val_loss: 0.3363\n",
            "Epoch 2/300\n",
            "\u001b[1m287/287\u001b[0m \u001b[32m━━━━━━━━━━━━━━━━━━━━\u001b[0m\u001b[37m\u001b[0m \u001b[1m4s\u001b[0m 14ms/step - accuracy: 0.8907 - loss: 0.2621 - val_accuracy: 0.9208 - val_loss: 0.2297\n",
            "Epoch 3/300\n",
            "\u001b[1m287/287\u001b[0m \u001b[32m━━━━━━━━━━━━━━━━━━━━\u001b[0m\u001b[37m\u001b[0m \u001b[1m4s\u001b[0m 14ms/step - accuracy: 0.9156 - loss: 0.2186 - val_accuracy: 0.9372 - val_loss: 0.1752\n",
            "Epoch 4/300\n",
            "\u001b[1m287/287\u001b[0m \u001b[32m━━━━━━━━━━━━━━━━━━━━\u001b[0m\u001b[37m\u001b[0m \u001b[1m4s\u001b[0m 14ms/step - accuracy: 0.9290 - loss: 0.1825 - val_accuracy: 0.9430 - val_loss: 0.1659\n",
            "Epoch 5/300\n",
            "\u001b[1m287/287\u001b[0m \u001b[32m━━━━━━━━━━━━━━━━━━━━\u001b[0m\u001b[37m\u001b[0m \u001b[1m4s\u001b[0m 13ms/step - accuracy: 0.9365 - loss: 0.1676 - val_accuracy: 0.9447 - val_loss: 0.1533\n",
            "Epoch 6/300\n",
            "\u001b[1m287/287\u001b[0m \u001b[32m━━━━━━━━━━━━━━━━━━━━\u001b[0m\u001b[37m\u001b[0m \u001b[1m4s\u001b[0m 13ms/step - accuracy: 0.9398 - loss: 0.1570 - val_accuracy: 0.9523 - val_loss: 0.1484\n",
            "Epoch 7/300\n",
            "\u001b[1m287/287\u001b[0m \u001b[32m━━━━━━━━━━━━━━━━━━━━\u001b[0m\u001b[37m\u001b[0m \u001b[1m4s\u001b[0m 14ms/step - accuracy: 0.9456 - loss: 0.1465 - val_accuracy: 0.9569 - val_loss: 0.1316\n",
            "Epoch 8/300\n",
            "\u001b[1m287/287\u001b[0m \u001b[32m━━━━━━━━━━━━━━━━━━━━\u001b[0m\u001b[37m\u001b[0m \u001b[1m4s\u001b[0m 14ms/step - accuracy: 0.9488 - loss: 0.1406 - val_accuracy: 0.9615 - val_loss: 0.1180\n",
            "Epoch 9/300\n",
            "\u001b[1m287/287\u001b[0m \u001b[32m━━━━━━━━━━━━━━━━━━━━\u001b[0m\u001b[37m\u001b[0m \u001b[1m4s\u001b[0m 13ms/step - accuracy: 0.9524 - loss: 0.1301 - val_accuracy: 0.9600 - val_loss: 0.1149\n",
            "Epoch 10/300\n",
            "\u001b[1m287/287\u001b[0m \u001b[32m━━━━━━━━━━━━━━━━━━━━\u001b[0m\u001b[37m\u001b[0m \u001b[1m4s\u001b[0m 14ms/step - accuracy: 0.9493 - loss: 0.1326 - val_accuracy: 0.9658 - val_loss: 0.1034\n",
            "Epoch 11/300\n",
            "\u001b[1m287/287\u001b[0m \u001b[32m━━━━━━━━━━━━━━━━━━━━\u001b[0m\u001b[37m\u001b[0m \u001b[1m4s\u001b[0m 14ms/step - accuracy: 0.9619 - loss: 0.1074 - val_accuracy: 0.9686 - val_loss: 0.0884\n",
            "Epoch 12/300\n",
            "\u001b[1m287/287\u001b[0m \u001b[32m━━━━━━━━━━━━━━━━━━━━\u001b[0m\u001b[37m\u001b[0m \u001b[1m4s\u001b[0m 13ms/step - accuracy: 0.9663 - loss: 0.0952 - val_accuracy: 0.9665 - val_loss: 0.0954\n",
            "Epoch 13/300\n",
            "\u001b[1m287/287\u001b[0m \u001b[32m━━━━━━━━━━━━━━━━━━━━\u001b[0m\u001b[37m\u001b[0m \u001b[1m4s\u001b[0m 13ms/step - accuracy: 0.9703 - loss: 0.0847 - val_accuracy: 0.9770 - val_loss: 0.0747\n",
            "Epoch 14/300\n",
            "\u001b[1m287/287\u001b[0m \u001b[32m━━━━━━━━━━━━━━━━━━━━\u001b[0m\u001b[37m\u001b[0m \u001b[1m4s\u001b[0m 14ms/step - accuracy: 0.9708 - loss: 0.0830 - val_accuracy: 0.9797 - val_loss: 0.0641\n",
            "Epoch 15/300\n",
            "\u001b[1m287/287\u001b[0m \u001b[32m━━━━━━━━━━━━━━━━━━━━\u001b[0m\u001b[37m\u001b[0m \u001b[1m4s\u001b[0m 14ms/step - accuracy: 0.9712 - loss: 0.0794 - val_accuracy: 0.9788 - val_loss: 0.0664\n",
            "Epoch 16/300\n",
            "\u001b[1m287/287\u001b[0m \u001b[32m━━━━━━━━━━━━━━━━━━━━\u001b[0m\u001b[37m\u001b[0m \u001b[1m4s\u001b[0m 14ms/step - accuracy: 0.9734 - loss: 0.0768 - val_accuracy: 0.9780 - val_loss: 0.0656\n",
            "Epoch 17/300\n",
            "\u001b[1m287/287\u001b[0m \u001b[32m━━━━━━━━━━━━━━━━━━━━\u001b[0m\u001b[37m\u001b[0m \u001b[1m4s\u001b[0m 14ms/step - accuracy: 0.9763 - loss: 0.0685 - val_accuracy: 0.9827 - val_loss: 0.0535\n",
            "Epoch 18/300\n",
            "\u001b[1m287/287\u001b[0m \u001b[32m━━━━━━━━━━━━━━━━━━━━\u001b[0m\u001b[37m\u001b[0m \u001b[1m4s\u001b[0m 14ms/step - accuracy: 0.9769 - loss: 0.0652 - val_accuracy: 0.9768 - val_loss: 0.0698\n",
            "Epoch 19/300\n",
            "\u001b[1m287/287\u001b[0m \u001b[32m━━━━━━━━━━━━━━━━━━━━\u001b[0m\u001b[37m\u001b[0m \u001b[1m4s\u001b[0m 14ms/step - accuracy: 0.9779 - loss: 0.0612 - val_accuracy: 0.9847 - val_loss: 0.0513\n",
            "Epoch 20/300\n",
            "\u001b[1m287/287\u001b[0m \u001b[32m━━━━━━━━━━━━━━━━━━━━\u001b[0m\u001b[37m\u001b[0m \u001b[1m4s\u001b[0m 14ms/step - accuracy: 0.9776 - loss: 0.0666 - val_accuracy: 0.9849 - val_loss: 0.0471\n",
            "Epoch 21/300\n",
            "\u001b[1m287/287\u001b[0m \u001b[32m━━━━━━━━━━━━━━━━━━━━\u001b[0m\u001b[37m\u001b[0m \u001b[1m4s\u001b[0m 14ms/step - accuracy: 0.9795 - loss: 0.0595 - val_accuracy: 0.9768 - val_loss: 0.0651\n",
            "Epoch 22/300\n",
            "\u001b[1m287/287\u001b[0m \u001b[32m━━━━━━━━━━━━━━━━━━━━\u001b[0m\u001b[37m\u001b[0m \u001b[1m4s\u001b[0m 14ms/step - accuracy: 0.9792 - loss: 0.0603 - val_accuracy: 0.9786 - val_loss: 0.0580\n",
            "Epoch 23/300\n",
            "\u001b[1m287/287\u001b[0m \u001b[32m━━━━━━━━━━━━━━━━━━━━\u001b[0m\u001b[37m\u001b[0m \u001b[1m4s\u001b[0m 14ms/step - accuracy: 0.9813 - loss: 0.0555 - val_accuracy: 0.9790 - val_loss: 0.0626\n",
            "Epoch 24/300\n",
            "\u001b[1m287/287\u001b[0m \u001b[32m━━━━━━━━━━━━━━━━━━━━\u001b[0m\u001b[37m\u001b[0m \u001b[1m4s\u001b[0m 15ms/step - accuracy: 0.9797 - loss: 0.0586 - val_accuracy: 0.9848 - val_loss: 0.0485\n",
            "Epoch 25/300\n",
            "\u001b[1m287/287\u001b[0m \u001b[32m━━━━━━━━━━━━━━━━━━━━\u001b[0m\u001b[37m\u001b[0m \u001b[1m4s\u001b[0m 15ms/step - accuracy: 0.9800 - loss: 0.0570 - val_accuracy: 0.9819 - val_loss: 0.0511\n",
            "Epoch 26/300\n",
            "\u001b[1m287/287\u001b[0m \u001b[32m━━━━━━━━━━━━━━━━━━━━\u001b[0m\u001b[37m\u001b[0m \u001b[1m4s\u001b[0m 14ms/step - accuracy: 0.9798 - loss: 0.0589 - val_accuracy: 0.9727 - val_loss: 0.0692\n",
            "Epoch 27/300\n",
            "\u001b[1m287/287\u001b[0m \u001b[32m━━━━━━━━━━━━━━━━━━━━\u001b[0m\u001b[37m\u001b[0m \u001b[1m4s\u001b[0m 14ms/step - accuracy: 0.9819 - loss: 0.0516 - val_accuracy: 0.9736 - val_loss: 0.0730\n",
            "Epoch 28/300\n",
            "\u001b[1m287/287\u001b[0m \u001b[32m━━━━━━━━━━━━━━━━━━━━\u001b[0m\u001b[37m\u001b[0m \u001b[1m4s\u001b[0m 14ms/step - accuracy: 0.9819 - loss: 0.0520 - val_accuracy: 0.9865 - val_loss: 0.0447\n",
            "Epoch 29/300\n",
            "\u001b[1m287/287\u001b[0m \u001b[32m━━━━━━━━━━━━━━━━━━━━\u001b[0m\u001b[37m\u001b[0m \u001b[1m4s\u001b[0m 14ms/step - accuracy: 0.9817 - loss: 0.0527 - val_accuracy: 0.9764 - val_loss: 0.0694\n",
            "Epoch 30/300\n",
            "\u001b[1m287/287\u001b[0m \u001b[32m━━━━━━━━━━━━━━━━━━━━\u001b[0m\u001b[37m\u001b[0m \u001b[1m4s\u001b[0m 13ms/step - accuracy: 0.9833 - loss: 0.0502 - val_accuracy: 0.9646 - val_loss: 0.1013\n",
            "Epoch 31/300\n",
            "\u001b[1m287/287\u001b[0m \u001b[32m━━━━━━━━━━━━━━━━━━━━\u001b[0m\u001b[37m\u001b[0m \u001b[1m4s\u001b[0m 13ms/step - accuracy: 0.9826 - loss: 0.0516 - val_accuracy: 0.9790 - val_loss: 0.0631\n",
            "Epoch 32/300\n",
            "\u001b[1m287/287\u001b[0m \u001b[32m━━━━━━━━━━━━━━━━━━━━\u001b[0m\u001b[37m\u001b[0m \u001b[1m4s\u001b[0m 13ms/step - accuracy: 0.9839 - loss: 0.0480 - val_accuracy: 0.9826 - val_loss: 0.0520\n",
            "Epoch 33/300\n",
            "\u001b[1m287/287\u001b[0m \u001b[32m━━━━━━━━━━━━━━━━━━━━\u001b[0m\u001b[37m\u001b[0m \u001b[1m4s\u001b[0m 13ms/step - accuracy: 0.9839 - loss: 0.0451 - val_accuracy: 0.9818 - val_loss: 0.0487\n",
            "Epoch 34/300\n",
            "\u001b[1m287/287\u001b[0m \u001b[32m━━━━━━━━━━━━━━━━━━━━\u001b[0m\u001b[37m\u001b[0m \u001b[1m4s\u001b[0m 12ms/step - accuracy: 0.9831 - loss: 0.0485 - val_accuracy: 0.9711 - val_loss: 0.0848\n",
            "Epoch 35/300\n",
            "\u001b[1m287/287\u001b[0m \u001b[32m━━━━━━━━━━━━━━━━━━━━\u001b[0m\u001b[37m\u001b[0m \u001b[1m4s\u001b[0m 13ms/step - accuracy: 0.9824 - loss: 0.0523 - val_accuracy: 0.9750 - val_loss: 0.0720\n",
            "Epoch 36/300\n",
            "\u001b[1m287/287\u001b[0m \u001b[32m━━━━━━━━━━━━━━━━━━━━\u001b[0m\u001b[37m\u001b[0m \u001b[1m4s\u001b[0m 13ms/step - accuracy: 0.9850 - loss: 0.0443 - val_accuracy: 0.9715 - val_loss: 0.0845\n",
            "Epoch 37/300\n",
            "\u001b[1m287/287\u001b[0m \u001b[32m━━━━━━━━━━━━━━━━━━━━\u001b[0m\u001b[37m\u001b[0m \u001b[1m4s\u001b[0m 12ms/step - accuracy: 0.9837 - loss: 0.0465 - val_accuracy: 0.9824 - val_loss: 0.0500\n",
            "Epoch 38/300\n",
            "\u001b[1m287/287\u001b[0m \u001b[32m━━━━━━━━━━━━━━━━━━━━\u001b[0m\u001b[37m\u001b[0m \u001b[1m4s\u001b[0m 12ms/step - accuracy: 0.9849 - loss: 0.0453 - val_accuracy: 0.9847 - val_loss: 0.0455\n",
            "Epoch 39/300\n",
            "\u001b[1m287/287\u001b[0m \u001b[32m━━━━━━━━━━━━━━━━━━━━\u001b[0m\u001b[37m\u001b[0m \u001b[1m4s\u001b[0m 12ms/step - accuracy: 0.9846 - loss: 0.0425 - val_accuracy: 0.9718 - val_loss: 0.0794\n",
            "Epoch 40/300\n",
            "\u001b[1m287/287\u001b[0m \u001b[32m━━━━━━━━━━━━━━━━━━━━\u001b[0m\u001b[37m\u001b[0m \u001b[1m4s\u001b[0m 13ms/step - accuracy: 0.9842 - loss: 0.0423 - val_accuracy: 0.9724 - val_loss: 0.0757\n",
            "Epoch 41/300\n",
            "\u001b[1m287/287\u001b[0m \u001b[32m━━━━━━━━━━━━━━━━━━━━\u001b[0m\u001b[37m\u001b[0m \u001b[1m4s\u001b[0m 13ms/step - accuracy: 0.9876 - loss: 0.0379 - val_accuracy: 0.9832 - val_loss: 0.0499\n",
            "Epoch 42/300\n",
            "\u001b[1m287/287\u001b[0m \u001b[32m━━━━━━━━━━━━━━━━━━━━\u001b[0m\u001b[37m\u001b[0m \u001b[1m4s\u001b[0m 13ms/step - accuracy: 0.9876 - loss: 0.0370 - val_accuracy: 0.9785 - val_loss: 0.0650\n",
            "Epoch 43/300\n",
            "\u001b[1m287/287\u001b[0m \u001b[32m━━━━━━━━━━━━━━━━━━━━\u001b[0m\u001b[37m\u001b[0m \u001b[1m4s\u001b[0m 13ms/step - accuracy: 0.9873 - loss: 0.0382 - val_accuracy: 0.9778 - val_loss: 0.0631\n",
            "Epoch 44/300\n",
            "\u001b[1m287/287\u001b[0m \u001b[32m━━━━━━━━━━━━━━━━━━━━\u001b[0m\u001b[37m\u001b[0m \u001b[1m4s\u001b[0m 13ms/step - accuracy: 0.9863 - loss: 0.0388 - val_accuracy: 0.9793 - val_loss: 0.0569\n",
            "Epoch 45/300\n",
            "\u001b[1m287/287\u001b[0m \u001b[32m━━━━━━━━━━━━━━━━━━━━\u001b[0m\u001b[37m\u001b[0m \u001b[1m4s\u001b[0m 13ms/step - accuracy: 0.9877 - loss: 0.0373 - val_accuracy: 0.9711 - val_loss: 0.0778\n",
            "Epoch 46/300\n",
            "\u001b[1m287/287\u001b[0m \u001b[32m━━━━━━━━━━━━━━━━━━━━\u001b[0m\u001b[37m\u001b[0m \u001b[1m4s\u001b[0m 13ms/step - accuracy: 0.9842 - loss: 0.0498 - val_accuracy: 0.9857 - val_loss: 0.0421\n",
            "Epoch 47/300\n",
            "\u001b[1m287/287\u001b[0m \u001b[32m━━━━━━━━━━━━━━━━━━━━\u001b[0m\u001b[37m\u001b[0m \u001b[1m4s\u001b[0m 13ms/step - accuracy: 0.9877 - loss: 0.0366 - val_accuracy: 0.9570 - val_loss: 0.1380\n",
            "Epoch 48/300\n",
            "\u001b[1m287/287\u001b[0m \u001b[32m━━━━━━━━━━━━━━━━━━━━\u001b[0m\u001b[37m\u001b[0m \u001b[1m4s\u001b[0m 12ms/step - accuracy: 0.9853 - loss: 0.0443 - val_accuracy: 0.9890 - val_loss: 0.0384\n",
            "Epoch 49/300\n",
            "\u001b[1m287/287\u001b[0m \u001b[32m━━━━━━━━━━━━━━━━━━━━\u001b[0m\u001b[37m\u001b[0m \u001b[1m4s\u001b[0m 12ms/step - accuracy: 0.9881 - loss: 0.0367 - val_accuracy: 0.9823 - val_loss: 0.0442\n",
            "Epoch 50/300\n",
            "\u001b[1m287/287\u001b[0m \u001b[32m━━━━━━━━━━━━━━━━━━━━\u001b[0m\u001b[37m\u001b[0m \u001b[1m4s\u001b[0m 13ms/step - accuracy: 0.9885 - loss: 0.0330 - val_accuracy: 0.9892 - val_loss: 0.0319\n",
            "Epoch 51/300\n",
            "\u001b[1m287/287\u001b[0m \u001b[32m━━━━━━━━━━━━━━━━━━━━\u001b[0m\u001b[37m\u001b[0m \u001b[1m4s\u001b[0m 13ms/step - accuracy: 0.9891 - loss: 0.0357 - val_accuracy: 0.9830 - val_loss: 0.0497\n",
            "Epoch 52/300\n",
            "\u001b[1m287/287\u001b[0m \u001b[32m━━━━━━━━━━━━━━━━━━━━\u001b[0m\u001b[37m\u001b[0m \u001b[1m4s\u001b[0m 13ms/step - accuracy: 0.9870 - loss: 0.0375 - val_accuracy: 0.9820 - val_loss: 0.0488\n",
            "Epoch 53/300\n",
            "\u001b[1m287/287\u001b[0m \u001b[32m━━━━━━━━━━━━━━━━━━━━\u001b[0m\u001b[37m\u001b[0m \u001b[1m4s\u001b[0m 13ms/step - accuracy: 0.9871 - loss: 0.0366 - val_accuracy: 0.9871 - val_loss: 0.0412\n",
            "Epoch 54/300\n",
            "\u001b[1m287/287\u001b[0m \u001b[32m━━━━━━━━━━━━━━━━━━━━\u001b[0m\u001b[37m\u001b[0m \u001b[1m4s\u001b[0m 12ms/step - accuracy: 0.9878 - loss: 0.0371 - val_accuracy: 0.9802 - val_loss: 0.0480\n",
            "Epoch 55/300\n",
            "\u001b[1m287/287\u001b[0m \u001b[32m━━━━━━━━━━━━━━━━━━━━\u001b[0m\u001b[37m\u001b[0m \u001b[1m4s\u001b[0m 13ms/step - accuracy: 0.9862 - loss: 0.0423 - val_accuracy: 0.9864 - val_loss: 0.0449\n",
            "Epoch 56/300\n",
            "\u001b[1m287/287\u001b[0m \u001b[32m━━━━━━━━━━━━━━━━━━━━\u001b[0m\u001b[37m\u001b[0m \u001b[1m4s\u001b[0m 13ms/step - accuracy: 0.9883 - loss: 0.0342 - val_accuracy: 0.9884 - val_loss: 0.0388\n",
            "Epoch 57/300\n",
            "\u001b[1m287/287\u001b[0m \u001b[32m━━━━━━━━━━━━━━━━━━━━\u001b[0m\u001b[37m\u001b[0m \u001b[1m4s\u001b[0m 12ms/step - accuracy: 0.9886 - loss: 0.0346 - val_accuracy: 0.9871 - val_loss: 0.0445\n",
            "Epoch 58/300\n",
            "\u001b[1m287/287\u001b[0m \u001b[32m━━━━━━━━━━━━━━━━━━━━\u001b[0m\u001b[37m\u001b[0m \u001b[1m4s\u001b[0m 13ms/step - accuracy: 0.9891 - loss: 0.0324 - val_accuracy: 0.9271 - val_loss: 0.2412\n",
            "Epoch 59/300\n",
            "\u001b[1m287/287\u001b[0m \u001b[32m━━━━━━━━━━━━━━━━━━━━\u001b[0m\u001b[37m\u001b[0m \u001b[1m4s\u001b[0m 13ms/step - accuracy: 0.9861 - loss: 0.0442 - val_accuracy: 0.9842 - val_loss: 0.0530\n",
            "Epoch 60/300\n",
            "\u001b[1m287/287\u001b[0m \u001b[32m━━━━━━━━━━━━━━━━━━━━\u001b[0m\u001b[37m\u001b[0m \u001b[1m4s\u001b[0m 13ms/step - accuracy: 0.9875 - loss: 0.0398 - val_accuracy: 0.9784 - val_loss: 0.0587\n",
            "Epoch 61/300\n",
            "\u001b[1m287/287\u001b[0m \u001b[32m━━━━━━━━━━━━━━━━━━━━\u001b[0m\u001b[37m\u001b[0m \u001b[1m4s\u001b[0m 13ms/step - accuracy: 0.9889 - loss: 0.0320 - val_accuracy: 0.9854 - val_loss: 0.0489\n",
            "Epoch 62/300\n",
            "\u001b[1m287/287\u001b[0m \u001b[32m━━━━━━━━━━━━━━━━━━━━\u001b[0m\u001b[37m\u001b[0m \u001b[1m4s\u001b[0m 13ms/step - accuracy: 0.9887 - loss: 0.0321 - val_accuracy: 0.9878 - val_loss: 0.0472\n",
            "Epoch 63/300\n",
            "\u001b[1m287/287\u001b[0m \u001b[32m━━━━━━━━━━━━━━━━━━━━\u001b[0m\u001b[37m\u001b[0m \u001b[1m4s\u001b[0m 13ms/step - accuracy: 0.9884 - loss: 0.0367 - val_accuracy: 0.9876 - val_loss: 0.0363\n",
            "Epoch 64/300\n",
            "\u001b[1m287/287\u001b[0m \u001b[32m━━━━━━━━━━━━━━━━━━━━\u001b[0m\u001b[37m\u001b[0m \u001b[1m4s\u001b[0m 13ms/step - accuracy: 0.9903 - loss: 0.0291 - val_accuracy: 0.9887 - val_loss: 0.0365\n",
            "Epoch 65/300\n",
            "\u001b[1m287/287\u001b[0m \u001b[32m━━━━━━━━━━━━━━━━━━━━\u001b[0m\u001b[37m\u001b[0m \u001b[1m4s\u001b[0m 13ms/step - accuracy: 0.9899 - loss: 0.0299 - val_accuracy: 0.9823 - val_loss: 0.0522\n",
            "Epoch 66/300\n",
            "\u001b[1m287/287\u001b[0m \u001b[32m━━━━━━━━━━━━━━━━━━━━\u001b[0m\u001b[37m\u001b[0m \u001b[1m4s\u001b[0m 13ms/step - accuracy: 0.9898 - loss: 0.0303 - val_accuracy: 0.9731 - val_loss: 0.0836\n",
            "Epoch 67/300\n",
            "\u001b[1m287/287\u001b[0m \u001b[32m━━━━━━━━━━━━━━━━━━━━\u001b[0m\u001b[37m\u001b[0m \u001b[1m4s\u001b[0m 14ms/step - accuracy: 0.9874 - loss: 0.0406 - val_accuracy: 0.9862 - val_loss: 0.0507\n",
            "Epoch 68/300\n",
            "\u001b[1m287/287\u001b[0m \u001b[32m━━━━━━━━━━━━━━━━━━━━\u001b[0m\u001b[37m\u001b[0m \u001b[1m4s\u001b[0m 13ms/step - accuracy: 0.9881 - loss: 0.0359 - val_accuracy: 0.9877 - val_loss: 0.0478\n",
            "Epoch 69/300\n",
            "\u001b[1m287/287\u001b[0m \u001b[32m━━━━━━━━━━━━━━━━━━━━\u001b[0m\u001b[37m\u001b[0m \u001b[1m4s\u001b[0m 13ms/step - accuracy: 0.9889 - loss: 0.0332 - val_accuracy: 0.9838 - val_loss: 0.0593\n",
            "Epoch 70/300\n",
            "\u001b[1m287/287\u001b[0m \u001b[32m━━━━━━━━━━━━━━━━━━━━\u001b[0m\u001b[37m\u001b[0m \u001b[1m4s\u001b[0m 14ms/step - accuracy: 0.9868 - loss: 0.0377 - val_accuracy: 0.9876 - val_loss: 0.0524\n",
            "Minimum validation loss: 0.031889960169792175\n"
          ]
        },
        {
          "output_type": "display_data",
          "data": {
            "text/plain": [
              "<Figure size 432x288 with 1 Axes>"
            ],
            "image/png": "[encoded data removed]"
          },
          "metadata": {
            "needs_background": "light"
          }
        }
      ]
    },
    {
      "cell_type": "code",
      "source": [
        "#Chaotic region\n",
        "history = model.fit(\n",
        "    X_train, y_train,\n",
        "    validation_data=(X_test, y_test),\n",
        "    batch_size=100,\n",
        "    epochs=300,\n",
        "    callbacks=[early_stopping], # put your callbacks in a list\n",
        "    verbose=1,  # turn off training log\n",
        "    shuffle=False\n",
        ")\n",
        "\n",
        "history_df = pd.DataFrame(history.history)\n",
        "history_df.loc[:, ['loss', 'val_loss']].plot();\n",
        "print(\"Minimum validation loss: {}\".format(history_df['val_loss'].min()))"
      ],
      "metadata": {
        "colab": {
          "base_uri": "https://localhost:8080/",
          "height": 1000
        },
        "id": "KGcvtGYU6xGZ",
        "outputId": "06b710a7-28ea-46d4-917b-292715baca4d"
      },
      "execution_count": null,
      "outputs": [
        {
          "output_type": "stream",
          "name": "stderr",
          "text": [
            "2025-02-20 11:16:47.511651: W external/local_tsl/tsl/framework/cpu_allocator_impl.cc:83] Allocation of 1120080000 exceeds 10% of free system memory.\n",
            "2025-02-20 11:16:48.193400: W external/local_tsl/tsl/framework/cpu_allocator_impl.cc:83] Allocation of 1120080000 exceeds 10% of free system memory.\n"
          ]
        },
        {
          "output_type": "stream",
          "name": "stdout",
          "text": [
            "Epoch 1/300\n"
          ]
        },
        {
          "output_type": "stream",
          "name": "stderr",
          "text": [
            "2025-02-20 11:16:48.724118: W external/local_tsl/tsl/framework/cpu_allocator_impl.cc:83] Allocation of 1120080000 exceeds 10% of free system memory.\n",
            "WARNING: All log messages before absl::InitializeLog() is called are written to STDERR\n",
            "I0000 00:00:1740061011.161309   56638 service.cc:145] XLA service 0x7f8730014690 initialized for platform CUDA (this does not guarantee that XLA will be used). Devices:\n",
            "I0000 00:00:1740061011.161337   56638 service.cc:153]   StreamExecutor device (0): NVIDIA GeForce RTX 2060 SUPER, Compute Capability 7.5\n",
            "2025-02-20 11:16:51.212971: I tensorflow/compiler/mlir/tensorflow/utils/dump_mlir_util.cc:268] disabling MLIR crash reproducer, set env var `MLIR_CRASH_REPRODUCER_DIRECTORY` to enable.\n",
            "2025-02-20 11:16:51.459079: I external/local_xla/xla/stream_executor/cuda/cuda_dnn.cc:465] Loaded cuDNN version 8907\n"
          ]
        },
        {
          "output_type": "stream",
          "name": "stdout",
          "text": [
            "\u001b[1m 11/281\u001b[0m \u001b[37m━━━━━━━━━━━━━━━━━━━━\u001b[0m \u001b[1m4s\u001b[0m 16ms/step - accuracy: 0.4897 - loss: 1.3572"
          ]
        },
        {
          "output_type": "stream",
          "name": "stderr",
          "text": [
            "WARNING: All log messages before absl::InitializeLog() is called are written to STDERR\n",
            "I0000 00:00:1740061016.580958   56638 asm_compiler.cc:369] ptxas warning : Registers are spilled to local memory in function 'input_reduce_select_fusion_2', 8 bytes spill stores, 8 bytes spill loads\n",
            "\n",
            "I0000 00:00:1740061016.590641   56638 device_compiler.h:188] Compiled cluster using XLA!  This line is logged at most once for the lifetime of the process.\n"
          ]
        },
        {
          "output_type": "stream",
          "name": "stdout",
          "text": [
            "\u001b[1m281/281\u001b[0m \u001b[32m━━━━━━━━━━━━━━━━━━━━\u001b[0m\u001b[37m\u001b[0m \u001b[1m18s\u001b[0m 35ms/step - accuracy: 0.6497 - loss: 0.7348 - val_accuracy: 0.8714 - val_loss: 0.2894\n",
            "Epoch 2/300\n",
            "\u001b[1m281/281\u001b[0m \u001b[32m━━━━━━━━━━━━━━━━━━━━\u001b[0m\u001b[37m\u001b[0m \u001b[1m4s\u001b[0m 13ms/step - accuracy: 0.8663 - loss: 0.3075 - val_accuracy: 0.9023 - val_loss: 0.2432\n",
            "Epoch 3/300\n",
            "\u001b[1m281/281\u001b[0m \u001b[32m━━━━━━━━━━━━━━━━━━━━\u001b[0m\u001b[37m\u001b[0m \u001b[1m4s\u001b[0m 13ms/step - accuracy: 0.8883 - loss: 0.2651 - val_accuracy: 0.9059 - val_loss: 0.2348\n",
            "Epoch 4/300\n",
            "\u001b[1m281/281\u001b[0m \u001b[32m━━━━━━━━━━━━━━━━━━━━\u001b[0m\u001b[37m\u001b[0m \u001b[1m4s\u001b[0m 14ms/step - accuracy: 0.8974 - loss: 0.2421 - val_accuracy: 0.9234 - val_loss: 0.2216\n",
            "Epoch 5/300\n",
            "\u001b[1m281/281\u001b[0m \u001b[32m━━━━━━━━━━━━━━━━━━━━\u001b[0m\u001b[37m\u001b[0m \u001b[1m4s\u001b[0m 13ms/step - accuracy: 0.9053 - loss: 0.2298 - val_accuracy: 0.9272 - val_loss: 0.2090\n",
            "Epoch 6/300\n",
            "\u001b[1m281/281\u001b[0m \u001b[32m━━━━━━━━━━━━━━━━━━━━\u001b[0m\u001b[37m\u001b[0m \u001b[1m4s\u001b[0m 14ms/step - accuracy: 0.9168 - loss: 0.2076 - val_accuracy: 0.9344 - val_loss: 0.1857\n",
            "Epoch 7/300\n",
            "\u001b[1m281/281\u001b[0m \u001b[32m━━━━━━━━━━━━━━━━━━━━\u001b[0m\u001b[37m\u001b[0m \u001b[1m4s\u001b[0m 14ms/step - accuracy: 0.9220 - loss: 0.1975 - val_accuracy: 0.9369 - val_loss: 0.1843\n",
            "Epoch 8/300\n",
            "\u001b[1m281/281\u001b[0m \u001b[32m━━━━━━━━━━━━━━━━━━━━\u001b[0m\u001b[37m\u001b[0m \u001b[1m4s\u001b[0m 14ms/step - accuracy: 0.9262 - loss: 0.1882 - val_accuracy: 0.9388 - val_loss: 0.1555\n",
            "Epoch 9/300\n",
            "\u001b[1m281/281\u001b[0m \u001b[32m━━━━━━━━━━━━━━━━━━━━\u001b[0m\u001b[37m\u001b[0m \u001b[1m4s\u001b[0m 14ms/step - accuracy: 0.9240 - loss: 0.1883 - val_accuracy: 0.9507 - val_loss: 0.1322\n",
            "Epoch 10/300\n",
            "\u001b[1m281/281\u001b[0m \u001b[32m━━━━━━━━━━━━━━━━━━━━\u001b[0m\u001b[37m\u001b[0m \u001b[1m4s\u001b[0m 14ms/step - accuracy: 0.9356 - loss: 0.1609 - val_accuracy: 0.9581 - val_loss: 0.1199\n",
            "Epoch 11/300\n",
            "\u001b[1m281/281\u001b[0m \u001b[32m━━━━━━━━━━━━━━━━━━━━\u001b[0m\u001b[37m\u001b[0m \u001b[1m4s\u001b[0m 14ms/step - accuracy: 0.9352 - loss: 0.1579 - val_accuracy: 0.9633 - val_loss: 0.1147\n",
            "Epoch 12/300\n",
            "\u001b[1m281/281\u001b[0m \u001b[32m━━━━━━━━━━━━━━━━━━━━\u001b[0m\u001b[37m\u001b[0m \u001b[1m4s\u001b[0m 14ms/step - accuracy: 0.9378 - loss: 0.1556 - val_accuracy: 0.9607 - val_loss: 0.1236\n",
            "Epoch 13/300\n",
            "\u001b[1m281/281\u001b[0m \u001b[32m━━━━━━━━━━━━━━━━━━━━\u001b[0m\u001b[37m\u001b[0m \u001b[1m5s\u001b[0m 15ms/step - accuracy: 0.9441 - loss: 0.1428 - val_accuracy: 0.9573 - val_loss: 0.1138\n",
            "Epoch 14/300\n",
            "\u001b[1m281/281\u001b[0m \u001b[32m━━━━━━━━━━━━━━━━━━━━\u001b[0m\u001b[37m\u001b[0m \u001b[1m4s\u001b[0m 15ms/step - accuracy: 0.9435 - loss: 0.1412 - val_accuracy: 0.9707 - val_loss: 0.0841\n",
            "Epoch 15/300\n",
            "\u001b[1m281/281\u001b[0m \u001b[32m━━━━━━━━━━━━━━━━━━━━\u001b[0m\u001b[37m\u001b[0m \u001b[1m4s\u001b[0m 15ms/step - accuracy: 0.9509 - loss: 0.1258 - val_accuracy: 0.9763 - val_loss: 0.0739\n",
            "Epoch 16/300\n",
            "\u001b[1m281/281\u001b[0m \u001b[32m━━━━━━━━━━━━━━━━━━━━\u001b[0m\u001b[37m\u001b[0m \u001b[1m4s\u001b[0m 15ms/step - accuracy: 0.9546 - loss: 0.1164 - val_accuracy: 0.9643 - val_loss: 0.1032\n",
            "Epoch 17/300\n",
            "\u001b[1m281/281\u001b[0m \u001b[32m━━━━━━━━━━━━━━━━━━━━\u001b[0m\u001b[37m\u001b[0m \u001b[1m4s\u001b[0m 14ms/step - accuracy: 0.9548 - loss: 0.1193 - val_accuracy: 0.9566 - val_loss: 0.1096\n",
            "Epoch 18/300\n",
            "\u001b[1m281/281\u001b[0m \u001b[32m━━━━━━━━━━━━━━━━━━━━\u001b[0m\u001b[37m\u001b[0m \u001b[1m4s\u001b[0m 14ms/step - accuracy: 0.9549 - loss: 0.1119 - val_accuracy: 0.9788 - val_loss: 0.0668\n",
            "Epoch 19/300\n",
            "\u001b[1m281/281\u001b[0m \u001b[32m━━━━━━━━━━━━━━━━━━━━\u001b[0m\u001b[37m\u001b[0m \u001b[1m4s\u001b[0m 14ms/step - accuracy: 0.9592 - loss: 0.1054 - val_accuracy: 0.9827 - val_loss: 0.0560\n",
            "Epoch 20/300\n",
            "\u001b[1m281/281\u001b[0m \u001b[32m━━━━━━━━━━━━━━━━━━━━\u001b[0m\u001b[37m\u001b[0m \u001b[1m4s\u001b[0m 14ms/step - accuracy: 0.9647 - loss: 0.0968 - val_accuracy: 0.9833 - val_loss: 0.0532\n",
            "Epoch 21/300\n",
            "\u001b[1m281/281\u001b[0m \u001b[32m━━━━━━━━━━━━━━━━━━━━\u001b[0m\u001b[37m\u001b[0m \u001b[1m4s\u001b[0m 14ms/step - accuracy: 0.9629 - loss: 0.0979 - val_accuracy: 0.9761 - val_loss: 0.0609\n",
            "Epoch 22/300\n",
            "\u001b[1m281/281\u001b[0m \u001b[32m━━━━━━━━━━━━━━━━━━━━\u001b[0m\u001b[37m\u001b[0m \u001b[1m4s\u001b[0m 14ms/step - accuracy: 0.9625 - loss: 0.0979 - val_accuracy: 0.9877 - val_loss: 0.0419\n",
            "Epoch 23/300\n",
            "\u001b[1m281/281\u001b[0m \u001b[32m━━━━━━━━━━━━━━━━━━━━\u001b[0m\u001b[37m\u001b[0m \u001b[1m4s\u001b[0m 14ms/step - accuracy: 0.9622 - loss: 0.0947 - val_accuracy: 0.9886 - val_loss: 0.0395\n",
            "Epoch 24/300\n",
            "\u001b[1m281/281\u001b[0m \u001b[32m━━━━━━━━━━━━━━━━━━━━\u001b[0m\u001b[37m\u001b[0m \u001b[1m4s\u001b[0m 14ms/step - accuracy: 0.9669 - loss: 0.0947 - val_accuracy: 0.9858 - val_loss: 0.0436\n",
            "Epoch 25/300\n",
            "\u001b[1m281/281\u001b[0m \u001b[32m━━━━━━━━━━━━━━━━━━━━\u001b[0m\u001b[37m\u001b[0m \u001b[1m4s\u001b[0m 14ms/step - accuracy: 0.9704 - loss: 0.0752 - val_accuracy: 0.9914 - val_loss: 0.0351\n",
            "Epoch 26/300\n",
            "\u001b[1m281/281\u001b[0m \u001b[32m━━━━━━━━━━━━━━━━━━━━\u001b[0m\u001b[37m\u001b[0m \u001b[1m4s\u001b[0m 13ms/step - accuracy: 0.9732 - loss: 0.0723 - val_accuracy: 0.9879 - val_loss: 0.0380\n",
            "Epoch 27/300\n",
            "\u001b[1m281/281\u001b[0m \u001b[32m━━━━━━━━━━━━━━━━━━━━\u001b[0m\u001b[37m\u001b[0m \u001b[1m4s\u001b[0m 14ms/step - accuracy: 0.9737 - loss: 0.0700 - val_accuracy: 0.9880 - val_loss: 0.0403\n",
            "Epoch 28/300\n",
            "\u001b[1m281/281\u001b[0m \u001b[32m━━━━━━━━━━━━━━━━━━━━\u001b[0m\u001b[37m\u001b[0m \u001b[1m4s\u001b[0m 14ms/step - accuracy: 0.9736 - loss: 0.0703 - val_accuracy: 0.9943 - val_loss: 0.0219\n",
            "Epoch 29/300\n",
            "\u001b[1m281/281\u001b[0m \u001b[32m━━━━━━━━━━━━━━━━━━━━\u001b[0m\u001b[37m\u001b[0m \u001b[1m4s\u001b[0m 14ms/step - accuracy: 0.9759 - loss: 0.0653 - val_accuracy: 0.9926 - val_loss: 0.0244\n",
            "Epoch 30/300\n",
            "\u001b[1m281/281\u001b[0m \u001b[32m━━━━━━━━━━━━━━━━━━━━\u001b[0m\u001b[37m\u001b[0m \u001b[1m4s\u001b[0m 14ms/step - accuracy: 0.9757 - loss: 0.0649 - val_accuracy: 0.9868 - val_loss: 0.0357\n",
            "Epoch 31/300\n",
            "\u001b[1m281/281\u001b[0m \u001b[32m━━━━━━━━━━━━━━━━━━━━\u001b[0m\u001b[37m\u001b[0m \u001b[1m4s\u001b[0m 14ms/step - accuracy: 0.9782 - loss: 0.0616 - val_accuracy: 0.9893 - val_loss: 0.0402\n",
            "Epoch 32/300\n",
            "\u001b[1m281/281\u001b[0m \u001b[32m━━━━━━━━━━━━━━━━━━━━\u001b[0m\u001b[37m\u001b[0m \u001b[1m4s\u001b[0m 14ms/step - accuracy: 0.9741 - loss: 0.0652 - val_accuracy: 0.9914 - val_loss: 0.0300\n",
            "Epoch 33/300\n",
            "\u001b[1m281/281\u001b[0m \u001b[32m━━━━━━━━━━━━━━━━━━━━\u001b[0m\u001b[37m\u001b[0m \u001b[1m4s\u001b[0m 14ms/step - accuracy: 0.9804 - loss: 0.0538 - val_accuracy: 0.9933 - val_loss: 0.0226\n",
            "Epoch 34/300\n",
            "\u001b[1m281/281\u001b[0m \u001b[32m━━━━━━━━━━━━━━━━━━━━\u001b[0m\u001b[37m\u001b[0m \u001b[1m4s\u001b[0m 15ms/step - accuracy: 0.9829 - loss: 0.0477 - val_accuracy: 0.9947 - val_loss: 0.0193\n",
            "Epoch 35/300\n",
            "\u001b[1m281/281\u001b[0m \u001b[32m━━━━━━━━━━━━━━━━━━━━\u001b[0m\u001b[37m\u001b[0m \u001b[1m4s\u001b[0m 14ms/step - accuracy: 0.9790 - loss: 0.0539 - val_accuracy: 0.9923 - val_loss: 0.0242\n",
            "Epoch 36/300\n",
            "\u001b[1m281/281\u001b[0m \u001b[32m━━━━━━━━━━━━━━━━━━━━\u001b[0m\u001b[37m\u001b[0m \u001b[1m4s\u001b[0m 14ms/step - accuracy: 0.9840 - loss: 0.0428 - val_accuracy: 0.9952 - val_loss: 0.0164\n",
            "Epoch 37/300\n",
            "\u001b[1m281/281\u001b[0m \u001b[32m━━━━━━━━━━━━━━━━━━━━\u001b[0m\u001b[37m\u001b[0m \u001b[1m4s\u001b[0m 14ms/step - accuracy: 0.9857 - loss: 0.0425 - val_accuracy: 0.9934 - val_loss: 0.0182\n",
            "Epoch 38/300\n",
            "\u001b[1m281/281\u001b[0m \u001b[32m━━━━━━━━━━━━━━━━━━━━\u001b[0m\u001b[37m\u001b[0m \u001b[1m4s\u001b[0m 14ms/step - accuracy: 0.9811 - loss: 0.0535 - val_accuracy: 0.9956 - val_loss: 0.0140\n",
            "Epoch 39/300\n",
            "\u001b[1m281/281\u001b[0m \u001b[32m━━━━━━━━━━━━━━━━━━━━\u001b[0m\u001b[37m\u001b[0m \u001b[1m4s\u001b[0m 14ms/step - accuracy: 0.9878 - loss: 0.0349 - val_accuracy: 0.9965 - val_loss: 0.0140\n",
            "Epoch 40/300\n",
            "\u001b[1m281/281\u001b[0m \u001b[32m━━━━━━━━━━━━━━━━━━━━\u001b[0m\u001b[37m\u001b[0m \u001b[1m4s\u001b[0m 14ms/step - accuracy: 0.9885 - loss: 0.0350 - val_accuracy: 0.9926 - val_loss: 0.0274\n",
            "Epoch 41/300\n",
            "\u001b[1m281/281\u001b[0m \u001b[32m━━━━━━━━━━━━━━━━━━━━\u001b[0m\u001b[37m\u001b[0m \u001b[1m4s\u001b[0m 14ms/step - accuracy: 0.9890 - loss: 0.0357 - val_accuracy: 0.9943 - val_loss: 0.0173\n",
            "Epoch 42/300\n",
            "\u001b[1m281/281\u001b[0m \u001b[32m━━━━━━━━━━━━━━━━━━━━\u001b[0m\u001b[37m\u001b[0m \u001b[1m4s\u001b[0m 14ms/step - accuracy: 0.9797 - loss: 0.0473 - val_accuracy: 0.9721 - val_loss: 0.0521\n",
            "Epoch 43/300\n",
            "\u001b[1m281/281\u001b[0m \u001b[32m━━━━━━━━━━━━━━━━━━━━\u001b[0m\u001b[37m\u001b[0m \u001b[1m4s\u001b[0m 14ms/step - accuracy: 0.9692 - loss: 0.0612 - val_accuracy: 0.9947 - val_loss: 0.0191\n",
            "Epoch 44/300\n",
            "\u001b[1m281/281\u001b[0m \u001b[32m━━━━━━━━━━━━━━━━━━━━\u001b[0m\u001b[37m\u001b[0m \u001b[1m4s\u001b[0m 14ms/step - accuracy: 0.9885 - loss: 0.0313 - val_accuracy: 0.9938 - val_loss: 0.0220\n",
            "Epoch 45/300\n",
            "\u001b[1m281/281\u001b[0m \u001b[32m━━━━━━━━━━━━━━━━━━━━\u001b[0m\u001b[37m\u001b[0m \u001b[1m4s\u001b[0m 14ms/step - accuracy: 0.9908 - loss: 0.0252 - val_accuracy: 0.9957 - val_loss: 0.0161\n",
            "Epoch 46/300\n",
            "\u001b[1m281/281\u001b[0m \u001b[32m━━━━━━━━━━━━━━━━━━━━\u001b[0m\u001b[37m\u001b[0m \u001b[1m4s\u001b[0m 14ms/step - accuracy: 0.9918 - loss: 0.0241 - val_accuracy: 0.9960 - val_loss: 0.0106\n",
            "Epoch 47/300\n",
            "\u001b[1m281/281\u001b[0m \u001b[32m━━━━━━━━━━━━━━━━━━━━\u001b[0m\u001b[37m\u001b[0m \u001b[1m4s\u001b[0m 14ms/step - accuracy: 0.9909 - loss: 0.0274 - val_accuracy: 0.9943 - val_loss: 0.0150\n",
            "Epoch 48/300\n",
            "\u001b[1m281/281\u001b[0m \u001b[32m━━━━━━━━━━━━━━━━━━━━\u001b[0m\u001b[37m\u001b[0m \u001b[1m4s\u001b[0m 14ms/step - accuracy: 0.9923 - loss: 0.0236 - val_accuracy: 0.9978 - val_loss: 0.0090\n",
            "Epoch 49/300\n",
            "\u001b[1m281/281\u001b[0m \u001b[32m━━━━━━━━━━━━━━━━━━━━\u001b[0m\u001b[37m\u001b[0m \u001b[1m4s\u001b[0m 14ms/step - accuracy: 0.9888 - loss: 0.0339 - val_accuracy: 0.9965 - val_loss: 0.0150\n",
            "Epoch 50/300\n",
            "\u001b[1m281/281\u001b[0m \u001b[32m━━━━━━━━━━━━━━━━━━━━\u001b[0m\u001b[37m\u001b[0m \u001b[1m4s\u001b[0m 14ms/step - accuracy: 0.9894 - loss: 0.0334 - val_accuracy: 0.9946 - val_loss: 0.0120\n",
            "Epoch 51/300\n",
            "\u001b[1m281/281\u001b[0m \u001b[32m━━━━━━━━━━━━━━━━━━━━\u001b[0m\u001b[37m\u001b[0m \u001b[1m4s\u001b[0m 14ms/step - accuracy: 0.9899 - loss: 0.0318 - val_accuracy: 0.9978 - val_loss: 0.0073\n",
            "Epoch 52/300\n",
            "\u001b[1m281/281\u001b[0m \u001b[32m━━━━━━━━━━━━━━━━━━━━\u001b[0m\u001b[37m\u001b[0m \u001b[1m4s\u001b[0m 14ms/step - accuracy: 0.9918 - loss: 0.0241 - val_accuracy: 0.9944 - val_loss: 0.0177\n",
            "Epoch 53/300\n",
            "\u001b[1m281/281\u001b[0m \u001b[32m━━━━━━━━━━━━━━━━━━━━\u001b[0m\u001b[37m\u001b[0m \u001b[1m4s\u001b[0m 14ms/step - accuracy: 0.9921 - loss: 0.0229 - val_accuracy: 0.9919 - val_loss: 0.0216\n",
            "Epoch 54/300\n",
            "\u001b[1m281/281\u001b[0m \u001b[32m━━━━━━━━━━━━━━━━━━━━\u001b[0m\u001b[37m\u001b[0m \u001b[1m4s\u001b[0m 14ms/step - accuracy: 0.9922 - loss: 0.0220 - val_accuracy: 0.9948 - val_loss: 0.0177\n",
            "Epoch 55/300\n",
            "\u001b[1m281/281\u001b[0m \u001b[32m━━━━━━━━━━━━━━━━━━━━\u001b[0m\u001b[37m\u001b[0m \u001b[1m5s\u001b[0m 14ms/step - accuracy: 0.9865 - loss: 0.0310 - val_accuracy: 0.9738 - val_loss: 0.0451\n",
            "Epoch 56/300\n",
            "\u001b[1m281/281\u001b[0m \u001b[32m━━━━━━━━━━━━━━━━━━━━\u001b[0m\u001b[37m\u001b[0m \u001b[1m4s\u001b[0m 14ms/step - accuracy: 0.9715 - loss: 0.0508 - val_accuracy: 0.9836 - val_loss: 0.0542\n",
            "Epoch 57/300\n",
            "\u001b[1m281/281\u001b[0m \u001b[32m━━━━━━━━━━━━━━━━━━━━\u001b[0m\u001b[37m\u001b[0m \u001b[1m4s\u001b[0m 14ms/step - accuracy: 0.9933 - loss: 0.0216 - val_accuracy: 0.9845 - val_loss: 0.0428\n",
            "Epoch 58/300\n",
            "\u001b[1m281/281\u001b[0m \u001b[32m━━━━━━━━━━━━━━━━━━━━\u001b[0m\u001b[37m\u001b[0m \u001b[1m4s\u001b[0m 14ms/step - accuracy: 0.9890 - loss: 0.0273 - val_accuracy: 0.9724 - val_loss: 0.0501\n",
            "Epoch 59/300\n",
            "\u001b[1m281/281\u001b[0m \u001b[32m━━━━━━━━━━━━━━━━━━━━\u001b[0m\u001b[37m\u001b[0m \u001b[1m4s\u001b[0m 14ms/step - accuracy: 0.9813 - loss: 0.0412 - val_accuracy: 0.9968 - val_loss: 0.0098\n",
            "Epoch 60/300\n",
            "\u001b[1m281/281\u001b[0m \u001b[32m━━━━━━━━━━━━━━━━━━━━\u001b[0m\u001b[37m\u001b[0m \u001b[1m4s\u001b[0m 14ms/step - accuracy: 0.9934 - loss: 0.0195 - val_accuracy: 0.9959 - val_loss: 0.0113\n",
            "Epoch 61/300\n",
            "\u001b[1m281/281\u001b[0m \u001b[32m━━━━━━━━━━━━━━━━━━━━\u001b[0m\u001b[37m\u001b[0m \u001b[1m4s\u001b[0m 14ms/step - accuracy: 0.9934 - loss: 0.0182 - val_accuracy: 0.9937 - val_loss: 0.0237\n",
            "Epoch 62/300\n",
            "\u001b[1m281/281\u001b[0m \u001b[32m━━━━━━━━━━━━━━━━━━━━\u001b[0m\u001b[37m\u001b[0m \u001b[1m4s\u001b[0m 14ms/step - accuracy: 0.9940 - loss: 0.0165 - val_accuracy: 0.9962 - val_loss: 0.0147\n",
            "Epoch 63/300\n",
            "\u001b[1m281/281\u001b[0m \u001b[32m━━━━━━━━━━━━━━━━━━━━\u001b[0m\u001b[37m\u001b[0m \u001b[1m4s\u001b[0m 14ms/step - accuracy: 0.9952 - loss: 0.0167 - val_accuracy: 0.9962 - val_loss: 0.0196\n",
            "Epoch 64/300\n",
            "\u001b[1m281/281\u001b[0m \u001b[32m━━━━━━━━━━━━━━━━━━━━\u001b[0m\u001b[37m\u001b[0m \u001b[1m4s\u001b[0m 14ms/step - accuracy: 0.9936 - loss: 0.0186 - val_accuracy: 0.9883 - val_loss: 0.0579\n",
            "Epoch 65/300\n",
            "\u001b[1m281/281\u001b[0m \u001b[32m━━━━━━━━━━━━━━━━━━━━\u001b[0m\u001b[37m\u001b[0m \u001b[1m4s\u001b[0m 14ms/step - accuracy: 0.9923 - loss: 0.0218 - val_accuracy: 0.9743 - val_loss: 0.0451\n",
            "Epoch 66/300\n",
            "\u001b[1m281/281\u001b[0m \u001b[32m━━━━━━━━━━━━━━━━━━━━\u001b[0m\u001b[37m\u001b[0m \u001b[1m4s\u001b[0m 15ms/step - accuracy: 0.9813 - loss: 0.0364 - val_accuracy: 0.9992 - val_loss: 0.0022\n",
            "Epoch 67/300\n",
            "\u001b[1m281/281\u001b[0m \u001b[32m━━━━━━━━━━━━━━━━━━━━\u001b[0m\u001b[37m\u001b[0m \u001b[1m4s\u001b[0m 15ms/step - accuracy: 0.9928 - loss: 0.0218 - val_accuracy: 0.9978 - val_loss: 0.0075\n",
            "Epoch 68/300\n",
            "\u001b[1m281/281\u001b[0m \u001b[32m━━━━━━━━━━━━━━━━━━━━\u001b[0m\u001b[37m\u001b[0m \u001b[1m4s\u001b[0m 15ms/step - accuracy: 0.9923 - loss: 0.0207 - val_accuracy: 0.9982 - val_loss: 0.0060\n",
            "Epoch 69/300\n",
            "\u001b[1m281/281\u001b[0m \u001b[32m━━━━━━━━━━━━━━━━━━━━\u001b[0m\u001b[37m\u001b[0m \u001b[1m4s\u001b[0m 15ms/step - accuracy: 0.9951 - loss: 0.0148 - val_accuracy: 0.9953 - val_loss: 0.0143\n",
            "Epoch 70/300\n",
            "\u001b[1m281/281\u001b[0m \u001b[32m━━━━━━━━━━━━━━━━━━━━\u001b[0m\u001b[37m\u001b[0m \u001b[1m4s\u001b[0m 14ms/step - accuracy: 0.9931 - loss: 0.0159 - val_accuracy: 0.9974 - val_loss: 0.0101\n",
            "Epoch 71/300\n",
            "\u001b[1m281/281\u001b[0m \u001b[32m━━━━━━━━━━━━━━━━━━━━\u001b[0m\u001b[37m\u001b[0m \u001b[1m4s\u001b[0m 14ms/step - accuracy: 0.9941 - loss: 0.0169 - val_accuracy: 0.9973 - val_loss: 0.0091\n",
            "Epoch 72/300\n",
            "\u001b[1m281/281\u001b[0m \u001b[32m━━━━━━━━━━━━━━━━━━━━\u001b[0m\u001b[37m\u001b[0m \u001b[1m4s\u001b[0m 14ms/step - accuracy: 0.9948 - loss: 0.0144 - val_accuracy: 0.9968 - val_loss: 0.0099\n",
            "Epoch 73/300\n",
            "\u001b[1m281/281\u001b[0m \u001b[32m━━━━━━━━━━━━━━━━━━━━\u001b[0m\u001b[37m\u001b[0m \u001b[1m4s\u001b[0m 14ms/step - accuracy: 0.9943 - loss: 0.0158 - val_accuracy: 0.9958 - val_loss: 0.0185\n",
            "Epoch 74/300\n",
            "\u001b[1m281/281\u001b[0m \u001b[32m━━━━━━━━━━━━━━━━━━━━\u001b[0m\u001b[37m\u001b[0m \u001b[1m4s\u001b[0m 14ms/step - accuracy: 0.9905 - loss: 0.0290 - val_accuracy: 0.9968 - val_loss: 0.0152\n",
            "Epoch 75/300\n",
            "\u001b[1m281/281\u001b[0m \u001b[32m━━━━━━━━━━━━━━━━━━━━\u001b[0m\u001b[37m\u001b[0m \u001b[1m4s\u001b[0m 14ms/step - accuracy: 0.9941 - loss: 0.0186 - val_accuracy: 0.9992 - val_loss: 0.0037\n",
            "Epoch 76/300\n",
            "\u001b[1m281/281\u001b[0m \u001b[32m━━━━━━━━━━━━━━━━━━━━\u001b[0m\u001b[37m\u001b[0m \u001b[1m4s\u001b[0m 14ms/step - accuracy: 0.9951 - loss: 0.0143 - val_accuracy: 0.9931 - val_loss: 0.0343\n",
            "Epoch 77/300\n",
            "\u001b[1m281/281\u001b[0m \u001b[32m━━━━━━━━━━━━━━━━━━━━\u001b[0m\u001b[37m\u001b[0m \u001b[1m4s\u001b[0m 14ms/step - accuracy: 0.9935 - loss: 0.0193 - val_accuracy: 0.9983 - val_loss: 0.0061\n",
            "Epoch 78/300\n",
            "\u001b[1m281/281\u001b[0m \u001b[32m━━━━━━━━━━━━━━━━━━━━\u001b[0m\u001b[37m\u001b[0m \u001b[1m4s\u001b[0m 14ms/step - accuracy: 0.9952 - loss: 0.0125 - val_accuracy: 0.9983 - val_loss: 0.0037\n",
            "Epoch 79/300\n",
            "\u001b[1m281/281\u001b[0m \u001b[32m━━━━━━━━━━━━━━━━━━━━\u001b[0m\u001b[37m\u001b[0m \u001b[1m4s\u001b[0m 14ms/step - accuracy: 0.9933 - loss: 0.0199 - val_accuracy: 0.9935 - val_loss: 0.0147\n",
            "Epoch 80/300\n",
            "\u001b[1m281/281\u001b[0m \u001b[32m━━━━━━━━━━━━━━━━━━━━\u001b[0m\u001b[37m\u001b[0m \u001b[1m4s\u001b[0m 14ms/step - accuracy: 0.9943 - loss: 0.0166 - val_accuracy: 0.9985 - val_loss: 0.0058\n",
            "Epoch 81/300\n",
            "\u001b[1m281/281\u001b[0m \u001b[32m━━━━━━━━━━━━━━━━━━━━\u001b[0m\u001b[37m\u001b[0m \u001b[1m4s\u001b[0m 15ms/step - accuracy: 0.9921 - loss: 0.0206 - val_accuracy: 0.9969 - val_loss: 0.0076\n",
            "Epoch 82/300\n",
            "\u001b[1m281/281\u001b[0m \u001b[32m━━━━━━━━━━━━━━━━━━━━\u001b[0m\u001b[37m\u001b[0m \u001b[1m4s\u001b[0m 15ms/step - accuracy: 0.9946 - loss: 0.0144 - val_accuracy: 0.9688 - val_loss: 0.0746\n",
            "Epoch 83/300\n",
            "\u001b[1m281/281\u001b[0m \u001b[32m━━━━━━━━━━━━━━━━━━━━\u001b[0m\u001b[37m\u001b[0m \u001b[1m4s\u001b[0m 15ms/step - accuracy: 0.9838 - loss: 0.0457 - val_accuracy: 0.9971 - val_loss: 0.0066\n",
            "Epoch 84/300\n",
            "\u001b[1m281/281\u001b[0m \u001b[32m━━━━━━━━━━━━━━━━━━━━\u001b[0m\u001b[37m\u001b[0m \u001b[1m4s\u001b[0m 14ms/step - accuracy: 0.9936 - loss: 0.0192 - val_accuracy: 0.9978 - val_loss: 0.0048\n",
            "Epoch 85/300\n",
            "\u001b[1m281/281\u001b[0m \u001b[32m━━━━━━━━━━━━━━━━━━━━\u001b[0m\u001b[37m\u001b[0m \u001b[1m4s\u001b[0m 14ms/step - accuracy: 0.9965 - loss: 0.0128 - val_accuracy: 0.9966 - val_loss: 0.0077\n",
            "Epoch 86/300\n",
            "\u001b[1m281/281\u001b[0m \u001b[32m━━━━━━━━━━━━━━━━━━━━\u001b[0m\u001b[37m\u001b[0m \u001b[1m4s\u001b[0m 14ms/step - accuracy: 0.9958 - loss: 0.0115 - val_accuracy: 0.9987 - val_loss: 0.0048\n",
            "Minimum validation loss: 0.002184838755056262\n"
          ]
        },
        {
          "output_type": "display_data",
          "data": {
            "text/plain": [
              "<Figure size 432x288 with 1 Axes>"
            ],
            "image/png": "[encoded data removed]"
          },
          "metadata": {
            "needs_background": "light"
          }
        }
      ]
    },
    {
      "cell_type": "markdown",
      "source": [
        "##Testing"
      ],
      "metadata": {
        "id": "8yFzUSv0sVZ3"
      }
    },
    {
      "cell_type": "markdown",
      "source": [
        "###Complete region"
      ],
      "metadata": {
        "id": "BDaWnOGQ7LoW"
      }
    },
    {
      "cell_type": "code",
      "source": [
        "data_path = '/your/path/'\n",
        "test_pngs = glob.glob(data_path + 'test/sample*png')\n",
        "\n",
        "test_ims = {}\n",
        "\n",
        "for png in test_pngs:\n",
        "    test_ims[png]=np.array(PIL.Image.open(png).convert('L'))\n",
        "\n",
        "test_questions = np.array([each for each in test_ims.values()]).astype(np.float32)\n",
        "test_solutions_swp = np.array([float(each.split('/')[-1].split('.')[0])/(1e16)\n",
        "                            for each in test_ims]).astype(np.float32)\n",
        "\n",
        "test_solutions = []\n",
        "for n in test_solutions_swp:\n",
        "  test_solutions.append(parameter_stratification(n))"
      ],
      "metadata": {
        "id": "hraMMKQgubBS"
      },
      "execution_count": null,
      "outputs": []
    },
    {
      "cell_type": "code",
      "source": [
        "#Apply model:\n",
        "test_answers = model.predict(test_questions)\n",
        "\n",
        "test_answers_classes = [np.argmax(y, axis=None, out=None) for y in test_answers]\n",
        "print('Accuracy:', accuracy_score(test_answers_classes, test_solutions))"
      ],
      "metadata": {
        "id": "Y0f1Lb3eubBS",
        "colab": {
          "base_uri": "https://localhost:8080/"
        },
        "outputId": "08aca0bb-2a42-41b0-d72c-4bc09c734615"
      },
      "execution_count": null,
      "outputs": [
        {
          "output_type": "stream",
          "name": "stdout",
          "text": [
            "\u001b[1m32/32\u001b[0m \u001b[32m━━━━━━━━━━━━━━━━━━━━\u001b[0m\u001b[37m\u001b[0m \u001b[1m1s\u001b[0m 16ms/step\n",
            "Accuracy: 0.988\n"
          ]
        }
      ]
    },
    {
      "cell_type": "code",
      "source": [
        "#le = LabelEncoder()\n",
        "#test_y_swp = le.fit_transform(test_y)\n",
        "\n",
        "label_binarizer = LabelBinarizer().fit(test_solutions)\n",
        "test_y_swp = label_binarizer.transform(test_solutions)\n",
        "pred_y_swp = label_binarizer.transform(test_answers_classes)"
      ],
      "metadata": {
        "id": "kMhs_gwaubBS"
      },
      "execution_count": null,
      "outputs": []
    },
    {
      "cell_type": "code",
      "source": [
        "report = classification_report(test_solutions, test_answers_classes, output_dict=True)\n",
        "df_report = pd.DataFrame(report).transpose()\n",
        "df_report"
      ],
      "metadata": {
        "id": "2lC1VZj4ubBS",
        "colab": {
          "base_uri": "https://localhost:8080/",
          "height": 300
        },
        "outputId": "d16e4137-fa78-4d2e-92c9-7a240c8c1249"
      },
      "execution_count": null,
      "outputs": [
        {
          "output_type": "execute_result",
          "data": {
            "text/plain": [
              "              precision    recall  f1-score   support\n",
              "1              1.000000  0.995444  0.997717   439.000\n",
              "2              0.978947  1.000000  0.989362    93.000\n",
              "3              1.000000  0.909091  0.952381    22.000\n",
              "4              0.992308  0.973585  0.982857   265.000\n",
              "5              0.957447  0.994475  0.975610   181.000\n",
              "accuracy       0.988000  0.988000  0.988000     0.988\n",
              "macro avg      0.985740  0.974519  0.979585  1000.000\n",
              "weighted avg   0.988302  0.988000  0.988003  1000.000"
            ],
            "text/html": [
              "<div>\n",
              "<style scoped>\n",
              "    .dataframe tbody tr th:only-of-type {\n",
              "        vertical-align: middle;\n",
              "    }\n",
              "\n",
              "    .dataframe tbody tr th {\n",
              "        vertical-align: top;\n",
              "    }\n",
              "\n",
              "    .dataframe thead th {\n",
              "        text-align: right;\n",
              "    }\n",
              "</style>\n",
              "<table border=\"1\" class=\"dataframe\">\n",
              "  <thead>\n",
              "    <tr style=\"text-align: right;\">\n",
              "      <th></th>\n",
              "      <th>precision</th>\n",
              "      <th>recall</th>\n",
              "      <th>f1-score</th>\n",
              "      <th>support</th>\n",
              "    </tr>\n",
              "  </thead>\n",
              "  <tbody>\n",
              "    <tr>\n",
              "      <th>1</th>\n",
              "      <td>1.000000</td>\n",
              "      <td>0.995444</td>\n",
              "      <td>0.997717</td>\n",
              "      <td>439.000</td>\n",
              "    </tr>\n",
              "    <tr>\n",
              "      <th>2</th>\n",
              "      <td>0.978947</td>\n",
              "      <td>1.000000</td>\n",
              "      <td>0.989362</td>\n",
              "      <td>93.000</td>\n",
              "    </tr>\n",
              "    <tr>\n",
              "      <th>3</th>\n",
              "      <td>1.000000</td>\n",
              "      <td>0.909091</td>\n",
              "      <td>0.952381</td>\n",
              "      <td>22.000</td>\n",
              "    </tr>\n",
              "    <tr>\n",
              "      <th>4</th>\n",
              "      <td>0.992308</td>\n",
              "      <td>0.973585</td>\n",
              "      <td>0.982857</td>\n",
              "      <td>265.000</td>\n",
              "    </tr>\n",
              "    <tr>\n",
              "      <th>5</th>\n",
              "      <td>0.957447</td>\n",
              "      <td>0.994475</td>\n",
              "      <td>0.975610</td>\n",
              "      <td>181.000</td>\n",
              "    </tr>\n",
              "    <tr>\n",
              "      <th>accuracy</th>\n",
              "      <td>0.988000</td>\n",
              "      <td>0.988000</td>\n",
              "      <td>0.988000</td>\n",
              "      <td>0.988</td>\n",
              "    </tr>\n",
              "    <tr>\n",
              "      <th>macro avg</th>\n",
              "      <td>0.985740</td>\n",
              "      <td>0.974519</td>\n",
              "      <td>0.979585</td>\n",
              "      <td>1000.000</td>\n",
              "    </tr>\n",
              "    <tr>\n",
              "      <th>weighted avg</th>\n",
              "      <td>0.988302</td>\n",
              "      <td>0.988000</td>\n",
              "      <td>0.988003</td>\n",
              "      <td>1000.000</td>\n",
              "    </tr>\n",
              "  </tbody>\n",
              "</table>\n",
              "</div>"
            ]
          },
          "metadata": {},
          "execution_count": 13
        }
      ]
    },
    {
      "cell_type": "markdown",
      "source": [
        "###Chaotic region"
      ],
      "metadata": {
        "id": "NX0-PDU47PKp"
      }
    },
    {
      "cell_type": "code",
      "source": [
        "data_path = '/your/path/'\n",
        "test_pngs = glob.glob(data_path + 'test/sample*png')\n",
        "\n",
        "test_ims = {}\n",
        "\n",
        "for png in test_pngs:\n",
        "    test_ims[png]=np.array(PIL.Image.open(png).convert('L'))\n",
        "\n",
        "test_questions = np.array([each for each in test_ims.values()]).astype(np.float32)\n",
        "test_solutions_swp = np.array([float(each.split('_')[-1].split('.')[0])/(1e16)\n",
        "                            for each in test_ims]).astype(np.float32)\n",
        "\n",
        "test_solutions = []\n",
        "for n in test_solutions_swp:\n",
        "  test_solutions.append(parameter_stratification(n))"
      ],
      "metadata": {
        "id": "Z5AuxEp07PKp"
      },
      "execution_count": null,
      "outputs": []
    },
    {
      "cell_type": "code",
      "source": [
        "#Apply model:\n",
        "test_answers = model.predict(test_questions)\n",
        "\n",
        "test_answers_classes = [np.argmax(y, axis=None, out=None) for y in test_answers]\n",
        "print('Accuracy:', accuracy_score(test_answers_classes, test_solutions))"
      ],
      "metadata": {
        "colab": {
          "base_uri": "https://localhost:8080/"
        },
        "id": "sHThjgs37PKp",
        "outputId": "a7fc7af4-5829-47ff-99f5-dd3be64c2418"
      },
      "execution_count": null,
      "outputs": [
        {
          "output_type": "stream",
          "name": "stdout",
          "text": [
            "\u001b[1m32/32\u001b[0m \u001b[32m━━━━━━━━━━━━━━━━━━━━\u001b[0m\u001b[37m\u001b[0m \u001b[1m1s\u001b[0m 15ms/step\n",
            "Accuracy: 0.985\n"
          ]
        }
      ]
    },
    {
      "cell_type": "code",
      "source": [
        "#le = LabelEncoder()\n",
        "#test_y_swp = le.fit_transform(test_y)\n",
        "\n",
        "label_binarizer = LabelBinarizer().fit(test_solutions)\n",
        "test_y_swp = label_binarizer.transform(test_solutions)\n",
        "pred_y_swp = label_binarizer.transform(test_answers_classes)"
      ],
      "metadata": {
        "id": "POjJpBhM7PKp"
      },
      "execution_count": null,
      "outputs": []
    },
    {
      "cell_type": "code",
      "source": [
        "report = classification_report(test_solutions, test_answers_classes, output_dict=True)\n",
        "df_report = pd.DataFrame(report).transpose()\n",
        "df_report"
      ],
      "metadata": {
        "colab": {
          "base_uri": "https://localhost:8080/",
          "height": 238
        },
        "id": "JGMNe-zD7PKp",
        "outputId": "b1a6f2ad-09a9-4e32-b000-bb36f39ecd35"
      },
      "execution_count": null,
      "outputs": [
        {
          "output_type": "execute_result",
          "data": {
            "text/plain": [
              "              precision    recall  f1-score   support\n",
              "3              0.944444  1.000000  0.971429    17.000\n",
              "4              0.993344  0.981908  0.987593   608.000\n",
              "5              0.973753  0.989333  0.981481   375.000\n",
              "accuracy       0.985000  0.985000  0.985000     0.985\n",
              "macro avg      0.970514  0.990414  0.980168  1000.000\n",
              "weighted avg   0.985166  0.985000  0.985026  1000.000"
            ],
            "text/html": [
              "<div>\n",
              "<style scoped>\n",
              "    .dataframe tbody tr th:only-of-type {\n",
              "        vertical-align: middle;\n",
              "    }\n",
              "\n",
              "    .dataframe tbody tr th {\n",
              "        vertical-align: top;\n",
              "    }\n",
              "\n",
              "    .dataframe thead th {\n",
              "        text-align: right;\n",
              "    }\n",
              "</style>\n",
              "<table border=\"1\" class=\"dataframe\">\n",
              "  <thead>\n",
              "    <tr style=\"text-align: right;\">\n",
              "      <th></th>\n",
              "      <th>precision</th>\n",
              "      <th>recall</th>\n",
              "      <th>f1-score</th>\n",
              "      <th>support</th>\n",
              "    </tr>\n",
              "  </thead>\n",
              "  <tbody>\n",
              "    <tr>\n",
              "      <th>3</th>\n",
              "      <td>0.944444</td>\n",
              "      <td>1.000000</td>\n",
              "      <td>0.971429</td>\n",
              "      <td>17.000</td>\n",
              "    </tr>\n",
              "    <tr>\n",
              "      <th>4</th>\n",
              "      <td>0.993344</td>\n",
              "      <td>0.981908</td>\n",
              "      <td>0.987593</td>\n",
              "      <td>608.000</td>\n",
              "    </tr>\n",
              "    <tr>\n",
              "      <th>5</th>\n",
              "      <td>0.973753</td>\n",
              "      <td>0.989333</td>\n",
              "      <td>0.981481</td>\n",
              "      <td>375.000</td>\n",
              "    </tr>\n",
              "    <tr>\n",
              "      <th>accuracy</th>\n",
              "      <td>0.985000</td>\n",
              "      <td>0.985000</td>\n",
              "      <td>0.985000</td>\n",
              "      <td>0.985</td>\n",
              "    </tr>\n",
              "    <tr>\n",
              "      <th>macro avg</th>\n",
              "      <td>0.970514</td>\n",
              "      <td>0.990414</td>\n",
              "      <td>0.980168</td>\n",
              "      <td>1000.000</td>\n",
              "    </tr>\n",
              "    <tr>\n",
              "      <th>weighted avg</th>\n",
              "      <td>0.985166</td>\n",
              "      <td>0.985000</td>\n",
              "      <td>0.985026</td>\n",
              "      <td>1000.000</td>\n",
              "    </tr>\n",
              "  </tbody>\n",
              "</table>\n",
              "</div>"
            ]
          },
          "metadata": {},
          "execution_count": 13
        }
      ]
    },
    {
      "cell_type": "markdown",
      "source": [
        "#Metrics"
      ],
      "metadata": {
        "id": "ZNqB-oV0Wr8n"
      }
    },
    {
      "cell_type": "markdown",
      "source": [
        "###Average c and RMSE"
      ],
      "metadata": {
        "id": "LlpdyAyUachX"
      }
    },
    {
      "cell_type": "code",
      "source": [
        "print('=== No noise, full ===')\n",
        "\n",
        "df_res = pd.read_csv('NN_RP_logisticmap_full_no_noise_3x4.csv', index_col=0)\n",
        "df_res['diff'] = np.abs(df_res['test_actual'] - df_res['test_predictions'])\n",
        "\n",
        "df_res['diff_0.001'] = df_res['diff'].values < 0.001\n",
        "df_res['diff_0.01'] = df_res['diff'].values < 0.01\n",
        "df_res['diff_0.1'] = df_res['diff'].values < 0.1\n",
        "\n",
        "#--- New metric ---\n",
        "print('Percentage of predictions within 0.001 precision:', np.sum(df_res['diff_0.001'].values)/len(df_res)*100, '%')\n",
        "print('Percentage of predictions within 0.01 precision:', np.sum(df_res['diff_0.01'].values)/len(df_res)*100, '%')\n",
        "print('Percentage of predictions within 0.1 precision:', np.sum(df_res['diff_0.1'].values)/len(df_res)*100, '%')\n",
        "\n",
        "print('---')\n",
        "\n",
        "print('RMSE:', np.round(root_mean_squared_error(df_res['test_actual'].values, df_res['test_predictions'].values), 4))"
      ],
      "metadata": {
        "colab": {
          "base_uri": "https://localhost:8080/"
        },
        "outputId": "f13f49f2-85b8-48ba-e247-85abc607f7fa",
        "id": "gRhpxmVjaiaM"
      },
      "execution_count": null,
      "outputs": [
        {
          "output_type": "stream",
          "name": "stdout",
          "text": [
            "=== No noise ===\n",
            "Percentage of predictions within 0.001 precision: 2.3 %\n",
            "Percentage of predictions within 0.01 precision: 27.500000000000004 %\n",
            "Percentage of predictions within 0.1 precision: 97.6 %\n",
            "---\n",
            "RMSE: 0.0416\n"
          ]
        }
      ]
    },
    {
      "cell_type": "code",
      "source": [
        "print('=== No noise, chaotic ===')\n",
        "\n",
        "df_res = pd.read_csv('NN_RP_logisticmap_chaotic_no_noise_3x4.csv', index_col=0)\n",
        "df_res['diff'] = np.abs(df_res['test_actual'] - df_res['test_predictions'])\n",
        "\n",
        "df_res['diff_0.001'] = df_res['diff'].values < 0.001\n",
        "df_res['diff_0.01'] = df_res['diff'].values < 0.01\n",
        "df_res['diff_0.1'] = df_res['diff'].values < 0.1\n",
        "\n",
        "#--- New metric ---\n",
        "print('Percentage of predictions within 0.001 precision:', np.sum(df_res['diff_0.001'].values)/len(df_res)*100, '%')\n",
        "print('Percentage of predictions within 0.01 precision:', np.sum(df_res['diff_0.01'].values)/len(df_res)*100, '%')\n",
        "print('Percentage of predictions within 0.1 precision:', np.sum(df_res['diff_0.1'].values)/len(df_res)*100, '%')\n",
        "\n",
        "print('---')\n",
        "\n",
        "print('RMSE:', np.round(root_mean_squared_error(df_res['test_actual'].values, df_res['test_predictions'].values), 4))"
      ],
      "metadata": {
        "colab": {
          "base_uri": "https://localhost:8080/"
        },
        "outputId": "33ec3f62-d8b5-40c1-8278-7794297d1c4c",
        "id": "xwSw5ydq9Hwj"
      },
      "execution_count": null,
      "outputs": [
        {
          "output_type": "stream",
          "name": "stdout",
          "text": [
            "=== No noise, chaotic ===\n",
            "Percentage of predictions within 0.001 precision: 3.2 %\n",
            "Percentage of predictions within 0.01 precision: 31.3 %\n",
            "Percentage of predictions within 0.1 precision: 98.4 %\n",
            "---\n",
            "RMSE: 0.0334\n"
          ]
        }
      ]
    },
    {
      "cell_type": "code",
      "source": [
        "print('=== 5E-2 noise ===')\n",
        "\n",
        "df_res = pd.read_csv('NN_RP_logisticmap_full_5em2_noise_3x4.csv', index_col=0)\n",
        "df_res['diff'] = np.abs(df_res['test_actual'] - df_res['test_predictions'])\n",
        "\n",
        "df_res['diff_0.001'] = df_res['diff'].values < 0.001\n",
        "df_res['diff_0.01'] = df_res['diff'].values < 0.01\n",
        "df_res['diff_0.1'] = df_res['diff'].values < 0.1\n",
        "\n",
        "#--- New metric ---\n",
        "print('Percentage of predictions within 0.001 precision:', np.sum(df_res['diff_0.001'].values)/len(df_res)*100, '%')\n",
        "print('Percentage of predictions within 0.01 precision:', np.sum(df_res['diff_0.01'].values)/len(df_res)*100, '%')\n",
        "print('Percentage of predictions within 0.1 precision:', np.sum(df_res['diff_0.1'].values)/len(df_res)*100, '%')\n",
        "\n",
        "print('---')\n",
        "\n",
        "print('RMSE:', np.round(root_mean_squared_error(df_res['test_actual'].values, df_res['test_predictions'].values), 4))"
      ],
      "metadata": {
        "colab": {
          "base_uri": "https://localhost:8080/"
        },
        "outputId": "7f7c6f18-7b05-483e-c3f2-e1836125b6fa",
        "id": "oLJ1Wb_-bdOm"
      },
      "execution_count": null,
      "outputs": [
        {
          "output_type": "stream",
          "name": "stdout",
          "text": [
            "=== 5E-2 noise ===\n",
            "Percentage of predictions within 0.001 precision: 1.3 %\n",
            "Percentage of predictions within 0.01 precision: 12.4 %\n",
            "Percentage of predictions within 0.1 precision: 96.2 %\n",
            "---\n",
            "RMSE: 0.0517\n"
          ]
        }
      ]
    },
    {
      "cell_type": "code",
      "source": [
        "print('=== 1E-2 noise ===')\n",
        "\n",
        "df_res = pd.read_csv('NN_RP_logisticmap_full_1em2_noise_3x4.csv', index_col=0)\n",
        "df_res['diff'] = np.abs(df_res['test_actual'] - df_res['test_predictions'])\n",
        "\n",
        "df_res['diff_0.001'] = df_res['diff'].values < 0.001\n",
        "df_res['diff_0.01'] = df_res['diff'].values < 0.01\n",
        "df_res['diff_0.1'] = df_res['diff'].values < 0.1\n",
        "\n",
        "#--- New metric ---\n",
        "print('Percentage of predictions within 0.001 precision:', np.sum(df_res['diff_0.001'].values)/len(df_res)*100, '%')\n",
        "print('Percentage of predictions within 0.01 precision:', np.sum(df_res['diff_0.01'].values)/len(df_res)*100, '%')\n",
        "print('Percentage of predictions within 0.1 precision:', np.sum(df_res['diff_0.1'].values)/len(df_res)*100, '%')\n",
        "\n",
        "print('---')\n",
        "\n",
        "print('RMSE:', np.round(root_mean_squared_error(df_res['test_actual'].values, df_res['test_predictions'].values), 4))"
      ],
      "metadata": {
        "colab": {
          "base_uri": "https://localhost:8080/"
        },
        "outputId": "655818e6-c37f-47e1-a5a0-01dafe777cd0",
        "id": "VaF3b960bUfN"
      },
      "execution_count": null,
      "outputs": [
        {
          "output_type": "stream",
          "name": "stdout",
          "text": [
            "=== 1E-2 noise ===\n",
            "Percentage of predictions within 0.001 precision: 1.4000000000000001 %\n",
            "Percentage of predictions within 0.01 precision: 17.9 %\n",
            "Percentage of predictions within 0.1 precision: 98.1 %\n",
            "---\n",
            "RMSE: 0.0477\n"
          ]
        }
      ]
    },
    {
      "cell_type": "code",
      "source": [
        "print('=== 1E-1 noise ===')\n",
        "\n",
        "df_res = pd.read_csv('NN_RP_logisticmap_full_1em1_noise_3x4.csv', index_col=0)\n",
        "df_res['diff'] = np.abs(df_res['test_actual'] - df_res['test_predictions'])\n",
        "\n",
        "df_res['diff_0.001'] = df_res['diff'].values < 0.001\n",
        "df_res['diff_0.01'] = df_res['diff'].values < 0.01\n",
        "df_res['diff_0.1'] = df_res['diff'].values < 0.1\n",
        "\n",
        "#--- New metric ---\n",
        "print('Percentage of predictions within 0.001 precision:', np.sum(df_res['diff_0.001'].values)/len(df_res)*100, '%')\n",
        "print('Percentage of predictions within 0.01 precision:', np.sum(df_res['diff_0.01'].values)/len(df_res)*100, '%')\n",
        "print('Percentage of predictions within 0.1 precision:', np.sum(df_res['diff_0.1'].values)/len(df_res)*100, '%')\n",
        "\n",
        "print('---')\n",
        "\n",
        "print('RMSE:', np.round(root_mean_squared_error(df_res['test_actual'].values, df_res['test_predictions'].values), 4))"
      ],
      "metadata": {
        "colab": {
          "base_uri": "https://localhost:8080/"
        },
        "outputId": "1db110f3-9bbf-40e7-eab6-6a7197a1df69",
        "id": "BonLsDte7d5a"
      },
      "execution_count": null,
      "outputs": [
        {
          "output_type": "stream",
          "name": "stdout",
          "text": [
            "=== 1E-1 noise ===\n",
            "Percentage of predictions within 0.001 precision: 2.3 %\n",
            "Percentage of predictions within 0.01 precision: 13.600000000000001 %\n",
            "Percentage of predictions within 0.1 precision: 86.1 %\n",
            "---\n",
            "RMSE: 0.0683\n"
          ]
        }
      ]
    },
    {
      "cell_type": "markdown",
      "source": [
        "###RMSE and c per class"
      ],
      "metadata": {
        "id": "qJHYkgCEkbkG"
      }
    },
    {
      "cell_type": "code",
      "source": [
        "df_res = pd.read_csv('/home/llober/NN_RP_logisticmap_full_no_noise_3x4.csv', index_col=0)\n",
        "df_res['diff'] = np.abs(df_res['test_actual'] - df_res['test_predictions'])\n",
        "\n",
        "df_res['diff_0.001'] = df_res['diff'].values < 0.001\n",
        "df_res['diff_0.01'] = df_res['diff'].values < 0.01\n",
        "df_res['diff_0.1'] = df_res['diff'].values < 0.1\n",
        "\n",
        "par_classes_actual = []\n",
        "par_classes_answers = []\n",
        "\n",
        "for n in range(len(df_res)):\n",
        "  par_classes_actual.append( parameter_stratification(df_res['test_actual'].values[n]) )\n",
        "  par_classes_answers.append( parameter_stratification(df_res['test_predictions'].values[n]) )\n",
        "\n",
        "df_res['test_actual_class'] = par_classes_actual\n",
        "df_res['test_predictions_class'] = par_classes_answers"
      ],
      "metadata": {
        "id": "cxhJXbIz3YEx"
      },
      "execution_count": null,
      "outputs": []
    },
    {
      "cell_type": "code",
      "source": [
        "for n in df_res['test_actual_class'].unique():\n",
        "  swp = df_res.loc[df_res['test_actual_class'] == n]\n",
        "\n",
        "  print('=== CLASS', n, '===')\n",
        "  print('Percentage of predictions within 0.001 precision:', np.sum(swp['diff_0.001'].values)/len(swp)*100, '%')\n",
        "  print('Percentage of predictions within 0.01 precision:', np.sum(swp['diff_0.01'].values)/len(swp)*100, '%')\n",
        "  print('Percentage of predictions within 0.1 precision:', np.sum(swp['diff_0.1'].values)/len(swp)*100, '%')\n",
        "  print('RMSE for class', n ,':', np.round(root_mean_squared_error(swp['test_actual'].values, swp['test_predictions'].values), 4))"
      ],
      "metadata": {
        "colab": {
          "base_uri": "https://localhost:8080/"
        },
        "id": "6yskmd9j4C2D",
        "outputId": "3569a363-95fd-45c0-fed1-62e6f267bf3a"
      },
      "execution_count": null,
      "outputs": [
        {
          "output_type": "stream",
          "name": "stdout",
          "text": [
            "=== CLASS 1 ===\n",
            "Percentage of predictions within 0.001 precision: 3.8724373576309796 %\n",
            "Percentage of predictions within 0.01 precision: 42.8246013667426 %\n",
            "Percentage of predictions within 0.1 precision: 98.17767653758543 %\n",
            "RMSE for class 1 : 0.0375\n",
            "=== CLASS 4 ===\n",
            "Percentage of predictions within 0.001 precision: 0.37735849056603776 %\n",
            "Percentage of predictions within 0.01 precision: 13.20754716981132 %\n",
            "Percentage of predictions within 0.1 precision: 99.62264150943396 %\n",
            "RMSE for class 4 : 0.0375\n",
            "=== CLASS 5 ===\n",
            "Percentage of predictions within 0.001 precision: 1.1049723756906076 %\n",
            "Percentage of predictions within 0.01 precision: 9.392265193370166 %\n",
            "Percentage of predictions within 0.1 precision: 91.71270718232044 %\n",
            "RMSE for class 5 : 0.0606\n",
            "=== CLASS 2 ===\n",
            "Percentage of predictions within 0.001 precision: 3.225806451612903 %\n",
            "Percentage of predictions within 0.01 precision: 36.55913978494624 %\n",
            "Percentage of predictions within 0.1 precision: 100.0 %\n",
            "RMSE for class 2 : 0.0235\n",
            "=== CLASS 3 ===\n",
            "Percentage of predictions within 0.001 precision: 0.0 %\n",
            "Percentage of predictions within 0.01 precision: 4.545454545454546 %\n",
            "Percentage of predictions within 0.1 precision: 100.0 %\n",
            "RMSE for class 3 : 0.0322\n"
          ]
        }
      ]
    },
    {
      "cell_type": "code",
      "source": [
        "df_res = pd.read_csv('/home/llober/NN_RP_logisticmap_chaotic_no_noise_3x4.csv', index_col=0)\n",
        "df_res['diff'] = np.abs(df_res['test_actual'] - df_res['test_predictions'])\n",
        "\n",
        "df_res['diff_0.001'] = df_res['diff'].values < 0.001\n",
        "df_res['diff_0.01'] = df_res['diff'].values < 0.01\n",
        "df_res['diff_0.1'] = df_res['diff'].values < 0.1\n",
        "\n",
        "par_classes_actual = []\n",
        "par_classes_answers = []\n",
        "\n",
        "for n in range(len(df_res)):\n",
        "  par_classes_actual.append( parameter_stratification(df_res['test_actual'].values[n]) )\n",
        "  par_classes_answers.append( parameter_stratification(df_res['test_predictions'].values[n]) )\n",
        "\n",
        "df_res['test_actual_class'] = par_classes_actual\n",
        "df_res['test_predictions_class'] = par_classes_answers"
      ],
      "metadata": {
        "id": "2ZOCw0b1aFM1"
      },
      "execution_count": null,
      "outputs": []
    },
    {
      "cell_type": "code",
      "source": [
        "for n in df_res['test_actual_class'].unique():\n",
        "  swp = df_res.loc[df_res['test_actual_class'] == n]\n",
        "\n",
        "  print('=== CLASS', n, '===')\n",
        "  print('Percentage of predictions within 0.001 precision:', np.sum(swp['diff_0.001'].values)/len(swp)*100, '%')\n",
        "  print('Percentage of predictions within 0.01 precision:', np.sum(swp['diff_0.01'].values)/len(swp)*100, '%')\n",
        "  print('Percentage of predictions within 0.1 precision:', np.sum(swp['diff_0.1'].values)/len(swp)*100, '%')\n",
        "  print('RMSE for class', n ,':', np.round(root_mean_squared_error(swp['test_actual'].values, swp['test_predictions'].values), 4))"
      ],
      "metadata": {
        "colab": {
          "base_uri": "https://localhost:8080/"
        },
        "outputId": "99a403d1-b867-4f8a-a872-b2fd6ad0573d",
        "id": "tjdGgciJaFM1"
      },
      "execution_count": null,
      "outputs": [
        {
          "output_type": "stream",
          "name": "stdout",
          "text": [
            "=== CLASS 5 ===\n",
            "Percentage of predictions within 0.001 precision: 2.4 %\n",
            "Percentage of predictions within 0.01 precision: 22.933333333333334 %\n",
            "Percentage of predictions within 0.1 precision: 95.73333333333333 %\n",
            "RMSE for class 5 : 0.0475\n",
            "=== CLASS 4 ===\n",
            "Percentage of predictions within 0.001 precision: 3.7828947368421053 %\n",
            "Percentage of predictions within 0.01 precision: 37.33552631578947 %\n",
            "Percentage of predictions within 0.1 precision: 100.0 %\n",
            "RMSE for class 4 : 0.0206\n",
            "=== CLASS 3 ===\n",
            "Percentage of predictions within 0.001 precision: 0.0 %\n",
            "Percentage of predictions within 0.01 precision: 0.0 %\n",
            "Percentage of predictions within 0.1 precision: 100.0 %\n",
            "RMSE for class 3 : 0.0235\n"
          ]
        }
      ]
    }
  ]
}